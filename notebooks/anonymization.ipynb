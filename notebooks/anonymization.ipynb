{
 "cells": [
  {
   "cell_type": "markdown",
   "id": "7fd2559f-2d5e-4f18-8413-2c006aaa6d5a",
   "metadata": {},
   "source": [
    "# Data anonymization"
   ]
  },
  {
   "cell_type": "markdown",
   "id": "ef428d1c-1d0b-4c75-8b5f-f47ef09f25e7",
   "metadata": {},
   "source": [
    "The goal of this notebook is to anonymize datasets."
   ]
  },
  {
   "cell_type": "markdown",
   "id": "63a57abc-66c6-4981-8c20-e682a9b1ea0c",
   "metadata": {},
   "source": [
    "## Imports"
   ]
  },
  {
   "cell_type": "code",
   "execution_count": 1,
   "id": "588ddb20-51c8-461d-b0cb-a43915e49f82",
   "metadata": {},
   "outputs": [],
   "source": [
    "import os\n",
    "from pathlib import Path\n",
    "\n",
    "import numpy as np\n",
    "import pandas as pd"
   ]
  },
  {
   "cell_type": "code",
   "execution_count": 2,
   "id": "71a61da2-81ab-4975-8208-4a5980c16cf5",
   "metadata": {},
   "outputs": [],
   "source": [
    "SEED = 42"
   ]
  },
  {
   "cell_type": "markdown",
   "id": "75b3fd8b-88d2-4671-bc4f-3496d86a710c",
   "metadata": {},
   "source": [
    "## Data"
   ]
  },
  {
   "cell_type": "code",
   "execution_count": 4,
   "id": "7a163dfe",
   "metadata": {},
   "outputs": [],
   "source": [
    "RELATIVE_PATH = \"../data\"\n",
    "\n",
    "RAW_PATH = os.path.join(RELATIVE_PATH, \"0_raw_parsed_data\")\n",
    "ANONYMIZED_PATH = os.path.join(RELATIVE_PATH, \"1_anonymized_data\")"
   ]
  },
  {
   "cell_type": "code",
   "execution_count": 5,
   "id": "46cd17c4",
   "metadata": {},
   "outputs": [],
   "source": [
    "Path(ANONYMIZED_PATH).mkdir(parents=True, exist_ok=True)"
   ]
  },
  {
   "cell_type": "markdown",
   "id": "a77da19c-dbcf-4e4a-8f3b-528bd7aaa05a",
   "metadata": {},
   "source": [
    "### Loading data"
   ]
  },
  {
   "cell_type": "code",
   "execution_count": 36,
   "id": "09020fe0-360b-4c76-abc5-6aefafd87c99",
   "metadata": {},
   "outputs": [
    {
     "data": {
      "text/plain": [
       "(170894, 8)"
      ]
     },
     "execution_count": 36,
     "metadata": {},
     "output_type": "execute_result"
    }
   ],
   "source": [
    "movies_reviews_df = pd.read_parquet(os.path.join(RAW_PATH, \"movies_reviews.parquet\"))\n",
    "movies_reviews_df.shape"
   ]
  },
  {
   "cell_type": "code",
   "execution_count": 37,
   "id": "2930142f-9402-41d6-be99-4adcb3e2ac2e",
   "metadata": {},
   "outputs": [
    {
     "data": {
      "text/plain": [
       "(35643, 8)"
      ]
     },
     "execution_count": 37,
     "metadata": {},
     "output_type": "execute_result"
    }
   ],
   "source": [
    "series_reviews_df = pd.read_parquet(os.path.join(RAW_PATH, \"series_reviews.parquet\"))\n",
    "series_reviews_df.shape"
   ]
  },
  {
   "cell_type": "code",
   "execution_count": 38,
   "id": "e417e261-b674-49ea-93b2-54c2f1f65d8c",
   "metadata": {},
   "outputs": [
    {
     "data": {
      "text/plain": [
       "(984, 43)"
      ]
     },
     "execution_count": 38,
     "metadata": {},
     "output_type": "execute_result"
    }
   ],
   "source": [
    "movies_info_df = pd.read_parquet(os.path.join(RAW_PATH, \"movies_info.parquet\"))\n",
    "movies_info_df.shape"
   ]
  },
  {
   "cell_type": "code",
   "execution_count": 39,
   "id": "eadf4b6c-9061-4803-9f7e-a4bc0eece8e3",
   "metadata": {},
   "outputs": [
    {
     "data": {
      "text/plain": [
       "(980, 40)"
      ]
     },
     "execution_count": 39,
     "metadata": {},
     "output_type": "execute_result"
    }
   ],
   "source": [
    "series_info_df = pd.read_parquet(os.path.join(RAW_PATH, \"series_info.parquet\"))\n",
    "series_info_df.shape"
   ]
  },
  {
   "attachments": {},
   "cell_type": "markdown",
   "id": "5ac0de9b",
   "metadata": {},
   "source": [
    "### Looking at the data"
   ]
  },
  {
   "attachments": {},
   "cell_type": "markdown",
   "id": "cb86d50f",
   "metadata": {},
   "source": [
    "#### Movies"
   ]
  },
  {
   "cell_type": "code",
   "execution_count": 41,
   "id": "488b136e-a6a6-40b6-8614-95edaf831139",
   "metadata": {},
   "outputs": [
    {
     "name": "stdout",
     "output_type": "stream",
     "text": [
      "<class 'pandas.core.frame.DataFrame'>\n",
      "RangeIndex: 984 entries, 0 to 983\n",
      "Data columns (total 43 columns):\n",
      " #   Column                             Non-Null Count  Dtype \n",
      "---  ------                             --------------  ----- \n",
      " 0   id                                 984 non-null    int64 \n",
      " 1   russian_title                      984 non-null    object\n",
      " 2   original_title                     984 non-null    object\n",
      " 3   actors                             984 non-null    object\n",
      " 4   voice_actors                       984 non-null    object\n",
      " 5   year                               984 non-null    object\n",
      " 6   country                            984 non-null    object\n",
      " 7   genre                              984 non-null    object\n",
      " 8   slogan                             984 non-null    object\n",
      " 9   director                           984 non-null    object\n",
      " 10  scriptwriter                       984 non-null    object\n",
      " 11  producer                           984 non-null    object\n",
      " 12  operator                           984 non-null    object\n",
      " 13  composer                           984 non-null    object\n",
      " 14  artist                             984 non-null    object\n",
      " 15  cut                                984 non-null    object\n",
      " 16  budget                             984 non-null    object\n",
      " 17  us_box_office                      984 non-null    object\n",
      " 18  world_box_office                   984 non-null    object\n",
      " 19  viewers                            984 non-null    object\n",
      " 20  russian_box_office                 984 non-null    object\n",
      " 21  russian_premiere                   984 non-null    object\n",
      " 22  world_premiere                     984 non-null    object\n",
      " 23  dvd_release                        984 non-null    object\n",
      " 24  blue_ray_release                   984 non-null    object\n",
      " 25  age_rating                         984 non-null    object\n",
      " 26  mpaa_rating                        984 non-null    object\n",
      " 27  duration                           984 non-null    object\n",
      " 28  digital_release                    984 non-null    object\n",
      " 29  marketing                          984 non-null    object\n",
      " 30  platform                           984 non-null    object\n",
      " 31  rerelease                          984 non-null    object\n",
      " 32  film_director                      984 non-null    object\n",
      " 33  rating_kinopoisk                   984 non-null    object\n",
      " 34  rating_count_kinopoisk             984 non-null    object\n",
      " 35  rating_imdb                        984 non-null    object\n",
      " 36  rating_count_imdb                  984 non-null    object\n",
      " 37  synopsis                           984 non-null    object\n",
      " 38  world_critics_percentage           984 non-null    object\n",
      " 39  world_critics_star_value           984 non-null    object\n",
      " 40  world_critics_number_of_reviews    984 non-null    object\n",
      " 41  russian_critics_percentage         984 non-null    object\n",
      " 42  russian_critics_number_of_reviews  984 non-null    object\n",
      "dtypes: int64(1), object(42)\n",
      "memory usage: 330.7+ KB\n"
     ]
    }
   ],
   "source": [
    "movies_info_df.info()"
   ]
  },
  {
   "cell_type": "markdown",
   "id": "5c958141-5077-408a-bab2-32f28303bcd9",
   "metadata": {},
   "source": [
    "For info datasets we need to map show id to new id."
   ]
  },
  {
   "cell_type": "markdown",
   "id": "b1855de6-e446-47f1-a810-663078ffb39f",
   "metadata": {},
   "source": [
    "### Reviews"
   ]
  },
  {
   "cell_type": "code",
   "execution_count": 42,
   "id": "4e4604e1-2c3b-4e88-bc2f-c8c6fcd55bc2",
   "metadata": {},
   "outputs": [
    {
     "name": "stdout",
     "output_type": "stream",
     "text": [
      "<class 'pandas.core.frame.DataFrame'>\n",
      "RangeIndex: 170894 entries, 0 to 170893\n",
      "Data columns (total 8 columns):\n",
      " #   Column            Non-Null Count   Dtype \n",
      "---  ------            --------------   ----- \n",
      " 0   show_id           170894 non-null  int64 \n",
      " 1   username          170894 non-null  object\n",
      " 2   datetime          170894 non-null  object\n",
      " 3   sentiment         170894 non-null  object\n",
      " 4   subtitle          170894 non-null  object\n",
      " 5   review_body       170894 non-null  object\n",
      " 6   usefulness_ratio  170894 non-null  object\n",
      " 7   direct_link       170894 non-null  object\n",
      "dtypes: int64(1), object(7)\n",
      "memory usage: 10.4+ MB\n"
     ]
    }
   ],
   "source": [
    "movies_reviews_df.info()"
   ]
  },
  {
   "cell_type": "markdown",
   "id": "70c37af8-288b-4100-bdb3-74290de1be5c",
   "metadata": {},
   "source": [
    "For reviews dataset we have to map usernames to user IDs and drop direct link column.  "
   ]
  },
  {
   "cell_type": "markdown",
   "id": "54978c54",
   "metadata": {},
   "source": [
    "## Processing"
   ]
  },
  {
   "cell_type": "markdown",
   "id": "d5b732d8",
   "metadata": {},
   "source": [
    "### Info"
   ]
  },
  {
   "cell_type": "markdown",
   "id": "062ed0f1-65b0-4166-9ee4-58d78b6592cf",
   "metadata": {},
   "source": [
    "#### Reading"
   ]
  },
  {
   "cell_type": "code",
   "execution_count": 43,
   "id": "4a8ba232",
   "metadata": {},
   "outputs": [
    {
     "data": {
      "text/plain": [
       "(984, 980)"
      ]
     },
     "execution_count": 43,
     "metadata": {},
     "output_type": "execute_result"
    }
   ],
   "source": [
    "movies_id = movies_info_df[\"id\"].values\n",
    "series_id = series_info_df[\"id\"].values\n",
    "\n",
    "len(movies_id), len(series_id)"
   ]
  },
  {
   "cell_type": "code",
   "execution_count": 44,
   "id": "854648b6",
   "metadata": {},
   "outputs": [
    {
     "data": {
      "text/plain": [
       "set()"
      ]
     },
     "execution_count": 44,
     "metadata": {},
     "output_type": "execute_result"
    }
   ],
   "source": [
    "set(movies_id).intersection(set(series_id))"
   ]
  },
  {
   "cell_type": "markdown",
   "id": "383c7dfe",
   "metadata": {},
   "source": [
    "Now we know that identifiers for movies and series don't intersect."
   ]
  },
  {
   "cell_type": "markdown",
   "id": "7f05f424-b93d-40d5-a802-f4b6a6aedfdb",
   "metadata": {},
   "source": [
    "#### Merging"
   ]
  },
  {
   "cell_type": "markdown",
   "id": "f53a9dee-1720-45fd-8a0c-5206cf3b2897",
   "metadata": {},
   "source": [
    "Let's merge them, drop duplicates and sort them"
   ]
  },
  {
   "cell_type": "code",
   "execution_count": 45,
   "id": "d2aa217b-9bec-460e-bd74-3968e88410dd",
   "metadata": {},
   "outputs": [
    {
     "data": {
      "text/plain": [
       "1964"
      ]
     },
     "execution_count": 45,
     "metadata": {},
     "output_type": "execute_result"
    }
   ],
   "source": [
    "show_ids = sorted(list(set(np.concatenate((movies_id, series_id)))))\n",
    "len(show_ids)"
   ]
  },
  {
   "cell_type": "markdown",
   "id": "76da2ced-b79a-4ba3-aad0-0b4774b0eb78",
   "metadata": {},
   "source": [
    "#### Creating map"
   ]
  },
  {
   "cell_type": "code",
   "execution_count": 46,
   "id": "627d1916-43b6-4417-b6b6-f64ef5c48000",
   "metadata": {},
   "outputs": [],
   "source": [
    "show_id_map = {user: id_ for user, id_ in zip(show_ids, range(len(show_ids)))}"
   ]
  },
  {
   "cell_type": "markdown",
   "id": "4d7812c7-eae3-400e-a64b-614d9d88f504",
   "metadata": {},
   "source": [
    "#### Updating dataset"
   ]
  },
  {
   "cell_type": "code",
   "execution_count": 47,
   "id": "5961622a-5478-404e-ae99-a8277dbcaccb",
   "metadata": {},
   "outputs": [],
   "source": [
    "movies_info_df[\"id\"] = movies_info_df[\"id\"].map(show_id_map)\n",
    "series_info_df[\"id\"] = series_info_df[\"id\"].map(show_id_map)"
   ]
  },
  {
   "cell_type": "code",
   "execution_count": 48,
   "id": "2a28d2a1",
   "metadata": {},
   "outputs": [],
   "source": [
    "movies_reviews_df[\"show_id\"] = movies_reviews_df[\"show_id\"].map(show_id_map)\n",
    "series_reviews_df[\"show_id\"] = series_reviews_df[\"show_id\"].map(show_id_map)"
   ]
  },
  {
   "cell_type": "markdown",
   "id": "aad852b3-75bd-42de-9672-c0b6fd8f04a4",
   "metadata": {},
   "source": [
    "### Reviews"
   ]
  },
  {
   "cell_type": "markdown",
   "id": "062ed0f1-65b0-4166-9ee4-58d78b6592cf",
   "metadata": {},
   "source": [
    "#### Reading"
   ]
  },
  {
   "cell_type": "markdown",
   "id": "4717a011-c9c9-4272-8d47-e2e947561863",
   "metadata": {},
   "source": [
    "Let's read all usernames under which users left their reviews for both movies and series"
   ]
  },
  {
   "cell_type": "code",
   "execution_count": 49,
   "id": "f5aac25c-5cc3-4eec-b448-844e95aef784",
   "metadata": {},
   "outputs": [
    {
     "data": {
      "text/plain": [
       "(170894, 35643)"
      ]
     },
     "execution_count": 49,
     "metadata": {},
     "output_type": "execute_result"
    }
   ],
   "source": [
    "movies_reviews_users = movies_reviews_df[\"username\"].values\n",
    "series_reviews_users = series_reviews_df[\"username\"].values\n",
    "\n",
    "len(movies_reviews_users), len(series_reviews_users)"
   ]
  },
  {
   "cell_type": "markdown",
   "id": "7f05f424-b93d-40d5-a802-f4b6a6aedfdb",
   "metadata": {},
   "source": [
    "#### Merging"
   ]
  },
  {
   "cell_type": "markdown",
   "id": "f53a9dee-1720-45fd-8a0c-5206cf3b2897",
   "metadata": {},
   "source": [
    "Let's merge them, drop duplicates and sort them"
   ]
  },
  {
   "cell_type": "code",
   "execution_count": 50,
   "id": "d2aa217b-9bec-460e-bd74-3968e88410dd",
   "metadata": {},
   "outputs": [
    {
     "data": {
      "text/plain": [
       "69166"
      ]
     },
     "execution_count": 50,
     "metadata": {},
     "output_type": "execute_result"
    }
   ],
   "source": [
    "users = sorted(list(set(np.concatenate((movies_reviews_users, series_reviews_users)))))\n",
    "len(users)"
   ]
  },
  {
   "cell_type": "markdown",
   "id": "738d2a2a-85ce-4a35-850e-049141ac0316",
   "metadata": {},
   "source": [
    "#### Checking"
   ]
  },
  {
   "cell_type": "code",
   "execution_count": 51,
   "id": "b3fa009f-2fb7-44e8-982b-b2e60141e7a9",
   "metadata": {},
   "outputs": [
    {
     "data": {
      "text/plain": [
       "''"
      ]
     },
     "execution_count": 51,
     "metadata": {},
     "output_type": "execute_result"
    }
   ],
   "source": [
    "users[0]"
   ]
  },
  {
   "attachments": {},
   "cell_type": "markdown",
   "id": "fbbbcc4d-f59b-4339-9636-460aa5789eb0",
   "metadata": {},
   "source": [
    "Empty string is something we want to avoid."
   ]
  },
  {
   "cell_type": "code",
   "execution_count": 52,
   "id": "c8fb519e-b7f2-4593-953a-314de2507c19",
   "metadata": {},
   "outputs": [
    {
     "data": {
      "text/plain": [
       "(22, 8)"
      ]
     },
     "execution_count": 52,
     "metadata": {},
     "output_type": "execute_result"
    }
   ],
   "source": [
    "movies_reviews_df[movies_reviews_df[\"username\"] == \"\"].shape"
   ]
  },
  {
   "cell_type": "markdown",
   "id": "3922ab30-4a71-401e-867e-9637565ff5a6",
   "metadata": {},
   "source": [
    "We can see that, actually, we have column `direct_link` with link to the comment and this link contains the `user_id`. Different users happen to have empty usernames.  \n",
    "It will be easier to use actual `user_id`'s than generate them ourselves - we just need to find out how to extract `user_id`'s from links."
   ]
  },
  {
   "cell_type": "markdown",
   "id": "1abbcaa3-eb78-4874-87a3-8149045cd6be",
   "metadata": {},
   "source": [
    "#### Extracting `user_id`'s"
   ]
  },
  {
   "attachments": {},
   "cell_type": "markdown",
   "id": "9226a1d1-a79e-4d0d-95eb-80e782c09508",
   "metadata": {},
   "source": [
    "Some reviews doesn't have direct link."
   ]
  },
  {
   "cell_type": "markdown",
   "id": "d00bbc59-3154-407c-8fba-bf8f958c8d69",
   "metadata": {},
   "source": [
    "So, in this case, it will be easier to replace empty usernames with actual `user_id`'s and then encode usernames to new user IDs.  \n",
    "This way we will restore information for empty usernames (for building recommendation system)."
   ]
  },
  {
   "cell_type": "code",
   "execution_count": 66,
   "id": "5e19b9ca-7ec4-4c58-bcf7-729c4132e1a1",
   "metadata": {},
   "outputs": [],
   "source": [
    "movies_reviews_df.loc[movies_reviews_df[\"username\"] == \"\", \"username\"] = [\n",
    "    link.split(\"/\")[4]\n",
    "    for link in movies_reviews_df[movies_reviews_df[\"username\"] == \"\"][\n",
    "        \"direct_link\"\n",
    "    ].values\n",
    "]"
   ]
  },
  {
   "cell_type": "markdown",
   "id": "ff854554-b923-400d-ae1b-2ba9a2cc9a20",
   "metadata": {},
   "source": [
    "Let's do the same for series reviews"
   ]
  },
  {
   "cell_type": "code",
   "execution_count": 67,
   "id": "7f2b2d40-027f-457e-945f-08482d0ad7aa",
   "metadata": {
    "tags": []
   },
   "outputs": [
    {
     "data": {
      "text/plain": [
       "(3, 8)"
      ]
     },
     "execution_count": 67,
     "metadata": {},
     "output_type": "execute_result"
    }
   ],
   "source": [
    "series_reviews_df[series_reviews_df[\"username\"] == \"\"].shape"
   ]
  },
  {
   "cell_type": "code",
   "execution_count": 68,
   "id": "ebb0b47d-2dba-423e-8cd2-a8fdb506e78b",
   "metadata": {},
   "outputs": [],
   "source": [
    "series_reviews_df.loc[series_reviews_df[\"username\"] == \"\", \"username\"] = [\n",
    "    link.split(\"/\")[4]\n",
    "    for link in series_reviews_df[series_reviews_df[\"username\"] == \"\"][\n",
    "        \"direct_link\"\n",
    "    ].values\n",
    "]"
   ]
  },
  {
   "cell_type": "markdown",
   "id": "76da2ced-b79a-4ba3-aad0-0b4774b0eb78",
   "metadata": {},
   "source": [
    "#### Creating map"
   ]
  },
  {
   "cell_type": "code",
   "execution_count": 69,
   "id": "c5c910e9-79e5-468c-a5d4-c8e7716b1e47",
   "metadata": {},
   "outputs": [
    {
     "data": {
      "text/plain": [
       "69172"
      ]
     },
     "execution_count": 69,
     "metadata": {},
     "output_type": "execute_result"
    }
   ],
   "source": [
    "users = sorted(list(set(np.concatenate((movies_reviews_users, series_reviews_users)))))\n",
    "len(users)"
   ]
  },
  {
   "cell_type": "markdown",
   "id": "e82b80b8-07d6-4bf0-9b3f-c1c094dfd1eb",
   "metadata": {},
   "source": [
    "Before we had 69166 unique users. Now we have 6 more - not much, but better."
   ]
  },
  {
   "cell_type": "code",
   "execution_count": 70,
   "id": "627d1916-43b6-4417-b6b6-f64ef5c48000",
   "metadata": {},
   "outputs": [],
   "source": [
    "user_map = {user: id_ for user, id_ in zip(users, range(len(users)))}"
   ]
  },
  {
   "cell_type": "markdown",
   "id": "4d7812c7-eae3-400e-a64b-614d9d88f504",
   "metadata": {},
   "source": [
    "#### Updating dataset"
   ]
  },
  {
   "cell_type": "code",
   "execution_count": 71,
   "id": "5961622a-5478-404e-ae99-a8277dbcaccb",
   "metadata": {},
   "outputs": [],
   "source": [
    "movies_reviews_df[\"username\"] = movies_reviews_df[\"username\"].map(user_map)\n",
    "series_reviews_df[\"username\"] = series_reviews_df[\"username\"].map(user_map)"
   ]
  },
  {
   "cell_type": "markdown",
   "id": "375b1405-801b-4fff-a400-1edd1c4a2d3f",
   "metadata": {},
   "source": [
    "Let's also rename column `username` to `user_id`"
   ]
  },
  {
   "cell_type": "code",
   "execution_count": 72,
   "id": "f11f7cdb-2c0f-448f-b338-044e189c7994",
   "metadata": {},
   "outputs": [],
   "source": [
    "movies_reviews_df.rename({\"username\": \"user_id\"}, axis=1, inplace=True)\n",
    "series_reviews_df.rename({\"username\": \"user_id\"}, axis=1, inplace=True)"
   ]
  },
  {
   "cell_type": "markdown",
   "id": "b8481936-f19e-4f94-99b3-5854e8fcff1a",
   "metadata": {},
   "source": [
    "And drop `direct_link` and `review_id` columns for anonymized version of the dataset"
   ]
  },
  {
   "cell_type": "code",
   "execution_count": 73,
   "id": "36061004-6da1-480f-8f2f-745d7e4bd86a",
   "metadata": {},
   "outputs": [],
   "source": [
    "movies_reviews_df.drop(\"direct_link\", axis=1, inplace=True, errors=\"ignore\")\n",
    "series_reviews_df.drop(\"direct_link\", axis=1, inplace=True, errors=\"ignore\")"
   ]
  },
  {
   "cell_type": "markdown",
   "id": "f53e101d-35c8-4d5e-aa46-cec996cf6409",
   "metadata": {},
   "source": [
    "And save the datasets"
   ]
  },
  {
   "cell_type": "code",
   "execution_count": 74,
   "id": "8e1f19bb-8c2f-4769-9f67-7ab57ba08e7f",
   "metadata": {},
   "outputs": [],
   "source": [
    "movies_reviews_df.to_parquet(os.path.join(ANONYMIZED_PATH, \"movies_reviews.parquet\"))\n",
    "series_reviews_df.to_parquet(os.path.join(ANONYMIZED_PATH, \"series_reviews.parquet\"))"
   ]
  },
  {
   "cell_type": "code",
   "execution_count": 75,
   "id": "736d6f88-dae0-4756-95b2-e49a67879ae1",
   "metadata": {},
   "outputs": [],
   "source": [
    "movies_info_df.to_parquet(os.path.join(ANONYMIZED_PATH, \"movies_info.parquet\"))\n",
    "series_info_df.to_parquet(os.path.join(ANONYMIZED_PATH, \"series_info.parquet\"))"
   ]
  },
  {
   "cell_type": "code",
   "execution_count": null,
   "id": "bcf8f37e",
   "metadata": {},
   "outputs": [],
   "source": []
  }
 ],
 "metadata": {
  "kernelspec": {
   "display_name": "shows_parsing",
   "language": "python",
   "name": "shows_parsing"
  },
  "language_info": {
   "codemirror_mode": {
    "name": "ipython",
    "version": 3
   },
   "file_extension": ".py",
   "mimetype": "text/x-python",
   "name": "python",
   "nbconvert_exporter": "python",
   "pygments_lexer": "ipython3",
   "version": "3.8.16"
  },
  "vscode": {
   "interpreter": {
    "hash": "916dbcbb3f70747c44a77c7bcd40155683ae19c65e1c03b4aa3499c5328201f1"
   }
  }
 },
 "nbformat": 4,
 "nbformat_minor": 5
}
