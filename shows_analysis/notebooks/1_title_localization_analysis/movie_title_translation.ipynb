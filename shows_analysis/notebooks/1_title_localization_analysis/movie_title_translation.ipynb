{
 "cells": [
  {
   "cell_type": "markdown",
   "id": "4626bb45-203e-4e82-9884-a5092c6befae",
   "metadata": {},
   "source": [
    "# Research on the quality of localization of movie titles"
   ]
  },
  {
   "cell_type": "markdown",
   "id": "4b36f91d-bfa0-4e28-a8ff-77453ad9f3d0",
   "metadata": {},
   "source": [
    "The goal of this research is to find out:\n",
    "* How similar Russian titles and original titles are in general?\n",
    "* Can we split dissimilar pairs (Russian title::original title) into groups by root cause?"
   ]
  },
  {
   "cell_type": "markdown",
   "id": "c57f7095-1394-4b84-9c55-a302c6cb2127",
   "metadata": {},
   "source": [
    "## Importing needed packages"
   ]
  },
  {
   "cell_type": "code",
   "execution_count": 1,
   "id": "6ac7407d-926d-4888-b92a-9108f8c07cd9",
   "metadata": {},
   "outputs": [],
   "source": [
    "# !pip install sentence-transformers"
   ]
  },
  {
   "cell_type": "code",
   "execution_count": 2,
   "id": "5199ba5e-82e3-4cfc-9d0b-b3f11e1d67a6",
   "metadata": {},
   "outputs": [
    {
     "name": "stderr",
     "output_type": "stream",
     "text": [
      "c:\\Users\\ryblo\\Documents\\projects\\movie_reviews\\venv\\lib\\site-packages\\huggingface_hub\\snapshot_download.py:6: FutureWarning: snapshot_download.py has been made private and will no longer be available from version 0.11. Please use `from huggingface_hub import snapshot_download` to import the only public function in this module. Other members of the file may be changed without a deprecation notice.\n",
      "  warnings.warn(\n"
     ]
    }
   ],
   "source": [
    "import os\n",
    "import re\n",
    "from pprint import PrettyPrinter\n",
    "from typing import List, Tuple\n",
    "\n",
    "import matplotlib.pyplot as plt\n",
    "import numpy as np\n",
    "import pandas as pd\n",
    "import seaborn as sns\n",
    "import spacy\n",
    "import torch\n",
    "from sentence_transformers import SentenceTransformer, util\n",
    "from torch import Tensor\n"
   ]
  },
  {
   "cell_type": "code",
   "execution_count": 3,
   "id": "f42ca1bf",
   "metadata": {},
   "outputs": [],
   "source": [
    "from shows_analysis.code.utils.title_localization_utils import (\n",
    "    check_countries,\n",
    "    get_similarity_dataframe,\n",
    "    has_numbers_in_square_brackets,\n",
    ")"
   ]
  },
  {
   "cell_type": "code",
   "execution_count": 4,
   "id": "4f7a1b2c-4ac5-411a-b7c6-f4cb1e8b451e",
   "metadata": {},
   "outputs": [],
   "source": [
    "%matplotlib inline\n",
    "%config InlineBackend.figure_format='retina'\n",
    "sns.set(style=\"ticks\")"
   ]
  },
  {
   "cell_type": "code",
   "execution_count": 5,
   "id": "cd99c5cd-9145-4238-928c-4a5772d128d5",
   "metadata": {},
   "outputs": [],
   "source": [
    "SEED = 42"
   ]
  },
  {
   "cell_type": "markdown",
   "id": "4db1ae62-a4d6-4d88-9bb4-419119ff40f7",
   "metadata": {},
   "source": [
    "## Paths"
   ]
  },
  {
   "cell_type": "code",
   "execution_count": 6,
   "id": "c266817e-0df5-481a-a9d1-b07ebb2095f7",
   "metadata": {},
   "outputs": [],
   "source": [
    "relative_path = os.path.join(\"../../../\", \"data\", \"0_raw_parsed_data\")"
   ]
  },
  {
   "cell_type": "markdown",
   "id": "dbe689d5-2d67-4017-a7e7-28e10a1ea7c0",
   "metadata": {},
   "source": [
    "## Reading data"
   ]
  },
  {
   "cell_type": "markdown",
   "id": "97d07835-3dd8-45a9-9a84-5120a71187f1",
   "metadata": {},
   "source": [
    "Let's read the dataset with titles:\n",
    "* `russian_title` - Russian title\n",
    "* `original_title` - original title \n",
    "* `country` - country of origin"
   ]
  },
  {
   "cell_type": "code",
   "execution_count": 7,
   "id": "0fe136fb-ed84-4157-a860-04c276a621c1",
   "metadata": {},
   "outputs": [
    {
     "data": {
      "text/plain": [
       "(984, 3)"
      ]
     },
     "execution_count": 7,
     "metadata": {},
     "output_type": "execute_result"
    }
   ],
   "source": [
    "movie_df = pd.read_parquet(\n",
    "    os.path.join(relative_path, \"movies_info.parquet\"),\n",
    "    columns=[\"russian_title\", \"original_title\", \"country\"],\n",
    ")\n",
    "movie_df.shape"
   ]
  },
  {
   "cell_type": "code",
   "execution_count": 8,
   "id": "503eb914-c101-40af-912c-9391631111ec",
   "metadata": {},
   "outputs": [
    {
     "data": {
      "text/html": [
       "<div>\n",
       "<style scoped>\n",
       "    .dataframe tbody tr th:only-of-type {\n",
       "        vertical-align: middle;\n",
       "    }\n",
       "\n",
       "    .dataframe tbody tr th {\n",
       "        vertical-align: top;\n",
       "    }\n",
       "\n",
       "    .dataframe thead th {\n",
       "        text-align: right;\n",
       "    }\n",
       "</style>\n",
       "<table border=\"1\" class=\"dataframe\">\n",
       "  <thead>\n",
       "    <tr style=\"text-align: right;\">\n",
       "      <th></th>\n",
       "      <th>russian_title</th>\n",
       "      <th>original_title</th>\n",
       "      <th>country</th>\n",
       "    </tr>\n",
       "  </thead>\n",
       "  <tbody>\n",
       "    <tr>\n",
       "      <th>15</th>\n",
       "      <td>5 сантиметров в секунду (2007)</td>\n",
       "      <td>Byosoku 5 senchimetoru</td>\n",
       "      <td>Япония</td>\n",
       "    </tr>\n",
       "    <tr>\n",
       "      <th>55</th>\n",
       "      <td>Атака титанов. Фильм первый: Жестокий мир (2015)</td>\n",
       "      <td>Shingeki no kyojin</td>\n",
       "      <td>Япония</td>\n",
       "    </tr>\n",
       "    <tr>\n",
       "      <th>113</th>\n",
       "      <td>В лес, где мерцают светлячки (2011)</td>\n",
       "      <td>Hotarubi no mori e</td>\n",
       "      <td>Япония</td>\n",
       "    </tr>\n",
       "    <tr>\n",
       "      <th>133</th>\n",
       "      <td>Ветер крепчает (2013)</td>\n",
       "      <td>Kaze tachinu</td>\n",
       "      <td>Япония</td>\n",
       "    </tr>\n",
       "    <tr>\n",
       "      <th>158</th>\n",
       "      <td>Воспоминания об убийстве (2003)</td>\n",
       "      <td>Salinui chueok</td>\n",
       "      <td>Корея Южная</td>\n",
       "    </tr>\n",
       "  </tbody>\n",
       "</table>\n",
       "</div>"
      ],
      "text/plain": [
       "                                        russian_title          original_title  \\\n",
       "15                     5 сантиметров в секунду (2007)  Byosoku 5 senchimetoru   \n",
       "55   Атака титанов. Фильм первый: Жестокий мир (2015)      Shingeki no kyojin   \n",
       "113               В лес, где мерцают светлячки (2011)      Hotarubi no mori e   \n",
       "133                             Ветер крепчает (2013)            Kaze tachinu   \n",
       "158                   Воспоминания об убийстве (2003)          Salinui chueok   \n",
       "\n",
       "         country  \n",
       "15        Япония  \n",
       "55        Япония  \n",
       "113       Япония  \n",
       "133       Япония  \n",
       "158  Корея Южная  "
      ]
     },
     "execution_count": 8,
     "metadata": {},
     "output_type": "execute_result"
    }
   ],
   "source": [
    "movie_df[movie_df[\"country\"].isin([\"Япония\", \"Корея Южная\"])].head()"
   ]
  },
  {
   "cell_type": "markdown",
   "id": "2012b5c4-503d-475d-a76d-3218153f6bca",
   "metadata": {},
   "source": [
    "Let's remove records, where the country is in the list: \n",
    "```python \n",
    "[\"Япония\", \"Корея Южная\", \"Гонконг\", \"Китай\"]\n",
    "```\n",
    "Because currently we cannot produce good quality embeddings for transcriptions from hieroglyphs.  \n",
    "Also, let's drop the country column - we won't need it in the future analysis. "
   ]
  },
  {
   "cell_type": "code",
   "execution_count": 9,
   "id": "d8983c4b-05f2-43b7-a1ba-2e343062cf9b",
   "metadata": {},
   "outputs": [],
   "source": [
    "filters = [\"Япония\", \"Корея Южная\", \"Гонконг\", \"Китай\"]"
   ]
  },
  {
   "cell_type": "code",
   "execution_count": 10,
   "id": "97b15d83-67a0-4160-8c3f-2664715af7b1",
   "metadata": {},
   "outputs": [],
   "source": [
    "movie_df = (\n",
    "    movie_df.loc[\n",
    "        movie_df[\"country\"].apply(lambda country: check_countries(country, filters))\n",
    "    ]\n",
    "    if \"country\" in movie_df.columns\n",
    "    else movie_df\n",
    ")\n",
    "\n",
    "movie_df = movie_df.drop(\"country\", axis=1, errors=\"ignore\")"
   ]
  },
  {
   "cell_type": "code",
   "execution_count": 11,
   "id": "3a9605a0-3a98-48f6-878b-d7c66f204850",
   "metadata": {},
   "outputs": [],
   "source": [
    "movie_df = movie_df.replace(r\"^\\s*$\", np.nan, regex=True)"
   ]
  },
  {
   "cell_type": "code",
   "execution_count": 12,
   "id": "9aa0cc05-9234-4bf9-90c4-4cf88b0bdfd6",
   "metadata": {},
   "outputs": [
    {
     "data": {
      "text/html": [
       "<div>\n",
       "<style scoped>\n",
       "    .dataframe tbody tr th:only-of-type {\n",
       "        vertical-align: middle;\n",
       "    }\n",
       "\n",
       "    .dataframe tbody tr th {\n",
       "        vertical-align: top;\n",
       "    }\n",
       "\n",
       "    .dataframe thead th {\n",
       "        text-align: right;\n",
       "    }\n",
       "</style>\n",
       "<table border=\"1\" class=\"dataframe\">\n",
       "  <thead>\n",
       "    <tr style=\"text-align: right;\">\n",
       "      <th></th>\n",
       "      <th>russian_title</th>\n",
       "      <th>original_title</th>\n",
       "    </tr>\n",
       "  </thead>\n",
       "  <tbody>\n",
       "    <tr>\n",
       "      <th>790</th>\n",
       "      <td>Спутник (2020)</td>\n",
       "      <td>NaN</td>\n",
       "    </tr>\n",
       "    <tr>\n",
       "      <th>819</th>\n",
       "      <td>Тарас Бульба (2009)</td>\n",
       "      <td>NaN</td>\n",
       "    </tr>\n",
       "    <tr>\n",
       "      <th>270</th>\n",
       "      <td>Дрянные девчонки (2004)</td>\n",
       "      <td>Mean Girls</td>\n",
       "    </tr>\n",
       "    <tr>\n",
       "      <th>257</th>\n",
       "      <td>Дом на глубине (2021)</td>\n",
       "      <td>The Deep House</td>\n",
       "    </tr>\n",
       "    <tr>\n",
       "      <th>320</th>\n",
       "      <td>Зверополис (2016)</td>\n",
       "      <td>Zootopia</td>\n",
       "    </tr>\n",
       "    <tr>\n",
       "      <th>350</th>\n",
       "      <td>Иллюзия обмана (2013)</td>\n",
       "      <td>Now You See Me</td>\n",
       "    </tr>\n",
       "    <tr>\n",
       "      <th>390</th>\n",
       "      <td>Корпорация монстров (2001)</td>\n",
       "      <td>Monsters, Inc.</td>\n",
       "    </tr>\n",
       "    <tr>\n",
       "      <th>912</th>\n",
       "      <td>Хороший, плохой, злой (1966)</td>\n",
       "      <td>Il buono, il brutto, il cattivo</td>\n",
       "    </tr>\n",
       "    <tr>\n",
       "      <th>309</th>\n",
       "      <td>Затерянный город (2022)</td>\n",
       "      <td>The Lost City</td>\n",
       "    </tr>\n",
       "    <tr>\n",
       "      <th>42</th>\n",
       "      <td>Анна (2019)</td>\n",
       "      <td>Anna</td>\n",
       "    </tr>\n",
       "  </tbody>\n",
       "</table>\n",
       "</div>"
      ],
      "text/plain": [
       "                    russian_title                   original_title\n",
       "790                Спутник (2020)                              NaN\n",
       "819           Тарас Бульба (2009)                              NaN\n",
       "270       Дрянные девчонки (2004)                       Mean Girls\n",
       "257         Дом на глубине (2021)                   The Deep House\n",
       "320             Зверополис (2016)                         Zootopia\n",
       "350         Иллюзия обмана (2013)                   Now You See Me\n",
       "390    Корпорация монстров (2001)                   Monsters, Inc.\n",
       "912  Хороший, плохой, злой (1966)  Il buono, il brutto, il cattivo\n",
       "309       Затерянный город (2022)                    The Lost City\n",
       "42                    Анна (2019)                             Anna"
      ]
     },
     "execution_count": 12,
     "metadata": {},
     "output_type": "execute_result"
    }
   ],
   "source": [
    "movie_df.sample(10, random_state=SEED)"
   ]
  },
  {
   "cell_type": "markdown",
   "id": "94d24db8-a1eb-4823-a42b-1e14135826f8",
   "metadata": {},
   "source": [
    "We can see that the `russian_title` contains the release year for every film (or at least these 10 random samples).  \n",
    "This is an opportunity to clean the data."
   ]
  },
  {
   "cell_type": "markdown",
   "id": "427cb733-344c-4a63-a0e2-da415d947b08",
   "metadata": {},
   "source": [
    "## Cleaning the data"
   ]
  },
  {
   "cell_type": "markdown",
   "id": "bf54c9bb-d2fe-44e8-912b-2eaf170c9cc7",
   "metadata": {},
   "source": [
    "### Removing parenthesis from `russian_title`"
   ]
  },
  {
   "cell_type": "markdown",
   "id": "8484a5c1-bf2d-4dce-93fc-8a964e13944e",
   "metadata": {},
   "source": [
    "#### Approach 1: Removing last 6 characters"
   ]
  },
  {
   "cell_type": "markdown",
   "id": "630e4f24-a468-4cb1-a458-50930345677e",
   "metadata": {},
   "source": [
    "In the previous section we've found out that the `russian_title` contains the release year of the film.  \n",
    "Let's check that the last six characters from the `russian_title` is always the same and look like `(year)`."
   ]
  },
  {
   "cell_type": "code",
   "execution_count": 13,
   "id": "44d639d5-6a72-46fe-b1b7-70e6c48a1773",
   "metadata": {},
   "outputs": [
    {
     "data": {
      "text/plain": [
       "1970     1\n",
       "1976     1\n",
       "1959     1\n",
       " 1988    1\n",
       "1956     1\n",
       "1975     1\n",
       " 2022    1\n",
       "1968     1\n",
       "1939     1\n",
       "1971     1\n",
       "1974     1\n",
       "1977     1\n",
       "1989     2\n",
       "1973     2\n",
       "1993     2\n",
       "Name: russian_title, dtype: int64"
      ]
     },
     "execution_count": 13,
     "metadata": {},
     "output_type": "execute_result"
    }
   ],
   "source": [
    "six_chars = movie_df[\"russian_title\"].apply(\n",
    "    lambda s: s[-6:].replace(\"(\", \"\").replace(\")\", \"\")\n",
    ")\n",
    "six_chars.value_counts(ascending=True).iloc[:15]"
   ]
  },
  {
   "cell_type": "markdown",
   "id": "9816ed51-593a-4430-a08c-2ff3a569880a",
   "metadata": {},
   "source": [
    "We can see that amongst the most infrequent years there are little errors - year contains additional whitespaces.  \n",
    "I'm going to check the whole title for this case."
   ]
  },
  {
   "cell_type": "code",
   "execution_count": 14,
   "id": "8e009a24-a115-465b-a07d-944e2fcd5f49",
   "metadata": {},
   "outputs": [
    {
     "data": {
      "text/html": [
       "<div>\n",
       "<style scoped>\n",
       "    .dataframe tbody tr th:only-of-type {\n",
       "        vertical-align: middle;\n",
       "    }\n",
       "\n",
       "    .dataframe tbody tr th {\n",
       "        vertical-align: top;\n",
       "    }\n",
       "\n",
       "    .dataframe thead th {\n",
       "        text-align: right;\n",
       "    }\n",
       "</style>\n",
       "<table border=\"1\" class=\"dataframe\">\n",
       "  <thead>\n",
       "    <tr style=\"text-align: right;\">\n",
       "      <th></th>\n",
       "      <th>russian_title</th>\n",
       "      <th>original_title</th>\n",
       "    </tr>\n",
       "  </thead>\n",
       "  <tbody>\n",
       "    <tr>\n",
       "      <th>705</th>\n",
       "      <td>Привилегированные (ТВ, 2022)</td>\n",
       "      <td>Das Privileg</td>\n",
       "    </tr>\n",
       "    <tr>\n",
       "      <th>775</th>\n",
       "      <td>Собачье сердце (ТВ, 1988)</td>\n",
       "      <td>NaN</td>\n",
       "    </tr>\n",
       "  </tbody>\n",
       "</table>\n",
       "</div>"
      ],
      "text/plain": [
       "                    russian_title original_title\n",
       "705  Привилегированные (ТВ, 2022)   Das Privileg\n",
       "775     Собачье сердце (ТВ, 1988)            NaN"
      ]
     },
     "execution_count": 14,
     "metadata": {},
     "output_type": "execute_result"
    }
   ],
   "source": [
    "indices = [i for i, year in enumerate(six_chars.values) if \" \" in year]\n",
    "movie_df.iloc[indices]"
   ]
  },
  {
   "cell_type": "markdown",
   "id": "29928d44-e659-46ec-8bb0-59b9c3a4e34e",
   "metadata": {},
   "source": [
    "Aha!"
   ]
  },
  {
   "cell_type": "markdown",
   "id": "1641abd7-037e-45f9-9627-781506ab9dee",
   "metadata": {},
   "source": [
    "#### Approach 2: removing the whole parenthesis"
   ]
  },
  {
   "cell_type": "markdown",
   "id": "d5f495c3-00d5-4217-8273-56c513813ca9",
   "metadata": {},
   "source": [
    "Let's switch to another strategy - finding out whether every title contains substring like `(smth)` and if it is true, then remove such substring"
   ]
  },
  {
   "cell_type": "code",
   "execution_count": 15,
   "id": "0f4c0695-2b76-4d18-9142-aba5d3a2617b",
   "metadata": {},
   "outputs": [],
   "source": [
    "assert (\n",
    "    movie_df[\"russian_title\"].apply(has_numbers_in_square_brackets).sum()\n",
    "    == movie_df.shape[0]\n",
    "), \"Not every title has brackets with something inside\""
   ]
  },
  {
   "cell_type": "markdown",
   "id": "21fd49ce-6666-47f0-b328-d9e27c107bec",
   "metadata": {},
   "source": [
    "Every title contains some information in brackets - we don't really care what's inside them. Our goal is to clean the titles, so, we'll just delete the brackets with their contents."
   ]
  },
  {
   "cell_type": "code",
   "execution_count": 16,
   "id": "18280da0-a4f0-4f88-a712-5cee7a9fabc4",
   "metadata": {},
   "outputs": [
    {
     "data": {
      "text/plain": [
       "0                           1+1\n",
       "1      10 причин моей ненависти\n",
       "2                12 лет рабства\n",
       "3                    12 обезьян\n",
       "4        12 разгневанных мужчин\n",
       "                 ...           \n",
       "978                 Я — легенда\n",
       "979                  Я — начало\n",
       "980                    Я, робот\n",
       "981                Яйцо Фаберже\n",
       "982                      Ярость\n",
       "Name: russian_title, Length: 877, dtype: object"
      ]
     },
     "execution_count": 16,
     "metadata": {},
     "output_type": "execute_result"
    }
   ],
   "source": [
    "movie_df[\"russian_title\"] = movie_df[\"russian_title\"].apply(\n",
    "    lambda s: re.sub(r\"\\([^()]*\\)\", \"\", s).strip()\n",
    ")\n",
    "movie_df[\"russian_title\"]"
   ]
  },
  {
   "cell_type": "markdown",
   "id": "d392c300-12ab-4af6-989a-fb5ca38bc581",
   "metadata": {},
   "source": [
    "Just checking"
   ]
  },
  {
   "cell_type": "code",
   "execution_count": 17,
   "id": "af7f18dc-074b-4bc5-bc7e-5ce8fce51f2b",
   "metadata": {},
   "outputs": [],
   "source": [
    "assert (\n",
    "    movie_df[\"russian_title\"].apply(has_numbers_in_square_brackets).sum() == 0\n",
    "), \"Not all brackets were deleted - check the procedure\""
   ]
  },
  {
   "cell_type": "markdown",
   "id": "9ab9a5e5-4fe6-46a1-a937-531d82398fde",
   "metadata": {},
   "source": [
    "### Checking for duplicates"
   ]
  },
  {
   "cell_type": "code",
   "execution_count": 18,
   "id": "e90f6f78-ee28-4dea-a799-3ce94d6e7764",
   "metadata": {},
   "outputs": [
    {
     "data": {
      "text/plain": [
       "False"
      ]
     },
     "execution_count": 18,
     "metadata": {},
     "output_type": "execute_result"
    }
   ],
   "source": [
    "movie_df.drop_duplicates().shape == movie_df.shape"
   ]
  },
  {
   "cell_type": "markdown",
   "id": "edcf6ba0-e452-41cd-adbc-43e0beb73724",
   "metadata": {},
   "source": [
    "Let's clean the duplicates"
   ]
  },
  {
   "cell_type": "code",
   "execution_count": 19,
   "id": "89d3ed19-5d2f-41e6-8194-980ba23a0e41",
   "metadata": {},
   "outputs": [],
   "source": [
    "movie_df.drop_duplicates(inplace=True)\n",
    "assert movie_df.drop_duplicates().shape == movie_df.shape"
   ]
  },
  {
   "cell_type": "markdown",
   "id": "85b8afc7-9942-46aa-9705-2047319cad64",
   "metadata": {},
   "source": [
    "### Checking for missing values"
   ]
  },
  {
   "cell_type": "code",
   "execution_count": 20,
   "id": "db67ec59-087b-4c44-b9ba-759065bb5f59",
   "metadata": {},
   "outputs": [
    {
     "data": {
      "text/plain": [
       "russian_title     False\n",
       "original_title     True\n",
       "dtype: bool"
      ]
     },
     "execution_count": 20,
     "metadata": {},
     "output_type": "execute_result"
    }
   ],
   "source": [
    "movie_df.isna().any()"
   ]
  },
  {
   "cell_type": "markdown",
   "id": "43877d24-7478-4929-8dec-29f3636ca9a0",
   "metadata": {},
   "source": [
    "We can see that the 'original_title' column contains `NaN` values.  \n",
    "Probably, because not every movie has an `original_title` - maybe movie is Russian-made and doesn't have English-translated title, for example."
   ]
  },
  {
   "cell_type": "code",
   "execution_count": 21,
   "id": "ddfa4567-4a81-4c32-bf1c-731a215de26f",
   "metadata": {},
   "outputs": [
    {
     "data": {
      "text/html": [
       "<div>\n",
       "<style scoped>\n",
       "    .dataframe tbody tr th:only-of-type {\n",
       "        vertical-align: middle;\n",
       "    }\n",
       "\n",
       "    .dataframe tbody tr th {\n",
       "        vertical-align: top;\n",
       "    }\n",
       "\n",
       "    .dataframe thead th {\n",
       "        text-align: right;\n",
       "    }\n",
       "</style>\n",
       "<table border=\"1\" class=\"dataframe\">\n",
       "  <thead>\n",
       "    <tr style=\"text-align: right;\">\n",
       "      <th></th>\n",
       "      <th>russian_title</th>\n",
       "      <th>original_title</th>\n",
       "    </tr>\n",
       "  </thead>\n",
       "  <tbody>\n",
       "    <tr>\n",
       "      <th>8</th>\n",
       "      <td>1941. Крылья над Берлином</td>\n",
       "      <td>NaN</td>\n",
       "    </tr>\n",
       "    <tr>\n",
       "      <th>18</th>\n",
       "      <td>9 рота</td>\n",
       "      <td>NaN</td>\n",
       "    </tr>\n",
       "    <tr>\n",
       "      <th>41</th>\n",
       "      <td>Андрей Рублев</td>\n",
       "      <td>NaN</td>\n",
       "    </tr>\n",
       "    <tr>\n",
       "      <th>53</th>\n",
       "      <td>Артек. Большое путешествие</td>\n",
       "      <td>NaN</td>\n",
       "    </tr>\n",
       "    <tr>\n",
       "      <th>60</th>\n",
       "      <td>Бабки</td>\n",
       "      <td>NaN</td>\n",
       "    </tr>\n",
       "    <tr>\n",
       "      <th>...</th>\n",
       "      <td>...</td>\n",
       "      <td>...</td>\n",
       "    </tr>\n",
       "    <tr>\n",
       "      <th>944</th>\n",
       "      <td>Чернобыль: Зона отчуждения. Финал</td>\n",
       "      <td>NaN</td>\n",
       "    </tr>\n",
       "    <tr>\n",
       "      <th>969</th>\n",
       "      <td>Этерна: Часть первая</td>\n",
       "      <td>NaN</td>\n",
       "    </tr>\n",
       "    <tr>\n",
       "      <th>975</th>\n",
       "      <td>Я иду искать</td>\n",
       "      <td>NaN</td>\n",
       "    </tr>\n",
       "    <tr>\n",
       "      <th>977</th>\n",
       "      <td>Я хочу! Я буду!</td>\n",
       "      <td>NaN</td>\n",
       "    </tr>\n",
       "    <tr>\n",
       "      <th>981</th>\n",
       "      <td>Яйцо Фаберже</td>\n",
       "      <td>NaN</td>\n",
       "    </tr>\n",
       "  </tbody>\n",
       "</table>\n",
       "<p>131 rows × 2 columns</p>\n",
       "</div>"
      ],
      "text/plain": [
       "                         russian_title original_title\n",
       "8            1941. Крылья над Берлином            NaN\n",
       "18                              9 рота            NaN\n",
       "41                       Андрей Рублев            NaN\n",
       "53          Артек. Большое путешествие            NaN\n",
       "60                               Бабки            NaN\n",
       "..                                 ...            ...\n",
       "944  Чернобыль: Зона отчуждения. Финал            NaN\n",
       "969               Этерна: Часть первая            NaN\n",
       "975                       Я иду искать            NaN\n",
       "977                    Я хочу! Я буду!            NaN\n",
       "981                       Яйцо Фаберже            NaN\n",
       "\n",
       "[131 rows x 2 columns]"
      ]
     },
     "execution_count": 21,
     "metadata": {},
     "output_type": "execute_result"
    }
   ],
   "source": [
    "movie_df[movie_df.isnull().any(axis=1)]"
   ]
  },
  {
   "cell_type": "markdown",
   "id": "927a1107-8761-4b0f-8bb4-2378f824e146",
   "metadata": {},
   "source": [
    "Yes, my assumption was right.  \n",
    "I think it is reasonable to drop such rows."
   ]
  },
  {
   "cell_type": "code",
   "execution_count": 22,
   "id": "a4dcea2f-e89e-48eb-a607-4b9af406a178",
   "metadata": {},
   "outputs": [
    {
     "data": {
      "text/plain": [
       "(744, 2)"
      ]
     },
     "execution_count": 22,
     "metadata": {},
     "output_type": "execute_result"
    }
   ],
   "source": [
    "movie_df = (\n",
    "    movie_df.dropna(axis=0, inplace=False) if movie_df.isna().any().any() else movie_df\n",
    ")\n",
    "movie_df.shape"
   ]
  },
  {
   "cell_type": "code",
   "execution_count": 23,
   "id": "12d5677f-479a-41f7-a076-41082576d206",
   "metadata": {},
   "outputs": [],
   "source": [
    "assert movie_df.isna().any().any() == False"
   ]
  },
  {
   "cell_type": "markdown",
   "id": "5ea43dc3-e103-4a67-b008-82e22ea33b4d",
   "metadata": {},
   "source": [
    "## Semantic similarity"
   ]
  },
  {
   "cell_type": "markdown",
   "id": "6951f646-5002-4214-9b33-cee2a5f04825",
   "metadata": {},
   "source": [
    "### Getting titles"
   ]
  },
  {
   "cell_type": "code",
   "execution_count": 24,
   "id": "a2b185f5-9a9e-4b22-a66c-b4f852e19e8b",
   "metadata": {},
   "outputs": [],
   "source": [
    "russian_titles = movie_df[\"russian_title\"].values\n",
    "original_titles = movie_df[\"original_title\"].values"
   ]
  },
  {
   "cell_type": "markdown",
   "id": "050649ce-d6ef-4b92-8350-738efe38fbc9",
   "metadata": {},
   "source": [
    "### Debug opportunities"
   ]
  },
  {
   "cell_type": "code",
   "execution_count": 25,
   "id": "d46e02ba-a659-4723-bcd1-fbce097c01c6",
   "metadata": {},
   "outputs": [],
   "source": [
    "# embeddings = compute_embeddings(distil_use_v2, russian_titles, original_titles)\n",
    "# similarity_scores = compute_similarity(*embeddings)"
   ]
  },
  {
   "cell_type": "markdown",
   "id": "3c58c788-d17e-4d05-bee5-50a30a4ab3e3",
   "metadata": {},
   "source": [
    "### Choosing model"
   ]
  },
  {
   "cell_type": "markdown",
   "id": "6eb6bda1-7730-4930-bec0-42404cbd9e60",
   "metadata": {},
   "source": [
    "We are going to use multilingual models from [SentenceTransformers](https://www.sbert.net/docs/pretrained_models.html#multi-lingual-models) framework"
   ]
  },
  {
   "cell_type": "code",
   "execution_count": 27,
   "id": "3bdf4a92-0650-46be-9bbd-6c607b5737d7",
   "metadata": {},
   "outputs": [
    {
     "data": {
      "application/vnd.jupyter.widget-view+json": {
       "model_id": "68c54a6bef094f8db66ce32a2631fa17",
       "version_major": 2,
       "version_minor": 0
      },
      "text/plain": [
       "Downloading:   0%|          | 0.00/690 [00:00<?, ?B/s]"
      ]
     },
     "metadata": {},
     "output_type": "display_data"
    },
    {
     "data": {
      "application/vnd.jupyter.widget-view+json": {
       "model_id": "26490a2fd041463491a5f8eea2db69e5",
       "version_major": 2,
       "version_minor": 0
      },
      "text/plain": [
       "Downloading:   0%|          | 0.00/190 [00:00<?, ?B/s]"
      ]
     },
     "metadata": {},
     "output_type": "display_data"
    },
    {
     "data": {
      "application/vnd.jupyter.widget-view+json": {
       "model_id": "f0f18bd069b241f2b30314cd016cb9e9",
       "version_major": 2,
       "version_minor": 0
      },
      "text/plain": [
       "Downloading:   0%|          | 0.00/114 [00:00<?, ?B/s]"
      ]
     },
     "metadata": {},
     "output_type": "display_data"
    },
    {
     "data": {
      "application/vnd.jupyter.widget-view+json": {
       "model_id": "68ee6337b99a47f58df5475197823332",
       "version_major": 2,
       "version_minor": 0
      },
      "text/plain": [
       "Downloading:   0%|          | 0.00/1.58M [00:00<?, ?B/s]"
      ]
     },
     "metadata": {},
     "output_type": "display_data"
    },
    {
     "data": {
      "application/vnd.jupyter.widget-view+json": {
       "model_id": "b04bbb1399b84c29bf9c40f6d60a6514",
       "version_major": 2,
       "version_minor": 0
      },
      "text/plain": [
       "Downloading:   0%|          | 0.00/2.38k [00:00<?, ?B/s]"
      ]
     },
     "metadata": {},
     "output_type": "display_data"
    },
    {
     "data": {
      "application/vnd.jupyter.widget-view+json": {
       "model_id": "79a067063888455ca2a823034ca441bf",
       "version_major": 2,
       "version_minor": 0
      },
      "text/plain": [
       "Downloading:   0%|          | 0.00/556 [00:00<?, ?B/s]"
      ]
     },
     "metadata": {},
     "output_type": "display_data"
    },
    {
     "data": {
      "application/vnd.jupyter.widget-view+json": {
       "model_id": "46db73b56b614064b1d839381b82253f",
       "version_major": 2,
       "version_minor": 0
      },
      "text/plain": [
       "Downloading:   0%|          | 0.00/122 [00:00<?, ?B/s]"
      ]
     },
     "metadata": {},
     "output_type": "display_data"
    },
    {
     "data": {
      "application/vnd.jupyter.widget-view+json": {
       "model_id": "274548596ab94e3287b2279bf77d735b",
       "version_major": 2,
       "version_minor": 0
      },
      "text/plain": [
       "Downloading:   0%|          | 0.00/341 [00:00<?, ?B/s]"
      ]
     },
     "metadata": {},
     "output_type": "display_data"
    },
    {
     "data": {
      "application/vnd.jupyter.widget-view+json": {
       "model_id": "20ff9f84d2454bd78fbbee988b6f9499",
       "version_major": 2,
       "version_minor": 0
      },
      "text/plain": [
       "Downloading:   0%|          | 0.00/539M [00:00<?, ?B/s]"
      ]
     },
     "metadata": {},
     "output_type": "display_data"
    },
    {
     "data": {
      "application/vnd.jupyter.widget-view+json": {
       "model_id": "bffb552e5d5041b3ac50b0355e44b434",
       "version_major": 2,
       "version_minor": 0
      },
      "text/plain": [
       "Downloading:   0%|          | 0.00/53.0 [00:00<?, ?B/s]"
      ]
     },
     "metadata": {},
     "output_type": "display_data"
    },
    {
     "data": {
      "application/vnd.jupyter.widget-view+json": {
       "model_id": "e357b08cd09747629a23be474e3331a5",
       "version_major": 2,
       "version_minor": 0
      },
      "text/plain": [
       "Downloading:   0%|          | 0.00/112 [00:00<?, ?B/s]"
      ]
     },
     "metadata": {},
     "output_type": "display_data"
    },
    {
     "data": {
      "application/vnd.jupyter.widget-view+json": {
       "model_id": "c8dda78e43fb422fb5fb0b37b578e085",
       "version_major": 2,
       "version_minor": 0
      },
      "text/plain": [
       "Downloading:   0%|          | 0.00/1.96M [00:00<?, ?B/s]"
      ]
     },
     "metadata": {},
     "output_type": "display_data"
    },
    {
     "data": {
      "application/vnd.jupyter.widget-view+json": {
       "model_id": "219d75e96ffc4306b7ca316a88facb16",
       "version_major": 2,
       "version_minor": 0
      },
      "text/plain": [
       "Downloading:   0%|          | 0.00/452 [00:00<?, ?B/s]"
      ]
     },
     "metadata": {},
     "output_type": "display_data"
    },
    {
     "data": {
      "application/vnd.jupyter.widget-view+json": {
       "model_id": "aee64384db4b4da0b9b264157f70a940",
       "version_major": 2,
       "version_minor": 0
      },
      "text/plain": [
       "Downloading:   0%|          | 0.00/996k [00:00<?, ?B/s]"
      ]
     },
     "metadata": {},
     "output_type": "display_data"
    },
    {
     "data": {
      "application/vnd.jupyter.widget-view+json": {
       "model_id": "77bd5b2361a24f8caf0e9881d4912dba",
       "version_major": 2,
       "version_minor": 0
      },
      "text/plain": [
       "Downloading:   0%|          | 0.00/690 [00:00<?, ?B/s]"
      ]
     },
     "metadata": {},
     "output_type": "display_data"
    },
    {
     "data": {
      "application/vnd.jupyter.widget-view+json": {
       "model_id": "ab6b0366d130489e88c6c912362ce0f7",
       "version_major": 2,
       "version_minor": 0
      },
      "text/plain": [
       "Downloading:   0%|          | 0.00/190 [00:00<?, ?B/s]"
      ]
     },
     "metadata": {},
     "output_type": "display_data"
    },
    {
     "data": {
      "application/vnd.jupyter.widget-view+json": {
       "model_id": "13cb0907a9014c989991b04dda7f3f23",
       "version_major": 2,
       "version_minor": 0
      },
      "text/plain": [
       "Downloading:   0%|          | 0.00/114 [00:00<?, ?B/s]"
      ]
     },
     "metadata": {},
     "output_type": "display_data"
    },
    {
     "data": {
      "application/vnd.jupyter.widget-view+json": {
       "model_id": "aa66a0c3e18a471eb659fb433a9fdd92",
       "version_major": 2,
       "version_minor": 0
      },
      "text/plain": [
       "Downloading:   0%|          | 0.00/1.58M [00:00<?, ?B/s]"
      ]
     },
     "metadata": {},
     "output_type": "display_data"
    },
    {
     "data": {
      "application/vnd.jupyter.widget-view+json": {
       "model_id": "7e0171a67215469d8021cfaf2f2be987",
       "version_major": 2,
       "version_minor": 0
      },
      "text/plain": [
       "Downloading:   0%|          | 0.00/2.38k [00:00<?, ?B/s]"
      ]
     },
     "metadata": {},
     "output_type": "display_data"
    },
    {
     "data": {
      "application/vnd.jupyter.widget-view+json": {
       "model_id": "06e08516b6e044efbb7b97408413d9ee",
       "version_major": 2,
       "version_minor": 0
      },
      "text/plain": [
       "Downloading:   0%|          | 0.00/610 [00:00<?, ?B/s]"
      ]
     },
     "metadata": {},
     "output_type": "display_data"
    },
    {
     "data": {
      "application/vnd.jupyter.widget-view+json": {
       "model_id": "3c295ca7630a404594bd1da8b085c16b",
       "version_major": 2,
       "version_minor": 0
      },
      "text/plain": [
       "Downloading:   0%|          | 0.00/122 [00:00<?, ?B/s]"
      ]
     },
     "metadata": {},
     "output_type": "display_data"
    },
    {
     "data": {
      "application/vnd.jupyter.widget-view+json": {
       "model_id": "7a539c3314d34b1a838910c9aa3eb34e",
       "version_major": 2,
       "version_minor": 0
      },
      "text/plain": [
       "Downloading:   0%|          | 0.00/341 [00:00<?, ?B/s]"
      ]
     },
     "metadata": {},
     "output_type": "display_data"
    },
    {
     "data": {
      "application/vnd.jupyter.widget-view+json": {
       "model_id": "b50581ca185746bc854ca267665efe8b",
       "version_major": 2,
       "version_minor": 0
      },
      "text/plain": [
       "Downloading:   0%|          | 0.00/539M [00:00<?, ?B/s]"
      ]
     },
     "metadata": {},
     "output_type": "display_data"
    },
    {
     "data": {
      "application/vnd.jupyter.widget-view+json": {
       "model_id": "62500d5c71d64fd9acf3bc7dabb7b3b5",
       "version_major": 2,
       "version_minor": 0
      },
      "text/plain": [
       "Downloading:   0%|          | 0.00/53.0 [00:00<?, ?B/s]"
      ]
     },
     "metadata": {},
     "output_type": "display_data"
    },
    {
     "data": {
      "application/vnd.jupyter.widget-view+json": {
       "model_id": "447c351e9d564c4786aab43b07f6d5f2",
       "version_major": 2,
       "version_minor": 0
      },
      "text/plain": [
       "Downloading:   0%|          | 0.00/112 [00:00<?, ?B/s]"
      ]
     },
     "metadata": {},
     "output_type": "display_data"
    },
    {
     "data": {
      "application/vnd.jupyter.widget-view+json": {
       "model_id": "c3131136c6d64312821d6e36f172b487",
       "version_major": 2,
       "version_minor": 0
      },
      "text/plain": [
       "Downloading:   0%|          | 0.00/1.96M [00:00<?, ?B/s]"
      ]
     },
     "metadata": {},
     "output_type": "display_data"
    },
    {
     "data": {
      "application/vnd.jupyter.widget-view+json": {
       "model_id": "b0dcd12043384c0bac75939269652e24",
       "version_major": 2,
       "version_minor": 0
      },
      "text/plain": [
       "Downloading:   0%|          | 0.00/531 [00:00<?, ?B/s]"
      ]
     },
     "metadata": {},
     "output_type": "display_data"
    },
    {
     "data": {
      "application/vnd.jupyter.widget-view+json": {
       "model_id": "2d685bd952494f498798141d71015dca",
       "version_major": 2,
       "version_minor": 0
      },
      "text/plain": [
       "Downloading:   0%|          | 0.00/996k [00:00<?, ?B/s]"
      ]
     },
     "metadata": {},
     "output_type": "display_data"
    },
    {
     "data": {
      "application/vnd.jupyter.widget-view+json": {
       "model_id": "b52537c28bba4dee964bc1a1792ca6a9",
       "version_major": 2,
       "version_minor": 0
      },
      "text/plain": [
       "Downloading:   0%|          | 0.00/968 [00:00<?, ?B/s]"
      ]
     },
     "metadata": {},
     "output_type": "display_data"
    },
    {
     "data": {
      "application/vnd.jupyter.widget-view+json": {
       "model_id": "16b03f8a251b4239a0d963fa40c04b50",
       "version_major": 2,
       "version_minor": 0
      },
      "text/plain": [
       "Downloading:   0%|          | 0.00/190 [00:00<?, ?B/s]"
      ]
     },
     "metadata": {},
     "output_type": "display_data"
    },
    {
     "data": {
      "application/vnd.jupyter.widget-view+json": {
       "model_id": "3188f57fb99c41019f99c23073ab2de5",
       "version_major": 2,
       "version_minor": 0
      },
      "text/plain": [
       "Downloading:   0%|          | 0.00/3.79k [00:00<?, ?B/s]"
      ]
     },
     "metadata": {},
     "output_type": "display_data"
    },
    {
     "data": {
      "application/vnd.jupyter.widget-view+json": {
       "model_id": "2b62d3c516a64d71b9e944beb4094876",
       "version_major": 2,
       "version_minor": 0
      },
      "text/plain": [
       "Downloading:   0%|          | 0.00/645 [00:00<?, ?B/s]"
      ]
     },
     "metadata": {},
     "output_type": "display_data"
    },
    {
     "data": {
      "application/vnd.jupyter.widget-view+json": {
       "model_id": "240245d1a42d493b89f9d65b0a62a31b",
       "version_major": 2,
       "version_minor": 0
      },
      "text/plain": [
       "Downloading:   0%|          | 0.00/122 [00:00<?, ?B/s]"
      ]
     },
     "metadata": {},
     "output_type": "display_data"
    },
    {
     "data": {
      "application/vnd.jupyter.widget-view+json": {
       "model_id": "e59573c7b44b4999896f2468a89e7b8c",
       "version_major": 2,
       "version_minor": 0
      },
      "text/plain": [
       "Downloading:   0%|          | 0.00/229 [00:00<?, ?B/s]"
      ]
     },
     "metadata": {},
     "output_type": "display_data"
    },
    {
     "data": {
      "application/vnd.jupyter.widget-view+json": {
       "model_id": "72b76d58c94e4d2dad3cb2c424dc700e",
       "version_major": 2,
       "version_minor": 0
      },
      "text/plain": [
       "Downloading:   0%|          | 0.00/471M [00:00<?, ?B/s]"
      ]
     },
     "metadata": {},
     "output_type": "display_data"
    },
    {
     "data": {
      "application/vnd.jupyter.widget-view+json": {
       "model_id": "4db265f7d79f49eca79614a6d49b28bf",
       "version_major": 2,
       "version_minor": 0
      },
      "text/plain": [
       "Downloading:   0%|          | 0.00/53.0 [00:00<?, ?B/s]"
      ]
     },
     "metadata": {},
     "output_type": "display_data"
    },
    {
     "data": {
      "application/vnd.jupyter.widget-view+json": {
       "model_id": "5eaaa15a1c744d6888f9c9353d45862e",
       "version_major": 2,
       "version_minor": 0
      },
      "text/plain": [
       "Downloading:   0%|          | 0.00/5.07M [00:00<?, ?B/s]"
      ]
     },
     "metadata": {},
     "output_type": "display_data"
    },
    {
     "data": {
      "application/vnd.jupyter.widget-view+json": {
       "model_id": "f85f7c00590f4dbcad7ae73363ebaf0d",
       "version_major": 2,
       "version_minor": 0
      },
      "text/plain": [
       "Downloading:   0%|          | 0.00/239 [00:00<?, ?B/s]"
      ]
     },
     "metadata": {},
     "output_type": "display_data"
    },
    {
     "data": {
      "application/vnd.jupyter.widget-view+json": {
       "model_id": "ba704777b02e4e7eb65ba940505f6b74",
       "version_major": 2,
       "version_minor": 0
      },
      "text/plain": [
       "Downloading:   0%|          | 0.00/9.08M [00:00<?, ?B/s]"
      ]
     },
     "metadata": {},
     "output_type": "display_data"
    },
    {
     "data": {
      "application/vnd.jupyter.widget-view+json": {
       "model_id": "f832e29984164a11aeabd43ca888dad6",
       "version_major": 2,
       "version_minor": 0
      },
      "text/plain": [
       "Downloading:   0%|          | 0.00/480 [00:00<?, ?B/s]"
      ]
     },
     "metadata": {},
     "output_type": "display_data"
    },
    {
     "data": {
      "application/vnd.jupyter.widget-view+json": {
       "model_id": "567bde4bdc5f4b9bb740d63af02bbc3c",
       "version_major": 2,
       "version_minor": 0
      },
      "text/plain": [
       "Downloading:   0%|          | 0.00/14.8M [00:00<?, ?B/s]"
      ]
     },
     "metadata": {},
     "output_type": "display_data"
    },
    {
     "data": {
      "application/vnd.jupyter.widget-view+json": {
       "model_id": "4fc2afee8ee84ae097615e423affe403",
       "version_major": 2,
       "version_minor": 0
      },
      "text/plain": [
       "Downloading:   0%|          | 0.00/690 [00:00<?, ?B/s]"
      ]
     },
     "metadata": {},
     "output_type": "display_data"
    },
    {
     "data": {
      "application/vnd.jupyter.widget-view+json": {
       "model_id": "ac4a052707794eb9ba3e8d7d6cf0ea3c",
       "version_major": 2,
       "version_minor": 0
      },
      "text/plain": [
       "Downloading:   0%|          | 0.00/190 [00:00<?, ?B/s]"
      ]
     },
     "metadata": {},
     "output_type": "display_data"
    },
    {
     "data": {
      "application/vnd.jupyter.widget-view+json": {
       "model_id": "15981da360b84481a71a3886bcd70278",
       "version_major": 2,
       "version_minor": 0
      },
      "text/plain": [
       "Downloading:   0%|          | 0.00/3.77k [00:00<?, ?B/s]"
      ]
     },
     "metadata": {},
     "output_type": "display_data"
    },
    {
     "data": {
      "application/vnd.jupyter.widget-view+json": {
       "model_id": "f4c8ba1fefff43c08c1f836453adff47",
       "version_major": 2,
       "version_minor": 0
      },
      "text/plain": [
       "Downloading:   0%|          | 0.00/723 [00:00<?, ?B/s]"
      ]
     },
     "metadata": {},
     "output_type": "display_data"
    },
    {
     "data": {
      "application/vnd.jupyter.widget-view+json": {
       "model_id": "8c0edbde975c4fd4bb6753ec68bcab56",
       "version_major": 2,
       "version_minor": 0
      },
      "text/plain": [
       "Downloading:   0%|          | 0.00/122 [00:00<?, ?B/s]"
      ]
     },
     "metadata": {},
     "output_type": "display_data"
    },
    {
     "data": {
      "application/vnd.jupyter.widget-view+json": {
       "model_id": "753a5de1088b413d97bd82d069f74397",
       "version_major": 2,
       "version_minor": 0
      },
      "text/plain": [
       "Downloading:   0%|          | 0.00/229 [00:00<?, ?B/s]"
      ]
     },
     "metadata": {},
     "output_type": "display_data"
    },
    {
     "data": {
      "application/vnd.jupyter.widget-view+json": {
       "model_id": "9778c539b0054c2fba426b0c4af3a1eb",
       "version_major": 2,
       "version_minor": 0
      },
      "text/plain": [
       "Downloading:   0%|          | 0.00/1.11G [00:00<?, ?B/s]"
      ]
     },
     "metadata": {},
     "output_type": "display_data"
    },
    {
     "data": {
      "application/vnd.jupyter.widget-view+json": {
       "model_id": "1c4d545b7b9d4013baad68dc614418de",
       "version_major": 2,
       "version_minor": 0
      },
      "text/plain": [
       "Downloading:   0%|          | 0.00/53.0 [00:00<?, ?B/s]"
      ]
     },
     "metadata": {},
     "output_type": "display_data"
    },
    {
     "data": {
      "application/vnd.jupyter.widget-view+json": {
       "model_id": "2c174c4b493e415c9c82cccb75ebe46a",
       "version_major": 2,
       "version_minor": 0
      },
      "text/plain": [
       "Downloading:   0%|          | 0.00/5.07M [00:00<?, ?B/s]"
      ]
     },
     "metadata": {},
     "output_type": "display_data"
    },
    {
     "data": {
      "application/vnd.jupyter.widget-view+json": {
       "model_id": "7fc2dbfb61854645823f0ff54e098574",
       "version_major": 2,
       "version_minor": 0
      },
      "text/plain": [
       "Downloading:   0%|          | 0.00/239 [00:00<?, ?B/s]"
      ]
     },
     "metadata": {},
     "output_type": "display_data"
    },
    {
     "data": {
      "application/vnd.jupyter.widget-view+json": {
       "model_id": "df4d4ee9d7ba4245876f1acb8e1dc760",
       "version_major": 2,
       "version_minor": 0
      },
      "text/plain": [
       "Downloading:   0%|          | 0.00/9.08M [00:00<?, ?B/s]"
      ]
     },
     "metadata": {},
     "output_type": "display_data"
    },
    {
     "data": {
      "application/vnd.jupyter.widget-view+json": {
       "model_id": "d1bd56df3ac64001b0f9f47ccf21a167",
       "version_major": 2,
       "version_minor": 0
      },
      "text/plain": [
       "Downloading:   0%|          | 0.00/402 [00:00<?, ?B/s]"
      ]
     },
     "metadata": {},
     "output_type": "display_data"
    },
    {
     "data": {
      "application/vnd.jupyter.widget-view+json": {
       "model_id": "0e7aba2edb1f4adb92a125e2e55b79c0",
       "version_major": 2,
       "version_minor": 0
      },
      "text/plain": [
       "Downloading:   0%|          | 0.00/391 [00:00<?, ?B/s]"
      ]
     },
     "metadata": {},
     "output_type": "display_data"
    },
    {
     "data": {
      "application/vnd.jupyter.widget-view+json": {
       "model_id": "16605a3b8b05478c8e94b276e72bd576",
       "version_major": 2,
       "version_minor": 0
      },
      "text/plain": [
       "Downloading:   0%|          | 0.00/190 [00:00<?, ?B/s]"
      ]
     },
     "metadata": {},
     "output_type": "display_data"
    },
    {
     "data": {
      "application/vnd.jupyter.widget-view+json": {
       "model_id": "08ac536d7aa54b7188346dc4e7b34fae",
       "version_major": 2,
       "version_minor": 0
      },
      "text/plain": [
       "Downloading:   0%|          | 0.00/114 [00:00<?, ?B/s]"
      ]
     },
     "metadata": {},
     "output_type": "display_data"
    },
    {
     "data": {
      "application/vnd.jupyter.widget-view+json": {
       "model_id": "1fb752c6865a43f89c5ba8d98b9307d5",
       "version_major": 2,
       "version_minor": 0
      },
      "text/plain": [
       "Downloading:   0%|          | 0.00/2.36M [00:00<?, ?B/s]"
      ]
     },
     "metadata": {},
     "output_type": "display_data"
    },
    {
     "data": {
      "application/vnd.jupyter.widget-view+json": {
       "model_id": "aefbfe5e01ba4905ba5bd364d80f1662",
       "version_major": 2,
       "version_minor": 0
      },
      "text/plain": [
       "Downloading:   0%|          | 0.00/1.62k [00:00<?, ?B/s]"
      ]
     },
     "metadata": {},
     "output_type": "display_data"
    },
    {
     "data": {
      "application/vnd.jupyter.widget-view+json": {
       "model_id": "177262e129c7407cae50a4b64a58d1f6",
       "version_major": 2,
       "version_minor": 0
      },
      "text/plain": [
       "Downloading:   0%|          | 0.00/804 [00:00<?, ?B/s]"
      ]
     },
     "metadata": {},
     "output_type": "display_data"
    },
    {
     "data": {
      "application/vnd.jupyter.widget-view+json": {
       "model_id": "56abc4a1ea4a4bd698cae8af9e53a36b",
       "version_major": 2,
       "version_minor": 0
      },
      "text/plain": [
       "Downloading:   0%|          | 0.00/122 [00:00<?, ?B/s]"
      ]
     },
     "metadata": {},
     "output_type": "display_data"
    },
    {
     "data": {
      "application/vnd.jupyter.widget-view+json": {
       "model_id": "578315341ca2438f87c36fd84f533084",
       "version_major": 2,
       "version_minor": 0
      },
      "text/plain": [
       "Downloading:   0%|          | 0.00/461 [00:00<?, ?B/s]"
      ]
     },
     "metadata": {},
     "output_type": "display_data"
    },
    {
     "data": {
      "application/vnd.jupyter.widget-view+json": {
       "model_id": "e321057696354fe0af05878e69a0329b",
       "version_major": 2,
       "version_minor": 0
      },
      "text/plain": [
       "Downloading:   0%|          | 0.00/1.88G [00:00<?, ?B/s]"
      ]
     },
     "metadata": {},
     "output_type": "display_data"
    },
    {
     "data": {
      "application/vnd.jupyter.widget-view+json": {
       "model_id": "2ee1e11741114857a5e1a5b1d2f4e34b",
       "version_major": 2,
       "version_minor": 0
      },
      "text/plain": [
       "Downloading:   0%|          | 0.00/53.0 [00:00<?, ?B/s]"
      ]
     },
     "metadata": {},
     "output_type": "display_data"
    },
    {
     "data": {
      "application/vnd.jupyter.widget-view+json": {
       "model_id": "ff13ff09bf1d4472b25676caf0b37daa",
       "version_major": 2,
       "version_minor": 0
      },
      "text/plain": [
       "Downloading:   0%|          | 0.00/112 [00:00<?, ?B/s]"
      ]
     },
     "metadata": {},
     "output_type": "display_data"
    },
    {
     "data": {
      "application/vnd.jupyter.widget-view+json": {
       "model_id": "907b9edd0fbd434580121d32d55e4488",
       "version_major": 2,
       "version_minor": 0
      },
      "text/plain": [
       "Downloading:   0%|          | 0.00/9.62M [00:00<?, ?B/s]"
      ]
     },
     "metadata": {},
     "output_type": "display_data"
    },
    {
     "data": {
      "application/vnd.jupyter.widget-view+json": {
       "model_id": "da977d2cc57e48899270548d6bb34c1f",
       "version_major": 2,
       "version_minor": 0
      },
      "text/plain": [
       "Downloading:   0%|          | 0.00/411 [00:00<?, ?B/s]"
      ]
     },
     "metadata": {},
     "output_type": "display_data"
    },
    {
     "data": {
      "application/vnd.jupyter.widget-view+json": {
       "model_id": "bd0903720bc847c2980fb2eb7abb73e9",
       "version_major": 2,
       "version_minor": 0
      },
      "text/plain": [
       "Downloading:   0%|          | 0.00/5.22M [00:00<?, ?B/s]"
      ]
     },
     "metadata": {},
     "output_type": "display_data"
    }
   ],
   "source": [
    "distil_use_v1 = SentenceTransformer(\"distiluse-base-multilingual-cased-v1\")\n",
    "distil_use_v2 = SentenceTransformer(\"distiluse-base-multilingual-cased-v2\")\n",
    "minilm = SentenceTransformer(\"paraphrase-multilingual-MiniLM-L12-v2\")\n",
    "mpnet = SentenceTransformer(\"paraphrase-multilingual-mpnet-base-v2\")\n",
    "labse = SentenceTransformer(\"LaBSE\")"
   ]
  },
  {
   "cell_type": "markdown",
   "id": "56ad4a6b-d860-48ab-92e8-49812e548c77",
   "metadata": {},
   "source": [
    "The quality of embeddings which I've used were evaluated [here](https://habr.com/ru/post/669674/) by David Dale.  \n",
    "Almost all of them are at the top average performance on sentence tasks, so for now I will limit the analysis to them."
   ]
  },
  {
   "cell_type": "code",
   "execution_count": 28,
   "id": "387aa3a9-311e-4c4f-bd3a-c29430fa1840",
   "metadata": {},
   "outputs": [],
   "source": [
    "models = {\n",
    "    \"distiluse-base-multilingual-cased-v1\": distil_use_v1,\n",
    "    \"distiluse-base-multilingual-cased-v2\": distil_use_v2,\n",
    "    \"paraphrase-multilingual-MiniLM-L12-v2\": minilm,\n",
    "    \"paraphrase-multilingual-mpnet-base-v2\": mpnet,\n",
    "    \"LaBSE\": labse,\n",
    "}"
   ]
  },
  {
   "cell_type": "markdown",
   "id": "9cf50a26-66e7-4169-a558-098c6d386ea5",
   "metadata": {},
   "source": [
    "### Sanity check"
   ]
  },
  {
   "cell_type": "markdown",
   "id": "3dc10abd-aa36-4345-806e-a5898faf3e5a",
   "metadata": {},
   "source": [
    "Before moving on I'd like to check the sanity of the models - assess how well they predict the similarity between Russian and original titles"
   ]
  },
  {
   "cell_type": "code",
   "execution_count": 29,
   "id": "c6f4a3e3-6f17-4610-99a5-86a739442fb0",
   "metadata": {},
   "outputs": [
    {
     "name": "stdout",
     "output_type": "stream",
     "text": [
      "distiluse-base-multilingual-cased-v1\n"
     ]
    },
    {
     "data": {
      "text/html": [
       "<div>\n",
       "<style scoped>\n",
       "    .dataframe tbody tr th:only-of-type {\n",
       "        vertical-align: middle;\n",
       "    }\n",
       "\n",
       "    .dataframe tbody tr th {\n",
       "        vertical-align: top;\n",
       "    }\n",
       "\n",
       "    .dataframe thead th {\n",
       "        text-align: right;\n",
       "    }\n",
       "</style>\n",
       "<table border=\"1\" class=\"dataframe\">\n",
       "  <thead>\n",
       "    <tr style=\"text-align: right;\">\n",
       "      <th></th>\n",
       "      <th>russian_title</th>\n",
       "      <th>original_title</th>\n",
       "      <th>similarity</th>\n",
       "    </tr>\n",
       "  </thead>\n",
       "  <tbody>\n",
       "    <tr>\n",
       "      <th>609</th>\n",
       "      <td>Схватка</td>\n",
       "      <td>Heat</td>\n",
       "      <td>0.501</td>\n",
       "    </tr>\n",
       "    <tr>\n",
       "      <th>539</th>\n",
       "      <td>Преступления будущего</td>\n",
       "      <td>Crimes of the Future</td>\n",
       "      <td>0.962</td>\n",
       "    </tr>\n",
       "    <tr>\n",
       "      <th>694</th>\n",
       "      <td>Чёрная Пантера</td>\n",
       "      <td>Black Panther</td>\n",
       "      <td>0.918</td>\n",
       "    </tr>\n",
       "    <tr>\n",
       "      <th>350</th>\n",
       "      <td>Лицо со шрамом</td>\n",
       "      <td>Scarface</td>\n",
       "      <td>0.714</td>\n",
       "    </tr>\n",
       "    <tr>\n",
       "      <th>174</th>\n",
       "      <td>Далласский клуб покупателей</td>\n",
       "      <td>Dallas Buyers Club</td>\n",
       "      <td>0.794</td>\n",
       "    </tr>\n",
       "    <tr>\n",
       "      <th>81</th>\n",
       "      <td>Бун</td>\n",
       "      <td>Boon</td>\n",
       "      <td>0.926</td>\n",
       "    </tr>\n",
       "    <tr>\n",
       "      <th>355</th>\n",
       "      <td>Лулу и Бриггс</td>\n",
       "      <td>Dog</td>\n",
       "      <td>0.299</td>\n",
       "    </tr>\n",
       "    <tr>\n",
       "      <th>424</th>\n",
       "      <td>Не смотрите наверх</td>\n",
       "      <td>Don't Look Up</td>\n",
       "      <td>0.653</td>\n",
       "    </tr>\n",
       "    <tr>\n",
       "      <th>523</th>\n",
       "      <td>Полынь: Дорога мёртвых</td>\n",
       "      <td>Wyrmwood</td>\n",
       "      <td>0.207</td>\n",
       "    </tr>\n",
       "    <tr>\n",
       "      <th>617</th>\n",
       "      <td>Те, кто желает мне смерти</td>\n",
       "      <td>Those Who Wish Me Dead</td>\n",
       "      <td>0.889</td>\n",
       "    </tr>\n",
       "  </tbody>\n",
       "</table>\n",
       "</div>"
      ],
      "text/plain": [
       "                   russian_title          original_title  similarity\n",
       "609                      Схватка                    Heat       0.501\n",
       "539        Преступления будущего    Crimes of the Future       0.962\n",
       "694               Чёрная Пантера           Black Panther       0.918\n",
       "350               Лицо со шрамом                Scarface       0.714\n",
       "174  Далласский клуб покупателей      Dallas Buyers Club       0.794\n",
       "81                           Бун                    Boon       0.926\n",
       "355                Лулу и Бриггс                     Dog       0.299\n",
       "424           Не смотрите наверх           Don't Look Up       0.653\n",
       "523       Полынь: Дорога мёртвых                Wyrmwood       0.207\n",
       "617    Те, кто желает мне смерти  Those Who Wish Me Dead       0.889"
      ]
     },
     "metadata": {},
     "output_type": "display_data"
    },
    {
     "name": "stdout",
     "output_type": "stream",
     "text": [
      "\n",
      "\n",
      "distiluse-base-multilingual-cased-v2\n"
     ]
    },
    {
     "data": {
      "text/html": [
       "<div>\n",
       "<style scoped>\n",
       "    .dataframe tbody tr th:only-of-type {\n",
       "        vertical-align: middle;\n",
       "    }\n",
       "\n",
       "    .dataframe tbody tr th {\n",
       "        vertical-align: top;\n",
       "    }\n",
       "\n",
       "    .dataframe thead th {\n",
       "        text-align: right;\n",
       "    }\n",
       "</style>\n",
       "<table border=\"1\" class=\"dataframe\">\n",
       "  <thead>\n",
       "    <tr style=\"text-align: right;\">\n",
       "      <th></th>\n",
       "      <th>russian_title</th>\n",
       "      <th>original_title</th>\n",
       "      <th>similarity</th>\n",
       "    </tr>\n",
       "  </thead>\n",
       "  <tbody>\n",
       "    <tr>\n",
       "      <th>609</th>\n",
       "      <td>Схватка</td>\n",
       "      <td>Heat</td>\n",
       "      <td>0.543</td>\n",
       "    </tr>\n",
       "    <tr>\n",
       "      <th>539</th>\n",
       "      <td>Преступления будущего</td>\n",
       "      <td>Crimes of the Future</td>\n",
       "      <td>0.968</td>\n",
       "    </tr>\n",
       "    <tr>\n",
       "      <th>694</th>\n",
       "      <td>Чёрная Пантера</td>\n",
       "      <td>Black Panther</td>\n",
       "      <td>0.824</td>\n",
       "    </tr>\n",
       "    <tr>\n",
       "      <th>350</th>\n",
       "      <td>Лицо со шрамом</td>\n",
       "      <td>Scarface</td>\n",
       "      <td>0.712</td>\n",
       "    </tr>\n",
       "    <tr>\n",
       "      <th>174</th>\n",
       "      <td>Далласский клуб покупателей</td>\n",
       "      <td>Dallas Buyers Club</td>\n",
       "      <td>0.763</td>\n",
       "    </tr>\n",
       "    <tr>\n",
       "      <th>81</th>\n",
       "      <td>Бун</td>\n",
       "      <td>Boon</td>\n",
       "      <td>0.902</td>\n",
       "    </tr>\n",
       "    <tr>\n",
       "      <th>355</th>\n",
       "      <td>Лулу и Бриггс</td>\n",
       "      <td>Dog</td>\n",
       "      <td>0.329</td>\n",
       "    </tr>\n",
       "    <tr>\n",
       "      <th>424</th>\n",
       "      <td>Не смотрите наверх</td>\n",
       "      <td>Don't Look Up</td>\n",
       "      <td>0.751</td>\n",
       "    </tr>\n",
       "    <tr>\n",
       "      <th>523</th>\n",
       "      <td>Полынь: Дорога мёртвых</td>\n",
       "      <td>Wyrmwood</td>\n",
       "      <td>0.164</td>\n",
       "    </tr>\n",
       "    <tr>\n",
       "      <th>617</th>\n",
       "      <td>Те, кто желает мне смерти</td>\n",
       "      <td>Those Who Wish Me Dead</td>\n",
       "      <td>0.915</td>\n",
       "    </tr>\n",
       "  </tbody>\n",
       "</table>\n",
       "</div>"
      ],
      "text/plain": [
       "                   russian_title          original_title  similarity\n",
       "609                      Схватка                    Heat       0.543\n",
       "539        Преступления будущего    Crimes of the Future       0.968\n",
       "694               Чёрная Пантера           Black Panther       0.824\n",
       "350               Лицо со шрамом                Scarface       0.712\n",
       "174  Далласский клуб покупателей      Dallas Buyers Club       0.763\n",
       "81                           Бун                    Boon       0.902\n",
       "355                Лулу и Бриггс                     Dog       0.329\n",
       "424           Не смотрите наверх           Don't Look Up       0.751\n",
       "523       Полынь: Дорога мёртвых                Wyrmwood       0.164\n",
       "617    Те, кто желает мне смерти  Those Who Wish Me Dead       0.915"
      ]
     },
     "metadata": {},
     "output_type": "display_data"
    },
    {
     "name": "stdout",
     "output_type": "stream",
     "text": [
      "\n",
      "\n",
      "paraphrase-multilingual-MiniLM-L12-v2\n"
     ]
    },
    {
     "data": {
      "text/html": [
       "<div>\n",
       "<style scoped>\n",
       "    .dataframe tbody tr th:only-of-type {\n",
       "        vertical-align: middle;\n",
       "    }\n",
       "\n",
       "    .dataframe tbody tr th {\n",
       "        vertical-align: top;\n",
       "    }\n",
       "\n",
       "    .dataframe thead th {\n",
       "        text-align: right;\n",
       "    }\n",
       "</style>\n",
       "<table border=\"1\" class=\"dataframe\">\n",
       "  <thead>\n",
       "    <tr style=\"text-align: right;\">\n",
       "      <th></th>\n",
       "      <th>russian_title</th>\n",
       "      <th>original_title</th>\n",
       "      <th>similarity</th>\n",
       "    </tr>\n",
       "  </thead>\n",
       "  <tbody>\n",
       "    <tr>\n",
       "      <th>609</th>\n",
       "      <td>Схватка</td>\n",
       "      <td>Heat</td>\n",
       "      <td>0.365</td>\n",
       "    </tr>\n",
       "    <tr>\n",
       "      <th>539</th>\n",
       "      <td>Преступления будущего</td>\n",
       "      <td>Crimes of the Future</td>\n",
       "      <td>0.974</td>\n",
       "    </tr>\n",
       "    <tr>\n",
       "      <th>694</th>\n",
       "      <td>Чёрная Пантера</td>\n",
       "      <td>Black Panther</td>\n",
       "      <td>0.936</td>\n",
       "    </tr>\n",
       "    <tr>\n",
       "      <th>350</th>\n",
       "      <td>Лицо со шрамом</td>\n",
       "      <td>Scarface</td>\n",
       "      <td>0.694</td>\n",
       "    </tr>\n",
       "    <tr>\n",
       "      <th>174</th>\n",
       "      <td>Далласский клуб покупателей</td>\n",
       "      <td>Dallas Buyers Club</td>\n",
       "      <td>0.839</td>\n",
       "    </tr>\n",
       "    <tr>\n",
       "      <th>81</th>\n",
       "      <td>Бун</td>\n",
       "      <td>Boon</td>\n",
       "      <td>0.762</td>\n",
       "    </tr>\n",
       "    <tr>\n",
       "      <th>355</th>\n",
       "      <td>Лулу и Бриггс</td>\n",
       "      <td>Dog</td>\n",
       "      <td>0.361</td>\n",
       "    </tr>\n",
       "    <tr>\n",
       "      <th>424</th>\n",
       "      <td>Не смотрите наверх</td>\n",
       "      <td>Don't Look Up</td>\n",
       "      <td>0.931</td>\n",
       "    </tr>\n",
       "    <tr>\n",
       "      <th>523</th>\n",
       "      <td>Полынь: Дорога мёртвых</td>\n",
       "      <td>Wyrmwood</td>\n",
       "      <td>0.361</td>\n",
       "    </tr>\n",
       "    <tr>\n",
       "      <th>617</th>\n",
       "      <td>Те, кто желает мне смерти</td>\n",
       "      <td>Those Who Wish Me Dead</td>\n",
       "      <td>0.921</td>\n",
       "    </tr>\n",
       "  </tbody>\n",
       "</table>\n",
       "</div>"
      ],
      "text/plain": [
       "                   russian_title          original_title  similarity\n",
       "609                      Схватка                    Heat       0.365\n",
       "539        Преступления будущего    Crimes of the Future       0.974\n",
       "694               Чёрная Пантера           Black Panther       0.936\n",
       "350               Лицо со шрамом                Scarface       0.694\n",
       "174  Далласский клуб покупателей      Dallas Buyers Club       0.839\n",
       "81                           Бун                    Boon       0.762\n",
       "355                Лулу и Бриггс                     Dog       0.361\n",
       "424           Не смотрите наверх           Don't Look Up       0.931\n",
       "523       Полынь: Дорога мёртвых                Wyrmwood       0.361\n",
       "617    Те, кто желает мне смерти  Those Who Wish Me Dead       0.921"
      ]
     },
     "metadata": {},
     "output_type": "display_data"
    },
    {
     "name": "stdout",
     "output_type": "stream",
     "text": [
      "\n",
      "\n",
      "paraphrase-multilingual-mpnet-base-v2\n"
     ]
    },
    {
     "data": {
      "text/html": [
       "<div>\n",
       "<style scoped>\n",
       "    .dataframe tbody tr th:only-of-type {\n",
       "        vertical-align: middle;\n",
       "    }\n",
       "\n",
       "    .dataframe tbody tr th {\n",
       "        vertical-align: top;\n",
       "    }\n",
       "\n",
       "    .dataframe thead th {\n",
       "        text-align: right;\n",
       "    }\n",
       "</style>\n",
       "<table border=\"1\" class=\"dataframe\">\n",
       "  <thead>\n",
       "    <tr style=\"text-align: right;\">\n",
       "      <th></th>\n",
       "      <th>russian_title</th>\n",
       "      <th>original_title</th>\n",
       "      <th>similarity</th>\n",
       "    </tr>\n",
       "  </thead>\n",
       "  <tbody>\n",
       "    <tr>\n",
       "      <th>609</th>\n",
       "      <td>Схватка</td>\n",
       "      <td>Heat</td>\n",
       "      <td>0.348</td>\n",
       "    </tr>\n",
       "    <tr>\n",
       "      <th>539</th>\n",
       "      <td>Преступления будущего</td>\n",
       "      <td>Crimes of the Future</td>\n",
       "      <td>0.972</td>\n",
       "    </tr>\n",
       "    <tr>\n",
       "      <th>694</th>\n",
       "      <td>Чёрная Пантера</td>\n",
       "      <td>Black Panther</td>\n",
       "      <td>0.942</td>\n",
       "    </tr>\n",
       "    <tr>\n",
       "      <th>350</th>\n",
       "      <td>Лицо со шрамом</td>\n",
       "      <td>Scarface</td>\n",
       "      <td>0.662</td>\n",
       "    </tr>\n",
       "    <tr>\n",
       "      <th>174</th>\n",
       "      <td>Далласский клуб покупателей</td>\n",
       "      <td>Dallas Buyers Club</td>\n",
       "      <td>0.772</td>\n",
       "    </tr>\n",
       "    <tr>\n",
       "      <th>81</th>\n",
       "      <td>Бун</td>\n",
       "      <td>Boon</td>\n",
       "      <td>0.765</td>\n",
       "    </tr>\n",
       "    <tr>\n",
       "      <th>355</th>\n",
       "      <td>Лулу и Бриггс</td>\n",
       "      <td>Dog</td>\n",
       "      <td>0.347</td>\n",
       "    </tr>\n",
       "    <tr>\n",
       "      <th>424</th>\n",
       "      <td>Не смотрите наверх</td>\n",
       "      <td>Don't Look Up</td>\n",
       "      <td>0.907</td>\n",
       "    </tr>\n",
       "    <tr>\n",
       "      <th>523</th>\n",
       "      <td>Полынь: Дорога мёртвых</td>\n",
       "      <td>Wyrmwood</td>\n",
       "      <td>0.488</td>\n",
       "    </tr>\n",
       "    <tr>\n",
       "      <th>617</th>\n",
       "      <td>Те, кто желает мне смерти</td>\n",
       "      <td>Those Who Wish Me Dead</td>\n",
       "      <td>0.891</td>\n",
       "    </tr>\n",
       "  </tbody>\n",
       "</table>\n",
       "</div>"
      ],
      "text/plain": [
       "                   russian_title          original_title  similarity\n",
       "609                      Схватка                    Heat       0.348\n",
       "539        Преступления будущего    Crimes of the Future       0.972\n",
       "694               Чёрная Пантера           Black Panther       0.942\n",
       "350               Лицо со шрамом                Scarface       0.662\n",
       "174  Далласский клуб покупателей      Dallas Buyers Club       0.772\n",
       "81                           Бун                    Boon       0.765\n",
       "355                Лулу и Бриггс                     Dog       0.347\n",
       "424           Не смотрите наверх           Don't Look Up       0.907\n",
       "523       Полынь: Дорога мёртвых                Wyrmwood       0.488\n",
       "617    Те, кто желает мне смерти  Those Who Wish Me Dead       0.891"
      ]
     },
     "metadata": {},
     "output_type": "display_data"
    },
    {
     "name": "stdout",
     "output_type": "stream",
     "text": [
      "\n",
      "\n",
      "LaBSE\n"
     ]
    },
    {
     "data": {
      "text/html": [
       "<div>\n",
       "<style scoped>\n",
       "    .dataframe tbody tr th:only-of-type {\n",
       "        vertical-align: middle;\n",
       "    }\n",
       "\n",
       "    .dataframe tbody tr th {\n",
       "        vertical-align: top;\n",
       "    }\n",
       "\n",
       "    .dataframe thead th {\n",
       "        text-align: right;\n",
       "    }\n",
       "</style>\n",
       "<table border=\"1\" class=\"dataframe\">\n",
       "  <thead>\n",
       "    <tr style=\"text-align: right;\">\n",
       "      <th></th>\n",
       "      <th>russian_title</th>\n",
       "      <th>original_title</th>\n",
       "      <th>similarity</th>\n",
       "    </tr>\n",
       "  </thead>\n",
       "  <tbody>\n",
       "    <tr>\n",
       "      <th>609</th>\n",
       "      <td>Схватка</td>\n",
       "      <td>Heat</td>\n",
       "      <td>0.592</td>\n",
       "    </tr>\n",
       "    <tr>\n",
       "      <th>539</th>\n",
       "      <td>Преступления будущего</td>\n",
       "      <td>Crimes of the Future</td>\n",
       "      <td>0.971</td>\n",
       "    </tr>\n",
       "    <tr>\n",
       "      <th>694</th>\n",
       "      <td>Чёрная Пантера</td>\n",
       "      <td>Black Panther</td>\n",
       "      <td>0.926</td>\n",
       "    </tr>\n",
       "    <tr>\n",
       "      <th>350</th>\n",
       "      <td>Лицо со шрамом</td>\n",
       "      <td>Scarface</td>\n",
       "      <td>0.569</td>\n",
       "    </tr>\n",
       "    <tr>\n",
       "      <th>174</th>\n",
       "      <td>Далласский клуб покупателей</td>\n",
       "      <td>Dallas Buyers Club</td>\n",
       "      <td>0.878</td>\n",
       "    </tr>\n",
       "    <tr>\n",
       "      <th>81</th>\n",
       "      <td>Бун</td>\n",
       "      <td>Boon</td>\n",
       "      <td>0.652</td>\n",
       "    </tr>\n",
       "    <tr>\n",
       "      <th>355</th>\n",
       "      <td>Лулу и Бриггс</td>\n",
       "      <td>Dog</td>\n",
       "      <td>0.277</td>\n",
       "    </tr>\n",
       "    <tr>\n",
       "      <th>424</th>\n",
       "      <td>Не смотрите наверх</td>\n",
       "      <td>Don't Look Up</td>\n",
       "      <td>0.922</td>\n",
       "    </tr>\n",
       "    <tr>\n",
       "      <th>523</th>\n",
       "      <td>Полынь: Дорога мёртвых</td>\n",
       "      <td>Wyrmwood</td>\n",
       "      <td>0.282</td>\n",
       "    </tr>\n",
       "    <tr>\n",
       "      <th>617</th>\n",
       "      <td>Те, кто желает мне смерти</td>\n",
       "      <td>Those Who Wish Me Dead</td>\n",
       "      <td>0.940</td>\n",
       "    </tr>\n",
       "  </tbody>\n",
       "</table>\n",
       "</div>"
      ],
      "text/plain": [
       "                   russian_title          original_title  similarity\n",
       "609                      Схватка                    Heat       0.592\n",
       "539        Преступления будущего    Crimes of the Future       0.971\n",
       "694               Чёрная Пантера           Black Panther       0.926\n",
       "350               Лицо со шрамом                Scarface       0.569\n",
       "174  Далласский клуб покупателей      Dallas Buyers Club       0.878\n",
       "81                           Бун                    Boon       0.652\n",
       "355                Лулу и Бриггс                     Dog       0.277\n",
       "424           Не смотрите наверх           Don't Look Up       0.922\n",
       "523       Полынь: Дорога мёртвых                Wyrmwood       0.282\n",
       "617    Те, кто желает мне смерти  Those Who Wish Me Dead       0.940"
      ]
     },
     "metadata": {},
     "output_type": "display_data"
    },
    {
     "name": "stdout",
     "output_type": "stream",
     "text": [
      "\n",
      "\n"
     ]
    }
   ],
   "source": [
    "similarities = {}\n",
    "for model_name, model in models.items():\n",
    "    similarity_df = get_similarity_dataframe(model, russian_titles, original_titles)\n",
    "    similarities[model_name] = similarity_df[\"similarity\"]\n",
    "\n",
    "    print(model_name)\n",
    "\n",
    "    with pd.option_context(\"display.max_rows\", None, \"display.max_columns\", None):\n",
    "        display(similarity_df.sample(10, random_state=SEED))\n",
    "        \n",
    "    print(\"\\n\")"
   ]
  },
  {
   "cell_type": "markdown",
   "id": "0e176070-94e8-49eb-9923-789abff9dd75",
   "metadata": {},
   "source": [
    "They seem to work fine, but their results vary. "
   ]
  },
  {
   "cell_type": "markdown",
   "id": "a5ae34ff-2ef3-4a3e-8459-aec2cbde6188",
   "metadata": {},
   "source": [
    "### Calculating single similarity score"
   ]
  },
  {
   "cell_type": "markdown",
   "id": "1755c473-a5ab-4ef4-a871-f286b8d31fec",
   "metadata": {},
   "source": [
    "What if we calculate median similarity between all the models.  \n",
    "Can this approach give us better overall performance?"
   ]
  },
  {
   "cell_type": "code",
   "execution_count": 30,
   "id": "6336a470-58d3-405e-83ec-44d6c0791821",
   "metadata": {},
   "outputs": [],
   "source": [
    "similarity_df.drop(\"similarity\", axis=1, inplace=True, errors=\"ignore\")\n",
    "\n",
    "for model_name, similarity_col in similarities.items():\n",
    "    similarity_df[model_name] = similarity_col\n",
    "\n",
    "similarity_df.insert(2, \"median_sim\", similarity_df[similarities.keys()].median(axis=1))"
   ]
  },
  {
   "cell_type": "markdown",
   "id": "24452595-a958-4c4e-8c93-4d441f3af101",
   "metadata": {},
   "source": [
    "## Results"
   ]
  },
  {
   "cell_type": "markdown",
   "id": "874084f6-11ae-465a-9c58-0d6d6001e4a7",
   "metadata": {},
   "source": [
    "### Title similarity"
   ]
  },
  {
   "cell_type": "code",
   "execution_count": 31,
   "id": "2ce4b845-2ea4-457f-8f85-a14bbf757ce2",
   "metadata": {},
   "outputs": [
    {
     "data": {
      "image/png": "[encoded data removed]",
      "text/plain": [
       "<Figure size 1200x600 with 2 Axes>"
      ]
     },
     "metadata": {
      "image/png": {
       "height": 509,
       "width": 1005
      }
     },
     "output_type": "display_data"
    }
   ],
   "source": [
    "similarities = similarity_df[\"median_sim\"].values\n",
    "\n",
    "f, (ax_box, ax_hist) = plt.subplots(\n",
    "    2, sharex=True, gridspec_kw={\"height_ratios\": (0.20, 0.80)}, figsize=(12, 6)\n",
    ")\n",
    "\n",
    "sns.boxplot(x=similarities, ax=ax_box)\n",
    "sns.kdeplot(\n",
    "    x=similarities,\n",
    "    ax=ax_hist,\n",
    "    fill=True,\n",
    "    common_norm=False,\n",
    "    palette=\"crest\",\n",
    "    alpha=0.5,\n",
    "    linewidth=0,\n",
    ")\n",
    "\n",
    "ax_box.set(yticks=[])\n",
    "ax_hist.set(title=None)\n",
    "\n",
    "sns.despine(ax=ax_hist)\n",
    "sns.despine(ax=ax_box, left=True)"
   ]
  },
  {
   "cell_type": "code",
   "execution_count": 32,
   "id": "1e6d5871-4ffc-49ae-8918-f1c7db1d5b56",
   "metadata": {},
   "outputs": [
    {
     "data": {
      "text/plain": [
       "count    744.00\n",
       "mean       0.73\n",
       "std        0.20\n",
       "min        0.14\n",
       "25%        0.61\n",
       "50%        0.78\n",
       "75%        0.89\n",
       "max        1.00\n",
       "Name: median_sim, dtype: float64"
      ]
     },
     "execution_count": 32,
     "metadata": {},
     "output_type": "execute_result"
    }
   ],
   "source": [
    "similarity_df[\"median_sim\"].describe().round(2)"
   ]
  },
  {
   "cell_type": "markdown",
   "id": "6965940f-4688-4657-81df-63f763ce2ffe",
   "metadata": {},
   "source": [
    "We can see that the title similarity distribution skewed left. And it answers our first question."
   ]
  },
  {
   "cell_type": "markdown",
   "id": "73de9c9a-32f5-4d2e-84dc-9294b75fc916",
   "metadata": {},
   "source": [
    "### Dissimilar titles"
   ]
  },
  {
   "cell_type": "markdown",
   "id": "81aa56c6-9361-484e-a0c4-0e0e782c70ba",
   "metadata": {},
   "source": [
    "Let's look at titles for which Russian translations doesn't convey meaning of the original name. "
   ]
  },
  {
   "cell_type": "code",
   "execution_count": 33,
   "id": "a12bf472-cc45-4016-8c22-564c6090ae30",
   "metadata": {},
   "outputs": [
    {
     "data": {
      "text/html": [
       "<div>\n",
       "<style scoped>\n",
       "    .dataframe tbody tr th:only-of-type {\n",
       "        vertical-align: middle;\n",
       "    }\n",
       "\n",
       "    .dataframe tbody tr th {\n",
       "        vertical-align: top;\n",
       "    }\n",
       "\n",
       "    .dataframe thead th {\n",
       "        text-align: right;\n",
       "    }\n",
       "</style>\n",
       "<table border=\"1\" class=\"dataframe\">\n",
       "  <thead>\n",
       "    <tr style=\"text-align: right;\">\n",
       "      <th></th>\n",
       "      <th>russian_title</th>\n",
       "      <th>original_title</th>\n",
       "      <th>median_sim</th>\n",
       "    </tr>\n",
       "  </thead>\n",
       "  <tbody>\n",
       "    <tr>\n",
       "      <th>454</th>\n",
       "      <td>Одинокий волк</td>\n",
       "      <td>Clean</td>\n",
       "      <td>0.144</td>\n",
       "    </tr>\n",
       "    <tr>\n",
       "      <th>704</th>\n",
       "      <td>Человек, который изменил всё</td>\n",
       "      <td>Moneyball</td>\n",
       "      <td>0.157</td>\n",
       "    </tr>\n",
       "    <tr>\n",
       "      <th>74</th>\n",
       "      <td>Борат</td>\n",
       "      <td>Borat: Cultural Learnings of America for Make ...</td>\n",
       "      <td>0.172</td>\n",
       "    </tr>\n",
       "    <tr>\n",
       "      <th>456</th>\n",
       "      <td>Однажды в Ирландии</td>\n",
       "      <td>The Guard</td>\n",
       "      <td>0.182</td>\n",
       "    </tr>\n",
       "    <tr>\n",
       "      <th>665</th>\n",
       "      <td>Философы: Урок выживания</td>\n",
       "      <td>After the Dark</td>\n",
       "      <td>0.188</td>\n",
       "    </tr>\n",
       "    <tr>\n",
       "      <th>575</th>\n",
       "      <td>Самый пьяный округ в мире</td>\n",
       "      <td>Lawless</td>\n",
       "      <td>0.189</td>\n",
       "    </tr>\n",
       "    <tr>\n",
       "      <th>508</th>\n",
       "      <td>По соображениям совести</td>\n",
       "      <td>Hacksaw Ridge</td>\n",
       "      <td>0.192</td>\n",
       "    </tr>\n",
       "    <tr>\n",
       "      <th>267</th>\n",
       "      <td>И грянул шторм</td>\n",
       "      <td>The Finest Hours</td>\n",
       "      <td>0.214</td>\n",
       "    </tr>\n",
       "    <tr>\n",
       "      <th>403</th>\n",
       "      <td>Монстры на каникулах</td>\n",
       "      <td>Hotel Transylvania</td>\n",
       "      <td>0.220</td>\n",
       "    </tr>\n",
       "    <tr>\n",
       "      <th>97</th>\n",
       "      <td>Ведьма</td>\n",
       "      <td>The VVitch: A New-England Folktale</td>\n",
       "      <td>0.220</td>\n",
       "    </tr>\n",
       "    <tr>\n",
       "      <th>436</th>\n",
       "      <td>Нефть</td>\n",
       "      <td>There Will Be Blood</td>\n",
       "      <td>0.229</td>\n",
       "    </tr>\n",
       "    <tr>\n",
       "      <th>426</th>\n",
       "      <td>Невероятный мир глазами Энцо</td>\n",
       "      <td>The Art of Racing in the Rain</td>\n",
       "      <td>0.229</td>\n",
       "    </tr>\n",
       "    <tr>\n",
       "      <th>378</th>\n",
       "      <td>Мальчишник в Вегасе</td>\n",
       "      <td>The Hangover</td>\n",
       "      <td>0.231</td>\n",
       "    </tr>\n",
       "    <tr>\n",
       "      <th>182</th>\n",
       "      <td>День курка</td>\n",
       "      <td>Boss Level</td>\n",
       "      <td>0.234</td>\n",
       "    </tr>\n",
       "    <tr>\n",
       "      <th>0</th>\n",
       "      <td>1+1</td>\n",
       "      <td>Intouchables</td>\n",
       "      <td>0.235</td>\n",
       "    </tr>\n",
       "    <tr>\n",
       "      <th>654</th>\n",
       "      <td>Убойные каникулы</td>\n",
       "      <td>Tucker and Dale vs Evil</td>\n",
       "      <td>0.236</td>\n",
       "    </tr>\n",
       "    <tr>\n",
       "      <th>79</th>\n",
       "      <td>Бриллиантовый полицейский</td>\n",
       "      <td>Blue Streak</td>\n",
       "      <td>0.237</td>\n",
       "    </tr>\n",
       "    <tr>\n",
       "      <th>102</th>\n",
       "      <td>Веном 2</td>\n",
       "      <td>Venom: Let There Be Carnage</td>\n",
       "      <td>0.240</td>\n",
       "    </tr>\n",
       "    <tr>\n",
       "      <th>150</th>\n",
       "      <td>Гарри Хафт: Последний бой</td>\n",
       "      <td>The Survivor</td>\n",
       "      <td>0.241</td>\n",
       "    </tr>\n",
       "    <tr>\n",
       "      <th>402</th>\n",
       "      <td>Монстро</td>\n",
       "      <td>Cloverfield</td>\n",
       "      <td>0.244</td>\n",
       "    </tr>\n",
       "    <tr>\n",
       "      <th>280</th>\n",
       "      <td>Иллюзия обмана</td>\n",
       "      <td>Now You See Me</td>\n",
       "      <td>0.252</td>\n",
       "    </tr>\n",
       "    <tr>\n",
       "      <th>505</th>\n",
       "      <td>Плутовство</td>\n",
       "      <td>Wag the Dog</td>\n",
       "      <td>0.257</td>\n",
       "    </tr>\n",
       "    <tr>\n",
       "      <th>242</th>\n",
       "      <td>Заклятье: Спуск к дьяволу</td>\n",
       "      <td>The Cellar</td>\n",
       "      <td>0.262</td>\n",
       "    </tr>\n",
       "    <tr>\n",
       "      <th>49</th>\n",
       "      <td>Аферистка</td>\n",
       "      <td>I Care a Lot</td>\n",
       "      <td>0.273</td>\n",
       "    </tr>\n",
       "    <tr>\n",
       "      <th>446</th>\n",
       "      <td>Области тьмы</td>\n",
       "      <td>Limitless</td>\n",
       "      <td>0.275</td>\n",
       "    </tr>\n",
       "    <tr>\n",
       "      <th>117</th>\n",
       "      <td>Во всё тяжкое</td>\n",
       "      <td>The Professor</td>\n",
       "      <td>0.278</td>\n",
       "    </tr>\n",
       "    <tr>\n",
       "      <th>177</th>\n",
       "      <td>Девушка брата</td>\n",
       "      <td>Stella's Last Weekend</td>\n",
       "      <td>0.278</td>\n",
       "    </tr>\n",
       "    <tr>\n",
       "      <th>313</th>\n",
       "      <td>Кошачьи миры Луиса Уэйна</td>\n",
       "      <td>The Electrical Life of Louis Wain</td>\n",
       "      <td>0.281</td>\n",
       "    </tr>\n",
       "    <tr>\n",
       "      <th>330</th>\n",
       "      <td>Кто там</td>\n",
       "      <td>Knock Knock</td>\n",
       "      <td>0.281</td>\n",
       "    </tr>\n",
       "    <tr>\n",
       "      <th>523</th>\n",
       "      <td>Полынь: Дорога мёртвых</td>\n",
       "      <td>Wyrmwood</td>\n",
       "      <td>0.282</td>\n",
       "    </tr>\n",
       "    <tr>\n",
       "      <th>506</th>\n",
       "      <td>По наклонной</td>\n",
       "      <td>Cherry</td>\n",
       "      <td>0.286</td>\n",
       "    </tr>\n",
       "    <tr>\n",
       "      <th>481</th>\n",
       "      <td>Парни под прикрытием</td>\n",
       "      <td>Panama</td>\n",
       "      <td>0.292</td>\n",
       "    </tr>\n",
       "    <tr>\n",
       "      <th>668</th>\n",
       "      <td>Флирт с дьяволом</td>\n",
       "      <td>Shattered</td>\n",
       "      <td>0.295</td>\n",
       "    </tr>\n",
       "    <tr>\n",
       "      <th>564</th>\n",
       "      <td>Рапунцель: Запутанная история</td>\n",
       "      <td>Tangled</td>\n",
       "      <td>0.302</td>\n",
       "    </tr>\n",
       "    <tr>\n",
       "      <th>445</th>\n",
       "      <td>Обитель теней</td>\n",
       "      <td>Marrowbone</td>\n",
       "      <td>0.302</td>\n",
       "    </tr>\n",
       "    <tr>\n",
       "      <th>217</th>\n",
       "      <td>Дьявол в деталях</td>\n",
       "      <td>The Little Things</td>\n",
       "      <td>0.307</td>\n",
       "    </tr>\n",
       "    <tr>\n",
       "      <th>518</th>\n",
       "      <td>Пол: Секретный материальчик</td>\n",
       "      <td>Paul</td>\n",
       "      <td>0.308</td>\n",
       "    </tr>\n",
       "    <tr>\n",
       "      <th>416</th>\n",
       "      <td>На игле</td>\n",
       "      <td>Trainspotting</td>\n",
       "      <td>0.319</td>\n",
       "    </tr>\n",
       "    <tr>\n",
       "      <th>287</th>\n",
       "      <td>Исчезнувший</td>\n",
       "      <td>My Son</td>\n",
       "      <td>0.329</td>\n",
       "    </tr>\n",
       "    <tr>\n",
       "      <th>355</th>\n",
       "      <td>Лулу и Бриггс</td>\n",
       "      <td>Dog</td>\n",
       "      <td>0.329</td>\n",
       "    </tr>\n",
       "    <tr>\n",
       "      <th>510</th>\n",
       "      <td>Повелитель бури</td>\n",
       "      <td>The Hurt Locker</td>\n",
       "      <td>0.332</td>\n",
       "    </tr>\n",
       "    <tr>\n",
       "      <th>612</th>\n",
       "      <td>Таинственный лес</td>\n",
       "      <td>The Village</td>\n",
       "      <td>0.334</td>\n",
       "    </tr>\n",
       "    <tr>\n",
       "      <th>160</th>\n",
       "      <td>Головоломка</td>\n",
       "      <td>Inside Out</td>\n",
       "      <td>0.335</td>\n",
       "    </tr>\n",
       "    <tr>\n",
       "      <th>567</th>\n",
       "      <td>Реальные упыри</td>\n",
       "      <td>What We Do in the Shadows</td>\n",
       "      <td>0.336</td>\n",
       "    </tr>\n",
       "    <tr>\n",
       "      <th>93</th>\n",
       "      <td>Вальдо</td>\n",
       "      <td>Last Looks</td>\n",
       "      <td>0.338</td>\n",
       "    </tr>\n",
       "    <tr>\n",
       "      <th>50</th>\n",
       "      <td>Бёрдмэн</td>\n",
       "      <td>Birdman or (The Unexpected Virtue of Ignorance)</td>\n",
       "      <td>0.340</td>\n",
       "    </tr>\n",
       "    <tr>\n",
       "      <th>35</th>\n",
       "      <td>Андердог</td>\n",
       "      <td>Sommeren '92</td>\n",
       "      <td>0.343</td>\n",
       "    </tr>\n",
       "    <tr>\n",
       "      <th>67</th>\n",
       "      <td>Бойфренд из будущего</td>\n",
       "      <td>About Time</td>\n",
       "      <td>0.345</td>\n",
       "    </tr>\n",
       "    <tr>\n",
       "      <th>32</th>\n",
       "      <td>Амели</td>\n",
       "      <td>Le Fabuleux destin d'Amélie Poulain</td>\n",
       "      <td>0.348</td>\n",
       "    </tr>\n",
       "    <tr>\n",
       "      <th>297</th>\n",
       "      <td>Клаустрофобы</td>\n",
       "      <td>Escape Room</td>\n",
       "      <td>0.349</td>\n",
       "    </tr>\n",
       "  </tbody>\n",
       "</table>\n",
       "</div>"
      ],
      "text/plain": [
       "                     russian_title  \\\n",
       "454                  Одинокий волк   \n",
       "704   Человек, который изменил всё   \n",
       "74                           Борат   \n",
       "456             Однажды в Ирландии   \n",
       "665       Философы: Урок выживания   \n",
       "575      Самый пьяный округ в мире   \n",
       "508        По соображениям совести   \n",
       "267                 И грянул шторм   \n",
       "403           Монстры на каникулах   \n",
       "97                          Ведьма   \n",
       "436                          Нефть   \n",
       "426   Невероятный мир глазами Энцо   \n",
       "378            Мальчишник в Вегасе   \n",
       "182                     День курка   \n",
       "0                              1+1   \n",
       "654               Убойные каникулы   \n",
       "79       Бриллиантовый полицейский   \n",
       "102                        Веном 2   \n",
       "150      Гарри Хафт: Последний бой   \n",
       "402                        Монстро   \n",
       "280                 Иллюзия обмана   \n",
       "505                     Плутовство   \n",
       "242      Заклятье: Спуск к дьяволу   \n",
       "49                       Аферистка   \n",
       "446                   Области тьмы   \n",
       "117                  Во всё тяжкое   \n",
       "177                  Девушка брата   \n",
       "313       Кошачьи миры Луиса Уэйна   \n",
       "330                        Кто там   \n",
       "523         Полынь: Дорога мёртвых   \n",
       "506                   По наклонной   \n",
       "481           Парни под прикрытием   \n",
       "668               Флирт с дьяволом   \n",
       "564  Рапунцель: Запутанная история   \n",
       "445                  Обитель теней   \n",
       "217               Дьявол в деталях   \n",
       "518    Пол: Секретный материальчик   \n",
       "416                        На игле   \n",
       "287                    Исчезнувший   \n",
       "355                  Лулу и Бриггс   \n",
       "510                Повелитель бури   \n",
       "612               Таинственный лес   \n",
       "160                    Головоломка   \n",
       "567                 Реальные упыри   \n",
       "93                          Вальдо   \n",
       "50                         Бёрдмэн   \n",
       "35                        Андердог   \n",
       "67            Бойфренд из будущего   \n",
       "32                           Амели   \n",
       "297                   Клаустрофобы   \n",
       "\n",
       "                                        original_title  median_sim  \n",
       "454                                              Clean       0.144  \n",
       "704                                          Moneyball       0.157  \n",
       "74   Borat: Cultural Learnings of America for Make ...       0.172  \n",
       "456                                          The Guard       0.182  \n",
       "665                                     After the Dark       0.188  \n",
       "575                                            Lawless       0.189  \n",
       "508                                      Hacksaw Ridge       0.192  \n",
       "267                                   The Finest Hours       0.214  \n",
       "403                                 Hotel Transylvania       0.220  \n",
       "97                  The VVitch: A New-England Folktale       0.220  \n",
       "436                                There Will Be Blood       0.229  \n",
       "426                      The Art of Racing in the Rain       0.229  \n",
       "378                                       The Hangover       0.231  \n",
       "182                                         Boss Level       0.234  \n",
       "0                                         Intouchables       0.235  \n",
       "654                            Tucker and Dale vs Evil       0.236  \n",
       "79                                         Blue Streak       0.237  \n",
       "102                        Venom: Let There Be Carnage       0.240  \n",
       "150                                       The Survivor       0.241  \n",
       "402                                        Cloverfield       0.244  \n",
       "280                                     Now You See Me       0.252  \n",
       "505                                        Wag the Dog       0.257  \n",
       "242                                         The Cellar       0.262  \n",
       "49                                        I Care a Lot       0.273  \n",
       "446                                          Limitless       0.275  \n",
       "117                                      The Professor       0.278  \n",
       "177                              Stella's Last Weekend       0.278  \n",
       "313                  The Electrical Life of Louis Wain       0.281  \n",
       "330                                        Knock Knock       0.281  \n",
       "523                                           Wyrmwood       0.282  \n",
       "506                                             Cherry       0.286  \n",
       "481                                             Panama       0.292  \n",
       "668                                          Shattered       0.295  \n",
       "564                                            Tangled       0.302  \n",
       "445                                         Marrowbone       0.302  \n",
       "217                                  The Little Things       0.307  \n",
       "518                                               Paul       0.308  \n",
       "416                                      Trainspotting       0.319  \n",
       "287                                             My Son       0.329  \n",
       "355                                                Dog       0.329  \n",
       "510                                    The Hurt Locker       0.332  \n",
       "612                                        The Village       0.334  \n",
       "160                                         Inside Out       0.335  \n",
       "567                          What We Do in the Shadows       0.336  \n",
       "93                                          Last Looks       0.338  \n",
       "50     Birdman or (The Unexpected Virtue of Ignorance)       0.340  \n",
       "35                                        Sommeren '92       0.343  \n",
       "67                                          About Time       0.345  \n",
       "32                 Le Fabuleux destin d'Amélie Poulain       0.348  \n",
       "297                                        Escape Room       0.349  "
      ]
     },
     "metadata": {},
     "output_type": "display_data"
    }
   ],
   "source": [
    "with pd.option_context(\"display.max_rows\", None, \"display.max_columns\", None):\n",
    "    display(\n",
    "        similarity_df.iloc[:, :3].sort_values(by=\"median_sim\", ascending=True).iloc[:50]\n",
    "    )"
   ]
  },
  {
   "cell_type": "markdown",
   "id": "31835067-b54c-4f02-ab34-d3561254113c",
   "metadata": {},
   "source": [
    "There are a few cases for dissimilarity:  \n",
    "\n",
    "**Russian title is a cropped version of original title**  \n",
    "Another problem in this case can be the fact that embeddings don't work very well with proper names like Borat::Борат, Dolittle::Дулиттл, and so on.  \n",
    "Examples:\n",
    "* Борат::Borat: Cultural Learnings of America for Make Benefit Glorious Nation of Kazakhstan\n",
    "* Веном 2::Venom: Let There Be Carnage\n",
    "* Бёрдмэн::Birdman or (The Unexpected Virtue of Ignorance)\n",
    "* Амели::Le Fabuleux destin d'Amélie Poulain\n",
    "\n",
    "**Russian title is an extended version of original title**  \n",
    "(Remark about proper names applies to this case too)  \n",
    "Examples:\n",
    "* Удивительное путешествие доктора Дулиттла::Dolittle\n",
    "* Пол: Секретный материальчик::Paul\n",
    "* Рапунцель: Запутанная история::Tangled\n",
    "\n",
    "**Russian title was localized (made up) by translators/localizers**  \n",
    "Sometimes it is better to localize the title due to cultural and other peculiarities, but sometimes it goes too far.  \n",
    "Examples:\n",
    "* Невероятный мир глазами Энцо::The Art of Racing in the Rain\n",
    "* Человек, который изменил всё::Moneyball\n",
    "* Области тьмы::Limitless\n",
    "* Одинокий волк::Clean\n",
    "\n",
    "And it answers our second question."
   ]
  },
  {
   "cell_type": "markdown",
   "id": "d5c28ae7-4983-43d6-b94a-1f68a663dfb5",
   "metadata": {},
   "source": [
    "### Similar titles"
   ]
  },
  {
   "cell_type": "code",
   "execution_count": 34,
   "id": "973ebbbe-372b-4ddf-85dd-661fc618d6e2",
   "metadata": {},
   "outputs": [
    {
     "data": {
      "text/html": [
       "<div>\n",
       "<style scoped>\n",
       "    .dataframe tbody tr th:only-of-type {\n",
       "        vertical-align: middle;\n",
       "    }\n",
       "\n",
       "    .dataframe tbody tr th {\n",
       "        vertical-align: top;\n",
       "    }\n",
       "\n",
       "    .dataframe thead th {\n",
       "        text-align: right;\n",
       "    }\n",
       "</style>\n",
       "<table border=\"1\" class=\"dataframe\">\n",
       "  <thead>\n",
       "    <tr style=\"text-align: right;\">\n",
       "      <th></th>\n",
       "      <th>russian_title</th>\n",
       "      <th>original_title</th>\n",
       "      <th>median_sim</th>\n",
       "    </tr>\n",
       "  </thead>\n",
       "  <tbody>\n",
       "    <tr>\n",
       "      <th>9</th>\n",
       "      <td>2012</td>\n",
       "      <td>2012</td>\n",
       "      <td>1.000</td>\n",
       "    </tr>\n",
       "    <tr>\n",
       "      <th>6</th>\n",
       "      <td>1408</td>\n",
       "      <td>1408</td>\n",
       "      <td>1.000</td>\n",
       "    </tr>\n",
       "    <tr>\n",
       "      <th>21</th>\n",
       "      <td>X</td>\n",
       "      <td>X</td>\n",
       "      <td>1.000</td>\n",
       "    </tr>\n",
       "    <tr>\n",
       "      <th>12</th>\n",
       "      <td>365 дней</td>\n",
       "      <td>365 dni</td>\n",
       "      <td>0.998</td>\n",
       "    </tr>\n",
       "    <tr>\n",
       "      <th>515</th>\n",
       "      <td>Пожары</td>\n",
       "      <td>Incendies</td>\n",
       "      <td>0.985</td>\n",
       "    </tr>\n",
       "    <tr>\n",
       "      <th>302</th>\n",
       "      <td>Код 8</td>\n",
       "      <td>Code 8</td>\n",
       "      <td>0.981</td>\n",
       "    </tr>\n",
       "    <tr>\n",
       "      <th>379</th>\n",
       "      <td>Мама</td>\n",
       "      <td>Mama</td>\n",
       "      <td>0.980</td>\n",
       "    </tr>\n",
       "    <tr>\n",
       "      <th>78</th>\n",
       "      <td>Братья</td>\n",
       "      <td>Brothers</td>\n",
       "      <td>0.977</td>\n",
       "    </tr>\n",
       "    <tr>\n",
       "      <th>650</th>\n",
       "      <td>Три метра над уровнем неба</td>\n",
       "      <td>Tres metros sobre el cielo</td>\n",
       "      <td>0.972</td>\n",
       "    </tr>\n",
       "    <tr>\n",
       "      <th>539</th>\n",
       "      <td>Преступления будущего</td>\n",
       "      <td>Crimes of the Future</td>\n",
       "      <td>0.971</td>\n",
       "    </tr>\n",
       "    <tr>\n",
       "      <th>620</th>\n",
       "      <td>Тело</td>\n",
       "      <td>El cuerpo</td>\n",
       "      <td>0.970</td>\n",
       "    </tr>\n",
       "    <tr>\n",
       "      <th>380</th>\n",
       "      <td>мама!</td>\n",
       "      <td>mother!</td>\n",
       "      <td>0.970</td>\n",
       "    </tr>\n",
       "    <tr>\n",
       "      <th>19</th>\n",
       "      <td>Kingsman: Секретная служба</td>\n",
       "      <td>Kingsman: The Secret Service</td>\n",
       "      <td>0.970</td>\n",
       "    </tr>\n",
       "    <tr>\n",
       "      <th>448</th>\n",
       "      <td>Общество мертвых поэтов</td>\n",
       "      <td>Dead Poets Society</td>\n",
       "      <td>0.970</td>\n",
       "    </tr>\n",
       "    <tr>\n",
       "      <th>462</th>\n",
       "      <td>Опасный метод</td>\n",
       "      <td>A Dangerous Method</td>\n",
       "      <td>0.969</td>\n",
       "    </tr>\n",
       "  </tbody>\n",
       "</table>\n",
       "</div>"
      ],
      "text/plain": [
       "                  russian_title                original_title  median_sim\n",
       "9                          2012                          2012       1.000\n",
       "6                          1408                          1408       1.000\n",
       "21                            X                             X       1.000\n",
       "12                     365 дней                       365 dni       0.998\n",
       "515                      Пожары                     Incendies       0.985\n",
       "302                       Код 8                        Code 8       0.981\n",
       "379                        Мама                          Mama       0.980\n",
       "78                       Братья                      Brothers       0.977\n",
       "650  Три метра над уровнем неба    Tres metros sobre el cielo       0.972\n",
       "539       Преступления будущего          Crimes of the Future       0.971\n",
       "620                        Тело                     El cuerpo       0.970\n",
       "380                       мама!                       mother!       0.970\n",
       "19   Kingsman: Секретная служба  Kingsman: The Secret Service       0.970\n",
       "448     Общество мертвых поэтов            Dead Poets Society       0.970\n",
       "462               Опасный метод            A Dangerous Method       0.969"
      ]
     },
     "metadata": {},
     "output_type": "display_data"
    }
   ],
   "source": [
    "with pd.option_context(\"display.max_rows\", None, \"display.max_columns\", None):\n",
    "    display(\n",
    "        similarity_df.iloc[:, :3]\n",
    "        .sort_values(by=\"median_sim\", ascending=False)\n",
    "        .iloc[:15]\n",
    "    )"
   ]
  },
  {
   "cell_type": "markdown",
   "id": "b6fe4c7e-cb1e-4554-8d09-d298da853361",
   "metadata": {},
   "source": [
    "Similar titles are easier - they are almost literal translation of original titles. "
   ]
  },
  {
   "cell_type": "markdown",
   "id": "ae39491c-8312-4a55-b075-763bbf7dced8",
   "metadata": {},
   "source": [
    "## Things to do"
   ]
  },
  {
   "cell_type": "markdown",
   "id": "e0caa610-41a1-408b-a72f-8ba8d125342d",
   "metadata": {},
   "source": [
    "* Make good visualizations:\n",
    "    * [Visualizing Embeddings With t-SNE](https://www.kaggle.com/code/colinmorris/visualizing-embeddings-with-t-sne/notebook)\n",
    "* Add into comparison deleted titles \n",
    "For languages, where transcription is used instead of original title (hieroglyphs)\n",
    "* Add new data (top-1000 series titles)"
   ]
  }
 ],
 "metadata": {
  "kernelspec": {
   "display_name": "movie_reviews",
   "language": "python",
   "name": "movie_reviews"
  },
  "language_info": {
   "codemirror_mode": {
    "name": "ipython",
    "version": 3
   },
   "file_extension": ".py",
   "mimetype": "text/x-python",
   "name": "python",
   "nbconvert_exporter": "python",
   "pygments_lexer": "ipython3",
   "version": "3.8.10"
  },
  "toc-autonumbering": false
 },
 "nbformat": 4,
 "nbformat_minor": 5
}
