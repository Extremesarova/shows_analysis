{
 "cells": [
  {
   "cell_type": "markdown",
   "id": "b12aa654-a234-41c0-b1ee-562ea6f8d0ac",
   "metadata": {},
   "source": [
    "# EDA of show reviews"
   ]
  },
  {
   "cell_type": "markdown",
   "id": "5add38d5-39e8-4d39-a4cb-97544d04d55c",
   "metadata": {},
   "source": [
    "The goal of this analysis is to look at the data, get some insights and transform the data if needed. "
   ]
  },
  {
   "cell_type": "markdown",
   "id": "5138c25c-cb9d-4e21-bff1-565eb4c3f19a",
   "metadata": {},
   "source": [
    "## Imports"
   ]
  },
  {
   "cell_type": "code",
   "execution_count": 1,
   "id": "1ea98424-a1d6-456e-9663-ad6f45881408",
   "metadata": {},
   "outputs": [],
   "source": [
    "# !pip install dateparser"
   ]
  },
  {
   "cell_type": "code",
   "execution_count": 2,
   "id": "fce2d634-04a3-4ca9-908a-7b65d6705a60",
   "metadata": {},
   "outputs": [],
   "source": [
    "import os\n",
    "from pathlib import Path\n",
    "\n",
    "import numpy as np\n",
    "import pandas as pd\n",
    "from tqdm import tqdm\n",
    "\n",
    "tqdm.pandas()"
   ]
  },
  {
   "cell_type": "code",
   "execution_count": 3,
   "id": "94b26f64-9505-4252-b894-30c00302bd36",
   "metadata": {},
   "outputs": [],
   "source": [
    "from shows_analysis.code.preprocessing import preprocessor\n",
    "from shows_analysis.code.utils.cleaning_utils import (\n",
    "    cast_score_to_float,\n",
    "    normalize_datetime,\n",
    "    return_score,\n",
    "    clean_reviews_from_scores,\n",
    ")"
   ]
  },
  {
   "cell_type": "code",
   "execution_count": 4,
   "id": "5823680a-5654-4caa-bc88-bd546f1395eb",
   "metadata": {},
   "outputs": [],
   "source": [
    "SEED = 42"
   ]
  },
  {
   "cell_type": "markdown",
   "id": "95011d87-7ba3-4f4c-9f4e-3f243599f3db",
   "metadata": {},
   "source": [
    "## Paths"
   ]
  },
  {
   "cell_type": "code",
   "execution_count": 5,
   "id": "2dba7e2d",
   "metadata": {},
   "outputs": [],
   "source": [
    "RELATIVE_PATH = os.path.join(\"../../../\", \"data\")\n",
    "INPUT_PATH = os.path.join(RELATIVE_PATH, \"1_anonymized_data\")\n",
    "OUTPUT_PATH = os.path.join(RELATIVE_PATH, \"2_cleaned_reviews\")\n"
   ]
  },
  {
   "cell_type": "code",
   "execution_count": 6,
   "id": "30d19780-b2bd-4c4a-8c17-7952073df7aa",
   "metadata": {},
   "outputs": [],
   "source": [
    "Path(OUTPUT_PATH).mkdir(parents=True, exist_ok=True)"
   ]
  },
  {
   "cell_type": "markdown",
   "id": "2112133f-69a1-4404-b8bc-79f2ad134cad",
   "metadata": {},
   "source": [
    "## Data"
   ]
  },
  {
   "cell_type": "markdown",
   "id": "46746c6c-aa00-4af5-a281-1ac53d782500",
   "metadata": {},
   "source": [
    "### Loading data"
   ]
  },
  {
   "cell_type": "code",
   "execution_count": 7,
   "id": "56fbff50-2568-4000-b1b1-7fc0bebc6ab4",
   "metadata": {},
   "outputs": [
    {
     "data": {
      "text/plain": [
       "(170894, 7)"
      ]
     },
     "execution_count": 7,
     "metadata": {},
     "output_type": "execute_result"
    }
   ],
   "source": [
    "movie_reviews = pd.read_parquet(\n",
    "    os.path.join(INPUT_PATH, \"movies_reviews.parquet\")\n",
    ")\n",
    "movie_reviews.shape"
   ]
  },
  {
   "cell_type": "code",
   "execution_count": 8,
   "id": "8a00b20d-7908-42a6-a2cd-16bff5c4b8f6",
   "metadata": {},
   "outputs": [
    {
     "data": {
      "text/plain": [
       "(35643, 7)"
      ]
     },
     "execution_count": 8,
     "metadata": {},
     "output_type": "execute_result"
    }
   ],
   "source": [
    "series_reviews = pd.read_parquet(\n",
    "    os.path.join(INPUT_PATH, \"series_reviews.parquet\")\n",
    ")\n",
    "series_reviews.shape"
   ]
  },
  {
   "cell_type": "markdown",
   "id": "d556d49e-e9d6-49d0-b91a-4697d9be3300",
   "metadata": {},
   "source": [
    "### Dataset overview"
   ]
  },
  {
   "cell_type": "code",
   "execution_count": 9,
   "id": "6a66766c-d9b5-4026-9f62-a6e9e675ee80",
   "metadata": {},
   "outputs": [
    {
     "data": {
      "text/html": [
       "<div>\n",
       "<style scoped>\n",
       "    .dataframe tbody tr th:only-of-type {\n",
       "        vertical-align: middle;\n",
       "    }\n",
       "\n",
       "    .dataframe tbody tr th {\n",
       "        vertical-align: top;\n",
       "    }\n",
       "\n",
       "    .dataframe thead th {\n",
       "        text-align: right;\n",
       "    }\n",
       "</style>\n",
       "<table border=\"1\" class=\"dataframe\">\n",
       "  <thead>\n",
       "    <tr style=\"text-align: right;\">\n",
       "      <th></th>\n",
       "      <th>show_id</th>\n",
       "      <th>user_id</th>\n",
       "      <th>datetime</th>\n",
       "      <th>sentiment</th>\n",
       "      <th>subtitle</th>\n",
       "      <th>review_body</th>\n",
       "      <th>usefulness_ratio</th>\n",
       "    </tr>\n",
       "  </thead>\n",
       "  <tbody>\n",
       "    <tr>\n",
       "      <th>165205</th>\n",
       "      <td>546</td>\n",
       "      <td>24389</td>\n",
       "      <td>24 марта 2011 01:06</td>\n",
       "      <td>good</td>\n",
       "      <td>Ломаем стереотипы</td>\n",
       "      <td>С чем у вас ассоциируется жанр 'триллер'? Личн...</td>\n",
       "      <td>5 / 8</td>\n",
       "    </tr>\n",
       "    <tr>\n",
       "      <th>27614</th>\n",
       "      <td>443</td>\n",
       "      <td>32941</td>\n",
       "      <td>15 января 2009 21:44</td>\n",
       "      <td>bad</td>\n",
       "      <td>Его помощь - бесценна</td>\n",
       "      <td>Уилл Смит на время вновь тасует амплуа спасите...</td>\n",
       "      <td>56 / 89</td>\n",
       "    </tr>\n",
       "    <tr>\n",
       "      <th>66906</th>\n",
       "      <td>395</td>\n",
       "      <td>67677</td>\n",
       "      <td>04 декабря 2010 18:48</td>\n",
       "      <td>good</td>\n",
       "      <td>'Обливэйт'.</td>\n",
       "      <td>Вот и свершилось. Когда я сидела в кино, умира...</td>\n",
       "      <td>44 / 7</td>\n",
       "    </tr>\n",
       "    <tr>\n",
       "      <th>50649</th>\n",
       "      <td>598</td>\n",
       "      <td>6362</td>\n",
       "      <td>27 февраля 2011 15:07</td>\n",
       "      <td>good</td>\n",
       "      <td>Шикарное кино!</td>\n",
       "      <td>Мне очень-очень понравился фильм. И мне было д...</td>\n",
       "      <td>9 / 4</td>\n",
       "    </tr>\n",
       "    <tr>\n",
       "      <th>139340</th>\n",
       "      <td>1405</td>\n",
       "      <td>47809</td>\n",
       "      <td>27 августа 2021 21:27</td>\n",
       "      <td>good</td>\n",
       "      <td>Быть героем — значит сражаться и против всесил...</td>\n",
       "      <td>Тяжелые нынче времена зверствуют, такие беспощ...</td>\n",
       "      <td>3 / 4</td>\n",
       "    </tr>\n",
       "    <tr>\n",
       "      <th>10585</th>\n",
       "      <td>851</td>\n",
       "      <td>19019</td>\n",
       "      <td>28 марта 2016 02:27</td>\n",
       "      <td>good</td>\n",
       "      <td>Кино не для всех...</td>\n",
       "      <td>И вновь мы наблюдаем уйму красноречивых и едки...</td>\n",
       "      <td>3 / 6</td>\n",
       "    </tr>\n",
       "    <tr>\n",
       "      <th>164803</th>\n",
       "      <td>1570</td>\n",
       "      <td>5815</td>\n",
       "      <td>17 декабря 2021 02:32</td>\n",
       "      <td>bad</td>\n",
       "      <td>Не верю в то, что это следующая часть!</td>\n",
       "      <td>В преддверии попытки рецензии на данный фильм,...</td>\n",
       "      <td>1 / 1</td>\n",
       "    </tr>\n",
       "    <tr>\n",
       "      <th>87364</th>\n",
       "      <td>278</td>\n",
       "      <td>32158</td>\n",
       "      <td>03 января 2011 18:30</td>\n",
       "      <td>good</td>\n",
       "      <td>Не в том месте, не в то время, или?..</td>\n",
       "      <td>Многие говорят, что хороший сюжет – это пятьде...</td>\n",
       "      <td>17 / 2</td>\n",
       "    </tr>\n",
       "    <tr>\n",
       "      <th>146747</th>\n",
       "      <td>883</td>\n",
       "      <td>24164</td>\n",
       "      <td>03 марта 2017 23:18</td>\n",
       "      <td>good</td>\n",
       "      <td>Из последних сил</td>\n",
       "      <td>Есть лишь один противник, которому невозможно ...</td>\n",
       "      <td>65 / 11</td>\n",
       "    </tr>\n",
       "    <tr>\n",
       "      <th>166170</th>\n",
       "      <td>104</td>\n",
       "      <td>34082</td>\n",
       "      <td>19 августа 2007 22:35</td>\n",
       "      <td>good</td>\n",
       "      <td>Шедевр мультипликационного кино</td>\n",
       "      <td>Король-лев действительно велик. Он относится к...</td>\n",
       "      <td>40 / 4</td>\n",
       "    </tr>\n",
       "  </tbody>\n",
       "</table>\n",
       "</div>"
      ],
      "text/plain": [
       "        show_id  user_id               datetime sentiment  \\\n",
       "165205      546    24389    24 марта 2011 01:06      good   \n",
       "27614       443    32941   15 января 2009 21:44       bad   \n",
       "66906       395    67677  04 декабря 2010 18:48      good   \n",
       "50649       598     6362  27 февраля 2011 15:07      good   \n",
       "139340     1405    47809  27 августа 2021 21:27      good   \n",
       "10585       851    19019    28 марта 2016 02:27      good   \n",
       "164803     1570     5815  17 декабря 2021 02:32       bad   \n",
       "87364       278    32158   03 января 2011 18:30      good   \n",
       "146747      883    24164    03 марта 2017 23:18      good   \n",
       "166170      104    34082  19 августа 2007 22:35      good   \n",
       "\n",
       "                                                 subtitle  \\\n",
       "165205                                  Ломаем стереотипы   \n",
       "27614                               Его помощь - бесценна   \n",
       "66906                                         'Обливэйт'.   \n",
       "50649                                      Шикарное кино!   \n",
       "139340  Быть героем — значит сражаться и против всесил...   \n",
       "10585                                 Кино не для всех...   \n",
       "164803             Не верю в то, что это следующая часть!   \n",
       "87364               Не в том месте, не в то время, или?..   \n",
       "146747                                   Из последних сил   \n",
       "166170                    Шедевр мультипликационного кино   \n",
       "\n",
       "                                              review_body usefulness_ratio  \n",
       "165205  С чем у вас ассоциируется жанр 'триллер'? Личн...            5 / 8  \n",
       "27614   Уилл Смит на время вновь тасует амплуа спасите...          56 / 89  \n",
       "66906   Вот и свершилось. Когда я сидела в кино, умира...           44 / 7  \n",
       "50649   Мне очень-очень понравился фильм. И мне было д...            9 / 4  \n",
       "139340  Тяжелые нынче времена зверствуют, такие беспощ...            3 / 4  \n",
       "10585   И вновь мы наблюдаем уйму красноречивых и едки...            3 / 6  \n",
       "164803  В преддверии попытки рецензии на данный фильм,...            1 / 1  \n",
       "87364   Многие говорят, что хороший сюжет – это пятьде...           17 / 2  \n",
       "146747  Есть лишь один противник, которому невозможно ...          65 / 11  \n",
       "166170  Король-лев действительно велик. Он относится к...           40 / 4  "
      ]
     },
     "execution_count": 9,
     "metadata": {},
     "output_type": "execute_result"
    }
   ],
   "source": [
    "movie_reviews.sample(n=10, random_state=SEED)"
   ]
  },
  {
   "cell_type": "code",
   "execution_count": 10,
   "id": "ae1e9ab2-4b07-4fb8-a46c-9ec4231ec0b3",
   "metadata": {},
   "outputs": [
    {
     "data": {
      "text/html": [
       "<div>\n",
       "<style scoped>\n",
       "    .dataframe tbody tr th:only-of-type {\n",
       "        vertical-align: middle;\n",
       "    }\n",
       "\n",
       "    .dataframe tbody tr th {\n",
       "        vertical-align: top;\n",
       "    }\n",
       "\n",
       "    .dataframe thead th {\n",
       "        text-align: right;\n",
       "    }\n",
       "</style>\n",
       "<table border=\"1\" class=\"dataframe\">\n",
       "  <thead>\n",
       "    <tr style=\"text-align: right;\">\n",
       "      <th></th>\n",
       "      <th>show_id</th>\n",
       "      <th>user_id</th>\n",
       "      <th>datetime</th>\n",
       "      <th>sentiment</th>\n",
       "      <th>subtitle</th>\n",
       "      <th>review_body</th>\n",
       "      <th>usefulness_ratio</th>\n",
       "    </tr>\n",
       "  </thead>\n",
       "  <tbody>\n",
       "    <tr>\n",
       "      <th>17123</th>\n",
       "      <td>487</td>\n",
       "      <td>29400</td>\n",
       "      <td>07 сентября 2011 13:17</td>\n",
       "      <td>good</td>\n",
       "      <td>Мерлин? Изумительно!</td>\n",
       "      <td>Я довольно давно искала легкий и интересный се...</td>\n",
       "      <td>66 / 11</td>\n",
       "    </tr>\n",
       "    <tr>\n",
       "      <th>29947</th>\n",
       "      <td>357</td>\n",
       "      <td>65452</td>\n",
       "      <td>05 июля 2020 14:14</td>\n",
       "      <td>bad</td>\n",
       "      <td>Так дела не делаются</td>\n",
       "      <td>Как мне кажется, этот сериал подойдет в основн...</td>\n",
       "      <td>31 / 166</td>\n",
       "    </tr>\n",
       "    <tr>\n",
       "      <th>14526</th>\n",
       "      <td>864</td>\n",
       "      <td>65059</td>\n",
       "      <td>05 августа 2015 21:39</td>\n",
       "      <td>good</td>\n",
       "      <td>Прекрасная Ева Грин и Ко, или Сезон Номер Два</td>\n",
       "      <td>Я так долго бежала от тьмы,\\nно очутилась в ещ...</td>\n",
       "      <td>12 / 0</td>\n",
       "    </tr>\n",
       "    <tr>\n",
       "      <th>8471</th>\n",
       "      <td>611</td>\n",
       "      <td>17331</td>\n",
       "      <td>04 января 2011 20:52</td>\n",
       "      <td>good</td>\n",
       "      <td>Ну вот, уже что то!</td>\n",
       "      <td>Пускай это и снято на основе американского сер...</td>\n",
       "      <td>13 / 13</td>\n",
       "    </tr>\n",
       "    <tr>\n",
       "      <th>5288</th>\n",
       "      <td>1230</td>\n",
       "      <td>51753</td>\n",
       "      <td>20 декабря 2018 10:34</td>\n",
       "      <td>good</td>\n",
       "      <td>Молчаливое зло</td>\n",
       "      <td>Пару лет назад я читала книгу 'Правда о деле Г...</td>\n",
       "      <td>73 / 20</td>\n",
       "    </tr>\n",
       "    <tr>\n",
       "      <th>17419</th>\n",
       "      <td>535</td>\n",
       "      <td>63096</td>\n",
       "      <td>30 октября 2020 16:36</td>\n",
       "      <td>good</td>\n",
       "      <td>Второй сезон</td>\n",
       "      <td>Коронавирусные реалии и серьёзно развивающаяся...</td>\n",
       "      <td>3 / 2</td>\n",
       "    </tr>\n",
       "    <tr>\n",
       "      <th>1043</th>\n",
       "      <td>371</td>\n",
       "      <td>38653</td>\n",
       "      <td>26 августа 2009 14:50</td>\n",
       "      <td>good</td>\n",
       "      <td>Я обожаю задумку</td>\n",
       "      <td>В этом сериале отличная задумка. Не знаю как в...</td>\n",
       "      <td>36 / 0</td>\n",
       "    </tr>\n",
       "    <tr>\n",
       "      <th>30271</th>\n",
       "      <td>711</td>\n",
       "      <td>2093</td>\n",
       "      <td>19 апреля 2013 15:24</td>\n",
       "      <td>good</td>\n",
       "      <td>«Война меняет людей. Станешь ли ты как я или н...</td>\n",
       "      <td>Фильм сделан удивительно хорошо. На протяжении...</td>\n",
       "      <td>71 / 40</td>\n",
       "    </tr>\n",
       "    <tr>\n",
       "      <th>33923</th>\n",
       "      <td>1252</td>\n",
       "      <td>48173</td>\n",
       "      <td>05 июня 2021 00:53</td>\n",
       "      <td>neutral</td>\n",
       "      <td>Глубокий смысл или попкорновый треш?</td>\n",
       "      <td>- I love you too.\\n- Yeah, don’t go on about i...</td>\n",
       "      <td>5 / 2</td>\n",
       "    </tr>\n",
       "    <tr>\n",
       "      <th>17767</th>\n",
       "      <td>1015</td>\n",
       "      <td>49216</td>\n",
       "      <td>16 октября 2016 22:05</td>\n",
       "      <td>good</td>\n",
       "      <td>Should i stay or should i go</td>\n",
       "      <td>Я в восторге! Правда! Честно!&lt;p&gt;Наткнулась я к...</td>\n",
       "      <td>17 / 5</td>\n",
       "    </tr>\n",
       "  </tbody>\n",
       "</table>\n",
       "</div>"
      ],
      "text/plain": [
       "       show_id  user_id                datetime sentiment  \\\n",
       "17123      487    29400  07 сентября 2011 13:17      good   \n",
       "29947      357    65452      05 июля 2020 14:14       bad   \n",
       "14526      864    65059   05 августа 2015 21:39      good   \n",
       "8471       611    17331    04 января 2011 20:52      good   \n",
       "5288      1230    51753   20 декабря 2018 10:34      good   \n",
       "17419      535    63096   30 октября 2020 16:36      good   \n",
       "1043       371    38653   26 августа 2009 14:50      good   \n",
       "30271      711     2093    19 апреля 2013 15:24      good   \n",
       "33923     1252    48173      05 июня 2021 00:53   neutral   \n",
       "17767     1015    49216   16 октября 2016 22:05      good   \n",
       "\n",
       "                                                subtitle  \\\n",
       "17123                               Мерлин? Изумительно!   \n",
       "29947                               Так дела не делаются   \n",
       "14526      Прекрасная Ева Грин и Ко, или Сезон Номер Два   \n",
       "8471                                 Ну вот, уже что то!   \n",
       "5288                                      Молчаливое зло   \n",
       "17419                                       Второй сезон   \n",
       "1043                                    Я обожаю задумку   \n",
       "30271  «Война меняет людей. Станешь ли ты как я или н...   \n",
       "33923               Глубокий смысл или попкорновый треш?   \n",
       "17767                       Should i stay or should i go   \n",
       "\n",
       "                                             review_body usefulness_ratio  \n",
       "17123  Я довольно давно искала легкий и интересный се...          66 / 11  \n",
       "29947  Как мне кажется, этот сериал подойдет в основн...         31 / 166  \n",
       "14526  Я так долго бежала от тьмы,\\nно очутилась в ещ...           12 / 0  \n",
       "8471   Пускай это и снято на основе американского сер...          13 / 13  \n",
       "5288   Пару лет назад я читала книгу 'Правда о деле Г...          73 / 20  \n",
       "17419  Коронавирусные реалии и серьёзно развивающаяся...            3 / 2  \n",
       "1043   В этом сериале отличная задумка. Не знаю как в...           36 / 0  \n",
       "30271  Фильм сделан удивительно хорошо. На протяжении...          71 / 40  \n",
       "33923  - I love you too.\\n- Yeah, don’t go on about i...            5 / 2  \n",
       "17767  Я в восторге! Правда! Честно!<p>Наткнулась я к...           17 / 5  "
      ]
     },
     "execution_count": 10,
     "metadata": {},
     "output_type": "execute_result"
    }
   ],
   "source": [
    "series_reviews.sample(n=10, random_state=SEED)"
   ]
  },
  {
   "cell_type": "markdown",
   "id": "2e2a9fe1-8718-4a5f-9e09-d7666bcbf3de",
   "metadata": {},
   "source": [
    "Let's merge datasets"
   ]
  },
  {
   "cell_type": "code",
   "execution_count": 11,
   "id": "e74a2be5-084f-4f71-9677-bdf5c89f769b",
   "metadata": {},
   "outputs": [],
   "source": [
    "movie_reviews.insert(2, \"type\", \"movie\")\n",
    "series_reviews.insert(2, \"type\", \"series\")\n",
    "\n",
    "reviews = pd.concat([movie_reviews, series_reviews]).reset_index(drop=True)"
   ]
  },
  {
   "cell_type": "code",
   "execution_count": 12,
   "id": "448f04b7-6e78-4863-8df1-be7d23a18c35",
   "metadata": {},
   "outputs": [
    {
     "data": {
      "text/html": [
       "<div>\n",
       "<style scoped>\n",
       "    .dataframe tbody tr th:only-of-type {\n",
       "        vertical-align: middle;\n",
       "    }\n",
       "\n",
       "    .dataframe tbody tr th {\n",
       "        vertical-align: top;\n",
       "    }\n",
       "\n",
       "    .dataframe thead th {\n",
       "        text-align: right;\n",
       "    }\n",
       "</style>\n",
       "<table border=\"1\" class=\"dataframe\">\n",
       "  <thead>\n",
       "    <tr style=\"text-align: right;\">\n",
       "      <th></th>\n",
       "      <th>show_id</th>\n",
       "      <th>user_id</th>\n",
       "      <th>type</th>\n",
       "      <th>datetime</th>\n",
       "      <th>sentiment</th>\n",
       "      <th>subtitle</th>\n",
       "      <th>review_body</th>\n",
       "      <th>usefulness_ratio</th>\n",
       "    </tr>\n",
       "  </thead>\n",
       "  <tbody>\n",
       "    <tr>\n",
       "      <th>31211</th>\n",
       "      <td>579</td>\n",
       "      <td>26804</td>\n",
       "      <td>movie</td>\n",
       "      <td>16 февраля 2019 14:28</td>\n",
       "      <td>good</td>\n",
       "      <td>Обзор на фильм 'Аквамен'</td>\n",
       "      <td>Киновселенная DC, которая довольно серьезный к...</td>\n",
       "      <td>6 / 14</td>\n",
       "    </tr>\n",
       "    <tr>\n",
       "      <th>72046</th>\n",
       "      <td>98</td>\n",
       "      <td>65761</td>\n",
       "      <td>movie</td>\n",
       "      <td>02 ноября 2013 22:56</td>\n",
       "      <td>good</td>\n",
       "      <td>Просторы другой тональности</td>\n",
       "      <td>Не всякая карта расскажет тебе, чем богато зве...</td>\n",
       "      <td>9 / 3</td>\n",
       "    </tr>\n",
       "    <tr>\n",
       "      <th>12824</th>\n",
       "      <td>217</td>\n",
       "      <td>7758</td>\n",
       "      <td>movie</td>\n",
       "      <td>19 июля 2010 15:32</td>\n",
       "      <td>good</td>\n",
       "      <td>«Я была здесь лишь один момент, а потом меня н...</td>\n",
       "      <td>Этот фильм долго пылился на жестком диске и вч...</td>\n",
       "      <td>14 / 6</td>\n",
       "    </tr>\n",
       "    <tr>\n",
       "      <th>203242</th>\n",
       "      <td>742</td>\n",
       "      <td>56263</td>\n",
       "      <td>series</td>\n",
       "      <td>22 сентября 2016 18:20</td>\n",
       "      <td>good</td>\n",
       "      <td>Между мыслью и реальностью, между движением и ...</td>\n",
       "      <td>Что могу сказать... Никогда не любила сериал п...</td>\n",
       "      <td>6 / 10</td>\n",
       "    </tr>\n",
       "    <tr>\n",
       "      <th>199423</th>\n",
       "      <td>643</td>\n",
       "      <td>33423</td>\n",
       "      <td>series</td>\n",
       "      <td>19 ноября 2010 15:28</td>\n",
       "      <td>good</td>\n",
       "      <td>Пацаны смотрят вдаль и верят,  но трамвай не е...</td>\n",
       "      <td>О сериале 'Реальные пацаны' узнал еще летом. К...</td>\n",
       "      <td>91 / 25</td>\n",
       "    </tr>\n",
       "    <tr>\n",
       "      <th>125237</th>\n",
       "      <td>844</td>\n",
       "      <td>1885</td>\n",
       "      <td>movie</td>\n",
       "      <td>06 апреля 2015 17:19</td>\n",
       "      <td>good</td>\n",
       "      <td>Сдох твой Бобик, Джонни!</td>\n",
       "      <td>Нюквисту – «Оскар»! (Тому самому, из шведской ...</td>\n",
       "      <td>11 / 2</td>\n",
       "    </tr>\n",
       "    <tr>\n",
       "      <th>165963</th>\n",
       "      <td>495</td>\n",
       "      <td>8245</td>\n",
       "      <td>movie</td>\n",
       "      <td>14 января 2010 02:45</td>\n",
       "      <td>good</td>\n",
       "      <td>И колокола в финале...</td>\n",
       "      <td>Странные я испытал эмоции при просмотре этой л...</td>\n",
       "      <td>16 / 6</td>\n",
       "    </tr>\n",
       "    <tr>\n",
       "      <th>61509</th>\n",
       "      <td>263</td>\n",
       "      <td>58981</td>\n",
       "      <td>movie</td>\n",
       "      <td>23 февраля 2020 21:14</td>\n",
       "      <td>good</td>\n",
       "      <td>О том, как легко служит злу. и трудно - добру</td>\n",
       "      <td>В сравнение с другими гангстерскими лентами Ск...</td>\n",
       "      <td>12 / 5</td>\n",
       "    </tr>\n",
       "    <tr>\n",
       "      <th>132535</th>\n",
       "      <td>63</td>\n",
       "      <td>22230</td>\n",
       "      <td>movie</td>\n",
       "      <td>27 февраля 2012 17:39</td>\n",
       "      <td>good</td>\n",
       "      <td>Всё есть число? (Амбициозная Miss Danity захот...</td>\n",
       "      <td>А знаете, этот фильм стоит смотреть одному.&lt;p&gt;...</td>\n",
       "      <td>4 / 1</td>\n",
       "    </tr>\n",
       "    <tr>\n",
       "      <th>60474</th>\n",
       "      <td>706</td>\n",
       "      <td>48935</td>\n",
       "      <td>movie</td>\n",
       "      <td>23 февраля 2014 18:31</td>\n",
       "      <td>good</td>\n",
       "      <td>'Джанго' наоборот.</td>\n",
       "      <td>Итак, для начала статистика. Данная картина бы...</td>\n",
       "      <td>6 / 6</td>\n",
       "    </tr>\n",
       "  </tbody>\n",
       "</table>\n",
       "</div>"
      ],
      "text/plain": [
       "        show_id  user_id    type                datetime sentiment  \\\n",
       "31211       579    26804   movie   16 февраля 2019 14:28      good   \n",
       "72046        98    65761   movie    02 ноября 2013 22:56      good   \n",
       "12824       217     7758   movie      19 июля 2010 15:32      good   \n",
       "203242      742    56263  series  22 сентября 2016 18:20      good   \n",
       "199423      643    33423  series    19 ноября 2010 15:28      good   \n",
       "125237      844     1885   movie    06 апреля 2015 17:19      good   \n",
       "165963      495     8245   movie    14 января 2010 02:45      good   \n",
       "61509       263    58981   movie   23 февраля 2020 21:14      good   \n",
       "132535       63    22230   movie   27 февраля 2012 17:39      good   \n",
       "60474       706    48935   movie   23 февраля 2014 18:31      good   \n",
       "\n",
       "                                                 subtitle  \\\n",
       "31211                            Обзор на фильм 'Аквамен'   \n",
       "72046                         Просторы другой тональности   \n",
       "12824   «Я была здесь лишь один момент, а потом меня н...   \n",
       "203242  Между мыслью и реальностью, между движением и ...   \n",
       "199423  Пацаны смотрят вдаль и верят,  но трамвай не е...   \n",
       "125237                           Сдох твой Бобик, Джонни!   \n",
       "165963                             И колокола в финале...   \n",
       "61509       О том, как легко служит злу. и трудно - добру   \n",
       "132535  Всё есть число? (Амбициозная Miss Danity захот...   \n",
       "60474                                  'Джанго' наоборот.   \n",
       "\n",
       "                                              review_body usefulness_ratio  \n",
       "31211   Киновселенная DC, которая довольно серьезный к...           6 / 14  \n",
       "72046   Не всякая карта расскажет тебе, чем богато зве...            9 / 3  \n",
       "12824   Этот фильм долго пылился на жестком диске и вч...           14 / 6  \n",
       "203242  Что могу сказать... Никогда не любила сериал п...           6 / 10  \n",
       "199423  О сериале 'Реальные пацаны' узнал еще летом. К...          91 / 25  \n",
       "125237  Нюквисту – «Оскар»! (Тому самому, из шведской ...           11 / 2  \n",
       "165963  Странные я испытал эмоции при просмотре этой л...           16 / 6  \n",
       "61509   В сравнение с другими гангстерскими лентами Ск...           12 / 5  \n",
       "132535  А знаете, этот фильм стоит смотреть одному.<p>...            4 / 1  \n",
       "60474   Итак, для начала статистика. Данная картина бы...            6 / 6  "
      ]
     },
     "execution_count": 12,
     "metadata": {},
     "output_type": "execute_result"
    }
   ],
   "source": [
    "reviews.sample(n=10, random_state=SEED)"
   ]
  },
  {
   "cell_type": "markdown",
   "id": "19e43e2a-7b27-465d-a920-c2a4ad3f0e96",
   "metadata": {},
   "source": [
    "### Dataset Close Look"
   ]
  },
  {
   "cell_type": "markdown",
   "id": "3e431176-8999-4501-9e04-79fee9209a08",
   "metadata": {},
   "source": [
    "In this section, let's look at what columns we have, what type they are, how many non-zero values, etc."
   ]
  },
  {
   "cell_type": "markdown",
   "id": "31110b54-d901-4c0e-9511-3234e87f2411",
   "metadata": {},
   "source": [
    "But before, let's replace empty strings with `NaN` values."
   ]
  },
  {
   "cell_type": "code",
   "execution_count": 13,
   "id": "b053f4bc-9483-4d48-9ef0-17cd8f312f98",
   "metadata": {},
   "outputs": [],
   "source": [
    "reviews.replace(r\"^\\s*$\", np.nan, regex=True, inplace=True)"
   ]
  },
  {
   "cell_type": "code",
   "execution_count": 14,
   "id": "351fa979-35aa-4ceb-b7c4-a162230033d4",
   "metadata": {},
   "outputs": [
    {
     "name": "stdout",
     "output_type": "stream",
     "text": [
      "<class 'pandas.core.frame.DataFrame'>\n",
      "RangeIndex: 206537 entries, 0 to 206536\n",
      "Data columns (total 8 columns):\n",
      " #   Column            Non-Null Count   Dtype \n",
      "---  ------            --------------   ----- \n",
      " 0   show_id           206537 non-null  int64 \n",
      " 1   user_id           206537 non-null  int64 \n",
      " 2   type              206537 non-null  object\n",
      " 3   datetime          206537 non-null  object\n",
      " 4   sentiment         206537 non-null  object\n",
      " 5   subtitle          173664 non-null  object\n",
      " 6   review_body       206537 non-null  object\n",
      " 7   usefulness_ratio  206537 non-null  object\n",
      "dtypes: int64(2), object(6)\n",
      "memory usage: 12.6+ MB\n"
     ]
    }
   ],
   "source": [
    "reviews.info()"
   ]
  },
  {
   "cell_type": "markdown",
   "id": "7eb0e08f-8149-4878-8067-6e30f761c4aa",
   "metadata": {},
   "source": [
    "As we can see, `subtitle` is empty sometimes."
   ]
  },
  {
   "cell_type": "markdown",
   "id": "095fc0f4-5f9d-4485-9260-ace5bb586c14",
   "metadata": {},
   "source": [
    "### Memory optimization"
   ]
  },
  {
   "cell_type": "markdown",
   "id": "0dff99fe-ec7b-40df-ada8-7cd9120f05ba",
   "metadata": {},
   "source": [
    "Also, we should better be treating `sentiment` and `type` columns as categorical.  \n",
    "One of the benefits of such transformation is the dataset will be more efficiently stored."
   ]
  },
  {
   "cell_type": "code",
   "execution_count": 15,
   "id": "9359c5ad-25f1-4e0e-ac2a-502df128cb92",
   "metadata": {},
   "outputs": [],
   "source": [
    "reviews[[\"type\", \"sentiment\"]] = reviews[[\"type\", \"sentiment\"]].astype(\"category\")"
   ]
  },
  {
   "cell_type": "code",
   "execution_count": 16,
   "id": "fd17fb27-9b9e-42d6-b17b-7c13100f0531",
   "metadata": {},
   "outputs": [
    {
     "name": "stdout",
     "output_type": "stream",
     "text": [
      "<class 'pandas.core.frame.DataFrame'>\n",
      "RangeIndex: 206537 entries, 0 to 206536\n",
      "Data columns (total 8 columns):\n",
      " #   Column            Non-Null Count   Dtype   \n",
      "---  ------            --------------   -----   \n",
      " 0   show_id           206537 non-null  int64   \n",
      " 1   user_id           206537 non-null  int64   \n",
      " 2   type              206537 non-null  category\n",
      " 3   datetime          206537 non-null  object  \n",
      " 4   sentiment         206537 non-null  category\n",
      " 5   subtitle          173664 non-null  object  \n",
      " 6   review_body       206537 non-null  object  \n",
      " 7   usefulness_ratio  206537 non-null  object  \n",
      "dtypes: category(2), int64(2), object(4)\n",
      "memory usage: 9.8+ MB\n"
     ]
    }
   ],
   "source": [
    "reviews.info()"
   ]
  },
  {
   "cell_type": "markdown",
   "id": "62aac0a4-c3b8-4ef7-b7cd-0a4cab2d370f",
   "metadata": {},
   "source": [
    "We've just saved about 2.7 MB out of 12.6 MB (around 20%), which isn't bad for a one line of code."
   ]
  },
  {
   "cell_type": "markdown",
   "id": "72dfe938-7f90-46fc-9db3-8de5150657e4",
   "metadata": {},
   "source": [
    "## Tasks"
   ]
  },
  {
   "cell_type": "markdown",
   "id": "22c70c9a-bfd4-45ec-b700-6750bff377bd",
   "metadata": {},
   "source": [
    "Based on this look I've determined some things to do:\n",
    "* Look at the columns, determine the number of unique values, duplicates, etc.\n",
    "* **[+]** Normalize `datetime` column \n",
    "* **[+]** Calculate `usefulness_ratio` based on the format `likes / dislikes`\n",
    "* **[+]** Extract user scores from reviews"
   ]
  },
  {
   "cell_type": "markdown",
   "id": "85b91c83-b8c1-4f8c-a861-5ec077cc2188",
   "metadata": {},
   "source": [
    "## EDA"
   ]
  },
  {
   "cell_type": "markdown",
   "id": "33c4b2cd-5c3f-47aa-a6c0-8c3985bfeb47",
   "metadata": {},
   "source": [
    "### `datetime`"
   ]
  },
  {
   "cell_type": "markdown",
   "id": "a345850e-4390-494b-ae79-c5d549ed78c5",
   "metadata": {},
   "source": [
    "#### Transformation"
   ]
  },
  {
   "cell_type": "markdown",
   "id": "01a3583c-4914-4cd9-92e2-969dc82d820a",
   "metadata": {},
   "source": [
    "Currently, `datetime` looks like this:"
   ]
  },
  {
   "cell_type": "code",
   "execution_count": 17,
   "id": "68619f16-b736-45cc-9482-33a5475083ff",
   "metadata": {},
   "outputs": [
    {
     "data": {
      "text/plain": [
       "'09 марта 2022 21:51'"
      ]
     },
     "execution_count": 17,
     "metadata": {},
     "output_type": "execute_result"
    }
   ],
   "source": [
    "reviews[\"datetime\"][0]"
   ]
  },
  {
   "cell_type": "markdown",
   "id": "e262a667-98e1-45e0-ac58-9d7d08046aa7",
   "metadata": {},
   "source": [
    "I could create map with months manually, replace month for every date and then change the format, but I will use `dateparser` package "
   ]
  },
  {
   "cell_type": "code",
   "execution_count": 18,
   "id": "6e0e34eb-59b1-4f22-8ba8-3874fdec6b32",
   "metadata": {},
   "outputs": [
    {
     "name": "stderr",
     "output_type": "stream",
     "text": [
      "100%|██████████| 206537/206537 [04:19<00:00, 794.42it/s]\n"
     ]
    }
   ],
   "source": [
    "reviews[\"datetime_casted\"] = [\n",
    "    normalize_datetime(datetime) for datetime in tqdm(reviews[\"datetime\"].values)\n",
    "]\n",
    "reviews[\"datetime_casted\"] = pd.to_datetime(reviews[\"datetime_casted\"])"
   ]
  },
  {
   "cell_type": "markdown",
   "id": "95acc7a4-5bc1-48ee-a694-80a906788fc0",
   "metadata": {},
   "source": [
    "Now we can extract valuable information from the `datetime` column"
   ]
  },
  {
   "cell_type": "markdown",
   "id": "7b669c65-20c1-448e-8d61-0159474db313",
   "metadata": {},
   "source": [
    "### `usefulness_ratio`"
   ]
  },
  {
   "cell_type": "markdown",
   "id": "dada74f6-fd1c-4a69-a9e2-849db03b0627",
   "metadata": {},
   "source": [
    "#### Transformation"
   ]
  },
  {
   "cell_type": "markdown",
   "id": "f46338c3-9fd3-4a5f-be03-86985ae46dac",
   "metadata": {},
   "source": [
    "Currently, `usefulness_ratio` looks like this:"
   ]
  },
  {
   "cell_type": "code",
   "execution_count": 19,
   "id": "df62e19e-ae8b-43a0-b3f0-bb91d2f8fc37",
   "metadata": {},
   "outputs": [
    {
     "data": {
      "text/plain": [
       "31211      6 / 14\n",
       "72046       9 / 3\n",
       "12824      14 / 6\n",
       "203242     6 / 10\n",
       "199423    91 / 25\n",
       "125237     11 / 2\n",
       "165963     16 / 6\n",
       "61509      12 / 5\n",
       "132535      4 / 1\n",
       "60474       6 / 6\n",
       "Name: usefulness_ratio, dtype: object"
      ]
     },
     "execution_count": 19,
     "metadata": {},
     "output_type": "execute_result"
    }
   ],
   "source": [
    "reviews[\"usefulness_ratio\"].sample(10, random_state=SEED)"
   ]
  },
  {
   "cell_type": "markdown",
   "id": "7bb06dc8-e9f8-4e9f-a72e-1ded101a8dfb",
   "metadata": {},
   "source": [
    "We can replace `/` with `-` and then evaluate expression to get difference between likes and dislikes for the review. Let's do this."
   ]
  },
  {
   "cell_type": "code",
   "execution_count": 20,
   "id": "e2eb4ce1-7285-432a-8f99-9d27f4629e2f",
   "metadata": {},
   "outputs": [
    {
     "name": "stderr",
     "output_type": "stream",
     "text": [
      "100%|██████████| 206537/206537 [00:00<00:00, 254579.62it/s]\n"
     ]
    }
   ],
   "source": [
    "reviews[\"usefulness_ratio_transformed\"] = (\n",
    "    reviews[\"usefulness_ratio\"].replace(\" / \", \"-\", regex=True).progress_apply(eval)\n",
    ")"
   ]
  },
  {
   "cell_type": "markdown",
   "id": "f69d6233-d389-488f-89fa-8c5b8bf729ee",
   "metadata": {},
   "source": [
    "#### Analysis"
   ]
  },
  {
   "cell_type": "code",
   "execution_count": 21,
   "id": "50942cf2-07cc-4443-b440-fae09d771cd9",
   "metadata": {},
   "outputs": [
    {
     "data": {
      "text/plain": [
       "count    206537.000000\n",
       "mean          3.836339\n",
       "std          67.749343\n",
       "min       -9332.000000\n",
       "25%          -1.000000\n",
       "50%           4.000000\n",
       "75%          12.000000\n",
       "max        4921.000000\n",
       "Name: usefulness_ratio_transformed, dtype: float64"
      ]
     },
     "execution_count": 21,
     "metadata": {},
     "output_type": "execute_result"
    }
   ],
   "source": [
    "reviews[\"usefulness_ratio_transformed\"].describe()"
   ]
  },
  {
   "cell_type": "markdown",
   "id": "881186a8-3863-4183-8008-c53156d6a919",
   "metadata": {},
   "source": [
    "We have some pretty big outliers"
   ]
  },
  {
   "cell_type": "code",
   "execution_count": 22,
   "id": "022c333a-95b5-4ae7-9464-d1d0cfd68137",
   "metadata": {},
   "outputs": [
    {
     "data": {
      "text/plain": [
       " 1     11019\n",
       " 2     10768\n",
       " 0     10227\n",
       " 3     10206\n",
       " 4      9391\n",
       " 5      8603\n",
       "-1      7683\n",
       " 6      7380\n",
       " 7      6798\n",
       " 8      6173\n",
       "-2      6030\n",
       " 9      5668\n",
       " 10     5085\n",
       " 11     4837\n",
       "-3      4608\n",
       " 12     4185\n",
       "-4      3936\n",
       " 13     3819\n",
       " 14     3424\n",
       "-5      3184\n",
       "Name: usefulness_ratio_transformed, dtype: int64"
      ]
     },
     "execution_count": 22,
     "metadata": {},
     "output_type": "execute_result"
    }
   ],
   "source": [
    "reviews[\"usefulness_ratio_transformed\"].value_counts()[:20]"
   ]
  },
  {
   "cell_type": "code",
   "execution_count": 23,
   "id": "71aef1e8-699b-47aa-a047-030f48d36691",
   "metadata": {},
   "outputs": [],
   "source": [
    "usefulness = reviews[\"usefulness_ratio_transformed\"]"
   ]
  },
  {
   "cell_type": "code",
   "execution_count": 24,
   "id": "37febaa4-f93d-459b-9441-92f5ebcec943",
   "metadata": {},
   "outputs": [
    {
     "data": {
      "text/plain": [
       "(-29.0, 41.0)"
      ]
     },
     "execution_count": 24,
     "metadata": {},
     "output_type": "execute_result"
    }
   ],
   "source": [
    "usefulness.quantile(0.05), usefulness.quantile(0.95)"
   ]
  },
  {
   "cell_type": "code",
   "execution_count": 25,
   "id": "a8ea6b26-fb31-4d0d-8033-bea997e3c6f1",
   "metadata": {},
   "outputs": [
    {
     "data": {
      "text/plain": [
       "<AxesSubplot: >"
      ]
     },
     "execution_count": 25,
     "metadata": {},
     "output_type": "execute_result"
    },
    {
     "data": {
      "image/png": "[encoded data removed]",
      "text/plain": [
       "<Figure size 640x480 with 1 Axes>"
      ]
     },
     "metadata": {},
     "output_type": "display_data"
    }
   ],
   "source": [
    "usefulness[\n",
    "    (usefulness >= usefulness.quantile(0.05))\n",
    "    & (usefulness <= usefulness.quantile(0.95))\n",
    "].hist(bins=15)\n"
   ]
  },
  {
   "cell_type": "markdown",
   "id": "c6ff9e25-5307-496c-a0c8-87f565fc0e9b",
   "metadata": {},
   "source": [
    "We can see that reviews are usually not very useful, but there are more useful ones than useless ones."
   ]
  },
  {
   "cell_type": "markdown",
   "id": "a9ba9977-9052-4be9-a958-047ade878738",
   "metadata": {},
   "source": [
    "### `review_body`"
   ]
  },
  {
   "cell_type": "markdown",
   "id": "90530554-6d6b-4d26-abc2-9112c23d6cd0",
   "metadata": {},
   "source": [
    "Some reviews have user's score in them. The scores located inside the review (usually, at the end).  \n",
    "Firstly, we need to extract the scores (we can use them as an additional feature), then we need to remove them from the reviews, so they won't spoil the generalization ability of classifier.\n",
    "\n",
    "Empirically, the next basic approach was developed. "
   ]
  },
  {
   "cell_type": "markdown",
   "id": "f2be40eb-3abc-4004-b314-3adc8fd785d5",
   "metadata": {},
   "source": [
    "#### Transformation"
   ]
  },
  {
   "cell_type": "markdown",
   "id": "01f63871-e38d-42a8-a061-09c88d17f6bf",
   "metadata": {},
   "source": [
    "##### Getting scores"
   ]
  },
  {
   "cell_type": "code",
   "execution_count": 26,
   "id": "fb5a0611-d2e7-4d78-9924-b721070e13f1",
   "metadata": {},
   "outputs": [],
   "source": [
    "prep = preprocessor.Preprocessor()"
   ]
  },
  {
   "cell_type": "code",
   "execution_count": 27,
   "id": "ee1a479c-f1a1-4cba-a9a9-1f5fda8e64c4",
   "metadata": {},
   "outputs": [
    {
     "name": "stderr",
     "output_type": "stream",
     "text": [
      " 10%|█         | 21300/206537 [00:00<00:08, 22704.57it/s]/home/extremesarova/projects/shows_analysis/venv/lib/python3.8/site-packages/bs4/__init__.py:431: MarkupResemblesLocatorWarning: \"http://www.agvaya.ru/?p=721#more-721\" looks like a URL. Beautiful Soup is not an HTTP client. You should probably use an HTTP client like requests to get the document behind the URL, and feed that document to Beautiful Soup.\n",
      "  warnings.warn(\n",
      " 87%|████████▋ | 179915/206537 [00:07<00:01, 24585.92it/s]/home/extremesarova/projects/shows_analysis/venv/lib/python3.8/site-packages/bs4/__init__.py:431: MarkupResemblesLocatorWarning: \"http://www.kinopoisk.ru/user/5016861/comment/2221734/\" looks like a URL. Beautiful Soup is not an HTTP client. You should probably use an HTTP client like requests to get the document behind the URL, and feed that document to Beautiful Soup.\n",
      "  warnings.warn(\n",
      "100%|██████████| 206537/206537 [00:08<00:00, 23732.13it/s]\n"
     ]
    }
   ],
   "source": [
    "scores_and_indices = [\n",
    "    return_score(prep, review) for review in tqdm(reviews[\"review_body\"].values)\n",
    "]"
   ]
  },
  {
   "cell_type": "code",
   "execution_count": 28,
   "id": "779ae88c-e945-4fe1-977e-f771227cfe25",
   "metadata": {},
   "outputs": [],
   "source": [
    "scores, score_sentence_indices = list(map(list, zip(*scores_and_indices)))"
   ]
  },
  {
   "cell_type": "code",
   "execution_count": 29,
   "id": "37c5db25-874a-4ff4-a8a1-3e5f586e1896",
   "metadata": {},
   "outputs": [],
   "source": [
    "reviews[\"scores\"] = scores"
   ]
  },
  {
   "cell_type": "markdown",
   "id": "6027ac9a-db68-4810-8313-be1a2940c7e1",
   "metadata": {},
   "source": [
    "##### Cleaning reviews from scores"
   ]
  },
  {
   "cell_type": "code",
   "execution_count": 30,
   "id": "ba6a5ef4-ef9c-41f0-b9e8-d30103713ae2",
   "metadata": {},
   "outputs": [
    {
     "data": {
      "application/vnd.jupyter.widget-view+json": {
       "model_id": "41ea41dbf26e4b0e88b78f9033a87a73",
       "version_major": 2,
       "version_minor": 0
      },
      "text/plain": [
       "Removing scores from reviews:   0%|          | 0/206537 [00:00<?, ?it/s]"
      ]
     },
     "metadata": {},
     "output_type": "display_data"
    }
   ],
   "source": [
    "reviews[\"review_body_cleaned\"] = clean_reviews_from_scores(\n",
    "    reviews[\"review_body\"].values, score_sentence_indices\n",
    ")"
   ]
  },
  {
   "cell_type": "markdown",
   "id": "149a857c-1b98-4a31-914d-7acfb9ff3ccf",
   "metadata": {},
   "source": [
    "#### Analysis"
   ]
  },
  {
   "cell_type": "code",
   "execution_count": 31,
   "id": "e9baa45d-d3fe-4775-9d1c-6a2876d64347",
   "metadata": {},
   "outputs": [],
   "source": [
    "counts = reviews[\"scores\"].value_counts(ascending=False)"
   ]
  },
  {
   "cell_type": "code",
   "execution_count": 32,
   "id": "d624c0d2-d7a1-420a-a5da-59b8081056c0",
   "metadata": {},
   "outputs": [
    {
     "data": {
      "text/plain": [
       "                          77321\n",
       "10 из 10                  47417\n",
       "9 из 10                   20113\n",
       "8 из 10                   18231\n",
       "7 из 10                   12245\n",
       "                          ...  \n",
       "6.8/10                        1\n",
       "4 мультипаспорта из 10        1\n",
       "7из 10                        1\n",
       "7 из 10                       1\n",
       "7 из 10 Йесодов.              1\n",
       "Name: scores, Length: 1038, dtype: int64"
      ]
     },
     "execution_count": 32,
     "metadata": {},
     "output_type": "execute_result"
    }
   ],
   "source": [
    "counts"
   ]
  },
  {
   "cell_type": "markdown",
   "id": "de97fb04-8c42-4853-bfdb-ad4f430858e7",
   "metadata": {},
   "source": [
    "As we can see, we haven't found scores inside 77 393 reviews."
   ]
  },
  {
   "cell_type": "markdown",
   "id": "c3cda8fd-9e1a-4ed0-b64f-6904d8936518",
   "metadata": {
    "tags": []
   },
   "source": [
    "### `scores`"
   ]
  },
  {
   "cell_type": "markdown",
   "id": "fab0f671-c39c-4253-af8e-20bc796383e4",
   "metadata": {},
   "source": [
    "#### Transformation"
   ]
  },
  {
   "cell_type": "markdown",
   "id": "ff8f974f-1d99-4a6e-86d6-c8a0c8acc0bd",
   "metadata": {},
   "source": [
    "##### Cleaning"
   ]
  },
  {
   "cell_type": "markdown",
   "id": "5d3ceed6-5452-48a4-ac1c-d4316586df75",
   "metadata": {},
   "source": [
    "Firstly, let's replace commas with dots"
   ]
  },
  {
   "cell_type": "code",
   "execution_count": 33,
   "id": "60f71f98-8b1f-4663-af2a-c17404ff4558",
   "metadata": {},
   "outputs": [],
   "source": [
    "reviews[\"scores\"] = reviews[\"scores\"].str.replace(\",\", \".\")"
   ]
  },
  {
   "cell_type": "markdown",
   "id": "f0a3bde6-76ad-4441-b541-47d197758c24",
   "metadata": {},
   "source": [
    "And then we will further clean the scores"
   ]
  },
  {
   "cell_type": "code",
   "execution_count": 34,
   "id": "f78f8bd5-3a04-4c5e-ba7b-ea855dfeea50",
   "metadata": {},
   "outputs": [
    {
     "name": "stderr",
     "output_type": "stream",
     "text": [
      "/tmp/ipykernel_20330/1255257644.py:2: FutureWarning: The default value of regex will change from True to False in a future version. In addition, single character regular expressions will *not* be treated as literal strings when regex=True.\n",
      "  reviews[\"scores\"]\n"
     ]
    }
   ],
   "source": [
    "reviews[\"scores\"] = (\n",
    "    reviews[\"scores\"]\n",
    "    .str.replace(\"!\", \".\")\n",
    "    .str.replace(\"+\", \"\")\n",
    "    .str.replace(\"из\", \"/\")\n",
    "    .str.rstrip(\".\")\n",
    "    .str.lstrip(\".\")\n",
    "    .str.rstrip(\"…\")\n",
    "    .str.replace(\" / \", \"/\")\n",
    "    .str.replace(\" /\", \"/\")\n",
    "    .str.replace(\"/ \", \"/\")\n",
    "    .str.replace(\"//\", \"/\")\n",
    ")"
   ]
  },
  {
   "cell_type": "markdown",
   "id": "5d3f78e1-bfda-432e-b584-ba62902588f0",
   "metadata": {},
   "source": [
    "##### Casting scores to real numbers"
   ]
  },
  {
   "cell_type": "code",
   "execution_count": 35,
   "id": "22badb46-37b8-458a-bece-c37e35125590",
   "metadata": {},
   "outputs": [
    {
     "name": "stderr",
     "output_type": "stream",
     "text": [
      "100%|██████████| 206537/206537 [00:00<00:00, 561580.90it/s]\n"
     ]
    }
   ],
   "source": [
    "reviews[\"scores_cleaned\"] = reviews[\"scores\"].progress_apply(\n",
    "    lambda score: cast_score_to_float(score)\n",
    ")"
   ]
  },
  {
   "cell_type": "markdown",
   "id": "90c406e6-f79e-46b9-be40-c7acccdac59f",
   "metadata": {},
   "source": [
    "#### Analysis"
   ]
  },
  {
   "cell_type": "code",
   "execution_count": 36,
   "id": "e9465fd3-5f2b-4d65-92a1-c825ac22ffac",
   "metadata": {},
   "outputs": [
    {
     "data": {
      "text/plain": [
       "<AxesSubplot: >"
      ]
     },
     "execution_count": 36,
     "metadata": {},
     "output_type": "execute_result"
    },
    {
     "data": {
      "image/png": "[encoded data removed]",
      "text/plain": [
       "<Figure size 640x480 with 1 Axes>"
      ]
     },
     "metadata": {},
     "output_type": "display_data"
    }
   ],
   "source": [
    "reviews[\"scores_cleaned\"].hist(bins=10)"
   ]
  },
  {
   "cell_type": "code",
   "execution_count": 37,
   "id": "f21e3ea5-ee69-4440-a5e3-74746af4fb96",
   "metadata": {},
   "outputs": [
    {
     "data": {
      "text/plain": [
       "Index(['show_id', 'user_id', 'type', 'datetime', 'sentiment', 'subtitle',\n",
       "       'review_body', 'usefulness_ratio', 'datetime_casted',\n",
       "       'usefulness_ratio_transformed', 'scores', 'review_body_cleaned',\n",
       "       'scores_cleaned'],\n",
       "      dtype='object')"
      ]
     },
     "execution_count": 37,
     "metadata": {},
     "output_type": "execute_result"
    }
   ],
   "source": [
    "reviews.columns"
   ]
  },
  {
   "cell_type": "markdown",
   "id": "fac692f0-0701-43ba-a3f9-699f40f1b583",
   "metadata": {},
   "source": [
    "Users tend to give a high score in their reviews."
   ]
  },
  {
   "cell_type": "markdown",
   "id": "b5532924",
   "metadata": {},
   "source": [
    "### `sentiment`"
   ]
  },
  {
   "cell_type": "markdown",
   "id": "f5125293",
   "metadata": {},
   "source": [
    "#### Transformation"
   ]
  },
  {
   "cell_type": "markdown",
   "id": "287eca78",
   "metadata": {},
   "source": [
    "Let's change labels to more established ones"
   ]
  },
  {
   "cell_type": "code",
   "execution_count": 38,
   "id": "4133a06d",
   "metadata": {},
   "outputs": [],
   "source": [
    "SENTIMENT_MAP = {\"good\": \"positive\", \"neutral\": \"neutral\", \"bad\": \"negative\"}"
   ]
  },
  {
   "cell_type": "code",
   "execution_count": 39,
   "id": "8f38c024",
   "metadata": {},
   "outputs": [],
   "source": [
    "reviews[\"sentiment\"] = reviews[\"sentiment\"].map(SENTIMENT_MAP)"
   ]
  },
  {
   "cell_type": "markdown",
   "id": "4bc4c20c-f827-463a-ae61-32dd73d67e25",
   "metadata": {},
   "source": [
    "## Saving merged and transformed dataset"
   ]
  },
  {
   "cell_type": "code",
   "execution_count": 40,
   "id": "e307ac7f-e0bc-4364-9250-f382c374777a",
   "metadata": {},
   "outputs": [],
   "source": [
    "columns = [\n",
    "    \"show_id\",\n",
    "    \"user_id\",\n",
    "    \"type\",\n",
    "    \"datetime_casted\",\n",
    "    \"sentiment\",\n",
    "    \"subtitle\",\n",
    "    \"review_body_cleaned\",\n",
    "    \"usefulness_ratio_transformed\",\n",
    "    \"scores_cleaned\",\n",
    "]\n",
    "\n",
    "final_reviews = reviews[columns].rename(\n",
    "    columns={\n",
    "        \"datetime_casted\": \"datetime\",\n",
    "        \"review_body_cleaned\": \"review\",\n",
    "        \"scores_cleaned\": \"score\",\n",
    "        \"usefulness_ratio_transformed\": \"review_score\",\n",
    "    }\n",
    ")"
   ]
  },
  {
   "cell_type": "code",
   "execution_count": 41,
   "id": "d1f359b9-aec3-497d-978c-db2ddf6d553f",
   "metadata": {},
   "outputs": [
    {
     "name": "stdout",
     "output_type": "stream",
     "text": [
      "<class 'pandas.core.frame.DataFrame'>\n",
      "RangeIndex: 206537 entries, 0 to 206536\n",
      "Data columns (total 9 columns):\n",
      " #   Column        Non-Null Count   Dtype         \n",
      "---  ------        --------------   -----         \n",
      " 0   show_id       206537 non-null  int64         \n",
      " 1   user_id       206537 non-null  int64         \n",
      " 2   type          206537 non-null  category      \n",
      " 3   datetime      206537 non-null  datetime64[ns]\n",
      " 4   sentiment     206537 non-null  category      \n",
      " 5   subtitle      173664 non-null  object        \n",
      " 6   review        206537 non-null  object        \n",
      " 7   review_score  206537 non-null  int64         \n",
      " 8   score         129216 non-null  float64       \n",
      "dtypes: category(2), datetime64[ns](1), float64(1), int64(3), object(2)\n",
      "memory usage: 11.4+ MB\n"
     ]
    }
   ],
   "source": [
    "final_reviews.info()"
   ]
  },
  {
   "cell_type": "code",
   "execution_count": 42,
   "id": "7d8e211d-edf2-443f-83ab-d48ce3ef5d62",
   "metadata": {},
   "outputs": [],
   "source": [
    "final_reviews.to_parquet(os.path.join(OUTPUT_PATH, \"reviews.parquet\"))"
   ]
  },
  {
   "cell_type": "code",
   "execution_count": null,
   "id": "2acafb91-2436-49c5-b352-90492187c18f",
   "metadata": {},
   "outputs": [],
   "source": []
  }
 ],
 "metadata": {
  "kernelspec": {
   "display_name": "Python 3.8.10 ('venv': venv)",
   "language": "python",
   "name": "python3"
  },
  "language_info": {
   "codemirror_mode": {
    "name": "ipython",
    "version": 3
   },
   "file_extension": ".py",
   "mimetype": "text/x-python",
   "name": "python",
   "nbconvert_exporter": "python",
   "pygments_lexer": "ipython3",
   "version": "3.8.10 (default, Jun 22 2022, 20:18:18) \n[GCC 9.4.0]"
  },
  "vscode": {
   "interpreter": {
    "hash": "2fc695378595f3e48db11f69abbf7a44c0bf6d3915fc4cddfa1186eec08a80f0"
   }
  }
 },
 "nbformat": 4,
 "nbformat_minor": 5
}
