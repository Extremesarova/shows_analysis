{
 "cells": [
  {
   "cell_type": "markdown",
   "id": "c3c851a7-3419-49b4-b115-1909dd0e1adf",
   "metadata": {},
   "source": [
    "# Pretrained: HuggingFace models"
   ]
  },
  {
   "cell_type": "markdown",
   "id": "c36631f4-d7e9-4c48-92fe-f2f388a3b324",
   "metadata": {},
   "source": [
    "In this notebook I'm going to try pretrained models hosted on Hugging Face"
   ]
  },
  {
   "cell_type": "code",
   "execution_count": 1,
   "id": "334ef23d",
   "metadata": {},
   "outputs": [],
   "source": [
    "# !pip3 install torch torchvision torchaudio --extra-index-url https://download.pytorch.org/whl/cu113 --upgrade\n",
    "# !pip3 install ipywidgets==7.7.2"
   ]
  },
  {
   "cell_type": "markdown",
   "id": "d1d3bab6-76e5-4c1a-981e-4f1006c86224",
   "metadata": {},
   "source": [
    "## Imports"
   ]
  },
  {
   "cell_type": "code",
   "execution_count": 2,
   "id": "65f9128d-93fe-4eb8-a623-291490a5c62b",
   "metadata": {},
   "outputs": [],
   "source": [
    "import os\n",
    "from collections import defaultdict\n",
    "from typing import Any, List\n",
    "\n",
    "import numpy as np\n",
    "import pandas as pd\n",
    "import torch"
   ]
  },
  {
   "cell_type": "code",
   "execution_count": 3,
   "id": "05ea22f5",
   "metadata": {},
   "outputs": [],
   "source": [
    "from shows_analysis.code.sentiment_analysis.huggingface_pipeilne import (\n",
    "    InferencePipeline,\n",
    ")"
   ]
  },
  {
   "cell_type": "code",
   "execution_count": 4,
   "id": "59e6c20d-f2ed-45eb-9918-bdb8f3bac462",
   "metadata": {},
   "outputs": [],
   "source": [
    "SEED = 42\n"
   ]
  },
  {
   "cell_type": "markdown",
   "id": "03bdfbdb",
   "metadata": {},
   "source": [
    "## Functions"
   ]
  },
  {
   "cell_type": "markdown",
   "id": "1dc8f767-3a51-460f-869d-985d5027c7e5",
   "metadata": {},
   "source": [
    "## Paths"
   ]
  },
  {
   "cell_type": "code",
   "execution_count": 5,
   "id": "d31ea325-b4e9-4ddc-9004-028b09f079ea",
   "metadata": {},
   "outputs": [],
   "source": [
    "relative_path = os.path.join(\"../../../\", \"data\")\n"
   ]
  },
  {
   "cell_type": "code",
   "execution_count": 6,
   "id": "589f2efd-9f1e-492c-b27a-c81c6120839f",
   "metadata": {},
   "outputs": [],
   "source": [
    "sentiment_analysis_data_path = os.path.join(relative_path, \"3_sentiment_analysis\")\n"
   ]
  },
  {
   "cell_type": "markdown",
   "id": "4fc6afa4-81c2-4116-95b4-1c1ede52c871",
   "metadata": {},
   "source": [
    "## Data"
   ]
  },
  {
   "cell_type": "markdown",
   "id": "259da1b8-158b-4a7c-ae33-4c1b377b8da2",
   "metadata": {},
   "source": [
    "### Loading data"
   ]
  },
  {
   "cell_type": "code",
   "execution_count": 7,
   "id": "b68f1853-797e-45d9-afbe-23cd1ab035c6",
   "metadata": {},
   "outputs": [
    {
     "name": "stdout",
     "output_type": "stream",
     "text": [
      "<class 'pandas.core.frame.DataFrame'>\n",
      "RangeIndex: 206737 entries, 0 to 206736\n",
      "Data columns (total 3 columns):\n",
      " #   Column     Non-Null Count   Dtype   \n",
      "---  ------     --------------   -----   \n",
      " 0   sentiment  206737 non-null  category\n",
      " 1   review     206737 non-null  object  \n",
      " 2   fold       206737 non-null  object  \n",
      "dtypes: category(1), object(2)\n",
      "memory usage: 3.4+ MB\n"
     ]
    }
   ],
   "source": [
    "reviews = pd.read_parquet(\n",
    "    os.path.join(sentiment_analysis_data_path, \"split_reviews.parquet\")\n",
    ")\n",
    "reviews.info()\n"
   ]
  },
  {
   "cell_type": "code",
   "execution_count": 8,
   "id": "1aa80db1",
   "metadata": {},
   "outputs": [],
   "source": [
    "train = reviews[reviews[\"fold\"] == \"train\"]\n",
    "test = reviews[reviews[\"fold\"] == \"test\"]\n"
   ]
  },
  {
   "cell_type": "code",
   "execution_count": 9,
   "id": "a507b863",
   "metadata": {},
   "outputs": [
    {
     "name": "stderr",
     "output_type": "stream",
     "text": [
      "C:\\Users\\ryblo\\AppData\\Local\\Temp\\ipykernel_18932\\2710760892.py:1: SettingWithCopyWarning: \n",
      "A value is trying to be set on a copy of a slice from a DataFrame.\n",
      "Try using .loc[row_indexer,col_indexer] = value instead\n",
      "\n",
      "See the caveats in the documentation: https://pandas.pydata.org/pandas-docs/stable/user_guide/indexing.html#returning-a-view-versus-a-copy\n",
      "  test[\"review\"] = test[\"review\"].str.replace(\"<p>\", \" \")\n"
     ]
    }
   ],
   "source": [
    "test[\"review\"] = test[\"review\"].str.replace(\"<p>\", \" \")\n"
   ]
  },
  {
   "cell_type": "code",
   "execution_count": 10,
   "id": "9719c374",
   "metadata": {},
   "outputs": [],
   "source": [
    "test_reviews = test[\"review\"].values.tolist()\n",
    "test_sentiment = test[\"sentiment\"].values"
   ]
  },
  {
   "cell_type": "markdown",
   "id": "878f18e3-2fb8-4837-998e-54ad6ab946c0",
   "metadata": {},
   "source": [
    "## Modelling"
   ]
  },
  {
   "cell_type": "markdown",
   "id": "a3a7674e",
   "metadata": {},
   "source": [
    "### Listing models"
   ]
  },
  {
   "cell_type": "code",
   "execution_count": 11,
   "id": "89d7da95",
   "metadata": {},
   "outputs": [],
   "source": [
    "MODELS = [\n",
    "    \"Tatyana/rubert-base-cased-sentiment-new\",\n",
    "    \"blanchefort/rubert-base-cased-sentiment\",\n",
    "]\n",
    "\n",
    "SCORES = defaultdict(float)"
   ]
  },
  {
   "cell_type": "code",
   "execution_count": 12,
   "id": "40bf03f3",
   "metadata": {},
   "outputs": [
    {
     "data": {
      "text/plain": [
       "['blanchefort/rubert-base-cased-sentiment']"
      ]
     },
     "execution_count": 12,
     "metadata": {},
     "output_type": "execute_result"
    }
   ],
   "source": [
    "MODELS[1:]"
   ]
  },
  {
   "cell_type": "markdown",
   "id": "8cb393be-2162-4f5d-94cf-d7df1dd3cd3e",
   "metadata": {},
   "source": [
    "### Evaluation"
   ]
  },
  {
   "cell_type": "code",
   "execution_count": 13,
   "id": "435e24a2",
   "metadata": {},
   "outputs": [
    {
     "name": "stdout",
     "output_type": "stream",
     "text": [
      "Inferencing using blanchefort/rubert-base-cased-sentiment model\n"
     ]
    },
    {
     "data": {
      "application/vnd.jupyter.widget-view+json": {
       "model_id": "3eb0c4bd26f9497b8f72f5b30a64f941",
       "version_major": 2,
       "version_minor": 0
      },
      "text/plain": [
       "  0%|          | 0/124 [00:00<?, ?it/s]"
      ]
     },
     "metadata": {},
     "output_type": "display_data"
    }
   ],
   "source": [
    "for model in MODELS[1:]:\n",
    "    pipeline = InferencePipeline(\n",
    "        texts=test_reviews, class_labels=test_sentiment, model_name=model\n",
    "    )\n",
    "    pipeline.batch_inference()\n",
    "    SCORES[model] = pipeline.get_f1_score(pipeline.class_labels, pipeline.pred_labels)"
   ]
  },
  {
   "cell_type": "code",
   "execution_count": 14,
   "id": "70c7b942",
   "metadata": {},
   "outputs": [
    {
     "name": "stdout",
     "output_type": "stream",
     "text": [
      "defaultdict(<class 'float'>, {'blanchefort/rubert-base-cased-sentiment': 0.043})\n"
     ]
    }
   ],
   "source": [
    "print(SCORES)"
   ]
  }
 ],
 "metadata": {
  "kernelspec": {
   "display_name": "movie_reviews",
   "language": "python",
   "name": "movie_reviews"
  },
  "language_info": {
   "codemirror_mode": {
    "name": "ipython",
    "version": 3
   },
   "file_extension": ".py",
   "mimetype": "text/x-python",
   "name": "python",
   "nbconvert_exporter": "python",
   "pygments_lexer": "ipython3",
   "version": "3.8.10"
  }
 },
 "nbformat": 4,
 "nbformat_minor": 5
}
