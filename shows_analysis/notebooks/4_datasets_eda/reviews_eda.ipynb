{
 "cells": [
  {
   "cell_type": "markdown",
   "id": "8f1abd1b-2fdd-46cf-81f0-92a75bc71e39",
   "metadata": {},
   "source": [
    "# Exploratory Data Analysis of Show Reviews"
   ]
  },
  {
   "cell_type": "markdown",
   "id": "7f9e4f5b-9988-48dc-8022-3202da13212b",
   "metadata": {},
   "source": [
    "In this notebook I'm going to explore the reviews' dataset."
   ]
  },
  {
   "cell_type": "markdown",
   "id": "b5a98d37-02da-4083-b540-532686f14f81",
   "metadata": {},
   "source": [
    "## Imports"
   ]
  },
  {
   "cell_type": "code",
   "execution_count": 20,
   "id": "1eff0667-a9c1-40a8-8f1a-5983d43f9b45",
   "metadata": {},
   "outputs": [],
   "source": [
    "import os\n",
    "\n",
    "import numpy as np\n",
    "import pandas as pd\n",
    "import matplotlib.pyplot as plt\n",
    "import seaborn as sns"
   ]
  },
  {
   "cell_type": "code",
   "execution_count": 2,
   "metadata": {},
   "outputs": [],
   "source": [
    "%matplotlib inline\n",
    "%config InlineBackend.figure_format='retina'"
   ]
  },
  {
   "cell_type": "code",
   "execution_count": 3,
   "id": "635095b3-3879-431b-8785-21927529f96c",
   "metadata": {},
   "outputs": [],
   "source": [
    "SEED = 42\n"
   ]
  },
  {
   "cell_type": "markdown",
   "id": "9d2710a3-f70e-4d6f-83fd-fcd1efff9997",
   "metadata": {},
   "source": [
    "## Paths"
   ]
  },
  {
   "cell_type": "code",
   "execution_count": 4,
   "id": "0a74803b-1f29-4c52-b93f-1cfaad737fcc",
   "metadata": {},
   "outputs": [],
   "source": [
    "relative_path = os.path.join(\"../../../\", \"data\")\n",
    "cleaned_reviews_path = os.path.join(relative_path, \"2_cleaned_reviews\")\n"
   ]
  },
  {
   "cell_type": "markdown",
   "id": "e45ef437-a9da-4009-8ab9-26f684bfe9b7",
   "metadata": {},
   "source": [
    "## Data"
   ]
  },
  {
   "cell_type": "markdown",
   "id": "87ac0eda-b7d6-4417-bd93-dd5f21f218ee",
   "metadata": {},
   "source": [
    "### Loading data"
   ]
  },
  {
   "cell_type": "code",
   "execution_count": 5,
   "id": "157c68ab-2d3f-409f-892b-609694bf2beb",
   "metadata": {},
   "outputs": [
    {
     "data": {
      "text/plain": [
       "(206737, 9)"
      ]
     },
     "execution_count": 5,
     "metadata": {},
     "output_type": "execute_result"
    }
   ],
   "source": [
    "reviews = pd.read_parquet(os.path.join(cleaned_reviews_path, \"reviews.parquet\"))\n",
    "reviews.shape\n"
   ]
  },
  {
   "cell_type": "markdown",
   "id": "85415faf-82ea-40e8-9c7a-3e9236726f49",
   "metadata": {},
   "source": [
    "### Dataset overview"
   ]
  },
  {
   "cell_type": "code",
   "execution_count": 6,
   "id": "80312a74-120e-4cc1-8484-2c0c71c42a0e",
   "metadata": {},
   "outputs": [
    {
     "data": {
      "text/html": [
       "<div>\n",
       "<style scoped>\n",
       "    .dataframe tbody tr th:only-of-type {\n",
       "        vertical-align: middle;\n",
       "    }\n",
       "\n",
       "    .dataframe tbody tr th {\n",
       "        vertical-align: top;\n",
       "    }\n",
       "\n",
       "    .dataframe thead th {\n",
       "        text-align: right;\n",
       "    }\n",
       "</style>\n",
       "<table border=\"1\" class=\"dataframe\">\n",
       "  <thead>\n",
       "    <tr style=\"text-align: right;\">\n",
       "      <th></th>\n",
       "      <th>show_id</th>\n",
       "      <th>user_id</th>\n",
       "      <th>type</th>\n",
       "      <th>datetime</th>\n",
       "      <th>sentiment</th>\n",
       "      <th>subtitle</th>\n",
       "      <th>review</th>\n",
       "      <th>review_score</th>\n",
       "      <th>score</th>\n",
       "    </tr>\n",
       "  </thead>\n",
       "  <tbody>\n",
       "    <tr>\n",
       "      <th>196236</th>\n",
       "      <td>257386</td>\n",
       "      <td>28525</td>\n",
       "      <td>series</td>\n",
       "      <td>2010-08-27 11:23:00</td>\n",
       "      <td>positive</td>\n",
       "      <td>Вечный город.</td>\n",
       "      <td>К истории Древнего мира у меня отношение особо...</td>\n",
       "      <td>40</td>\n",
       "      <td>NaN</td>\n",
       "    </tr>\n",
       "    <tr>\n",
       "      <th>128582</th>\n",
       "      <td>688832</td>\n",
       "      <td>44953</td>\n",
       "      <td>movie</td>\n",
       "      <td>2015-02-20 23:19:00</td>\n",
       "      <td>negative</td>\n",
       "      <td>50 оттенков разочарования</td>\n",
       "      <td>Говорю сразу, книги читала все, да и по нескол...</td>\n",
       "      <td>5</td>\n",
       "      <td>3.0</td>\n",
       "    </tr>\n",
       "    <tr>\n",
       "      <th>159673</th>\n",
       "      <td>349</td>\n",
       "      <td>33910</td>\n",
       "      <td>movie</td>\n",
       "      <td>2018-04-15 21:04:00</td>\n",
       "      <td>positive</td>\n",
       "      <td>Господи, спасибо, что не пронесло мимо</td>\n",
       "      <td>Есть два типа фильмов, мой друг. Одни ты прост...</td>\n",
       "      <td>4</td>\n",
       "      <td>NaN</td>\n",
       "    </tr>\n",
       "    <tr>\n",
       "      <th>109244</th>\n",
       "      <td>686898</td>\n",
       "      <td>44065</td>\n",
       "      <td>movie</td>\n",
       "      <td>2019-11-09 11:58:00</td>\n",
       "      <td>neutral</td>\n",
       "      <td>Что же стало с клоуном?</td>\n",
       "      <td>Итак, в первую очередь хотелось бы отметить то...</td>\n",
       "      <td>2</td>\n",
       "      <td>6.5</td>\n",
       "    </tr>\n",
       "    <tr>\n",
       "      <th>92610</th>\n",
       "      <td>61455</td>\n",
       "      <td>66782</td>\n",
       "      <td>movie</td>\n",
       "      <td>2017-11-27 18:52:00</td>\n",
       "      <td>positive</td>\n",
       "      <td>Они отказываются подчиняться</td>\n",
       "      <td>Автора этого замечательного фильма, Джосса Уэд...</td>\n",
       "      <td>5</td>\n",
       "      <td>NaN</td>\n",
       "    </tr>\n",
       "    <tr>\n",
       "      <th>43727</th>\n",
       "      <td>491724</td>\n",
       "      <td>44563</td>\n",
       "      <td>movie</td>\n",
       "      <td>2012-01-28 23:18:00</td>\n",
       "      <td>positive</td>\n",
       "      <td>Жестокая правда</td>\n",
       "      <td>Финчер снова нас поразил, он всегда нас поража...</td>\n",
       "      <td>7</td>\n",
       "      <td>10.0</td>\n",
       "    </tr>\n",
       "    <tr>\n",
       "      <th>50195</th>\n",
       "      <td>102130</td>\n",
       "      <td>67145</td>\n",
       "      <td>movie</td>\n",
       "      <td>2009-08-17 11:56:00</td>\n",
       "      <td>positive</td>\n",
       "      <td>Преодолеть 2 года жизни, что встретиться</td>\n",
       "      <td>Слышал о фильме много, и в основном положитель...</td>\n",
       "      <td>11</td>\n",
       "      <td>10.0</td>\n",
       "    </tr>\n",
       "    <tr>\n",
       "      <th>43651</th>\n",
       "      <td>491724</td>\n",
       "      <td>66283</td>\n",
       "      <td>movie</td>\n",
       "      <td>2012-02-19 15:33:00</td>\n",
       "      <td>negative</td>\n",
       "      <td>Мужчины, которые ненавидели женщин.</td>\n",
       "      <td>Я попробовала рассматривать этот фильм с двух ...</td>\n",
       "      <td>3</td>\n",
       "      <td>6.0</td>\n",
       "    </tr>\n",
       "    <tr>\n",
       "      <th>48775</th>\n",
       "      <td>7226</td>\n",
       "      <td>7905</td>\n",
       "      <td>movie</td>\n",
       "      <td>2014-02-20 03:44:00</td>\n",
       "      <td>positive</td>\n",
       "      <td>None</td>\n",
       "      <td>«Догвилль» - это один из тех редких фильмов, п...</td>\n",
       "      <td>3</td>\n",
       "      <td>10.0</td>\n",
       "    </tr>\n",
       "    <tr>\n",
       "      <th>75262</th>\n",
       "      <td>458</td>\n",
       "      <td>33255</td>\n",
       "      <td>movie</td>\n",
       "      <td>2013-06-22 21:14:00</td>\n",
       "      <td>positive</td>\n",
       "      <td>Тайна закрытой двери</td>\n",
       "      <td>Я имела счастье смотреть этот мультфильм в кин...</td>\n",
       "      <td>6</td>\n",
       "      <td>10.0</td>\n",
       "    </tr>\n",
       "  </tbody>\n",
       "</table>\n",
       "</div>"
      ],
      "text/plain": [
       "        show_id  user_id    type            datetime sentiment  \\\n",
       "196236   257386    28525  series 2010-08-27 11:23:00  positive   \n",
       "128582   688832    44953   movie 2015-02-20 23:19:00  negative   \n",
       "159673      349    33910   movie 2018-04-15 21:04:00  positive   \n",
       "109244   686898    44065   movie 2019-11-09 11:58:00   neutral   \n",
       "92610     61455    66782   movie 2017-11-27 18:52:00  positive   \n",
       "43727    491724    44563   movie 2012-01-28 23:18:00  positive   \n",
       "50195    102130    67145   movie 2009-08-17 11:56:00  positive   \n",
       "43651    491724    66283   movie 2012-02-19 15:33:00  negative   \n",
       "48775      7226     7905   movie 2014-02-20 03:44:00  positive   \n",
       "75262       458    33255   movie 2013-06-22 21:14:00  positive   \n",
       "\n",
       "                                        subtitle  \\\n",
       "196236                             Вечный город.   \n",
       "128582                 50 оттенков разочарования   \n",
       "159673    Господи, спасибо, что не пронесло мимо   \n",
       "109244                   Что же стало с клоуном?   \n",
       "92610               Они отказываются подчиняться   \n",
       "43727                            Жестокая правда   \n",
       "50195   Преодолеть 2 года жизни, что встретиться   \n",
       "43651        Мужчины, которые ненавидели женщин.   \n",
       "48775                                       None   \n",
       "75262                       Тайна закрытой двери   \n",
       "\n",
       "                                                   review  review_score  score  \n",
       "196236  К истории Древнего мира у меня отношение особо...            40    NaN  \n",
       "128582  Говорю сразу, книги читала все, да и по нескол...             5    3.0  \n",
       "159673  Есть два типа фильмов, мой друг. Одни ты прост...             4    NaN  \n",
       "109244  Итак, в первую очередь хотелось бы отметить то...             2    6.5  \n",
       "92610   Автора этого замечательного фильма, Джосса Уэд...             5    NaN  \n",
       "43727   Финчер снова нас поразил, он всегда нас поража...             7   10.0  \n",
       "50195   Слышал о фильме много, и в основном положитель...            11   10.0  \n",
       "43651   Я попробовала рассматривать этот фильм с двух ...             3    6.0  \n",
       "48775   «Догвилль» - это один из тех редких фильмов, п...             3   10.0  \n",
       "75262   Я имела счастье смотреть этот мультфильм в кин...             6   10.0  "
      ]
     },
     "execution_count": 6,
     "metadata": {},
     "output_type": "execute_result"
    }
   ],
   "source": [
    "reviews.sample(n=10, random_state=SEED)\n"
   ]
  },
  {
   "cell_type": "markdown",
   "metadata": {},
   "source": [
    "## EDA"
   ]
  },
  {
   "cell_type": "markdown",
   "metadata": {},
   "source": [
    "### Descriptive statistics"
   ]
  },
  {
   "cell_type": "code",
   "execution_count": 7,
   "metadata": {},
   "outputs": [
    {
     "data": {
      "text/plain": [
       "206737"
      ]
     },
     "execution_count": 7,
     "metadata": {},
     "output_type": "execute_result"
    }
   ],
   "source": [
    "reviews.shape[0]\n"
   ]
  },
  {
   "cell_type": "markdown",
   "metadata": {},
   "source": [
    "Overall, users left `206 737` reviews.  "
   ]
  },
  {
   "cell_type": "code",
   "execution_count": 8,
   "metadata": {},
   "outputs": [
    {
     "data": {
      "text/plain": [
       "show_id     1862\n",
       "user_id    69172\n",
       "dtype: int64"
      ]
     },
     "execution_count": 8,
     "metadata": {},
     "output_type": "execute_result"
    }
   ],
   "source": [
    "reviews[[\"show_id\", \"user_id\"]].nunique()\n"
   ]
  },
  {
   "cell_type": "markdown",
   "metadata": {},
   "source": [
    "The number of unique users that left reviews is `69172`. While the number of unique shows (movies/series) is `1862`."
   ]
  },
  {
   "cell_type": "markdown",
   "metadata": {},
   "source": [
    "`171 094` reviews were left for movies, which is approximately `83%`."
   ]
  },
  {
   "cell_type": "code",
   "execution_count": 9,
   "metadata": {},
   "outputs": [
    {
     "data": {
      "text/plain": [
       "movie     171094\n",
       "series     35643\n",
       "Name: type, dtype: int64"
      ]
     },
     "execution_count": 9,
     "metadata": {},
     "output_type": "execute_result"
    }
   ],
   "source": [
    "reviews[\"type\"].value_counts()\n"
   ]
  },
  {
   "cell_type": "markdown",
   "metadata": {},
   "source": [
    "### Users"
   ]
  },
  {
   "cell_type": "markdown",
   "metadata": {},
   "source": [
    "Let's look at the activity of the users"
   ]
  },
  {
   "cell_type": "code",
   "execution_count": 21,
   "metadata": {},
   "outputs": [],
   "source": [
    "number_of_reviews_per_user_per_type = (\n",
    "    reviews.groupby(\"type\")\n",
    "    .agg({\"user_id\": \"value_counts\"})\n",
    "    .rename(columns={\"user_id\": \"reviews_per_user\"})\n",
    "    .reset_index()\n",
    ")"
   ]
  },
  {
   "cell_type": "code",
   "execution_count": 35,
   "metadata": {},
   "outputs": [
    {
     "data": {
      "text/html": [
       "<div>\n",
       "<style scoped>\n",
       "    .dataframe tbody tr th:only-of-type {\n",
       "        vertical-align: middle;\n",
       "    }\n",
       "\n",
       "    .dataframe tbody tr th {\n",
       "        vertical-align: top;\n",
       "    }\n",
       "\n",
       "    .dataframe thead th {\n",
       "        text-align: right;\n",
       "    }\n",
       "</style>\n",
       "<table border=\"1\" class=\"dataframe\">\n",
       "  <thead>\n",
       "    <tr style=\"text-align: right;\">\n",
       "      <th></th>\n",
       "      <th>count</th>\n",
       "      <th>mean</th>\n",
       "      <th>std</th>\n",
       "      <th>min</th>\n",
       "      <th>1%</th>\n",
       "      <th>10%</th>\n",
       "      <th>25%</th>\n",
       "      <th>50%</th>\n",
       "      <th>75%</th>\n",
       "      <th>90%</th>\n",
       "      <th>95%</th>\n",
       "      <th>99%</th>\n",
       "      <th>99.9%</th>\n",
       "      <th>max</th>\n",
       "    </tr>\n",
       "    <tr>\n",
       "      <th>type</th>\n",
       "      <th></th>\n",
       "      <th></th>\n",
       "      <th></th>\n",
       "      <th></th>\n",
       "      <th></th>\n",
       "      <th></th>\n",
       "      <th></th>\n",
       "      <th></th>\n",
       "      <th></th>\n",
       "      <th></th>\n",
       "      <th></th>\n",
       "      <th></th>\n",
       "      <th></th>\n",
       "      <th></th>\n",
       "    </tr>\n",
       "  </thead>\n",
       "  <tbody>\n",
       "    <tr>\n",
       "      <th>movie</th>\n",
       "      <td>58114.0</td>\n",
       "      <td>2.944110</td>\n",
       "      <td>8.693822</td>\n",
       "      <td>1.0</td>\n",
       "      <td>1.0</td>\n",
       "      <td>1.0</td>\n",
       "      <td>1.0</td>\n",
       "      <td>1.0</td>\n",
       "      <td>2.0</td>\n",
       "      <td>5.0</td>\n",
       "      <td>9.0</td>\n",
       "      <td>30.0</td>\n",
       "      <td>127.887</td>\n",
       "      <td>494.0</td>\n",
       "    </tr>\n",
       "    <tr>\n",
       "      <th>series</th>\n",
       "      <td>20465.0</td>\n",
       "      <td>1.741656</td>\n",
       "      <td>3.254028</td>\n",
       "      <td>1.0</td>\n",
       "      <td>1.0</td>\n",
       "      <td>1.0</td>\n",
       "      <td>1.0</td>\n",
       "      <td>1.0</td>\n",
       "      <td>2.0</td>\n",
       "      <td>3.0</td>\n",
       "      <td>4.0</td>\n",
       "      <td>12.0</td>\n",
       "      <td>38.536</td>\n",
       "      <td>150.0</td>\n",
       "    </tr>\n",
       "  </tbody>\n",
       "</table>\n",
       "</div>"
      ],
      "text/plain": [
       "          count      mean       std  min   1%  10%  25%  50%  75%  90%  95%  \\\n",
       "type                                                                          \n",
       "movie   58114.0  2.944110  8.693822  1.0  1.0  1.0  1.0  1.0  2.0  5.0  9.0   \n",
       "series  20465.0  1.741656  3.254028  1.0  1.0  1.0  1.0  1.0  2.0  3.0  4.0   \n",
       "\n",
       "         99%    99.9%    max  \n",
       "type                          \n",
       "movie   30.0  127.887  494.0  \n",
       "series  12.0   38.536  150.0  "
      ]
     },
     "execution_count": 35,
     "metadata": {},
     "output_type": "execute_result"
    }
   ],
   "source": [
    "number_of_reviews_per_user_per_type.groupby(\"type\")[\"reviews_per_user\"].describe(\n",
    "    percentiles=[0.01, 0.1, 0.25, 0.5, 0.75, 0.9, 0.95, 0.99, 0.999]\n",
    ")\n"
   ]
  },
  {
   "cell_type": "markdown",
   "metadata": {},
   "source": [
    "As we can see, on average, users leave 3 reviews, but the median value is equal to 1 review.  \n",
    "It means that we have a lot of outliers - people, who leave enormous amounts of reviews."
   ]
  },
  {
   "cell_type": "code",
   "execution_count": 37,
   "metadata": {},
   "outputs": [],
   "source": [
    "number_of_reviews_per_user_per_type_cut = number_of_reviews_per_user_per_type[\n",
    "    number_of_reviews_per_user_per_type[\"reviews_per_user\"] <= 9\n",
    "]"
   ]
  },
  {
   "cell_type": "code",
   "execution_count": 40,
   "metadata": {},
   "outputs": [
    {
     "data": {
      "image/png": "[encoded data removed]",
      "text/plain": [
       "<Figure size 1000x500 with 2 Axes>"
      ]
     },
     "metadata": {
      "image/png": {
       "height": 450,
       "width": 868
      }
     },
     "output_type": "display_data"
    }
   ],
   "source": [
    "f, ax = plt.subplots(1, 2, figsize=(10, 5))\n",
    "\n",
    "number_of_reviews_per_user_per_type_cut[\n",
    "    number_of_reviews_per_user_per_type_cut[\"type\"] == \"movie\"\n",
    "][\"reviews_per_user\"].plot.hist(ax=ax[0], edgecolor=\"black\", color=\"red\")\n",
    "ax[0].set_title(\"Type = movie\")\n",
    "\n",
    "\n",
    "number_of_reviews_per_user_per_type_cut[\n",
    "    number_of_reviews_per_user_per_type_cut[\"type\"] == \"series\"\n",
    "][\"reviews_per_user\"].plot.hist(ax=ax[1], color=\"green\", edgecolor=\"black\")\n",
    "ax[1].set_title(\"Type = series\")\n",
    "\n",
    "plt.show()\n"
   ]
  },
  {
   "cell_type": "code",
   "execution_count": null,
   "metadata": {},
   "outputs": [],
   "source": []
  }
 ],
 "metadata": {
  "kernelspec": {
   "display_name": "Python 3.8.10 ('venv': venv)",
   "language": "python",
   "name": "python3"
  },
  "language_info": {
   "codemirror_mode": {
    "name": "ipython",
    "version": 3
   },
   "file_extension": ".py",
   "mimetype": "text/x-python",
   "name": "python",
   "nbconvert_exporter": "python",
   "pygments_lexer": "ipython3",
   "version": "3.8.10"
  },
  "orig_nbformat": 4,
  "vscode": {
   "interpreter": {
    "hash": "c697f3aa69c95df75a11a97fb3af54f9b56c9dfec61c1ec31995037baed3ca00"
   }
  }
 },
 "nbformat": 4,
 "nbformat_minor": 2
}
