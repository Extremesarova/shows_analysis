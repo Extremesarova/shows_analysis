{
 "cells": [
  {
   "cell_type": "markdown",
   "id": "b12aa654-a234-41c0-b1ee-562ea6f8d0ac",
   "metadata": {},
   "source": [
    "# EDA of show reviews"
   ]
  },
  {
   "cell_type": "markdown",
   "id": "5add38d5-39e8-4d39-a4cb-97544d04d55c",
   "metadata": {},
   "source": [
    "The goal of this analysis is to look at the data, get some insights and transform the data if needed. "
   ]
  },
  {
   "cell_type": "markdown",
   "id": "5138c25c-cb9d-4e21-bff1-565eb4c3f19a",
   "metadata": {},
   "source": [
    "## Imports"
   ]
  },
  {
   "cell_type": "code",
   "execution_count": 1,
   "id": "1ea98424-a1d6-456e-9663-ad6f45881408",
   "metadata": {},
   "outputs": [],
   "source": [
    "# !pip install dateparser"
   ]
  },
  {
   "cell_type": "code",
   "execution_count": 17,
   "id": "fce2d634-04a3-4ca9-908a-7b65d6705a60",
   "metadata": {},
   "outputs": [],
   "source": [
    "import os\n",
    "import re\n",
    "import sys\n",
    "import warnings\n",
    "from pathlib import Path\n",
    "from typing import List\n",
    "\n",
    "import dateparser\n",
    "import numpy as np\n",
    "import pandas as pd\n",
    "from bs4 import BeautifulSoup\n",
    "from matplotlib import pyplot as plt\n",
    "from tqdm import tqdm\n",
    "\n",
    "tqdm.pandas()\n",
    "\n",
    "\n",
    "%matplotlib inline\n",
    "%config InlineBackend.figure_format='retina'"
   ]
  },
  {
   "cell_type": "code",
   "execution_count": 2,
   "id": "94b26f64-9505-4252-b894-30c00302bd36",
   "metadata": {},
   "outputs": [],
   "source": [
    "from shows_analysis.preprocessing import preprocessor"
   ]
  },
  {
   "cell_type": "code",
   "execution_count": 3,
   "id": "5823680a-5654-4caa-bc88-bd546f1395eb",
   "metadata": {},
   "outputs": [],
   "source": [
    "SEED = 42"
   ]
  },
  {
   "cell_type": "markdown",
   "id": "176220e8-9d06-478b-b60f-4b5e85e61993",
   "metadata": {},
   "source": [
    "## Functions"
   ]
  },
  {
   "cell_type": "code",
   "execution_count": 4,
   "id": "c2fe44e1-393c-4416-a8eb-525795a20821",
   "metadata": {},
   "outputs": [],
   "source": [
    "def normalize_datetime(datetime: str) -> str:\n",
    "    return dateparser.parse(datetime).strftime(\"%d.%m.%Y %H:%M\")"
   ]
  },
  {
   "cell_type": "code",
   "execution_count": 5,
   "id": "b500ac13-cf87-4f9f-95cd-3d182ec7aa9c",
   "metadata": {},
   "outputs": [],
   "source": [
    "def return_score(preprocessor, review: str) -> str:\n",
    "    scores = []\n",
    "    score = \"\"\n",
    "    splitted_review = review.split(\"<p>\")\n",
    "\n",
    "    # looking only at the last three sentences\n",
    "    for s in splitted_review[-3:]:\n",
    "        if preprocessor.has_numbers(s) and ((\"/\" in s) or (\"из\" in s)):\n",
    "            scores.append(s)\n",
    "\n",
    "    # taking only the last match\n",
    "    score_candidate = (\n",
    "        BeautifulSoup(scores[-1], \"html.parser\").get_text() if scores else \"\"\n",
    "    )\n",
    "\n",
    "    # sum of digits in the string - useful, if digits are big\n",
    "    sum_scores = sum([int(number) for number in re.findall(r\"\\d+\", score_candidate)])\n",
    "\n",
    "    if (\n",
    "        scores\n",
    "        and len(score_candidate.split(\" \")) <= 4\n",
    "        and score_candidate != \"\"\n",
    "        and sum_scores < 50\n",
    "    ):\n",
    "        score = score_candidate\n",
    "\n",
    "    score_index = (\n",
    "        splitted_review.index(scores[-1])\n",
    "        if scores and scores[-1] in splitted_review\n",
    "        else None\n",
    "    )\n",
    "\n",
    "    return score.strip(), score_index"
   ]
  },
  {
   "cell_type": "code",
   "execution_count": 6,
   "id": "2f0915c2-4b59-406a-86c7-7df3fa02c439",
   "metadata": {},
   "outputs": [],
   "source": [
    "def clean_reviews_from_scores(reviews: List[str], score_sentence_indices: list):\n",
    "    cleaned_reviews = []\n",
    "\n",
    "    for review, score_sentence_index in tqdm(\n",
    "        zip(reviews, score_sentence_indices),\n",
    "        total=len(reviews),\n",
    "        desc=\"Removing scores from reviews\",\n",
    "    ):\n",
    "        splitted_review = review.split(\"<p>\")\n",
    "        if score_sentence_index is not None:\n",
    "            del splitted_review[score_sentence_index]\n",
    "        cleaned_reviews.append(\"<p>\".join(splitted_review))\n",
    "\n",
    "    return cleaned_reviews"
   ]
  },
  {
   "cell_type": "code",
   "execution_count": 7,
   "id": "ccda0118-cf87-4156-8a00-32c6fce7f699",
   "metadata": {},
   "outputs": [],
   "source": [
    "def cast_score_to_float(\n",
    "    score_string: str,\n",
    "    regex_expression: str = \"[-+]?[.]?[\\d]+(?:,\\d\\d\\d)*[\\.]?\\d*(?:[eE][-+]?\\d+)?\",\n",
    ") -> float:\n",
    "    real_numbers = re.findall(regex_expression, score_string)\n",
    "    real_numbers = [float(number) for number in real_numbers]\n",
    "\n",
    "    score = real_numbers[0] if len(real_numbers) >= 1 else None\n",
    "\n",
    "    if score is not None:\n",
    "        score = 10.0 if score > 10.0 else score\n",
    "        score = 0.0 if score < 0.0 else score\n",
    "\n",
    "    return score"
   ]
  },
  {
   "cell_type": "markdown",
   "id": "95011d87-7ba3-4f4c-9f4e-3f243599f3db",
   "metadata": {},
   "source": [
    "## Paths"
   ]
  },
  {
   "cell_type": "code",
   "execution_count": 18,
   "id": "13760f26-a720-44a5-98fc-d8438d9003a2",
   "metadata": {},
   "outputs": [],
   "source": [
    "relative_input_path = os.path.join(\"../../../../\", \"data\", \"1_anonymized_data\")"
   ]
  },
  {
   "cell_type": "code",
   "execution_count": 19,
   "id": "30d19780-b2bd-4c4a-8c17-7952073df7aa",
   "metadata": {},
   "outputs": [],
   "source": [
    "relative_output_path = os.path.join(\"../../../../\", \"data\", \"2_cleaned_reviews\")\n",
    "Path(relative_output_path).mkdir(parents=True, exist_ok=True)"
   ]
  },
  {
   "cell_type": "markdown",
   "id": "2112133f-69a1-4404-b8bc-79f2ad134cad",
   "metadata": {},
   "source": [
    "## Data"
   ]
  },
  {
   "cell_type": "markdown",
   "id": "46746c6c-aa00-4af5-a281-1ac53d782500",
   "metadata": {},
   "source": [
    "### Loading data"
   ]
  },
  {
   "cell_type": "code",
   "execution_count": 20,
   "id": "56fbff50-2568-4000-b1b1-7fc0bebc6ab4",
   "metadata": {},
   "outputs": [
    {
     "data": {
      "text/plain": [
       "(171094, 7)"
      ]
     },
     "execution_count": 20,
     "metadata": {},
     "output_type": "execute_result"
    }
   ],
   "source": [
    "movie_reviews_df = pd.read_parquet(\n",
    "    os.path.join(relative_input_path, \"movies_reviews.parquet\")\n",
    ")\n",
    "movie_reviews_df.shape"
   ]
  },
  {
   "cell_type": "code",
   "execution_count": 21,
   "id": "8a00b20d-7908-42a6-a2cd-16bff5c4b8f6",
   "metadata": {},
   "outputs": [
    {
     "data": {
      "text/plain": [
       "(35643, 7)"
      ]
     },
     "execution_count": 21,
     "metadata": {},
     "output_type": "execute_result"
    }
   ],
   "source": [
    "series_reviews_df = pd.read_parquet(\n",
    "    os.path.join(relative_input_path, \"series_reviews.parquet\")\n",
    ")\n",
    "series_reviews_df.shape"
   ]
  },
  {
   "cell_type": "markdown",
   "id": "d556d49e-e9d6-49d0-b91a-4697d9be3300",
   "metadata": {},
   "source": [
    "### Dataset overview"
   ]
  },
  {
   "cell_type": "code",
   "execution_count": 12,
   "id": "6a66766c-d9b5-4026-9f62-a6e9e675ee80",
   "metadata": {},
   "outputs": [
    {
     "data": {
      "text/html": [
       "<div>\n",
       "<style scoped>\n",
       "    .dataframe tbody tr th:only-of-type {\n",
       "        vertical-align: middle;\n",
       "    }\n",
       "\n",
       "    .dataframe tbody tr th {\n",
       "        vertical-align: top;\n",
       "    }\n",
       "\n",
       "    .dataframe thead th {\n",
       "        text-align: right;\n",
       "    }\n",
       "</style>\n",
       "<table border=\"1\" class=\"dataframe\">\n",
       "  <thead>\n",
       "    <tr style=\"text-align: right;\">\n",
       "      <th></th>\n",
       "      <th>show_id</th>\n",
       "      <th>user_id</th>\n",
       "      <th>datetime</th>\n",
       "      <th>sentiment</th>\n",
       "      <th>subtitle</th>\n",
       "      <th>review_body</th>\n",
       "      <th>usefulness_ratio</th>\n",
       "    </tr>\n",
       "  </thead>\n",
       "  <tbody>\n",
       "    <tr>\n",
       "      <th>29900</th>\n",
       "      <td>1965</td>\n",
       "      <td>44279</td>\n",
       "      <td>21 января 2010 19:09</td>\n",
       "      <td>good</td>\n",
       "      <td></td>\n",
       "      <td>Юг США, Миссисипи, отличающееся расовым разноо...</td>\n",
       "      <td>16 / 4</td>\n",
       "    </tr>\n",
       "    <tr>\n",
       "      <th>154753</th>\n",
       "      <td>977743</td>\n",
       "      <td>49610</td>\n",
       "      <td>12 ноября 2018 00:10</td>\n",
       "      <td>bad</td>\n",
       "      <td>'Форма воды', Оскар, отношение, размышления, а...</td>\n",
       "      <td>В последний раз я столько хмурила брови и подн...</td>\n",
       "      <td>5 / 3</td>\n",
       "    </tr>\n",
       "    <tr>\n",
       "      <th>161478</th>\n",
       "      <td>623250</td>\n",
       "      <td>59545</td>\n",
       "      <td>05 марта 2018 14:59</td>\n",
       "      <td>good</td>\n",
       "      <td>Новая глава любимой саги</td>\n",
       "      <td>Мне хочется сравнить этот фильм с элегантным и...</td>\n",
       "      <td>20 / 39</td>\n",
       "    </tr>\n",
       "    <tr>\n",
       "      <th>73900</th>\n",
       "      <td>49166</td>\n",
       "      <td>33188</td>\n",
       "      <td>01 мая 2014 22:18</td>\n",
       "      <td>good</td>\n",
       "      <td>Маскарад абсурда</td>\n",
       "      <td>Для меня мультфильм 'Коралина в Стране Кошмаро...</td>\n",
       "      <td>1 / 1</td>\n",
       "    </tr>\n",
       "    <tr>\n",
       "      <th>39455</th>\n",
       "      <td>81733</td>\n",
       "      <td>46751</td>\n",
       "      <td>19 февраля 2009 14:39</td>\n",
       "      <td>bad</td>\n",
       "      <td>Из грязи - в князи?</td>\n",
       "      <td>Я люблю звенящую прозрачную Киру Найтли, с ее ...</td>\n",
       "      <td>25 / 32</td>\n",
       "    </tr>\n",
       "    <tr>\n",
       "      <th>91332</th>\n",
       "      <td>450765</td>\n",
       "      <td>37060</td>\n",
       "      <td>14 марта 2011 18:35</td>\n",
       "      <td>neutral</td>\n",
       "      <td>Любовь не по плану</td>\n",
       "      <td>А вы когда-нибудь задумывались: а что если все...</td>\n",
       "      <td>11 / 7</td>\n",
       "    </tr>\n",
       "    <tr>\n",
       "      <th>38957</th>\n",
       "      <td>81733</td>\n",
       "      <td>30715</td>\n",
       "      <td>21 апреля 2018 23:07</td>\n",
       "      <td>good</td>\n",
       "      <td></td>\n",
       "      <td>Как же приятно смотреть картины где нет ничего...</td>\n",
       "      <td>3 / 7</td>\n",
       "    </tr>\n",
       "    <tr>\n",
       "      <th>129787</th>\n",
       "      <td>6144</td>\n",
       "      <td>34494</td>\n",
       "      <td>05 января 2011 13:55</td>\n",
       "      <td>good</td>\n",
       "      <td></td>\n",
       "      <td>Пожалуй, один из тех фильмов, которые будут 'в...</td>\n",
       "      <td>7 / 3</td>\n",
       "    </tr>\n",
       "    <tr>\n",
       "      <th>79575</th>\n",
       "      <td>705356</td>\n",
       "      <td>36252</td>\n",
       "      <td>22 января 2015 02:06</td>\n",
       "      <td>good</td>\n",
       "      <td>Есть лишь любовь и есть страх</td>\n",
       "      <td>Очень много шумихи поднял совершенно недавно в...</td>\n",
       "      <td>6 / 7</td>\n",
       "    </tr>\n",
       "    <tr>\n",
       "      <th>119379</th>\n",
       "      <td>649917</td>\n",
       "      <td>22210</td>\n",
       "      <td>09 октября 2018 09:23</td>\n",
       "      <td>good</td>\n",
       "      <td>Следуй Обету, данному тобой</td>\n",
       "      <td>Потрясающий фильм о скромном, милом, добром мо...</td>\n",
       "      <td>3 / 0</td>\n",
       "    </tr>\n",
       "  </tbody>\n",
       "</table>\n",
       "</div>"
      ],
      "text/plain": [
       "        show_id  user_id               datetime sentiment  \\\n",
       "29900      1965    44279   21 января 2010 19:09      good   \n",
       "154753   977743    49610   12 ноября 2018 00:10       bad   \n",
       "161478   623250    59545    05 марта 2018 14:59      good   \n",
       "73900     49166    33188      01 мая 2014 22:18      good   \n",
       "39455     81733    46751  19 февраля 2009 14:39       bad   \n",
       "91332    450765    37060    14 марта 2011 18:35   neutral   \n",
       "38957     81733    30715   21 апреля 2018 23:07      good   \n",
       "129787     6144    34494   05 января 2011 13:55      good   \n",
       "79575    705356    36252   22 января 2015 02:06      good   \n",
       "119379   649917    22210  09 октября 2018 09:23      good   \n",
       "\n",
       "                                                 subtitle  \\\n",
       "29900                                                       \n",
       "154753  'Форма воды', Оскар, отношение, размышления, а...   \n",
       "161478                           Новая глава любимой саги   \n",
       "73900                                    Маскарад абсурда   \n",
       "39455                                 Из грязи - в князи?   \n",
       "91332                                  Любовь не по плану   \n",
       "38957                                                       \n",
       "129787                                                      \n",
       "79575                       Есть лишь любовь и есть страх   \n",
       "119379                        Следуй Обету, данному тобой   \n",
       "\n",
       "                                              review_body usefulness_ratio  \n",
       "29900   Юг США, Миссисипи, отличающееся расовым разноо...           16 / 4  \n",
       "154753  В последний раз я столько хмурила брови и подн...            5 / 3  \n",
       "161478  Мне хочется сравнить этот фильм с элегантным и...          20 / 39  \n",
       "73900   Для меня мультфильм 'Коралина в Стране Кошмаро...            1 / 1  \n",
       "39455   Я люблю звенящую прозрачную Киру Найтли, с ее ...          25 / 32  \n",
       "91332   А вы когда-нибудь задумывались: а что если все...           11 / 7  \n",
       "38957   Как же приятно смотреть картины где нет ничего...            3 / 7  \n",
       "129787  Пожалуй, один из тех фильмов, которые будут 'в...            7 / 3  \n",
       "79575   Очень много шумихи поднял совершенно недавно в...            6 / 7  \n",
       "119379  Потрясающий фильм о скромном, милом, добром мо...            3 / 0  "
      ]
     },
     "execution_count": 12,
     "metadata": {},
     "output_type": "execute_result"
    }
   ],
   "source": [
    "movie_reviews_df.sample(n=10, random_state=SEED)"
   ]
  },
  {
   "cell_type": "code",
   "execution_count": 13,
   "id": "ae1e9ab2-4b07-4fb8-a46c-9ec4231ec0b3",
   "metadata": {},
   "outputs": [
    {
     "data": {
      "text/html": [
       "<div>\n",
       "<style scoped>\n",
       "    .dataframe tbody tr th:only-of-type {\n",
       "        vertical-align: middle;\n",
       "    }\n",
       "\n",
       "    .dataframe tbody tr th {\n",
       "        vertical-align: top;\n",
       "    }\n",
       "\n",
       "    .dataframe thead th {\n",
       "        text-align: right;\n",
       "    }\n",
       "</style>\n",
       "<table border=\"1\" class=\"dataframe\">\n",
       "  <thead>\n",
       "    <tr style=\"text-align: right;\">\n",
       "      <th></th>\n",
       "      <th>show_id</th>\n",
       "      <th>user_id</th>\n",
       "      <th>datetime</th>\n",
       "      <th>sentiment</th>\n",
       "      <th>subtitle</th>\n",
       "      <th>review_body</th>\n",
       "      <th>usefulness_ratio</th>\n",
       "    </tr>\n",
       "  </thead>\n",
       "  <tbody>\n",
       "    <tr>\n",
       "      <th>17123</th>\n",
       "      <td>838050</td>\n",
       "      <td>26321</td>\n",
       "      <td>03 апреля 2016 20:22</td>\n",
       "      <td>neutral</td>\n",
       "      <td>А был ли метод?</td>\n",
       "      <td>Вот и я сподобилась посмотреть нашумевший сери...</td>\n",
       "      <td>7 / 6</td>\n",
       "    </tr>\n",
       "    <tr>\n",
       "      <th>29947</th>\n",
       "      <td>306084</td>\n",
       "      <td>21093</td>\n",
       "      <td>20 марта 2010 20:23</td>\n",
       "      <td>good</td>\n",
       "      <td>- Почему он не разговаривает? - Ботан же. ©</td>\n",
       "      <td>Наконец-то я для себя нашел любимый сериал, ко...</td>\n",
       "      <td>57 / 14</td>\n",
       "    </tr>\n",
       "    <tr>\n",
       "      <th>14526</th>\n",
       "      <td>1445244</td>\n",
       "      <td>56442</td>\n",
       "      <td>14 сентября 2021 12:51</td>\n",
       "      <td>bad</td>\n",
       "      <td>Первый блин комом</td>\n",
       "      <td>Единственный плюс этого сериала - отличная опе...</td>\n",
       "      <td>65 / 25</td>\n",
       "    </tr>\n",
       "    <tr>\n",
       "      <th>8471</th>\n",
       "      <td>453191</td>\n",
       "      <td>68606</td>\n",
       "      <td>26 декабря 2014 18:15</td>\n",
       "      <td>bad</td>\n",
       "      <td>«Санта-Барбара» по-вампирски.</td>\n",
       "      <td>А как неплохо все начиналось… не занудно… акте...</td>\n",
       "      <td>11 / 7</td>\n",
       "    </tr>\n",
       "    <tr>\n",
       "      <th>5288</th>\n",
       "      <td>38898</td>\n",
       "      <td>38121</td>\n",
       "      <td>18 июня 2010 00:25</td>\n",
       "      <td>good</td>\n",
       "      <td></td>\n",
       "      <td>Вот оттого, что книгу не читал, фильм и не пон...</td>\n",
       "      <td>29 / 17</td>\n",
       "    </tr>\n",
       "    <tr>\n",
       "      <th>17419</th>\n",
       "      <td>1331277</td>\n",
       "      <td>7511</td>\n",
       "      <td>19 января 2021 12:13</td>\n",
       "      <td>good</td>\n",
       "      <td>Если человек обещает что-то, что заведомо не с...</td>\n",
       "      <td>Хорошая фраза и неплохой сериал.&lt;p&gt;Зацепила ид...</td>\n",
       "      <td>12 / 2</td>\n",
       "    </tr>\n",
       "    <tr>\n",
       "      <th>1043</th>\n",
       "      <td>401152</td>\n",
       "      <td>6398</td>\n",
       "      <td>11 января 2017 22:28</td>\n",
       "      <td>good</td>\n",
       "      <td>В адаптации телеканала HBO.</td>\n",
       "      <td>Часть первая. &lt;p&gt;Лет пять назад я смотрел сие ...</td>\n",
       "      <td>3 / 4</td>\n",
       "    </tr>\n",
       "    <tr>\n",
       "      <th>30271</th>\n",
       "      <td>1209845</td>\n",
       "      <td>38603</td>\n",
       "      <td>13 марта 2021 02:48</td>\n",
       "      <td>good</td>\n",
       "      <td>Достойное продолжение франшизы</td>\n",
       "      <td>Первый фильм был очень популярен. Но к сожален...</td>\n",
       "      <td>14 / 6</td>\n",
       "    </tr>\n",
       "    <tr>\n",
       "      <th>33923</th>\n",
       "      <td>502838</td>\n",
       "      <td>60726</td>\n",
       "      <td>20 июня 2015 02:49</td>\n",
       "      <td>neutral</td>\n",
       "      <td>Больше Шерлоков хороших и разных..</td>\n",
       "      <td>Пролог.&lt;p&gt;Этот популярный нынче сериал я посмо...</td>\n",
       "      <td>3 / 6</td>\n",
       "    </tr>\n",
       "    <tr>\n",
       "      <th>17767</th>\n",
       "      <td>585100</td>\n",
       "      <td>60714</td>\n",
       "      <td>11 января 2016 15:29</td>\n",
       "      <td>good</td>\n",
       "      <td></td>\n",
       "      <td>Изредка я писал рецензии, это большая для меня...</td>\n",
       "      <td>13 / 1</td>\n",
       "    </tr>\n",
       "  </tbody>\n",
       "</table>\n",
       "</div>"
      ],
      "text/plain": [
       "       show_id  user_id                datetime sentiment  \\\n",
       "17123   838050    26321    03 апреля 2016 20:22   neutral   \n",
       "29947   306084    21093     20 марта 2010 20:23      good   \n",
       "14526  1445244    56442  14 сентября 2021 12:51       bad   \n",
       "8471    453191    68606   26 декабря 2014 18:15       bad   \n",
       "5288     38898    38121      18 июня 2010 00:25      good   \n",
       "17419  1331277     7511    19 января 2021 12:13      good   \n",
       "1043    401152     6398    11 января 2017 22:28      good   \n",
       "30271  1209845    38603     13 марта 2021 02:48      good   \n",
       "33923   502838    60726      20 июня 2015 02:49   neutral   \n",
       "17767   585100    60714    11 января 2016 15:29      good   \n",
       "\n",
       "                                                subtitle  \\\n",
       "17123                                    А был ли метод?   \n",
       "29947        - Почему он не разговаривает? - Ботан же. ©   \n",
       "14526                                  Первый блин комом   \n",
       "8471                       «Санта-Барбара» по-вампирски.   \n",
       "5288                                                       \n",
       "17419  Если человек обещает что-то, что заведомо не с...   \n",
       "1043                         В адаптации телеканала HBO.   \n",
       "30271                     Достойное продолжение франшизы   \n",
       "33923                 Больше Шерлоков хороших и разных..   \n",
       "17767                                                      \n",
       "\n",
       "                                             review_body usefulness_ratio  \n",
       "17123  Вот и я сподобилась посмотреть нашумевший сери...            7 / 6  \n",
       "29947  Наконец-то я для себя нашел любимый сериал, ко...          57 / 14  \n",
       "14526  Единственный плюс этого сериала - отличная опе...          65 / 25  \n",
       "8471   А как неплохо все начиналось… не занудно… акте...           11 / 7  \n",
       "5288   Вот оттого, что книгу не читал, фильм и не пон...          29 / 17  \n",
       "17419  Хорошая фраза и неплохой сериал.<p>Зацепила ид...           12 / 2  \n",
       "1043   Часть первая. <p>Лет пять назад я смотрел сие ...            3 / 4  \n",
       "30271  Первый фильм был очень популярен. Но к сожален...           14 / 6  \n",
       "33923  Пролог.<p>Этот популярный нынче сериал я посмо...            3 / 6  \n",
       "17767  Изредка я писал рецензии, это большая для меня...           13 / 1  "
      ]
     },
     "execution_count": 13,
     "metadata": {},
     "output_type": "execute_result"
    }
   ],
   "source": [
    "series_reviews_df.sample(n=10, random_state=SEED)"
   ]
  },
  {
   "cell_type": "markdown",
   "id": "2e2a9fe1-8718-4a5f-9e09-d7666bcbf3de",
   "metadata": {},
   "source": [
    "Let's merge datasets"
   ]
  },
  {
   "cell_type": "code",
   "execution_count": 14,
   "id": "e74a2be5-084f-4f71-9677-bdf5c89f769b",
   "metadata": {},
   "outputs": [],
   "source": [
    "movie_reviews_df.insert(2, \"type\", \"movie\")\n",
    "series_reviews_df.insert(2, \"type\", \"series\")\n",
    "\n",
    "reviews_df = pd.concat([movie_reviews_df, series_reviews_df]).reset_index(drop=True)"
   ]
  },
  {
   "cell_type": "code",
   "execution_count": 15,
   "id": "448f04b7-6e78-4863-8df1-be7d23a18c35",
   "metadata": {},
   "outputs": [
    {
     "data": {
      "text/html": [
       "<div>\n",
       "<style scoped>\n",
       "    .dataframe tbody tr th:only-of-type {\n",
       "        vertical-align: middle;\n",
       "    }\n",
       "\n",
       "    .dataframe tbody tr th {\n",
       "        vertical-align: top;\n",
       "    }\n",
       "\n",
       "    .dataframe thead th {\n",
       "        text-align: right;\n",
       "    }\n",
       "</style>\n",
       "<table border=\"1\" class=\"dataframe\">\n",
       "  <thead>\n",
       "    <tr style=\"text-align: right;\">\n",
       "      <th></th>\n",
       "      <th>show_id</th>\n",
       "      <th>user_id</th>\n",
       "      <th>type</th>\n",
       "      <th>datetime</th>\n",
       "      <th>sentiment</th>\n",
       "      <th>subtitle</th>\n",
       "      <th>review_body</th>\n",
       "      <th>usefulness_ratio</th>\n",
       "    </tr>\n",
       "  </thead>\n",
       "  <tbody>\n",
       "    <tr>\n",
       "      <th>196236</th>\n",
       "      <td>257386</td>\n",
       "      <td>28525</td>\n",
       "      <td>series</td>\n",
       "      <td>27 августа 2010 11:23</td>\n",
       "      <td>good</td>\n",
       "      <td>Вечный город.</td>\n",
       "      <td>К истории Древнего мира у меня отношение особо...</td>\n",
       "      <td>50 / 10</td>\n",
       "    </tr>\n",
       "    <tr>\n",
       "      <th>128582</th>\n",
       "      <td>688832</td>\n",
       "      <td>44953</td>\n",
       "      <td>movie</td>\n",
       "      <td>20 февраля 2015 23:19</td>\n",
       "      <td>bad</td>\n",
       "      <td>50 оттенков разочарования</td>\n",
       "      <td>Говорю сразу, книги читала все, да и по нескол...</td>\n",
       "      <td>11 / 6</td>\n",
       "    </tr>\n",
       "    <tr>\n",
       "      <th>159673</th>\n",
       "      <td>349</td>\n",
       "      <td>33910</td>\n",
       "      <td>movie</td>\n",
       "      <td>15 апреля 2018 21:04</td>\n",
       "      <td>good</td>\n",
       "      <td>Господи, спасибо, что не пронесло мимо</td>\n",
       "      <td>Есть два типа фильмов, мой друг. Одни ты прост...</td>\n",
       "      <td>5 / 1</td>\n",
       "    </tr>\n",
       "    <tr>\n",
       "      <th>109244</th>\n",
       "      <td>686898</td>\n",
       "      <td>44065</td>\n",
       "      <td>movie</td>\n",
       "      <td>11 сентября 2019 11:58</td>\n",
       "      <td>neutral</td>\n",
       "      <td>Что же стало с клоуном?</td>\n",
       "      <td>Итак, в первую очередь хотелось бы отметить то...</td>\n",
       "      <td>5 / 3</td>\n",
       "    </tr>\n",
       "    <tr>\n",
       "      <th>92610</th>\n",
       "      <td>61455</td>\n",
       "      <td>66782</td>\n",
       "      <td>movie</td>\n",
       "      <td>27 ноября 2017 18:52</td>\n",
       "      <td>good</td>\n",
       "      <td>Они отказываются подчиняться</td>\n",
       "      <td>Автора этого замечательного фильма, Джосса Уэд...</td>\n",
       "      <td>5 / 0</td>\n",
       "    </tr>\n",
       "    <tr>\n",
       "      <th>43727</th>\n",
       "      <td>491724</td>\n",
       "      <td>44563</td>\n",
       "      <td>movie</td>\n",
       "      <td>28 января 2012 23:18</td>\n",
       "      <td>good</td>\n",
       "      <td>Жестокая правда</td>\n",
       "      <td>Финчер снова нас поразил, он всегда нас поража...</td>\n",
       "      <td>18 / 11</td>\n",
       "    </tr>\n",
       "    <tr>\n",
       "      <th>50195</th>\n",
       "      <td>102130</td>\n",
       "      <td>67145</td>\n",
       "      <td>movie</td>\n",
       "      <td>17 августа 2009 11:56</td>\n",
       "      <td>good</td>\n",
       "      <td>Преодолеть 2 года жизни, что встретиться</td>\n",
       "      <td>Слышал о фильме много, и в основном положитель...</td>\n",
       "      <td>14 / 3</td>\n",
       "    </tr>\n",
       "    <tr>\n",
       "      <th>43651</th>\n",
       "      <td>491724</td>\n",
       "      <td>66283</td>\n",
       "      <td>movie</td>\n",
       "      <td>19 февраля 2012 15:33</td>\n",
       "      <td>bad</td>\n",
       "      <td>Мужчины, которые ненавидели женщин.</td>\n",
       "      <td>Я попробовала рассматривать этот фильм с двух ...</td>\n",
       "      <td>20 / 17</td>\n",
       "    </tr>\n",
       "    <tr>\n",
       "      <th>48775</th>\n",
       "      <td>7226</td>\n",
       "      <td>7905</td>\n",
       "      <td>movie</td>\n",
       "      <td>20 февраля 2014 03:44</td>\n",
       "      <td>good</td>\n",
       "      <td></td>\n",
       "      <td>«Догвилль» - это один из тех редких фильмов, п...</td>\n",
       "      <td>5 / 2</td>\n",
       "    </tr>\n",
       "    <tr>\n",
       "      <th>75262</th>\n",
       "      <td>458</td>\n",
       "      <td>33255</td>\n",
       "      <td>movie</td>\n",
       "      <td>22 июня 2013 21:14</td>\n",
       "      <td>good</td>\n",
       "      <td>Тайна закрытой двери</td>\n",
       "      <td>Я имела счастье смотреть этот мультфильм в кин...</td>\n",
       "      <td>6 / 0</td>\n",
       "    </tr>\n",
       "  </tbody>\n",
       "</table>\n",
       "</div>"
      ],
      "text/plain": [
       "        show_id  user_id    type                datetime sentiment  \\\n",
       "196236   257386    28525  series   27 августа 2010 11:23      good   \n",
       "128582   688832    44953   movie   20 февраля 2015 23:19       bad   \n",
       "159673      349    33910   movie    15 апреля 2018 21:04      good   \n",
       "109244   686898    44065   movie  11 сентября 2019 11:58   neutral   \n",
       "92610     61455    66782   movie    27 ноября 2017 18:52      good   \n",
       "43727    491724    44563   movie    28 января 2012 23:18      good   \n",
       "50195    102130    67145   movie   17 августа 2009 11:56      good   \n",
       "43651    491724    66283   movie   19 февраля 2012 15:33       bad   \n",
       "48775      7226     7905   movie   20 февраля 2014 03:44      good   \n",
       "75262       458    33255   movie      22 июня 2013 21:14      good   \n",
       "\n",
       "                                        subtitle  \\\n",
       "196236                             Вечный город.   \n",
       "128582                 50 оттенков разочарования   \n",
       "159673    Господи, спасибо, что не пронесло мимо   \n",
       "109244                   Что же стало с клоуном?   \n",
       "92610               Они отказываются подчиняться   \n",
       "43727                            Жестокая правда   \n",
       "50195   Преодолеть 2 года жизни, что встретиться   \n",
       "43651        Мужчины, которые ненавидели женщин.   \n",
       "48775                                              \n",
       "75262                       Тайна закрытой двери   \n",
       "\n",
       "                                              review_body usefulness_ratio  \n",
       "196236  К истории Древнего мира у меня отношение особо...          50 / 10  \n",
       "128582  Говорю сразу, книги читала все, да и по нескол...           11 / 6  \n",
       "159673  Есть два типа фильмов, мой друг. Одни ты прост...            5 / 1  \n",
       "109244  Итак, в первую очередь хотелось бы отметить то...            5 / 3  \n",
       "92610   Автора этого замечательного фильма, Джосса Уэд...            5 / 0  \n",
       "43727   Финчер снова нас поразил, он всегда нас поража...          18 / 11  \n",
       "50195   Слышал о фильме много, и в основном положитель...           14 / 3  \n",
       "43651   Я попробовала рассматривать этот фильм с двух ...          20 / 17  \n",
       "48775   «Догвилль» - это один из тех редких фильмов, п...            5 / 2  \n",
       "75262   Я имела счастье смотреть этот мультфильм в кин...            6 / 0  "
      ]
     },
     "execution_count": 15,
     "metadata": {},
     "output_type": "execute_result"
    }
   ],
   "source": [
    "reviews_df.sample(n=10, random_state=SEED)"
   ]
  },
  {
   "cell_type": "markdown",
   "id": "19e43e2a-7b27-465d-a920-c2a4ad3f0e96",
   "metadata": {},
   "source": [
    "### Dataset Close Look"
   ]
  },
  {
   "cell_type": "markdown",
   "id": "3e431176-8999-4501-9e04-79fee9209a08",
   "metadata": {},
   "source": [
    "In this section, let's look at what columns we have, what type they are, how many non-zero values, etc."
   ]
  },
  {
   "cell_type": "markdown",
   "id": "31110b54-d901-4c0e-9511-3234e87f2411",
   "metadata": {},
   "source": [
    "But before, let's replace empty strings with NaN values."
   ]
  },
  {
   "cell_type": "code",
   "execution_count": 16,
   "id": "b053f4bc-9483-4d48-9ef0-17cd8f312f98",
   "metadata": {},
   "outputs": [],
   "source": [
    "reviews_df.replace(r\"^\\s*$\", np.nan, regex=True, inplace=True)"
   ]
  },
  {
   "cell_type": "code",
   "execution_count": 17,
   "id": "351fa979-35aa-4ceb-b7c4-a162230033d4",
   "metadata": {},
   "outputs": [
    {
     "name": "stdout",
     "output_type": "stream",
     "text": [
      "<class 'pandas.core.frame.DataFrame'>\n",
      "RangeIndex: 206737 entries, 0 to 206736\n",
      "Data columns (total 8 columns):\n",
      " #   Column            Non-Null Count   Dtype \n",
      "---  ------            --------------   ----- \n",
      " 0   show_id           206737 non-null  int64 \n",
      " 1   user_id           206737 non-null  int64 \n",
      " 2   type              206737 non-null  object\n",
      " 3   datetime          206737 non-null  object\n",
      " 4   sentiment         206737 non-null  object\n",
      " 5   subtitle          173836 non-null  object\n",
      " 6   review_body       206737 non-null  object\n",
      " 7   usefulness_ratio  206737 non-null  object\n",
      "dtypes: int64(2), object(6)\n",
      "memory usage: 12.6+ MB\n"
     ]
    }
   ],
   "source": [
    "reviews_df.info()"
   ]
  },
  {
   "cell_type": "markdown",
   "id": "7eb0e08f-8149-4878-8067-6e30f761c4aa",
   "metadata": {},
   "source": [
    "As we can see, `subtitle` is empty sometimes."
   ]
  },
  {
   "cell_type": "markdown",
   "id": "095fc0f4-5f9d-4485-9260-ace5bb586c14",
   "metadata": {},
   "source": [
    "### Memory optimization"
   ]
  },
  {
   "cell_type": "markdown",
   "id": "0dff99fe-ec7b-40df-ada8-7cd9120f05ba",
   "metadata": {},
   "source": [
    "Also, we should better be treating `sentiment` and `type` columns as categorical.  \n",
    "One of the benefits of such transformation is the dataset will be more efficiently stored."
   ]
  },
  {
   "cell_type": "code",
   "execution_count": 18,
   "id": "9359c5ad-25f1-4e0e-ac2a-502df128cb92",
   "metadata": {},
   "outputs": [],
   "source": [
    "reviews_df[[\"type\", \"sentiment\"]] = reviews_df[[\"type\", \"sentiment\"]].astype(\"category\")"
   ]
  },
  {
   "cell_type": "code",
   "execution_count": 19,
   "id": "fd17fb27-9b9e-42d6-b17b-7c13100f0531",
   "metadata": {},
   "outputs": [
    {
     "name": "stdout",
     "output_type": "stream",
     "text": [
      "<class 'pandas.core.frame.DataFrame'>\n",
      "RangeIndex: 206737 entries, 0 to 206736\n",
      "Data columns (total 8 columns):\n",
      " #   Column            Non-Null Count   Dtype   \n",
      "---  ------            --------------   -----   \n",
      " 0   show_id           206737 non-null  int64   \n",
      " 1   user_id           206737 non-null  int64   \n",
      " 2   type              206737 non-null  category\n",
      " 3   datetime          206737 non-null  object  \n",
      " 4   sentiment         206737 non-null  category\n",
      " 5   subtitle          173836 non-null  object  \n",
      " 6   review_body       206737 non-null  object  \n",
      " 7   usefulness_ratio  206737 non-null  object  \n",
      "dtypes: category(2), int64(2), object(4)\n",
      "memory usage: 9.9+ MB\n"
     ]
    }
   ],
   "source": [
    "reviews_df.info()"
   ]
  },
  {
   "cell_type": "markdown",
   "id": "62aac0a4-c3b8-4ef7-b7cd-0a4cab2d370f",
   "metadata": {},
   "source": [
    "We've just saved about 2.7 MB out of 12.6 MB (around 20%), which isn't bad for a one line of code."
   ]
  },
  {
   "cell_type": "markdown",
   "id": "72dfe938-7f90-46fc-9db3-8de5150657e4",
   "metadata": {},
   "source": [
    "## Tasks"
   ]
  },
  {
   "cell_type": "markdown",
   "id": "22c70c9a-bfd4-45ec-b700-6750bff377bd",
   "metadata": {},
   "source": [
    "Based on this look I've determined some things to do:\n",
    "* Look at the columns, determine the number of unique values, duplicates, etc.\n",
    "* **[+]** Normalize `datetime` column \n",
    "* **[+]** Calculate `usefulness_ratio` based on the format `likes / dislikes`\n",
    "* **[+]** Extract user scores from reviews"
   ]
  },
  {
   "cell_type": "markdown",
   "id": "85b91c83-b8c1-4f8c-a861-5ec077cc2188",
   "metadata": {},
   "source": [
    "## EDA"
   ]
  },
  {
   "cell_type": "markdown",
   "id": "33c4b2cd-5c3f-47aa-a6c0-8c3985bfeb47",
   "metadata": {},
   "source": [
    "### `datetime`"
   ]
  },
  {
   "cell_type": "markdown",
   "id": "a345850e-4390-494b-ae79-c5d549ed78c5",
   "metadata": {},
   "source": [
    "#### Transformation"
   ]
  },
  {
   "cell_type": "markdown",
   "id": "01a3583c-4914-4cd9-92e2-969dc82d820a",
   "metadata": {},
   "source": [
    "Currently, datetime looks like this:"
   ]
  },
  {
   "cell_type": "code",
   "execution_count": 20,
   "id": "68619f16-b736-45cc-9482-33a5475083ff",
   "metadata": {},
   "outputs": [
    {
     "data": {
      "text/plain": [
       "'16 февраля 2022 11:21'"
      ]
     },
     "execution_count": 20,
     "metadata": {},
     "output_type": "execute_result"
    }
   ],
   "source": [
    "reviews_df[\"datetime\"][0]"
   ]
  },
  {
   "cell_type": "markdown",
   "id": "e262a667-98e1-45e0-ac58-9d7d08046aa7",
   "metadata": {},
   "source": [
    "I could create map with months manually, replace month for every date and then change the format, but I will use `dateparser` package "
   ]
  },
  {
   "cell_type": "code",
   "execution_count": 21,
   "id": "c528ee3e-8c4a-41ca-ad37-a1260cdb4f2d",
   "metadata": {},
   "outputs": [
    {
     "name": "stderr",
     "output_type": "stream",
     "text": [
      "C:\\Users\\ryblo\\Documents\\projects\\movie_reviews\\venv\\lib\\site-packages\\dateparser\\date_parser.py:35: PytzUsageWarning: The localize method is no longer necessary, as this time zone supports the fold attribute (PEP 495). For more details on migrating to a PEP 495-compliant implementation, see https://pytz-deprecation-shim.readthedocs.io/en/latest/migration.html\n",
      "  date_obj = stz.localize(date_obj)\n"
     ]
    },
    {
     "data": {
      "text/plain": [
       "'16.02.2022 11:21'"
      ]
     },
     "execution_count": 21,
     "metadata": {},
     "output_type": "execute_result"
    }
   ],
   "source": [
    "dateparser.parse(reviews_df[\"datetime\"][0]).strftime(\"%d.%m.%Y %H:%M\")"
   ]
  },
  {
   "cell_type": "code",
   "execution_count": 22,
   "id": "6e0e34eb-59b1-4f22-8ba8-3874fdec6b32",
   "metadata": {},
   "outputs": [
    {
     "name": "stderr",
     "output_type": "stream",
     "text": [
      "100%|█████████████████████████████████████████████████████████████████████████| 206737/206737 [05:04<00:00, 678.11it/s]\n"
     ]
    }
   ],
   "source": [
    "reviews_df[\"datetime_casted\"] = reviews_df[\"datetime\"].progress_apply(\n",
    "    normalize_datetime\n",
    ")\n",
    "reviews_df[\"datetime_casted\"] = pd.to_datetime(reviews_df[\"datetime_casted\"])"
   ]
  },
  {
   "cell_type": "markdown",
   "id": "95acc7a4-5bc1-48ee-a694-80a906788fc0",
   "metadata": {},
   "source": [
    "Now we can extract valuable information from the `datetime` column"
   ]
  },
  {
   "cell_type": "markdown",
   "id": "2a663105-5f25-4041-ad88-900908ebfa00",
   "metadata": {},
   "source": [
    "#### Analysis"
   ]
  },
  {
   "cell_type": "markdown",
   "id": "bc08146d-9ba6-4a6e-bb36-ab54eae5d5ab",
   "metadata": {},
   "source": [
    "`datetime` column represents date and time when the review was published."
   ]
  },
  {
   "cell_type": "markdown",
   "id": "b638ada8-ce68-4e96-aa76-50d2e1d91db8",
   "metadata": {},
   "source": [
    "##### Hour distribution"
   ]
  },
  {
   "cell_type": "markdown",
   "id": "3f42d159-691d-47a0-a86b-28e5c2f2b102",
   "metadata": {},
   "source": [
    "Let's look at hour distribution"
   ]
  },
  {
   "cell_type": "code",
   "execution_count": 23,
   "id": "ff9ca6d2-75f0-42fb-8ab9-6a718838045c",
   "metadata": {},
   "outputs": [
    {
     "data": {
      "image/png": "[encoded data removed]",
      "text/plain": [
       "<Figure size 640x480 with 1 Axes>"
      ]
     },
     "metadata": {
      "image/png": {
       "height": 434,
       "width": 570
      }
     },
     "output_type": "display_data"
    }
   ],
   "source": [
    "ax = reviews_df[\"datetime_casted\"].dt.hour.hist(bins=24)\n",
    "ax.set_xticks(range(0, 24), minor=False)\n",
    "ax.set(title=\"Hour distribution\");"
   ]
  },
  {
   "cell_type": "markdown",
   "id": "723dde64-5329-4dce-bfd3-91b1df876878",
   "metadata": {},
   "source": [
    "People tend to publish reviews the later the more often with absolute maximum around 20-23 o'clock in the evening and absolute minimum around 4-7 o'clock in the morning."
   ]
  },
  {
   "cell_type": "markdown",
   "id": "ac40b406-d75f-42e4-bb32-3963567f0c2d",
   "metadata": {},
   "source": [
    "##### Weekday distribution"
   ]
  },
  {
   "cell_type": "code",
   "execution_count": 24,
   "id": "258b1705-5360-4e4c-a55e-a185f952b73e",
   "metadata": {},
   "outputs": [
    {
     "data": {
      "image/png": "[encoded data removed]",
      "text/plain": [
       "<Figure size 640x480 with 1 Axes>"
      ]
     },
     "metadata": {
      "image/png": {
       "height": 434,
       "width": 570
      }
     },
     "output_type": "display_data"
    }
   ],
   "source": [
    "ax = reviews_df[\"datetime_casted\"].dt.weekday.hist(bins=7)\n",
    "ax.set_xticks(range(0, 7), minor=False)\n",
    "ax.set(title=\"Weekday distribution\");"
   ]
  },
  {
   "cell_type": "markdown",
   "id": "5bdb5ac8-2f58-4ef0-af7c-f89654a7bb55",
   "metadata": {},
   "source": [
    "People tend to publish more reviews on Sundays, but between Mondays, Thursdays, Fridays and Saturdays the difference is not that significant"
   ]
  },
  {
   "cell_type": "markdown",
   "id": "e87bae40-c81d-4e05-8bdb-115cfc87c384",
   "metadata": {},
   "source": [
    "##### Month distribution"
   ]
  },
  {
   "cell_type": "code",
   "execution_count": 25,
   "id": "5566c189-7ded-4ced-aa4c-3583ac5246eb",
   "metadata": {},
   "outputs": [
    {
     "data": {
      "image/png": "[encoded data removed]",
      "text/plain": [
       "<Figure size 640x480 with 1 Axes>"
      ]
     },
     "metadata": {
      "image/png": {
       "height": 434,
       "width": 570
      }
     },
     "output_type": "display_data"
    }
   ],
   "source": [
    "ax = reviews_df[\"datetime_casted\"].dt.month.hist(bins=12)\n",
    "ax.set_xticks(range(0, 12), minor=False)\n",
    "ax.set(title=\"Month distribution\");"
   ]
  },
  {
   "cell_type": "markdown",
   "id": "4841d6be-16bc-4f32-b3af-8bd727ce037c",
   "metadata": {},
   "source": [
    "People tend to publish more reviews on winter months (especially on January). It can be caused by the number of holidays in Russia on January and, also, generally correlated with cold weather."
   ]
  },
  {
   "cell_type": "markdown",
   "id": "7b669c65-20c1-448e-8d61-0159474db313",
   "metadata": {},
   "source": [
    "### `usefulness_ratio`"
   ]
  },
  {
   "cell_type": "markdown",
   "id": "dada74f6-fd1c-4a69-a9e2-849db03b0627",
   "metadata": {},
   "source": [
    "#### Transformation"
   ]
  },
  {
   "cell_type": "markdown",
   "id": "f46338c3-9fd3-4a5f-be03-86985ae46dac",
   "metadata": {},
   "source": [
    "Currently, `usefulness_ratio` looks like this:"
   ]
  },
  {
   "cell_type": "code",
   "execution_count": 26,
   "id": "df62e19e-ae8b-43a0-b3f0-bb91d2f8fc37",
   "metadata": {},
   "outputs": [
    {
     "data": {
      "text/plain": [
       "196236    50 / 10\n",
       "128582     11 / 6\n",
       "159673      5 / 1\n",
       "109244      5 / 3\n",
       "92610       5 / 0\n",
       "43727     18 / 11\n",
       "50195      14 / 3\n",
       "43651     20 / 17\n",
       "48775       5 / 2\n",
       "75262       6 / 0\n",
       "Name: usefulness_ratio, dtype: object"
      ]
     },
     "execution_count": 26,
     "metadata": {},
     "output_type": "execute_result"
    }
   ],
   "source": [
    "reviews_df[\"usefulness_ratio\"].sample(10, random_state=SEED)"
   ]
  },
  {
   "cell_type": "markdown",
   "id": "7bb06dc8-e9f8-4e9f-a72e-1ded101a8dfb",
   "metadata": {},
   "source": [
    "We can replace `/` with `-` and then evaluate expression to get difference between likes and dislikes for the review. Let's do this."
   ]
  },
  {
   "cell_type": "code",
   "execution_count": 27,
   "id": "e2eb4ce1-7285-432a-8f99-9d27f4629e2f",
   "metadata": {},
   "outputs": [
    {
     "name": "stderr",
     "output_type": "stream",
     "text": [
      "100%|██████████████████████████████████████████████████████████████████████| 206737/206737 [00:01<00:00, 171822.63it/s]\n"
     ]
    }
   ],
   "source": [
    "reviews_df[\"usefulness_ratio_transformed\"] = (\n",
    "    reviews_df[\"usefulness_ratio\"].replace(\" / \", \"-\", regex=True).progress_apply(eval)\n",
    ")"
   ]
  },
  {
   "cell_type": "markdown",
   "id": "f69d6233-d389-488f-89fa-8c5b8bf729ee",
   "metadata": {},
   "source": [
    "#### Analysis"
   ]
  },
  {
   "cell_type": "code",
   "execution_count": 28,
   "id": "50942cf2-07cc-4443-b440-fae09d771cd9",
   "metadata": {},
   "outputs": [
    {
     "data": {
      "text/plain": [
       "count    206737.000000\n",
       "mean          3.836236\n",
       "std          67.719842\n",
       "min       -9332.000000\n",
       "25%          -1.000000\n",
       "50%           4.000000\n",
       "75%          12.000000\n",
       "max        4921.000000\n",
       "Name: usefulness_ratio_transformed, dtype: float64"
      ]
     },
     "execution_count": 28,
     "metadata": {},
     "output_type": "execute_result"
    }
   ],
   "source": [
    "reviews_df[\"usefulness_ratio_transformed\"].describe()"
   ]
  },
  {
   "cell_type": "markdown",
   "id": "881186a8-3863-4183-8008-c53156d6a919",
   "metadata": {},
   "source": [
    "We have some pretty big outliers"
   ]
  },
  {
   "cell_type": "code",
   "execution_count": 29,
   "id": "022c333a-95b5-4ae7-9464-d1d0cfd68137",
   "metadata": {},
   "outputs": [
    {
     "data": {
      "text/plain": [
       " 1     11029\n",
       " 2     10779\n",
       " 0     10237\n",
       " 3     10222\n",
       " 4      9402\n",
       " 5      8611\n",
       "-1      7690\n",
       " 6      7385\n",
       " 7      6803\n",
       " 8      6180\n",
       "-2      6031\n",
       " 9      5675\n",
       " 10     5091\n",
       " 11     4849\n",
       "-3      4609\n",
       " 12     4190\n",
       "-4      3936\n",
       " 13     3826\n",
       " 14     3428\n",
       "-5      3184\n",
       "Name: usefulness_ratio_transformed, dtype: int64"
      ]
     },
     "execution_count": 29,
     "metadata": {},
     "output_type": "execute_result"
    }
   ],
   "source": [
    "reviews_df[\"usefulness_ratio_transformed\"].value_counts()[:20]"
   ]
  },
  {
   "cell_type": "code",
   "execution_count": 30,
   "id": "71aef1e8-699b-47aa-a047-030f48d36691",
   "metadata": {},
   "outputs": [],
   "source": [
    "usefulness = reviews_df[\"usefulness_ratio_transformed\"]"
   ]
  },
  {
   "cell_type": "code",
   "execution_count": 31,
   "id": "37febaa4-f93d-459b-9441-92f5ebcec943",
   "metadata": {},
   "outputs": [
    {
     "data": {
      "text/plain": [
       "(-29.0, 41.0)"
      ]
     },
     "execution_count": 31,
     "metadata": {},
     "output_type": "execute_result"
    }
   ],
   "source": [
    "usefulness.quantile(0.05), usefulness.quantile(0.95)"
   ]
  },
  {
   "cell_type": "code",
   "execution_count": 32,
   "id": "a8ea6b26-fb31-4d0d-8033-bea997e3c6f1",
   "metadata": {},
   "outputs": [
    {
     "data": {
      "image/png": "[encoded data removed]",
      "text/plain": [
       "<Figure size 640x480 with 1 Axes>"
      ]
     },
     "metadata": {
      "image/png": {
       "height": 413,
       "width": 570
      }
     },
     "output_type": "display_data"
    }
   ],
   "source": [
    "usefulness[\n",
    "    (usefulness >= usefulness.quantile(0.05))\n",
    "    & (usefulness <= usefulness.quantile(0.95))\n",
    "].hist(bins=15);"
   ]
  },
  {
   "cell_type": "markdown",
   "id": "c6ff9e25-5307-496c-a0c8-87f565fc0e9b",
   "metadata": {},
   "source": [
    "We can see that reviews are usually not very useful, but the are more useful ones."
   ]
  },
  {
   "cell_type": "markdown",
   "id": "a9ba9977-9052-4be9-a958-047ade878738",
   "metadata": {},
   "source": [
    "### `review_body`"
   ]
  },
  {
   "cell_type": "markdown",
   "id": "90530554-6d6b-4d26-abc2-9112c23d6cd0",
   "metadata": {},
   "source": [
    "Some reviews have user's score in them. The scores located inside the review (usually, at the end).  \n",
    "Firstly, we need to extract the scores (we can use them as an additional feature), then we need to remove them from the reviews, so they won't spoil the generalisation ability of classifier.\n",
    "\n",
    "Empirically, the next basic approach was developed. "
   ]
  },
  {
   "cell_type": "markdown",
   "id": "f2be40eb-3abc-4004-b314-3adc8fd785d5",
   "metadata": {},
   "source": [
    "#### Transformation"
   ]
  },
  {
   "cell_type": "markdown",
   "id": "01f63871-e38d-42a8-a061-09c88d17f6bf",
   "metadata": {},
   "source": [
    "##### Getting scores"
   ]
  },
  {
   "cell_type": "code",
   "execution_count": 33,
   "id": "fb5a0611-d2e7-4d78-9924-b721070e13f1",
   "metadata": {},
   "outputs": [],
   "source": [
    "prep = preprocessor.Preprocessor()"
   ]
  },
  {
   "cell_type": "code",
   "execution_count": 34,
   "id": "ee1a479c-f1a1-4cba-a9a9-1f5fda8e64c4",
   "metadata": {},
   "outputs": [
    {
     "name": "stderr",
     "output_type": "stream",
     "text": [
      "  3%|██▌                                                                      | 7174/206737 [00:00<00:13, 14807.32it/s]C:\\Users\\ryblo\\Documents\\projects\\movie_reviews\\venv\\lib\\site-packages\\bs4\\__init__.py:431: MarkupResemblesLocatorWarning: \"http://www.agvaya.ru/?p=721#more-721\" looks like a URL. Beautiful Soup is not an HTTP client. You should probably use an HTTP client like requests to get the document behind the URL, and feed that document to Beautiful Soup.\n",
      "  warnings.warn(\n",
      " 95%|███████████████████████████████████████████████████████████████████▋   | 196934/206737 [00:11<00:00, 17073.42it/s]C:\\Users\\ryblo\\Documents\\projects\\movie_reviews\\venv\\lib\\site-packages\\bs4\\__init__.py:431: MarkupResemblesLocatorWarning: \"http://www.kinopoisk.ru/user/5016861/comment/2221734/\" looks like a URL. Beautiful Soup is not an HTTP client. You should probably use an HTTP client like requests to get the document behind the URL, and feed that document to Beautiful Soup.\n",
      "  warnings.warn(\n",
      "100%|███████████████████████████████████████████████████████████████████████| 206737/206737 [00:12<00:00, 16976.07it/s]\n"
     ]
    }
   ],
   "source": [
    "scores_and_indices = [\n",
    "    return_score(prep, review) for review in tqdm(reviews_df[\"review_body\"].values)\n",
    "]"
   ]
  },
  {
   "cell_type": "code",
   "execution_count": 35,
   "id": "779ae88c-e945-4fe1-977e-f771227cfe25",
   "metadata": {},
   "outputs": [],
   "source": [
    "scores, score_sentence_indices = list(map(list, zip(*scores_and_indices)))"
   ]
  },
  {
   "cell_type": "code",
   "execution_count": 36,
   "id": "37c5db25-874a-4ff4-a8a1-3e5f586e1896",
   "metadata": {},
   "outputs": [],
   "source": [
    "reviews_df[\"scores\"] = scores"
   ]
  },
  {
   "cell_type": "markdown",
   "id": "6027ac9a-db68-4810-8313-be1a2940c7e1",
   "metadata": {},
   "source": [
    "##### Cleaning reviews from scores"
   ]
  },
  {
   "cell_type": "code",
   "execution_count": 37,
   "id": "2cf5dd60-e1c0-472b-95b2-f0d689ad172f",
   "metadata": {},
   "outputs": [],
   "source": [
    "reviews = reviews_df[\"review_body\"].values.tolist()"
   ]
  },
  {
   "cell_type": "code",
   "execution_count": 38,
   "id": "cb65e5b8-9eb6-4035-951e-5849059c0fea",
   "metadata": {},
   "outputs": [],
   "source": [
    "assert len(score_sentence_indices) == len(reviews)"
   ]
  },
  {
   "cell_type": "code",
   "execution_count": 39,
   "id": "ba6a5ef4-ef9c-41f0-b9e8-d30103713ae2",
   "metadata": {},
   "outputs": [
    {
     "name": "stderr",
     "output_type": "stream",
     "text": [
      "Removing scores from reviews: 100%|████████████████████████████████████████| 206737/206737 [00:01<00:00, 205539.77it/s]\n"
     ]
    }
   ],
   "source": [
    "reviews_df[\"review_body_cleaned\"] = clean_reviews_from_scores(\n",
    "    reviews, score_sentence_indices\n",
    ")"
   ]
  },
  {
   "cell_type": "markdown",
   "id": "149a857c-1b98-4a31-914d-7acfb9ff3ccf",
   "metadata": {},
   "source": [
    "#### Analysis"
   ]
  },
  {
   "cell_type": "code",
   "execution_count": 40,
   "id": "e9baa45d-d3fe-4775-9d1c-6a2876d64347",
   "metadata": {},
   "outputs": [],
   "source": [
    "counts = reviews_df[\"scores\"].value_counts(ascending=False)"
   ]
  },
  {
   "cell_type": "code",
   "execution_count": 41,
   "id": "d624c0d2-d7a1-420a-a5da-59b8081056c0",
   "metadata": {},
   "outputs": [
    {
     "data": {
      "text/plain": [
       "                         77393\n",
       "10 из 10                 47471\n",
       "9 из 10                  20137\n",
       "8 из 10                  18247\n",
       "7 из 10                  12255\n",
       "                         ...  \n",
       "10 из 10, ОДНОЗНАЧНО!        1\n",
       "10 из 10 возможных           1\n",
       "3,7 из 10                    1\n",
       "10 из 10, безусловно         1\n",
       "Вердикт: 7 из 10.            1\n",
       "Name: scores, Length: 1038, dtype: int64"
      ]
     },
     "execution_count": 41,
     "metadata": {},
     "output_type": "execute_result"
    }
   ],
   "source": [
    "counts"
   ]
  },
  {
   "cell_type": "markdown",
   "id": "de97fb04-8c42-4853-bfdb-ad4f430858e7",
   "metadata": {},
   "source": [
    "As we can see, for the 77 393 reviews we haven't find scores in the review."
   ]
  },
  {
   "cell_type": "markdown",
   "id": "c3cda8fd-9e1a-4ed0-b64f-6904d8936518",
   "metadata": {
    "tags": []
   },
   "source": [
    "### `scores`"
   ]
  },
  {
   "cell_type": "markdown",
   "id": "fab0f671-c39c-4253-af8e-20bc796383e4",
   "metadata": {},
   "source": [
    "#### Transformation"
   ]
  },
  {
   "cell_type": "markdown",
   "id": "ff8f974f-1d99-4a6e-86d6-c8a0c8acc0bd",
   "metadata": {},
   "source": [
    "##### Cleaning"
   ]
  },
  {
   "cell_type": "markdown",
   "id": "5d3ceed6-5452-48a4-ac1c-d4316586df75",
   "metadata": {},
   "source": [
    "Firstly, let's replace commas with dots"
   ]
  },
  {
   "cell_type": "code",
   "execution_count": 42,
   "id": "60f71f98-8b1f-4663-af2a-c17404ff4558",
   "metadata": {},
   "outputs": [],
   "source": [
    "reviews_df[\"scores\"] = reviews_df[\"scores\"].str.replace(\",\", \".\")"
   ]
  },
  {
   "cell_type": "markdown",
   "id": "f0a3bde6-76ad-4441-b541-47d197758c24",
   "metadata": {},
   "source": [
    "And then we will further clean the scores"
   ]
  },
  {
   "cell_type": "code",
   "execution_count": 43,
   "id": "f78f8bd5-3a04-4c5e-ba7b-ea855dfeea50",
   "metadata": {},
   "outputs": [
    {
     "name": "stderr",
     "output_type": "stream",
     "text": [
      "C:\\Users\\ryblo\\AppData\\Local\\Temp\\ipykernel_8416\\646544203.py:2: FutureWarning: The default value of regex will change from True to False in a future version. In addition, single character regular expressions will *not* be treated as literal strings when regex=True.\n",
      "  reviews_df[\"scores\"]\n"
     ]
    }
   ],
   "source": [
    "reviews_df[\"scores\"] = (\n",
    "    reviews_df[\"scores\"]\n",
    "    .str.replace(\"!\", \".\")\n",
    "    .str.replace(\"+\", \"\")\n",
    "    .str.replace(\"из\", \"/\")\n",
    "    .str.rstrip(\".\")\n",
    "    .str.lstrip(\".\")\n",
    "    .str.rstrip(\"…\")\n",
    "    .str.replace(\" / \", \"/\")\n",
    "    .str.replace(\" /\", \"/\")\n",
    "    .str.replace(\"/ \", \"/\")\n",
    "    .str.replace(\"//\", \"/\")\n",
    ")"
   ]
  },
  {
   "cell_type": "markdown",
   "id": "5d3f78e1-bfda-432e-b584-ba62902588f0",
   "metadata": {},
   "source": [
    "##### Casting scores to real numbers"
   ]
  },
  {
   "cell_type": "code",
   "execution_count": 44,
   "id": "22badb46-37b8-458a-bece-c37e35125590",
   "metadata": {},
   "outputs": [
    {
     "name": "stderr",
     "output_type": "stream",
     "text": [
      "100%|██████████████████████████████████████████████████████████████████████| 206737/206737 [00:00<00:00, 438620.59it/s]\n"
     ]
    }
   ],
   "source": [
    "reviews_df[\"scores_cleaned\"] = reviews_df[\"scores\"].progress_apply(\n",
    "    lambda score: cast_score_to_float(score)\n",
    ")"
   ]
  },
  {
   "cell_type": "markdown",
   "id": "90c406e6-f79e-46b9-be40-c7acccdac59f",
   "metadata": {},
   "source": [
    "#### Analysis"
   ]
  },
  {
   "cell_type": "code",
   "execution_count": 45,
   "id": "e9465fd3-5f2b-4d65-92a1-c825ac22ffac",
   "metadata": {},
   "outputs": [
    {
     "data": {
      "text/plain": [
       "<AxesSubplot:>"
      ]
     },
     "execution_count": 45,
     "metadata": {},
     "output_type": "execute_result"
    },
    {
     "data": {
      "image/png": "[encoded data removed]",
      "text/plain": [
       "<Figure size 640x480 with 1 Axes>"
      ]
     },
     "metadata": {
      "image/png": {
       "height": 413,
       "width": 570
      }
     },
     "output_type": "display_data"
    }
   ],
   "source": [
    "reviews_df[\"scores_cleaned\"].hist(bins=10)"
   ]
  },
  {
   "cell_type": "code",
   "execution_count": 46,
   "id": "f21e3ea5-ee69-4440-a5e3-74746af4fb96",
   "metadata": {},
   "outputs": [
    {
     "data": {
      "text/plain": [
       "Index(['show_id', 'user_id', 'type', 'datetime', 'sentiment', 'subtitle',\n",
       "       'review_body', 'usefulness_ratio', 'datetime_casted',\n",
       "       'usefulness_ratio_transformed', 'scores', 'review_body_cleaned',\n",
       "       'scores_cleaned'],\n",
       "      dtype='object')"
      ]
     },
     "execution_count": 46,
     "metadata": {},
     "output_type": "execute_result"
    }
   ],
   "source": [
    "reviews_df.columns"
   ]
  },
  {
   "cell_type": "markdown",
   "id": "fac692f0-0701-43ba-a3f9-699f40f1b583",
   "metadata": {},
   "source": [
    "Users tend to give a high score in their reviews."
   ]
  },
  {
   "cell_type": "markdown",
   "id": "4bc4c20c-f827-463a-ae61-32dd73d67e25",
   "metadata": {},
   "source": [
    "## Saving merged and transformed dataset"
   ]
  },
  {
   "cell_type": "code",
   "execution_count": 47,
   "id": "e307ac7f-e0bc-4364-9250-f382c374777a",
   "metadata": {},
   "outputs": [],
   "source": [
    "columns = [\n",
    "    \"show_id\",\n",
    "    \"user_id\",\n",
    "    \"type\",\n",
    "    \"datetime_casted\",\n",
    "    \"sentiment\",\n",
    "    \"subtitle\",\n",
    "    \"review_body_cleaned\",\n",
    "    \"usefulness_ratio_transformed\",\n",
    "    \"scores_cleaned\",\n",
    "]\n",
    "\n",
    "final_reviews_df = reviews_df[columns].rename(\n",
    "    columns={\n",
    "        \"datetime_casted\": \"datetime\",\n",
    "        \"review_body_cleaned\": \"review\",\n",
    "        \"scores_cleaned\": \"score\",\n",
    "        \"usefulness_ratio_transformed\": \"review_usefulness\",\n",
    "    }\n",
    ")"
   ]
  },
  {
   "cell_type": "code",
   "execution_count": 48,
   "id": "d1f359b9-aec3-497d-978c-db2ddf6d553f",
   "metadata": {},
   "outputs": [
    {
     "name": "stdout",
     "output_type": "stream",
     "text": [
      "<class 'pandas.core.frame.DataFrame'>\n",
      "RangeIndex: 206737 entries, 0 to 206736\n",
      "Data columns (total 9 columns):\n",
      " #   Column             Non-Null Count   Dtype         \n",
      "---  ------             --------------   -----         \n",
      " 0   show_id            206737 non-null  int64         \n",
      " 1   user_id            206737 non-null  int64         \n",
      " 2   type               206737 non-null  category      \n",
      " 3   datetime           206737 non-null  datetime64[ns]\n",
      " 4   sentiment          206737 non-null  category      \n",
      " 5   subtitle           173836 non-null  object        \n",
      " 6   review             206737 non-null  object        \n",
      " 7   review_usefulness  206737 non-null  int64         \n",
      " 8   score              129344 non-null  float64       \n",
      "dtypes: category(2), datetime64[ns](1), float64(1), int64(3), object(2)\n",
      "memory usage: 11.4+ MB\n"
     ]
    }
   ],
   "source": [
    "final_reviews_df.info()"
   ]
  },
  {
   "cell_type": "code",
   "execution_count": 50,
   "id": "7d8e211d-edf2-443f-83ab-d48ce3ef5d62",
   "metadata": {},
   "outputs": [],
   "source": [
    "final_reviews_df.to_parquet(os.path.join(relative_output_path, \"reviews.parquet\"))"
   ]
  },
  {
   "cell_type": "code",
   "execution_count": null,
   "id": "2acafb91-2436-49c5-b352-90492187c18f",
   "metadata": {},
   "outputs": [],
   "source": []
  }
 ],
 "metadata": {
  "kernelspec": {
   "display_name": "movie_reviews",
   "language": "python",
   "name": "movie_reviews"
  },
  "language_info": {
   "codemirror_mode": {
    "name": "ipython",
    "version": 3
   },
   "file_extension": ".py",
   "mimetype": "text/x-python",
   "name": "python",
   "nbconvert_exporter": "python",
   "pygments_lexer": "ipython3",
   "version": "3.8.10"
  }
 },
 "nbformat": 4,
 "nbformat_minor": 5
}
