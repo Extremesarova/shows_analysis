{
 "cells": [
  {
   "cell_type": "markdown",
   "id": "c3c851a7-3419-49b4-b115-1909dd0e1adf",
   "metadata": {},
   "source": [
    "# Pretrained: HuggingFace models"
   ]
  },
  {
   "cell_type": "markdown",
   "id": "c36631f4-d7e9-4c48-92fe-f2f388a3b324",
   "metadata": {},
   "source": [
    "In this notebook I'm going to try pretrained models hosted on Hugging Face"
   ]
  },
  {
   "cell_type": "code",
   "execution_count": 1,
   "id": "334ef23d",
   "metadata": {},
   "outputs": [],
   "source": [
    "# !pip3 install torch torchvision torchaudio --extra-index-url https://download.pytorch.org/whl/cu113 --upgrade"
   ]
  },
  {
   "cell_type": "markdown",
   "id": "d1d3bab6-76e5-4c1a-981e-4f1006c86224",
   "metadata": {},
   "source": [
    "## Imports"
   ]
  },
  {
   "cell_type": "code",
   "execution_count": 1,
   "id": "65f9128d-93fe-4eb8-a623-291490a5c62b",
   "metadata": {},
   "outputs": [],
   "source": [
    "import os\n",
    "import torch\n",
    "import numpy as np\n",
    "import pandas as pd\n",
    "from sklearn.metrics import f1_score\n",
    "from transformers import AutoModelForSequenceClassification, AutoTokenizer"
   ]
  },
  {
   "cell_type": "code",
   "execution_count": 2,
   "id": "59e6c20d-f2ed-45eb-9918-bdb8f3bac462",
   "metadata": {},
   "outputs": [],
   "source": [
    "SEED = 42"
   ]
  },
  {
   "cell_type": "code",
   "execution_count": 4,
   "id": "62c74ac3",
   "metadata": {},
   "outputs": [
    {
     "data": {
      "text/plain": [
       "device(type='cuda')"
      ]
     },
     "execution_count": 4,
     "metadata": {},
     "output_type": "execute_result"
    }
   ],
   "source": [
    "device = torch.device('cuda' if torch.cuda.is_available() else 'cpu')\n",
    "device"
   ]
  },
  {
   "cell_type": "markdown",
   "id": "1dc8f767-3a51-460f-869d-985d5027c7e5",
   "metadata": {},
   "source": [
    "## Paths"
   ]
  },
  {
   "cell_type": "code",
   "execution_count": 5,
   "id": "d31ea325-b4e9-4ddc-9004-028b09f079ea",
   "metadata": {},
   "outputs": [],
   "source": [
    "relative_path = os.path.join(\"../../../../\", \"data\")"
   ]
  },
  {
   "cell_type": "code",
   "execution_count": 6,
   "id": "589f2efd-9f1e-492c-b27a-c81c6120839f",
   "metadata": {},
   "outputs": [],
   "source": [
    "sentiment_analysis_data_path = os.path.join(relative_path, \"3_sentiment_analysis\")"
   ]
  },
  {
   "cell_type": "markdown",
   "id": "4fc6afa4-81c2-4116-95b4-1c1ede52c871",
   "metadata": {},
   "source": [
    "## Data"
   ]
  },
  {
   "cell_type": "markdown",
   "id": "259da1b8-158b-4a7c-ae33-4c1b377b8da2",
   "metadata": {},
   "source": [
    "### Loading data"
   ]
  },
  {
   "cell_type": "code",
   "execution_count": 7,
   "id": "b68f1853-797e-45d9-afbe-23cd1ab035c6",
   "metadata": {},
   "outputs": [
    {
     "name": "stdout",
     "output_type": "stream",
     "text": [
      "<class 'pandas.core.frame.DataFrame'>\n",
      "RangeIndex: 206737 entries, 0 to 206736\n",
      "Data columns (total 3 columns):\n",
      " #   Column     Non-Null Count   Dtype   \n",
      "---  ------     --------------   -----   \n",
      " 0   sentiment  206737 non-null  category\n",
      " 1   review     206737 non-null  object  \n",
      " 2   fold       206737 non-null  object  \n",
      "dtypes: category(1), object(2)\n",
      "memory usage: 3.4+ MB\n"
     ]
    }
   ],
   "source": [
    "reviews = pd.read_parquet(\n",
    "    os.path.join(sentiment_analysis_data_path, \"split_reviews.parquet\")\n",
    ")\n",
    "reviews.info()"
   ]
  },
  {
   "cell_type": "code",
   "execution_count": 8,
   "id": "1aa80db1",
   "metadata": {},
   "outputs": [],
   "source": [
    "train = reviews[reviews[\"fold\"] == \"train\"]\n",
    "test = reviews[reviews[\"fold\"] == \"test\"]"
   ]
  },
  {
   "cell_type": "code",
   "execution_count": 25,
   "id": "0f8fff00",
   "metadata": {},
   "outputs": [],
   "source": [
    "sentiment_map = {\"good\": \"positive\", \"neutral\": \"neutral\", \"bad\": \"negative\"}\n",
    "setiment_map_model = {\"POSITIVE\": \"positive\", \"NEUTRAL\": \"neutral\", \"NEGATIVE\": \"negative\"}"
   ]
  },
  {
   "cell_type": "code",
   "execution_count": 10,
   "id": "9719c374",
   "metadata": {},
   "outputs": [],
   "source": [
    "test_reviews = test[\"review\"].values.tolist()\n",
    "test_sentiment = test[\"sentiment\"].map(sentiment_map).values\n"
   ]
  },
  {
   "cell_type": "markdown",
   "id": "878f18e3-2fb8-4837-998e-54ad6ab946c0",
   "metadata": {},
   "source": [
    "## Modelling"
   ]
  },
  {
   "cell_type": "markdown",
   "id": "8eff795f",
   "metadata": {},
   "source": [
    "### Parameters"
   ]
  },
  {
   "cell_type": "code",
   "execution_count": 30,
   "id": "1219449d",
   "metadata": {},
   "outputs": [],
   "source": [
    "MAX_LENGTH = 512\n",
    "BATCH_SIZE = 100"
   ]
  },
  {
   "cell_type": "markdown",
   "id": "a3a7674e",
   "metadata": {},
   "source": [
    "### Loading models"
   ]
  },
  {
   "cell_type": "code",
   "execution_count": 31,
   "id": "941df6a2",
   "metadata": {},
   "outputs": [],
   "source": [
    "model_name = \"Tatyana/rubert-base-cased-sentiment-new\"\n",
    "\n",
    "tokenizer = AutoTokenizer.from_pretrained(model_name)\n",
    "model = AutoModelForSequenceClassification.from_pretrained(model_name).to(device)"
   ]
  },
  {
   "cell_type": "markdown",
   "id": "8cb393be-2162-4f5d-94cf-d7df1dd3cd3e",
   "metadata": {},
   "source": [
    "### Evaluation"
   ]
  },
  {
   "cell_type": "code",
   "execution_count": 32,
   "id": "bbe2fd53",
   "metadata": {},
   "outputs": [],
   "source": [
    "inputs = tokenizer(\n",
    "    test_reviews[:BATCH_SIZE], padding=True, truncation=True, return_tensors=\"pt\", max_length=MAX_LENGTH\n",
    ").to(device)"
   ]
  },
  {
   "cell_type": "code",
   "execution_count": 33,
   "id": "0f4c22e3",
   "metadata": {},
   "outputs": [],
   "source": [
    "with torch.no_grad():\n",
    "    logits = model(**inputs).logits"
   ]
  },
  {
   "cell_type": "code",
   "execution_count": 34,
   "id": "7e37ac9c",
   "metadata": {},
   "outputs": [],
   "source": [
    "predicted_class_ids = logits.argmax(axis=1).cpu().detach().numpy()"
   ]
  },
  {
   "cell_type": "code",
   "execution_count": 35,
   "id": "f122cffb",
   "metadata": {},
   "outputs": [],
   "source": [
    "pred_labels_raw = [\n",
    "    model.config.id2label[predicted_class_id]\n",
    "    for predicted_class_id in predicted_class_ids\n",
    "]\n",
    "pred_labels = [setiment_map_model[pred_label_raw] for pred_label_raw in pred_labels_raw]"
   ]
  },
  {
   "cell_type": "code",
   "execution_count": 36,
   "id": "d9328203-4aad-4fcf-b9b9-b447a5f55c49",
   "metadata": {},
   "outputs": [],
   "source": [
    "averaging = \"micro\"\n",
    "f1 = f1_score(test_sentiment[:BATCH_SIZE], pred_labels, average=averaging)"
   ]
  },
  {
   "cell_type": "code",
   "execution_count": 37,
   "id": "2b9637b4-59ba-4c5c-9394-7bbbe9f34321",
   "metadata": {},
   "outputs": [
    {
     "name": "stdout",
     "output_type": "stream",
     "text": [
      "F1 score with micro-averaging is 0.4\n"
     ]
    }
   ],
   "source": [
    "print(f\"F1 score with {averaging}-averaging is {f1.round(3)}\")"
   ]
  },
  {
   "cell_type": "code",
   "execution_count": null,
   "id": "10b54683-7182-457c-b8af-21192395d011",
   "metadata": {},
   "outputs": [],
   "source": []
  }
 ],
 "metadata": {
  "kernelspec": {
   "display_name": "movie_reviews",
   "language": "python",
   "name": "movie_reviews"
  },
  "language_info": {
   "codemirror_mode": {
    "name": "ipython",
    "version": 3
   },
   "file_extension": ".py",
   "mimetype": "text/x-python",
   "name": "python",
   "nbconvert_exporter": "python",
   "pygments_lexer": "ipython3",
   "version": "3.8.10"
  }
 },
 "nbformat": 4,
 "nbformat_minor": 5
}
