{
 "cells": [
  {
   "cell_type": "markdown",
   "id": "c3c851a7-3419-49b4-b115-1909dd0e1adf",
   "metadata": {},
   "source": [
    "# Pretrained: HuggingFace models"
   ]
  },
  {
   "cell_type": "markdown",
   "id": "c36631f4-d7e9-4c48-92fe-f2f388a3b324",
   "metadata": {},
   "source": [
    "In this notebook I'm going to try pretrained models hosted on Hugging Face"
   ]
  },
  {
   "cell_type": "code",
   "execution_count": 1,
   "id": "334ef23d",
   "metadata": {},
   "outputs": [],
   "source": [
    "# !pip3 install torch torchvision torchaudio --extra-index-url https://download.pytorch.org/whl/cu113 --upgrade"
   ]
  },
  {
   "cell_type": "markdown",
   "id": "d1d3bab6-76e5-4c1a-981e-4f1006c86224",
   "metadata": {},
   "source": [
    "## Imports"
   ]
  },
  {
   "cell_type": "code",
   "execution_count": 1,
   "id": "65f9128d-93fe-4eb8-a623-291490a5c62b",
   "metadata": {},
   "outputs": [],
   "source": [
    "import os\n",
    "import torch\n",
    "import numpy as np\n",
    "import pandas as pd\n",
    "from sklearn.metrics import f1_score\n",
    "from transformers import AutoModelForSequenceClassification, AutoTokenizer"
   ]
  },
  {
   "cell_type": "code",
   "execution_count": 2,
   "id": "59e6c20d-f2ed-45eb-9918-bdb8f3bac462",
   "metadata": {},
   "outputs": [],
   "source": [
    "SEED = 42"
   ]
  },
  {
   "cell_type": "code",
   "execution_count": 3,
   "id": "62c74ac3",
   "metadata": {},
   "outputs": [
    {
     "data": {
      "text/plain": [
       "device(type='cuda')"
      ]
     },
     "execution_count": 3,
     "metadata": {},
     "output_type": "execute_result"
    }
   ],
   "source": [
    "device = torch.device(\"cuda\" if torch.cuda.is_available() else \"cpu\")\n",
    "device\n"
   ]
  },
  {
   "cell_type": "markdown",
   "id": "03bdfbdb",
   "metadata": {},
   "source": [
    "## Functions"
   ]
  },
  {
   "cell_type": "code",
   "execution_count": 4,
   "id": "9e79a3a6",
   "metadata": {},
   "outputs": [],
   "source": [
    "def generate_batches(X, y, batch_size):\n",
    "    assert len(X) == len(y)\n",
    "\n",
    "    np.random.seed(42)\n",
    "\n",
    "    X = np.array(X)\n",
    "    y = np.array(y)\n",
    "\n",
    "    perm = np.random.permutation(len(X))\n",
    "\n",
    "    for batch_start in range(0, len(X), batch_size):\n",
    "        selection = perm[batch_start : batch_start + batch_size]\n",
    "        X_batch = X[selection]\n",
    "        y_batch = y[selection]\n",
    "\n",
    "        yield X_batch, y_batch\n"
   ]
  },
  {
   "cell_type": "markdown",
   "id": "1dc8f767-3a51-460f-869d-985d5027c7e5",
   "metadata": {},
   "source": [
    "## Paths"
   ]
  },
  {
   "cell_type": "code",
   "execution_count": 5,
   "id": "d31ea325-b4e9-4ddc-9004-028b09f079ea",
   "metadata": {},
   "outputs": [],
   "source": [
    "relative_path = os.path.join(\"../../../../\", \"data\")"
   ]
  },
  {
   "cell_type": "code",
   "execution_count": 6,
   "id": "589f2efd-9f1e-492c-b27a-c81c6120839f",
   "metadata": {},
   "outputs": [],
   "source": [
    "sentiment_analysis_data_path = os.path.join(relative_path, \"3_sentiment_analysis\")"
   ]
  },
  {
   "cell_type": "markdown",
   "id": "4fc6afa4-81c2-4116-95b4-1c1ede52c871",
   "metadata": {},
   "source": [
    "## Data"
   ]
  },
  {
   "cell_type": "markdown",
   "id": "259da1b8-158b-4a7c-ae33-4c1b377b8da2",
   "metadata": {},
   "source": [
    "### Loading data"
   ]
  },
  {
   "cell_type": "code",
   "execution_count": 7,
   "id": "b68f1853-797e-45d9-afbe-23cd1ab035c6",
   "metadata": {},
   "outputs": [
    {
     "name": "stdout",
     "output_type": "stream",
     "text": [
      "<class 'pandas.core.frame.DataFrame'>\n",
      "RangeIndex: 206737 entries, 0 to 206736\n",
      "Data columns (total 3 columns):\n",
      " #   Column     Non-Null Count   Dtype   \n",
      "---  ------     --------------   -----   \n",
      " 0   sentiment  206737 non-null  category\n",
      " 1   review     206737 non-null  object  \n",
      " 2   fold       206737 non-null  object  \n",
      "dtypes: category(1), object(2)\n",
      "memory usage: 3.4+ MB\n"
     ]
    }
   ],
   "source": [
    "reviews = pd.read_parquet(\n",
    "    os.path.join(sentiment_analysis_data_path, \"split_reviews.parquet\")\n",
    ")\n",
    "reviews.info()"
   ]
  },
  {
   "cell_type": "code",
   "execution_count": 8,
   "id": "1aa80db1",
   "metadata": {},
   "outputs": [],
   "source": [
    "train = reviews[reviews[\"fold\"] == \"train\"]\n",
    "test = reviews[reviews[\"fold\"] == \"test\"]"
   ]
  },
  {
   "cell_type": "code",
   "execution_count": 9,
   "id": "0f8fff00",
   "metadata": {},
   "outputs": [],
   "source": [
    "sentiment_map = {\"good\": \"positive\", \"neutral\": \"neutral\", \"bad\": \"negative\"}\n",
    "setiment_map_model = {\n",
    "    \"POSITIVE\": \"positive\",\n",
    "    \"NEUTRAL\": \"neutral\",\n",
    "    \"NEGATIVE\": \"negative\",\n",
    "}"
   ]
  },
  {
   "cell_type": "code",
   "execution_count": 10,
   "id": "9719c374",
   "metadata": {},
   "outputs": [],
   "source": [
    "test_reviews = test[\"review\"].values.tolist()\n",
    "test_sentiment = test[\"sentiment\"].map(sentiment_map).values\n"
   ]
  },
  {
   "cell_type": "code",
   "execution_count": 11,
   "id": "cd6b9b9b",
   "metadata": {},
   "outputs": [
    {
     "name": "stderr",
     "output_type": "stream",
     "text": [
      "C:\\Users\\ryblo\\AppData\\Local\\Temp\\ipykernel_17724\\2235270283.py:1: SettingWithCopyWarning: \n",
      "A value is trying to be set on a copy of a slice from a DataFrame.\n",
      "Try using .loc[row_indexer,col_indexer] = value instead\n",
      "\n",
      "See the caveats in the documentation: https://pandas.pydata.org/pandas-docs/stable/user_guide/indexing.html#returning-a-view-versus-a-copy\n",
      "  test[\"review\"] = test[\"review\"].str.replace(\"<p>\", \" \")\n"
     ]
    }
   ],
   "source": [
    "test[\"review\"] = test[\"review\"].str.replace(\"<p>\", \" \")"
   ]
  },
  {
   "cell_type": "markdown",
   "id": "878f18e3-2fb8-4837-998e-54ad6ab946c0",
   "metadata": {},
   "source": [
    "## Modelling"
   ]
  },
  {
   "cell_type": "markdown",
   "id": "8eff795f",
   "metadata": {},
   "source": [
    "### Parameters"
   ]
  },
  {
   "cell_type": "code",
   "execution_count": 12,
   "id": "1219449d",
   "metadata": {},
   "outputs": [],
   "source": [
    "MAX_LENGTH = 512\n",
    "BATCH_SIZE = 168"
   ]
  },
  {
   "cell_type": "markdown",
   "id": "a3a7674e",
   "metadata": {},
   "source": [
    "### Loading models"
   ]
  },
  {
   "cell_type": "code",
   "execution_count": 13,
   "id": "941df6a2",
   "metadata": {},
   "outputs": [],
   "source": [
    "model_name = \"Tatyana/rubert-base-cased-sentiment-new\"\n",
    "\n",
    "tokenizer = AutoTokenizer.from_pretrained(model_name)\n",
    "model = AutoModelForSequenceClassification.from_pretrained(model_name).to(device)"
   ]
  },
  {
   "cell_type": "markdown",
   "id": "8cb393be-2162-4f5d-94cf-d7df1dd3cd3e",
   "metadata": {},
   "source": [
    "### Evaluation"
   ]
  },
  {
   "cell_type": "code",
   "execution_count": 15,
   "id": "1c6fd95a",
   "metadata": {},
   "outputs": [
    {
     "name": "stdout",
     "output_type": "stream",
     "text": [
      "168/20674\n",
      "336/20674\n",
      "504/20674\n",
      "672/20674\n",
      "840/20674\n",
      "1008/20674\n",
      "1176/20674\n",
      "1344/20674\n",
      "1512/20674\n",
      "1680/20674\n",
      "1848/20674\n",
      "2016/20674\n",
      "2184/20674\n",
      "2352/20674\n",
      "2520/20674\n",
      "2688/20674\n",
      "2856/20674\n",
      "3024/20674\n",
      "3192/20674\n",
      "3360/20674\n",
      "3528/20674\n",
      "3696/20674\n",
      "3864/20674\n",
      "4032/20674\n",
      "4200/20674\n",
      "4368/20674\n",
      "4536/20674\n",
      "4704/20674\n",
      "4872/20674\n",
      "5040/20674\n",
      "5208/20674\n",
      "5376/20674\n",
      "5544/20674\n",
      "5712/20674\n",
      "5880/20674\n",
      "6048/20674\n",
      "6216/20674\n",
      "6384/20674\n",
      "6552/20674\n",
      "6720/20674\n",
      "6888/20674\n",
      "7056/20674\n",
      "7224/20674\n",
      "7392/20674\n",
      "7560/20674\n",
      "7728/20674\n",
      "7896/20674\n",
      "8064/20674\n",
      "8232/20674\n",
      "8400/20674\n",
      "8568/20674\n",
      "8736/20674\n",
      "8904/20674\n",
      "9072/20674\n",
      "9240/20674\n",
      "9408/20674\n",
      "9576/20674\n",
      "9744/20674\n",
      "9912/20674\n",
      "10080/20674\n",
      "10248/20674\n",
      "10416/20674\n",
      "10584/20674\n",
      "10752/20674\n",
      "10920/20674\n",
      "11088/20674\n",
      "11256/20674\n",
      "11424/20674\n",
      "11592/20674\n",
      "11760/20674\n",
      "11928/20674\n",
      "12096/20674\n",
      "12264/20674\n",
      "12432/20674\n",
      "12600/20674\n",
      "12768/20674\n",
      "12936/20674\n",
      "13104/20674\n",
      "13272/20674\n",
      "13440/20674\n",
      "13608/20674\n",
      "13776/20674\n",
      "13944/20674\n",
      "14112/20674\n",
      "14280/20674\n",
      "14448/20674\n",
      "14616/20674\n",
      "14784/20674\n",
      "14952/20674\n",
      "15120/20674\n",
      "15288/20674\n",
      "15456/20674\n",
      "15624/20674\n",
      "15792/20674\n",
      "15960/20674\n",
      "16128/20674\n",
      "16296/20674\n",
      "16464/20674\n",
      "16632/20674\n",
      "16800/20674\n",
      "16968/20674\n",
      "17136/20674\n",
      "17304/20674\n",
      "17472/20674\n",
      "17640/20674\n",
      "17808/20674\n",
      "17976/20674\n",
      "18144/20674\n",
      "18312/20674\n",
      "18480/20674\n",
      "18648/20674\n",
      "18816/20674\n",
      "18984/20674\n",
      "19152/20674\n",
      "19320/20674\n",
      "19488/20674\n",
      "19656/20674\n",
      "19824/20674\n",
      "19992/20674\n",
      "20160/20674\n",
      "20328/20674\n",
      "20496/20674\n",
      "20664/20674\n",
      "20674/20674\n"
     ]
    }
   ],
   "source": [
    "pred_labels = []\n",
    "\n",
    "for test_reviews_batch, _ in generate_batches(test_reviews, test_sentiment, BATCH_SIZE):\n",
    "    inputs = tokenizer(\n",
    "        list(test_reviews_batch),\n",
    "        padding=True,\n",
    "        truncation=True,\n",
    "        return_tensors=\"pt\",\n",
    "        max_length=MAX_LENGTH,\n",
    "    ).to(device)\n",
    "\n",
    "    with torch.no_grad():\n",
    "        logits = model(**inputs).logits\n",
    "\n",
    "    predicted_class_ids = logits.argmax(axis=1).cpu().detach().numpy()\n",
    "    pred_labels_raw = [\n",
    "        model.config.id2label[predicted_class_id]\n",
    "        for predicted_class_id in predicted_class_ids\n",
    "    ]\n",
    "    pred_labels_batch = [\n",
    "        setiment_map_model[pred_label_raw] for pred_label_raw in pred_labels_raw\n",
    "    ]\n",
    "    pred_labels.extend(pred_labels_batch)\n",
    "\n",
    "    print(f\"{len(pred_labels)}/{len(test_sentiment)}\")"
   ]
  },
  {
   "cell_type": "code",
   "execution_count": 16,
   "id": "d9328203-4aad-4fcf-b9b9-b447a5f55c49",
   "metadata": {},
   "outputs": [],
   "source": [
    "averaging = \"micro\"\n",
    "f1 = f1_score(test_sentiment, pred_labels, average=averaging)"
   ]
  },
  {
   "cell_type": "code",
   "execution_count": 17,
   "id": "2b9637b4-59ba-4c5c-9394-7bbbe9f34321",
   "metadata": {},
   "outputs": [
    {
     "name": "stdout",
     "output_type": "stream",
     "text": [
      "F1 score with micro-averaging is 0.346\n"
     ]
    }
   ],
   "source": [
    "print(f\"F1 score with {averaging}-averaging is {f1.round(3)}\")"
   ]
  },
  {
   "cell_type": "code",
   "execution_count": null,
   "id": "10b54683-7182-457c-b8af-21192395d011",
   "metadata": {},
   "outputs": [],
   "source": []
  }
 ],
 "metadata": {
  "kernelspec": {
   "display_name": "movie_reviews",
   "language": "python",
   "name": "movie_reviews"
  },
  "language_info": {
   "codemirror_mode": {
    "name": "ipython",
    "version": 3
   },
   "file_extension": ".py",
   "mimetype": "text/x-python",
   "name": "python",
   "nbconvert_exporter": "python",
   "pygments_lexer": "ipython3",
   "version": "3.8.10"
  }
 },
 "nbformat": 4,
 "nbformat_minor": 5
}
