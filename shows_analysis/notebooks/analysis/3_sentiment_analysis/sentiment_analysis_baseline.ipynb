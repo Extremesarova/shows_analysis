{
 "cells": [
  {
   "cell_type": "markdown",
   "id": "c3c851a7-3419-49b4-b115-1909dd0e1adf",
   "metadata": {},
   "source": [
    "# Sentiment analysis of show reviews"
   ]
  },
  {
   "cell_type": "markdown",
   "id": "d8b31dfd-72fb-4301-a465-51d30d8761f4",
   "metadata": {},
   "source": [
    "The goal of this analysis is to ...\n",
    "* Get hands-on experience with packages and tools for analysing Russian language (natasha, nltk, spacy, rnnmorph, pymorphy2)\n",
    "* Investigate available pre-trained models for Russian language (wor2vec, fasttext, navec, models from sber, deeppavlov and others)\n",
    "* Learn how to finetune BERT-like models"
   ]
  },
  {
   "cell_type": "markdown",
   "id": "d1d3bab6-76e5-4c1a-981e-4f1006c86224",
   "metadata": {},
   "source": [
    "## Imports"
   ]
  },
  {
   "cell_type": "code",
   "execution_count": 1,
   "id": "65f9128d-93fe-4eb8-a623-291490a5c62b",
   "metadata": {},
   "outputs": [],
   "source": [
    "import gc\n",
    "import os\n",
    "import re\n",
    "import sys\n",
    "import warnings\n",
    "from typing import List, Tuple\n",
    "\n",
    "import dateparser\n",
    "import numpy as np\n",
    "import pandas as pd\n",
    "from matplotlib import pyplot as plt\n",
    "from sklearn import svm\n",
    "from sklearn.feature_extraction.text import CountVectorizer, TfidfVectorizer\n",
    "from sklearn.linear_model import LogisticRegression\n",
    "from sklearn.metrics import f1_score\n",
    "from sklearn.model_selection import train_test_split\n",
    "from sklearn.preprocessing import LabelEncoder\n",
    "from tqdm import tqdm\n",
    "\n",
    "tqdm.pandas()\n",
    "\n",
    "%matplotlib inline\n",
    "%config InlineBackend.figure_format='retina'"
   ]
  },
  {
   "cell_type": "code",
   "execution_count": 2,
   "id": "59e6c20d-f2ed-45eb-9918-bdb8f3bac462",
   "metadata": {},
   "outputs": [],
   "source": [
    "SEED = 42"
   ]
  },
  {
   "cell_type": "markdown",
   "id": "4fc6afa4-81c2-4116-95b4-1c1ede52c871",
   "metadata": {},
   "source": [
    "## Data"
   ]
  },
  {
   "cell_type": "markdown",
   "id": "259da1b8-158b-4a7c-ae33-4c1b377b8da2",
   "metadata": {},
   "source": [
    "### Loading data"
   ]
  },
  {
   "cell_type": "code",
   "execution_count": 3,
   "id": "98af7278-bb51-40ed-9c65-0afa2740666a",
   "metadata": {},
   "outputs": [],
   "source": [
    "relative_path = \"../../../../\""
   ]
  },
  {
   "cell_type": "code",
   "execution_count": 4,
   "id": "b68f1853-797e-45d9-afbe-23cd1ab035c6",
   "metadata": {},
   "outputs": [
    {
     "name": "stdout",
     "output_type": "stream",
     "text": [
      "CPU times: total: 3.7 s\n",
      "Wall time: 3.87 s\n"
     ]
    },
    {
     "data": {
      "text/plain": [
       "(206737, 9)"
      ]
     },
     "execution_count": 4,
     "metadata": {},
     "output_type": "execute_result"
    }
   ],
   "source": [
    "%%time\n",
    "\n",
    "reviews_df = pd.read_parquet(os.path.join(relative_path, \"data/mt_reviews.parquet\"))\n",
    "reviews_df.shape"
   ]
  },
  {
   "cell_type": "markdown",
   "id": "4858a96f-3869-41da-a20f-c90870449120",
   "metadata": {},
   "source": [
    "### Dataset overview"
   ]
  },
  {
   "cell_type": "code",
   "execution_count": 5,
   "id": "093408c0-d054-4f3e-bd64-1c743318a05c",
   "metadata": {},
   "outputs": [
    {
     "data": {
      "text/html": [
       "<div>\n",
       "<style scoped>\n",
       "    .dataframe tbody tr th:only-of-type {\n",
       "        vertical-align: middle;\n",
       "    }\n",
       "\n",
       "    .dataframe tbody tr th {\n",
       "        vertical-align: top;\n",
       "    }\n",
       "\n",
       "    .dataframe thead th {\n",
       "        text-align: right;\n",
       "    }\n",
       "</style>\n",
       "<table border=\"1\" class=\"dataframe\">\n",
       "  <thead>\n",
       "    <tr style=\"text-align: right;\">\n",
       "      <th></th>\n",
       "      <th>show_id</th>\n",
       "      <th>user_id</th>\n",
       "      <th>type</th>\n",
       "      <th>datetime</th>\n",
       "      <th>sentiment</th>\n",
       "      <th>subtitle</th>\n",
       "      <th>review</th>\n",
       "      <th>review_usefulness</th>\n",
       "      <th>score</th>\n",
       "    </tr>\n",
       "  </thead>\n",
       "  <tbody>\n",
       "    <tr>\n",
       "      <th>196236</th>\n",
       "      <td>257386</td>\n",
       "      <td>28525</td>\n",
       "      <td>series</td>\n",
       "      <td>2010-08-27 11:23:00</td>\n",
       "      <td>good</td>\n",
       "      <td>Вечный город.</td>\n",
       "      <td>К истории Древнего мира у меня отношение особо...</td>\n",
       "      <td>40</td>\n",
       "      <td>NaN</td>\n",
       "    </tr>\n",
       "    <tr>\n",
       "      <th>128582</th>\n",
       "      <td>688832</td>\n",
       "      <td>44953</td>\n",
       "      <td>movie</td>\n",
       "      <td>2015-02-20 23:19:00</td>\n",
       "      <td>bad</td>\n",
       "      <td>50 оттенков разочарования</td>\n",
       "      <td>Говорю сразу, книги читала все, да и по нескол...</td>\n",
       "      <td>5</td>\n",
       "      <td>3.0</td>\n",
       "    </tr>\n",
       "    <tr>\n",
       "      <th>159673</th>\n",
       "      <td>349</td>\n",
       "      <td>33910</td>\n",
       "      <td>movie</td>\n",
       "      <td>2018-04-15 21:04:00</td>\n",
       "      <td>good</td>\n",
       "      <td>Господи, спасибо, что не пронесло мимо</td>\n",
       "      <td>Есть два типа фильмов, мой друг. Одни ты прост...</td>\n",
       "      <td>4</td>\n",
       "      <td>NaN</td>\n",
       "    </tr>\n",
       "    <tr>\n",
       "      <th>109244</th>\n",
       "      <td>686898</td>\n",
       "      <td>44065</td>\n",
       "      <td>movie</td>\n",
       "      <td>2019-11-09 11:58:00</td>\n",
       "      <td>neutral</td>\n",
       "      <td>Что же стало с клоуном?</td>\n",
       "      <td>Итак, в первую очередь хотелось бы отметить то...</td>\n",
       "      <td>2</td>\n",
       "      <td>6.5</td>\n",
       "    </tr>\n",
       "    <tr>\n",
       "      <th>92610</th>\n",
       "      <td>61455</td>\n",
       "      <td>66782</td>\n",
       "      <td>movie</td>\n",
       "      <td>2017-11-27 18:52:00</td>\n",
       "      <td>good</td>\n",
       "      <td>Они отказываются подчиняться</td>\n",
       "      <td>Автора этого замечательного фильма, Джосса Уэд...</td>\n",
       "      <td>5</td>\n",
       "      <td>NaN</td>\n",
       "    </tr>\n",
       "    <tr>\n",
       "      <th>43727</th>\n",
       "      <td>491724</td>\n",
       "      <td>44563</td>\n",
       "      <td>movie</td>\n",
       "      <td>2012-01-28 23:18:00</td>\n",
       "      <td>good</td>\n",
       "      <td>Жестокая правда</td>\n",
       "      <td>Финчер снова нас поразил, он всегда нас поража...</td>\n",
       "      <td>7</td>\n",
       "      <td>10.0</td>\n",
       "    </tr>\n",
       "    <tr>\n",
       "      <th>50195</th>\n",
       "      <td>102130</td>\n",
       "      <td>67145</td>\n",
       "      <td>movie</td>\n",
       "      <td>2009-08-17 11:56:00</td>\n",
       "      <td>good</td>\n",
       "      <td>Преодолеть 2 года жизни, что встретиться</td>\n",
       "      <td>Слышал о фильме много, и в основном положитель...</td>\n",
       "      <td>11</td>\n",
       "      <td>10.0</td>\n",
       "    </tr>\n",
       "    <tr>\n",
       "      <th>43651</th>\n",
       "      <td>491724</td>\n",
       "      <td>66283</td>\n",
       "      <td>movie</td>\n",
       "      <td>2012-02-19 15:33:00</td>\n",
       "      <td>bad</td>\n",
       "      <td>Мужчины, которые ненавидели женщин.</td>\n",
       "      <td>Я попробовала рассматривать этот фильм с двух ...</td>\n",
       "      <td>3</td>\n",
       "      <td>6.0</td>\n",
       "    </tr>\n",
       "    <tr>\n",
       "      <th>48775</th>\n",
       "      <td>7226</td>\n",
       "      <td>7905</td>\n",
       "      <td>movie</td>\n",
       "      <td>2014-02-20 03:44:00</td>\n",
       "      <td>good</td>\n",
       "      <td>None</td>\n",
       "      <td>«Догвилль» - это один из тех редких фильмов, п...</td>\n",
       "      <td>3</td>\n",
       "      <td>10.0</td>\n",
       "    </tr>\n",
       "    <tr>\n",
       "      <th>75262</th>\n",
       "      <td>458</td>\n",
       "      <td>33255</td>\n",
       "      <td>movie</td>\n",
       "      <td>2013-06-22 21:14:00</td>\n",
       "      <td>good</td>\n",
       "      <td>Тайна закрытой двери</td>\n",
       "      <td>Я имела счастье смотреть этот мультфильм в кин...</td>\n",
       "      <td>6</td>\n",
       "      <td>10.0</td>\n",
       "    </tr>\n",
       "  </tbody>\n",
       "</table>\n",
       "</div>"
      ],
      "text/plain": [
       "        show_id  user_id    type            datetime sentiment  \\\n",
       "196236   257386    28525  series 2010-08-27 11:23:00      good   \n",
       "128582   688832    44953   movie 2015-02-20 23:19:00       bad   \n",
       "159673      349    33910   movie 2018-04-15 21:04:00      good   \n",
       "109244   686898    44065   movie 2019-11-09 11:58:00   neutral   \n",
       "92610     61455    66782   movie 2017-11-27 18:52:00      good   \n",
       "43727    491724    44563   movie 2012-01-28 23:18:00      good   \n",
       "50195    102130    67145   movie 2009-08-17 11:56:00      good   \n",
       "43651    491724    66283   movie 2012-02-19 15:33:00       bad   \n",
       "48775      7226     7905   movie 2014-02-20 03:44:00      good   \n",
       "75262       458    33255   movie 2013-06-22 21:14:00      good   \n",
       "\n",
       "                                        subtitle  \\\n",
       "196236                             Вечный город.   \n",
       "128582                 50 оттенков разочарования   \n",
       "159673    Господи, спасибо, что не пронесло мимо   \n",
       "109244                   Что же стало с клоуном?   \n",
       "92610               Они отказываются подчиняться   \n",
       "43727                            Жестокая правда   \n",
       "50195   Преодолеть 2 года жизни, что встретиться   \n",
       "43651        Мужчины, которые ненавидели женщин.   \n",
       "48775                                       None   \n",
       "75262                       Тайна закрытой двери   \n",
       "\n",
       "                                                   review  review_usefulness  \\\n",
       "196236  К истории Древнего мира у меня отношение особо...                 40   \n",
       "128582  Говорю сразу, книги читала все, да и по нескол...                  5   \n",
       "159673  Есть два типа фильмов, мой друг. Одни ты прост...                  4   \n",
       "109244  Итак, в первую очередь хотелось бы отметить то...                  2   \n",
       "92610   Автора этого замечательного фильма, Джосса Уэд...                  5   \n",
       "43727   Финчер снова нас поразил, он всегда нас поража...                  7   \n",
       "50195   Слышал о фильме много, и в основном положитель...                 11   \n",
       "43651   Я попробовала рассматривать этот фильм с двух ...                  3   \n",
       "48775   «Догвилль» - это один из тех редких фильмов, п...                  3   \n",
       "75262   Я имела счастье смотреть этот мультфильм в кин...                  6   \n",
       "\n",
       "        score  \n",
       "196236    NaN  \n",
       "128582    3.0  \n",
       "159673    NaN  \n",
       "109244    6.5  \n",
       "92610     NaN  \n",
       "43727    10.0  \n",
       "50195    10.0  \n",
       "43651     6.0  \n",
       "48775    10.0  \n",
       "75262    10.0  "
      ]
     },
     "execution_count": 5,
     "metadata": {},
     "output_type": "execute_result"
    }
   ],
   "source": [
    "reviews_df.sample(n=10, random_state=SEED)"
   ]
  },
  {
   "cell_type": "markdown",
   "id": "56198b2d-66b4-4c5e-9f0b-6ad71973c5e1",
   "metadata": {},
   "source": [
    "### Looking at reviews"
   ]
  },
  {
   "cell_type": "code",
   "execution_count": 6,
   "id": "cff6329b-a112-46aa-82b5-d5bb888c9d8c",
   "metadata": {},
   "outputs": [
    {
     "name": "stdout",
     "output_type": "stream",
     "text": [
      "К истории Древнего мира у меня отношение особое, как и к самой истории в целом. Меня манит великолепие дворцов разных эпох, сильные характеры и яркие личности, грандиозные и эпические битвы. Я обожаю историю Древнего Рима, Греции, Вавилонии, Египта, обожаю историю Средневековья. Есть в прошлом что-то такое притягательное и таинственное, то, что манит. Иногда мне кажется, что я человек той эпохи, а не этой. Поэтому, в силу таких моих личных взглядов исторические картины представляют для меня наибольший интерес. И именно поэтому совершенно неудивительно, что наткнувшись на сериал 'Рим' я им серьёзно увлеклась.\n",
      " Римская империя - одна из самых известных цивилизаций, которая положила начало многим основам нашей современной жизни. Римом правили по истине великие люди. Именно Рим дал нам понятие демократии, сената, республики и многих других политических вещей. До сих пор многие римские законы действуют в нашем обществе, конечно, видоизменённые под наш век. Но факт остаётся фактом, Римская империя была одной из ведущих держав своего времени и оставила после себя богатое историческое и культурное наследие.\n",
      " Но наряду с плюсами, были и минусы. В Риме процветали многие пороки человечества. Откровенная жестокость, разврат, алчность. И ещё многие грехи, так свойственные несовершенному представителю рода людского.\n",
      " Назвать этот киношедевр сериалом у меня с трудом поворачивается язык, но с формальной точки зрения это именно так. Каждая серия - это законченный по своему смысловому содержанию рассказ. Каждая серия - это мини-шедевр. Перед нашими глазами предстаёт золотая эпоха Римской империи. На наших глазах разворачивается ожесточённая борьба за власть, за своё место в этом мире. Многие на этом пути теряют себя, меняются до тошноты, и только по настоящему сильные люди способны пройти весь путь до конца. Наряду с историческими личностями мы видим ту эпоху глазами простых людей, что несомненно идёт в плюс сериалу.\n",
      " Эта картина богата на яркие образы. И самый главный и, пожалуй, самый выразительный - это образ самого Рима. Он предстаёт перед нами величественным как никогда. На его улицах разворачиваются человеческие драмы, а он безмолвствует и с каким-то снисхождением взирает на мелких людишек, копошащихся на его улицах. Во истину вечный город. Нам ярко демонстрируют быт и нравы того времени. В чём-то они жестокие и даже какие-то дикие, непонятные нам, но так люди жили. Вообще сама картинка фильма поражает своей реалистичностью, своим антуражем того времени. Всё, вплоть до мельчайших деталей демонстрирует нам именно тот мир, который так далёк от современного. Это чувствуется и в речи и привычках. И такая яркая демонстрация жизни того времени определённо ещё один плюс сериала.\n",
      " Фильм шокирует. Шокирует реками крови, которая проливалась за власть, за убеждения и принципы, шокирует той жестокостью, что царила на улицах города, что даже знатную римлянку могли средь бела дня спокойно выкрасть, шокирует изощрёнными пытками рабов и тем хладнокровием, с которым на это их хозяева взирали, шокируют тем фактом, что рабы действительно являлись вещами, а не людьми с чувствами, мыслями и эмоциями, шокирует своей порочностью, шокирует тем, что люди похожи на животных. Но человек всегда остаётся человеком в любые времена. И поэтому ему не чужды и светлые стороны его натуры, которые не менее ярко продемонстрированы в фильме. Здесь есть и настоящая любовь, крепкая дружба, верность и преданность, благородство и сильные характеры.\n",
      "Луций Варен (Кевин МакКидд), пожалуй, самый сложный персонаж. У него невероятно сильный и волевой характер, но слишком глубокие эмоции, которыми он не всегда может управлять. И именно это свойство его характера сыграет с ним злую шутку. Он человек чести, верный и преданный. И этого же требует от других. Ему невероятно трудно простить предательство и ложь, если не невозможно. Человек, ищущий покаяния за свои грехи и в конце получающий его как благословение. Сильный, яркий и выразительный образ.\n",
      " Невозможно не сказать о знаковой фигуре мировой истории и человеке, с которым, пожалуй, Рим ассоциируется чаще всего. Гай Юлий Цезарь был тираном и деспотом, но при том сделал для Рима невероятно много. Через кровь и жестокость он смог возвысить свою империю, хотя и поплатился за это жизнью. Блестящий образ, созданный Киараном Хиндсом.\n",
      "Марк Антоний в исполнении Джеймса Пьюрфоя мой самый любимый персонаж. Он алчен до власти, он жесток и любвеобилен, но он истинный полководец и солдат. Он умён и хитёр, но тем не менее и благороден. Иногда чересчур пафосен, но за всей бравадой сокрыты яркая личность и сильный и решительный характер. А последние две серии - это апогей, кульминация сериала, в которой центральное место занимает именно Марк Антониий и Клеопатра. Колоритный образ одного их самых великих людей мировой истории.\n",
      "Октавиан Август (Саймон Вудс) лично для меня самый малоприятный персонаж 'Рима'. Да, он стал первым римским императором, он правил очень долго и много сделал для империи. Но его первые шаги, то, как он добивался этой власти откровенно отталкивают от него. Расчётливый, циничный, играющий жизнями других и абсолютно не щадящий их чувства, даже матери и сестры. Жадный до власти, алчный в достижении своих целей. Сильный образ, но на меня произвёл исключительно отрицательное впечатление.\n",
      " Пожалуй, самая лучшая женская роль в этом сериале принадлежит Полли Уокер и её Атии. Вот это женщина. Ловкая, хитрая, изворотливая, умная, жестокая. Она всю свою жизни шла по головам и боролась за место под солнцем, а в итоге осталась с тяжёлым грузом на душе и огромной болью в сердце, но достоинства своего не потеряла. В последних сериях она у меня вызывала неподдельное уважение и восхищение.\n",
      " Ну и пожалуй стоит сказать об одной из самых загадочных женщин мировой истории. Клеопатра (Линдси Маршал) была царицей Египта, но больше всего она известна именно как возлюбленная Марка Антония. Что ж, один из самых красивых романов в мировой истории здесь предстаёт во всём своём великолепии любви. Признаюсь, что Маршалл я сначала совершенно не восприняла в роли Клеопатры, но последние серии убедили меня совершенно в обратном. Личность, царица, женщина.\n",
      "Может я субъективна в восприятии этого сериала, может слишком люблю эту историческую эпоху, но на мой взгляд 'Рим' является одним из лучших творений кинематографа на тему античности. Именно 'Рим' демонстрирует нам яркую картину жизни и быта, борьбы за власть, людской алчности, любви и дружбы. Именно смотря 'Рим', хочется сказать: 'Да, так жили и умирали великие люди, да, так жили и умирали простые смертные'.\n",
      "\n",
      "\n",
      "Говорю сразу, книги читала все, да и по несколько раз. И когда услышала, что первой книге дадут жизнь на экране-активно стала следить за съемочным процессом и все что с ним связано. И вот 12 февраля, все поклонники книги ринулись в кинозалы, да бы насладиться этой историей на экране. Увы, я испытала разочарование.\n",
      "Во-первых, начнем с сюжета. Я понимаю, что очень сложно отразить все аспекты, которые были в книги, но хотя бы можно остановиться на нескольких, а не дробить все на интервалы около 1-2 минут. Те, кто читал-понимают сюжет, а кто не читал книгу-крепитесь, поверхностно все схватите более менее. Итог: фанаты недовольны, а другие совершенно не понимают, что сейчас только что произошло.\n",
      "Во-вторых, я правда не понимаю, как именно выбирались актеры на главные роли. Понимаю, что у автора романа было свое видение, и только она могла утвердить главных актеров на роль, но это же такая катастрофа. Дакота Джонсон(Анастейша Стил)- тут даже не буду говорить про раскрытие образа или актерскую игру-это просто полный ноль. Эмоции все детские, и показала она Ану как девушку пустую. Если говорить про ее фигуру, тут вообще хотелось отвернуться. Вместо нежной, робкой Аны, му получаем типичную девушку с грубоватыми манерами и пустыми глазами.\n",
      "Джейми Дорнан(Кристиан Грей) вообще отдельный разговор. Мало того, что он выглядел моложе, чем Дакота(это прям бросалась в глаза), так еще было видно, что он не смог прочувствовать все 50 оттенков мистера Грея. Было видно, что он работал над фигурой, и что явно пытался быть серьезным. Ну не его это было. Все его попытки показать, что он доминант, вызывали просто усмешку или хохот. И хотелось бы еще заметить, что озвучка только все усугубила.\n",
      "Если говорить про них вместе-то можно и не говорить. Никакой химии, связи, эмоции между ними я не увидела, к большему сожалению. Было видно, что они очень старались все это передать, но меня ничего не зацепило, вообще. Иногда даже возникало чувство, что они находятся на разных планетах, когда говорили сами с собой. Даже если упомянуть про красную комнату, то это смело можно отнести к нераскрытой идеи.\n",
      "Единственно, что спасло фильм-это музыка! Вот тут низкий поклон и большое всем спасибо. От нее шли мурашки по коже.\n",
      "Если подвести итог, то фильм спасли только фанаты, которые ждали его. Только за счет этого, 50ОС смогли собрать кассу. Фильм откровенно одноразовый, и было жалко 2 часа своего времени.\n",
      "\n",
      "\n",
      "Есть два типа фильмов, мой друг. Одни ты просто смотришь, а от других у тебя просто сносит крышу. И ты, как маньяк, готов смотреть такой фильм снова и снова, покадрово  пересматривая любимые сцены. Саундтрек к фильму звучит у тебя в голове. Ты начинаешь говорить фразами из фильма. Ты полностью в нем. Ты хочешь знать об этот фильме все. \n",
      "Примерно такой эффект на меня и произвел фильм «Хороший, плохой, злой». После первого просмотра в голове только одна мысль – «Господи, спасибо, что не пронесло мимо!» Именно так сказал Илай Уоллак, когда Серджио Леоне предложил ему роль Туко, которая актера поначалу не впечатлила. Но, посмотрев кусочек «На несколько долларов больше», он согласился сразу. И не зря. \n",
      "Кстати, при подготовке фильма к американскому прокату, а снимался он итальянской кинокомпанией в Испании, с героями вышла путаница. Изначально по сценарию Хороший – это Блондин, герой Клинта Иствуда, Плохой – это Сентенца (Ангельские глазки), в исполнении Ли Ван Клифа, а Злой – Туко, которого сыграл Уоллак. В английском дубляже все перепутали, и Плохим стал Туко, а Сентенца – Злым. Но как говорил режиссер, все трое – суть одной личности, ибо в каждом есть что-то хорошее, злое и плохое, да и оно не всегда однозначно.\n",
      "Музыка Эннио Морриконе – это еще один, четвертый герой фильма. Гениальный саундтрек! Он стал самым узнаваемым в мире и символом вестерна. В фильме он сопровождает каждого из главных героев своим вариантом одной и той же мелодии, сопутствуя им и предваряя их появление на экране, а также передавая общий дух авантюризма и Дикого Запада. \n",
      "«Хороший, плохой, злой» стал третьим фильмом «Долларовой трилогии», хотя по хронологии он приквел первых двух: «За пригоршню долларов» и «На несколько долларов больше». Если посмотреть все три в порядке их создания, будет заметно, как развивались идеи, и как последний фильм вобрал в себя и довел до фантастического эффекта и сцену финальной дуэли, и музыку, и приемы съемки, и черты главного героя – Стрелка, Человека Без Имени. Эта роль надолго определила судьбу Клинта Иствуда как актера, а потом и как режиссера уже своих вестернов.\n",
      "В чем же гениальность  фильма, ставшего олицетворением жанра вестерн? Наверное в том, что это больше чем вестерн. Это история, показанная и рассказанная на языке кино. История трех авантюристов, которые не питают симпатии друг к другу, вплоть до готовности поубивать. Но  им приходиться объединить усилия в поиске спрятанного золота, ибо каждый из них знает только свою часть секрета о месте нахождения денег.\n",
      "Особенно впечатляет парочка Блондин – Туко. Хладнокровный, немногословный Блондин и импульсивный, болтливый Туко, каждый по-своему хорош. Они то вместе проворачивают аферы, то пытаются прикончить друг друга, но Блондин находит и приходит именно к Туко, чтобы  избавиться от компании Сентенцы. И в конце фильма Блондин поступает с Туко честно, конечно не забыв сначала напомнить про старые счеты.  \n",
      "Финальная тройная дуэль – это вообще нечто. Пять минут на экране ничего не происходит, но по эмоциональному напряжению эта сцена бьет все рекорды. В ней удивительное сочетание зрительного ряда, музыкального сопровождения, смыслового значения и главной интриги. Деньги найдены, но кому они достанутся? Трое сходятся в круге в центре кладбища. Каждый может пристрелить каждого, но и сам быть пристреленным тоже. При этом только Блондин знает, что револьвер Туко разряжен. Цель Блондина – убить Сентенцу, но ему нужна помощь Туко, который стоит напротив, чтоб он отвлек Сентенцу на себя. Сентенца стоит между Туко и Блондином и не знает, кто в кого будет стрелять. Он мечется глазами между ними. Блондин следит за Сентенцей и едва заметно еле уловимым кивком дает знак Туко. Эту сцену можно смотреть бесконечно. Это квинтэссенция всего фильма. \n",
      "Конечно, никакой отзыв не может передать тех эмоций, то состояние, которое возникает от фильма. Просто есть два типа фильмов. Одни ты просто смотришь, а от других сносит крышу. Господи, спасибо, что не пронесло мимо.\n",
      "\n",
      "\n"
     ]
    }
   ],
   "source": [
    "for review in reviews_df.sample(n=10, random_state=SEED)[\"review\"].values[:3]:\n",
    "    print(review.replace(\"<p>\", \"\\n\"))\n",
    "    print(\"\\n\")"
   ]
  },
  {
   "cell_type": "markdown",
   "id": "76e2f06b-4734-4809-b2d0-bd444780de13",
   "metadata": {},
   "source": [
    "In the previous step I've removed the scores from the reviews so it is now safe to continue with baseline model creation."
   ]
  },
  {
   "cell_type": "markdown",
   "id": "9ef4b312-6b04-4b60-8242-8df9ee8f8432",
   "metadata": {},
   "source": [
    "### Selecting needed columns"
   ]
  },
  {
   "cell_type": "markdown",
   "id": "5d0c15be-c281-4cee-b1ab-6ff8b3a9ccd6",
   "metadata": {},
   "source": [
    "For baseline model we're interested only in `sentiment` and `review_body` columns"
   ]
  },
  {
   "cell_type": "code",
   "execution_count": 7,
   "id": "0caf0e60-39ad-4e34-80f6-6d7d7169f61f",
   "metadata": {},
   "outputs": [],
   "source": [
    "df = reviews_df[[\"sentiment\", \"review\"]]"
   ]
  },
  {
   "cell_type": "code",
   "execution_count": 8,
   "id": "47385bf7-3eda-4958-b3e9-2e631730cb09",
   "metadata": {},
   "outputs": [
    {
     "data": {
      "text/plain": [
       "4"
      ]
     },
     "execution_count": 8,
     "metadata": {},
     "output_type": "execute_result"
    }
   ],
   "source": [
    "del reviews_df\n",
    "gc.collect()"
   ]
  },
  {
   "cell_type": "markdown",
   "id": "c87245f2-449d-4142-852c-8c965eb64146",
   "metadata": {},
   "source": [
    "### Splitting the data"
   ]
  },
  {
   "cell_type": "code",
   "execution_count": 9,
   "id": "838063fd-0912-4b69-ace3-6e1181d0d0f5",
   "metadata": {},
   "outputs": [
    {
     "data": {
      "text/plain": [
       "((186063, 2), (20674, 2))"
      ]
     },
     "execution_count": 9,
     "metadata": {},
     "output_type": "execute_result"
    }
   ],
   "source": [
    "train_df, test_df = train_test_split(\n",
    "    df, test_size=0.1, random_state=SEED, stratify=df[\"sentiment\"]\n",
    ")\n",
    "train_df.shape, test_df.shape"
   ]
  },
  {
   "cell_type": "code",
   "execution_count": 10,
   "id": "f1224fee-5cdc-4d23-bff2-573698075101",
   "metadata": {},
   "outputs": [
    {
     "data": {
      "text/plain": [
       "good       0.720331\n",
       "neutral    0.149971\n",
       "bad        0.129698\n",
       "Name: sentiment, dtype: float64"
      ]
     },
     "execution_count": 10,
     "metadata": {},
     "output_type": "execute_result"
    }
   ],
   "source": [
    "train_df[\"sentiment\"].value_counts(normalize=True)"
   ]
  },
  {
   "cell_type": "code",
   "execution_count": 11,
   "id": "59bd7917-cbb7-40a1-82d0-5e7aee8ab7d6",
   "metadata": {},
   "outputs": [
    {
     "data": {
      "text/plain": [
       "good       0.720325\n",
       "neutral    0.149995\n",
       "bad        0.129680\n",
       "Name: sentiment, dtype: float64"
      ]
     },
     "execution_count": 11,
     "metadata": {},
     "output_type": "execute_result"
    }
   ],
   "source": [
    "test_df[\"sentiment\"].value_counts(normalize=True)"
   ]
  },
  {
   "cell_type": "markdown",
   "id": "698f81c8-c88f-4136-808e-489e218a9eee",
   "metadata": {},
   "source": [
    "## Modelling"
   ]
  },
  {
   "cell_type": "markdown",
   "id": "931b2255-efab-4def-b111-b485b81ef8f4",
   "metadata": {},
   "source": [
    "### Text encoding"
   ]
  },
  {
   "cell_type": "markdown",
   "id": "6e4840cd-b11e-49b6-a34a-c0d324a72e5a",
   "metadata": {},
   "source": [
    "For baseline model, I've decided to start with TF-IDF and Logistic Regression"
   ]
  },
  {
   "cell_type": "markdown",
   "id": "5d28c25b-8866-4ddb-a356-b120c40cb390",
   "metadata": {},
   "source": [
    "#### Hyperparameter Investigation"
   ]
  },
  {
   "cell_type": "markdown",
   "id": "178a9e7d-f32a-40ad-af53-d97386dc7bc4",
   "metadata": {},
   "source": [
    "##### `lowercase`"
   ]
  },
  {
   "cell_type": "code",
   "execution_count": 16,
   "id": "ad0b415f-c116-4c86-8e6a-75ce62415c4c",
   "metadata": {},
   "outputs": [
    {
     "name": "stdout",
     "output_type": "stream",
     "text": [
      "The size of the train dataset is (186063, 785942) with lowercase turned off\n",
      "CPU times: total: 40.1 s\n",
      "Wall time: 40.1 s\n"
     ]
    }
   ],
   "source": [
    "%%time\n",
    "\n",
    "vectorizer = CountVectorizer(lowercase=False)\n",
    "vectors_wo_lowercase = vectorizer.fit_transform(train_df[\"review\"])\n",
    "\n",
    "print(\n",
    "    f\"The size of the train dataset is {vectors_wo_lowercase.shape} with lowercase turned off\"\n",
    ")"
   ]
  },
  {
   "cell_type": "code",
   "execution_count": 17,
   "id": "1d7bcc1d-6c1b-4d35-837f-6d4ec1736002",
   "metadata": {},
   "outputs": [
    {
     "name": "stdout",
     "output_type": "stream",
     "text": [
      "The size of the train dataset is (186063, 669383) with lowercase turned on\n",
      "CPU times: total: 41.8 s\n",
      "Wall time: 41.8 s\n"
     ]
    }
   ],
   "source": [
    "%%time\n",
    "\n",
    "vectorizer = CountVectorizer()\n",
    "vectors_w_lowercase = vectorizer.fit_transform(train_df[\"review\"])\n",
    "\n",
    "print(\n",
    "    f\"The size of the train dataset is {vectors_w_lowercase.shape} with lowercase turned on\"\n",
    ")"
   ]
  },
  {
   "cell_type": "code",
   "execution_count": 18,
   "id": "dac53777-9510-4639-ac9e-c4d48980bf9a",
   "metadata": {},
   "outputs": [
    {
     "data": {
      "text/plain": [
       "116559"
      ]
     },
     "execution_count": 18,
     "metadata": {},
     "output_type": "execute_result"
    }
   ],
   "source": [
    "vectors_wo_lowercase.shape[1] - vectors_w_lowercase.shape[1]"
   ]
  },
  {
   "cell_type": "markdown",
   "id": "7654009f-512d-4374-a222-c41041c716f8",
   "metadata": {},
   "source": [
    "The difference in vocabulary size without making all characters lowercase and with lowercase is more than 100 000, so we better stick to lowercase "
   ]
  },
  {
   "cell_type": "markdown",
   "id": "3b432626-0df6-4b84-a4cf-74068b462185",
   "metadata": {},
   "source": [
    "##### `max_df` and `min_df`"
   ]
  },
  {
   "cell_type": "markdown",
   "id": "b0025cfd-90bc-4dff-b7d6-a298ae3710f4",
   "metadata": {},
   "source": [
    "`min_df` is used for removing terms that appear **too infrequently**. For example:\n",
    "\n",
    " - `min_df = 0.01` means \"ignore terms that appear in **less than 1% of the documents**\".\n",
    " - `min_df = 5` means \"ignore terms that appear in **less than 5 documents**\".  \n",
    " \n",
    "The default `min_df` is `1`, which means \"ignore terms that appear in **less than 1 document**\".  \n",
    "Thus, the default setting does not ignore any terms.\n",
    "\n",
    "`max_df` is used for removing terms that appear **too frequently**, also known as \"corpus-specific stop words\". For example:\n",
    "\n",
    " - `max_df = 0.50` means \"ignore terms that appear in **more than 50% of the documents**\".\n",
    " - `max_df = 25` means \"ignore terms that appear in **more than 25 documents**\".  \n",
    " \n",
    "The default `max_df` is `1.0`, which means \"ignore terms that appear in **more than 100% of the documents**\".  \n",
    "Thus, the default setting does not ignore any terms."
   ]
  },
  {
   "cell_type": "code",
   "execution_count": 19,
   "id": "d9639aed-f80f-4623-95fa-17cfbb9a6459",
   "metadata": {},
   "outputs": [
    {
     "data": {
      "text/plain": [
       "array(['00', '000', '0000', '00000', '000000',\n",
       "       '000000000000000000попкорн000000000000', '000000000000001',\n",
       "       '000000000000на', '00000000000во', '00000000000данной',\n",
       "       '00000000000есть000000000000000',\n",
       "       '00000000000есть000000000000000000', '0000000000жевать',\n",
       "       '0000000000ненавижу00000000', '00000000016', '000000000надо',\n",
       "       '000000000разговаривать0000000000', '00000000визуальная',\n",
       "       '00000001', '000001', '00000громко', '00000точек', '00001',\n",
       "       '00007', '0001', '0002', '000доктора', '000какой',\n",
       "       '000косметические', '000р', '000теряются', '001', '002', '003',\n",
       "       '00381', '006', '007', '00в', '00вых', '00е', '00м', '00по', '00с',\n",
       "       '00седьмого', '00х', '00ые', '00ых', '01', '011', '013'],\n",
       "      dtype=object)"
      ]
     },
     "execution_count": 19,
     "metadata": {},
     "output_type": "execute_result"
    }
   ],
   "source": [
    "vectorizer.get_feature_names_out()[:50]"
   ]
  },
  {
   "cell_type": "markdown",
   "id": "ec8cd424-ff6c-45f6-b850-75c0d60e29b3",
   "metadata": {},
   "source": [
    "We can see that if we do not limit the vocabulary, we will have very infrequent words, so we better do it.  \n",
    "For that we have to choose the `min_df` and `max_df` thresholds."
   ]
  },
  {
   "cell_type": "code",
   "execution_count": 21,
   "id": "ac18029f-82f1-43d4-abec-63f1aa638aed",
   "metadata": {},
   "outputs": [
    {
     "name": "stdout",
     "output_type": "stream",
     "text": [
      "CPU times: total: 39.3 s\n",
      "Wall time: 39.3 s\n"
     ]
    },
    {
     "data": {
      "text/plain": [
       "(186063, 7)"
      ]
     },
     "execution_count": 21,
     "metadata": {},
     "output_type": "execute_result"
    }
   ],
   "source": [
    "%%time\n",
    "\n",
    "vectorizer = CountVectorizer(min_df=0.8)\n",
    "vectors = vectorizer.fit_transform(train_df[\"review\"])\n",
    "vectors.shape"
   ]
  },
  {
   "cell_type": "code",
   "execution_count": 22,
   "id": "e216d5d9-6b3e-4361-82e2-cdd1aca7b9a2",
   "metadata": {},
   "outputs": [
    {
     "data": {
      "text/plain": [
       "array(['как', 'на', 'не', 'но', 'то', 'что', 'это'], dtype=object)"
      ]
     },
     "execution_count": 22,
     "metadata": {},
     "output_type": "execute_result"
    }
   ],
   "source": [
    "vectorizer.get_feature_names_out()"
   ]
  },
  {
   "cell_type": "markdown",
   "id": "e8a739c2-1ef0-4ed8-8f69-10f3c5bf0955",
   "metadata": {},
   "source": [
    "These words are in the 80% of all reviews and it is understandable.  "
   ]
  },
  {
   "cell_type": "code",
   "execution_count": 24,
   "id": "57a5ba31-67f2-419a-aa75-55b1a00da3d7",
   "metadata": {},
   "outputs": [
    {
     "name": "stdout",
     "output_type": "stream",
     "text": [
      "The size of the train dataset is (186063, 3284) with lowercase turned on and min_df=0.01\n",
      "CPU times: total: 39.4 s\n",
      "Wall time: 39.4 s\n"
     ]
    }
   ],
   "source": [
    "%%time\n",
    "\n",
    "MIN_DF = 0.01\n",
    "vectorizer = CountVectorizer(min_df=MIN_DF)\n",
    "vectors = vectorizer.fit_transform(train_df[\"review\"])\n",
    "\n",
    "print(\n",
    "    f\"The size of the train dataset is {vectors.shape} with lowercase turned on and min_df={MIN_DF}\"\n",
    ")"
   ]
  },
  {
   "cell_type": "code",
   "execution_count": 25,
   "id": "23028114-901c-403d-9d21-18a2e8046447",
   "metadata": {},
   "outputs": [
    {
     "data": {
      "text/plain": [
       "array(['10', '100', '11', '12', '13', '15', '16', '18', '20', '2012',\n",
       "       '21', '30', '3d', '40', '50', '60', '70', '80', '90', 'dc',\n",
       "       'marvel', 'of', 'the', 'абсолютно', 'аватар', 'автор', 'автора',\n",
       "       'авторов', 'авторы', 'аж', 'актер', 'актера', 'актерам',\n",
       "       'актерами', 'актерах', 'актеров', 'актером', 'актерская',\n",
       "       'актерский', 'актерского', 'актерской', 'актерскую', 'актеры',\n",
       "       'актриса', 'актрисы', 'актёр', 'актёра', 'актёров', 'актёрская',\n",
       "       'актёрский'], dtype=object)"
      ]
     },
     "execution_count": 25,
     "metadata": {},
     "output_type": "execute_result"
    }
   ],
   "source": [
    "vectorizer.get_feature_names_out()[:50]"
   ]
  },
  {
   "cell_type": "code",
   "execution_count": 27,
   "id": "8b47c2a4-e7bb-4d12-9fa0-a7e65f89a714",
   "metadata": {},
   "outputs": [
    {
     "name": "stdout",
     "output_type": "stream",
     "text": [
      "The size of the train dataset is (186063, 3281) with lowercase turned on and min_df=0.01 and max_df=0.9\n",
      "CPU times: total: 39.2 s\n",
      "Wall time: 39.2 s\n"
     ]
    }
   ],
   "source": [
    "%%time\n",
    "\n",
    "MIN_DF = 0.01\n",
    "MAX_DF = 0.9\n",
    "vectorizer = CountVectorizer(min_df=MIN_DF, max_df=MAX_DF)\n",
    "vectors = vectorizer.fit_transform(train_df[\"review\"])\n",
    "\n",
    "print(\n",
    "    f\"The size of the train dataset is {vectors.shape} with lowercase turned on and min_df={MIN_DF} and max_df={MAX_DF}\"\n",
    ")"
   ]
  },
  {
   "cell_type": "markdown",
   "id": "aa2e449c-35a2-4623-af49-56b00224314b",
   "metadata": {},
   "source": [
    "##### `ngram_range`"
   ]
  },
  {
   "cell_type": "markdown",
   "id": "418dca24-944e-4d14-81cc-c1b4782366a1",
   "metadata": {},
   "source": [
    "The lower and upper boundary of the range of n-values for different n-grams to be extracted.  \n",
    "All values of n such that min_n <= n <= max_n will be used.   \n",
    "\n",
    "For example an `ngram_range` of `(1, 1)` means only `unigrams`, `(1, 2)` means `unigrams` and `bigrams`, and `(2, 2)` means only `bigrams`."
   ]
  },
  {
   "cell_type": "code",
   "execution_count": 29,
   "id": "041bfa82-cd83-4dd7-812d-843c9db1ad42",
   "metadata": {},
   "outputs": [
    {
     "name": "stdout",
     "output_type": "stream",
     "text": [
      "The size of the train dataset is (186063, 3281) with lowercase turned on and min_df=0.01 and ngram_range=(1, 3)\n",
      "CPU times: total: 5min 35s\n",
      "Wall time: 7min 7s\n"
     ]
    }
   ],
   "source": [
    "%%time\n",
    "\n",
    "\n",
    "NGRAM_RANGE = (1, 3)\n",
    "vectorizer = CountVectorizer(ngram_range=NGRAM_RANGE, min_df=MIN_DF)\n",
    "train_vectors = vectorizer.fit_transform(train_df[\"review\"])\n",
    "\n",
    "print(\n",
    "    f\"The size of the train dataset is {vectors.shape} with lowercase turned on and min_df={MIN_DF} and ngram_range={NGRAM_RANGE}\"\n",
    ")"
   ]
  },
  {
   "cell_type": "code",
   "execution_count": 30,
   "id": "09b6bf59-3c69-44f4-a457-315d44e5a0d2",
   "metadata": {},
   "outputs": [
    {
     "data": {
      "text/plain": [
       "array(['10', '10 лет', '100', '11', '12', '13', '15', '16', '18', '20',\n",
       "       '2012', '21', '30', '3d', '40', '50', '60', '70', '80', '90', 'dc',\n",
       "       'marvel', 'of', 'the', 'абсолютно', 'абсолютно все',\n",
       "       'абсолютно не', 'аватар', 'автор', 'автора', 'авторов', 'авторы',\n",
       "       'аж', 'актер', 'актера', 'актерам', 'актерами', 'актерах',\n",
       "       'актеров', 'актером', 'актерская', 'актерская игра', 'актерский',\n",
       "       'актерский состав', 'актерского', 'актерской', 'актерской игры',\n",
       "       'актерскую', 'актерскую игру', 'актеры'], dtype=object)"
      ]
     },
     "execution_count": 30,
     "metadata": {},
     "output_type": "execute_result"
    }
   ],
   "source": [
    "vectorizer.get_feature_names_out()[:50]"
   ]
  },
  {
   "cell_type": "markdown",
   "id": "2499eb9e-0431-4d2b-979e-846520568b49",
   "metadata": {},
   "source": [
    "#### Vectorizing reviews with TF-IDF"
   ]
  },
  {
   "cell_type": "code",
   "execution_count": 12,
   "id": "e95e4883-0b3e-401c-9532-33067f4c7271",
   "metadata": {},
   "outputs": [],
   "source": [
    "vectorizer_params = {\n",
    "    \"min_df\": 0.01,\n",
    "    \"ngram_range\": (1, 2),\n",
    "    \"max_features\": 10000,\n",
    "    \"tokenizer\": lambda s: s.split(),\n",
    "}\n",
    "\n",
    "vectorizer_article = TfidfVectorizer(**vectorizer_params)"
   ]
  },
  {
   "cell_type": "code",
   "execution_count": 13,
   "id": "5c3db587-2d69-4a1b-8660-0076025cf14d",
   "metadata": {},
   "outputs": [
    {
     "name": "stdout",
     "output_type": "stream",
     "text": [
      "CPU times: total: 3min 19s\n",
      "Wall time: 3min 19s\n"
     ]
    }
   ],
   "source": [
    "%%time\n",
    "\n",
    "X_train_review = vectorizer_article.fit_transform(train_df[\"review\"])"
   ]
  },
  {
   "cell_type": "code",
   "execution_count": 32,
   "id": "4bcd0c54-6b55-47f9-bf16-4e6b6970adcd",
   "metadata": {},
   "outputs": [
    {
     "data": {
      "text/plain": [
       "<186063x4609 sparse matrix of type '<class 'numpy.float64'>'\n",
       "\twith 32904460 stored elements in Compressed Sparse Row format>"
      ]
     },
     "execution_count": 32,
     "metadata": {},
     "output_type": "execute_result"
    }
   ],
   "source": [
    "X_train_review"
   ]
  },
  {
   "cell_type": "code",
   "execution_count": 14,
   "id": "34e4d213-c5d6-44da-bd0a-27395a3368af",
   "metadata": {},
   "outputs": [
    {
     "name": "stdout",
     "output_type": "stream",
     "text": [
      "CPU times: total: 7.52 s\n",
      "Wall time: 7.52 s\n"
     ]
    }
   ],
   "source": [
    "%%time\n",
    "\n",
    "X_test_review = vectorizer_article.transform(test_df[\"review\"])"
   ]
  },
  {
   "cell_type": "markdown",
   "id": "b814a402-d97a-482f-8dc8-d1fd527fb381",
   "metadata": {
    "tags": []
   },
   "source": [
    "### Label Encoding"
   ]
  },
  {
   "cell_type": "code",
   "execution_count": 15,
   "id": "6886976e-6039-498d-be0f-5025740f4dde",
   "metadata": {},
   "outputs": [],
   "source": [
    "le = LabelEncoder()"
   ]
  },
  {
   "cell_type": "code",
   "execution_count": 16,
   "id": "45cceb73-fe4c-425a-8a99-00598cb4db2d",
   "metadata": {},
   "outputs": [],
   "source": [
    "train_labels = le.fit_transform(train_df[\"sentiment\"])\n",
    "test_labels = le.transform(test_df[\"sentiment\"])"
   ]
  },
  {
   "cell_type": "code",
   "execution_count": 17,
   "id": "ef2ebe15-555d-43ba-aa92-6e6ae85f2362",
   "metadata": {},
   "outputs": [
    {
     "data": {
      "text/plain": [
       "((186063,), (20674,))"
      ]
     },
     "execution_count": 17,
     "metadata": {},
     "output_type": "execute_result"
    }
   ],
   "source": [
    "train_labels.shape, test_labels.shape"
   ]
  },
  {
   "cell_type": "markdown",
   "id": "6e1f292e-a226-4411-96c0-32373008a778",
   "metadata": {},
   "source": [
    "### LogReg"
   ]
  },
  {
   "cell_type": "markdown",
   "id": "0c1080d6-1746-4128-8d5c-db4eb550b65c",
   "metadata": {},
   "source": [
    "#### Training"
   ]
  },
  {
   "cell_type": "code",
   "execution_count": 33,
   "id": "638c9309-3f0a-4040-ba14-8f3734e0700b",
   "metadata": {},
   "outputs": [],
   "source": [
    "log_reg = LogisticRegression(\n",
    "    random_state=SEED, n_jobs=-1, solver=\"sag\", max_iter=100_000\n",
    ")"
   ]
  },
  {
   "cell_type": "code",
   "execution_count": 34,
   "id": "d55c2c9e-5d3e-49cd-bb5f-636a1136467f",
   "metadata": {},
   "outputs": [
    {
     "name": "stdout",
     "output_type": "stream",
     "text": [
      "CPU times: total: 11.7 s\n",
      "Wall time: 11.7 s\n"
     ]
    },
    {
     "data": {
      "text/plain": [
       "LogisticRegression(max_iter=100000, n_jobs=-1, random_state=42, solver='sag')"
      ]
     },
     "execution_count": 34,
     "metadata": {},
     "output_type": "execute_result"
    }
   ],
   "source": [
    "%%time\n",
    "\n",
    "log_reg.fit(X_train_review, train_labels)"
   ]
  },
  {
   "cell_type": "markdown",
   "id": "8cb393be-2162-4f5d-94cf-d7df1dd3cd3e",
   "metadata": {},
   "source": [
    "#### Estimation"
   ]
  },
  {
   "cell_type": "code",
   "execution_count": 29,
   "id": "30d69112-e209-453c-9913-f4b5294481b1",
   "metadata": {},
   "outputs": [],
   "source": [
    "averaging = \"micro\""
   ]
  },
  {
   "cell_type": "code",
   "execution_count": 25,
   "id": "19721bdc-505e-45c0-a0c5-e2a20489d71e",
   "metadata": {},
   "outputs": [],
   "source": [
    "pred_labels = log_reg.predict(X_test_review)"
   ]
  },
  {
   "cell_type": "code",
   "execution_count": 27,
   "id": "d9328203-4aad-4fcf-b9b9-b447a5f55c49",
   "metadata": {},
   "outputs": [],
   "source": [
    "f1 = f1_score(test_labels, pred_labels, average=averaging)"
   ]
  },
  {
   "cell_type": "code",
   "execution_count": 31,
   "id": "2b9637b4-59ba-4c5c-9394-7bbbe9f34321",
   "metadata": {},
   "outputs": [
    {
     "name": "stdout",
     "output_type": "stream",
     "text": [
      "F1 score with micro-averaging is 0.793\n"
     ]
    }
   ],
   "source": [
    "print(f\"F1 score with {averaging}-averaging is {f1.round(3)}\")"
   ]
  },
  {
   "cell_type": "code",
   "execution_count": null,
   "id": "6987d69f-1bde-410c-921b-954d3d3fd8a9",
   "metadata": {},
   "outputs": [],
   "source": []
  },
  {
   "cell_type": "markdown",
   "id": "318b769c-6981-4dfd-82cf-ed12d5915380",
   "metadata": {},
   "source": [
    "## TODO"
   ]
  },
  {
   "cell_type": "markdown",
   "id": "56ee14fe-f2f6-4887-971e-3a1ebe8ff7ca",
   "metadata": {},
   "source": [
    "Add:\n",
    " - Saving train/test split\n",
    " - sparse tf-idf matrices"
   ]
  },
  {
   "cell_type": "code",
   "execution_count": null,
   "id": "10b54683-7182-457c-b8af-21192395d011",
   "metadata": {},
   "outputs": [],
   "source": []
  }
 ],
 "metadata": {
  "kernelspec": {
   "display_name": "movie_reviews",
   "language": "python",
   "name": "movie_reviews"
  },
  "language_info": {
   "codemirror_mode": {
    "name": "ipython",
    "version": 3
   },
   "file_extension": ".py",
   "mimetype": "text/x-python",
   "name": "python",
   "nbconvert_exporter": "python",
   "pygments_lexer": "ipython3",
   "version": "3.8.10"
  }
 },
 "nbformat": 4,
 "nbformat_minor": 5
}
