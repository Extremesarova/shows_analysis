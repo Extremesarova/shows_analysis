{
 "cells": [
  {
   "cell_type": "markdown",
   "id": "066c6847-59b7-4922-bc1d-d683cf1bca3a",
   "metadata": {},
   "source": [
    "# Task"
   ]
  },
  {
   "cell_type": "markdown",
   "id": "7389fbdd-fc72-4e9f-b207-07023eb44b14",
   "metadata": {},
   "source": [
    "The purpose of this notebook is to find all the possible titles for the movie info section so that we can parse all the needed information"
   ]
  },
  {
   "cell_type": "markdown",
   "id": "9e230fb9-126b-4298-b518-2a5fe020fe75",
   "metadata": {},
   "source": [
    "# Importing needed packages"
   ]
  },
  {
   "cell_type": "code",
   "execution_count": 1,
   "id": "c645ac2f-f3b4-4f21-9fad-8d9ba94670c7",
   "metadata": {},
   "outputs": [],
   "source": [
    "import os\n",
    "import pprint\n",
    "import re\n",
    "import unicodedata\n",
    "from pathlib import Path\n",
    "from typing import List\n",
    "\n",
    "import pandas as pd\n",
    "import requests\n",
    "from bs4 import BeautifulSoup\n",
    "from tqdm.notebook import tqdm"
   ]
  },
  {
   "cell_type": "markdown",
   "id": "55fff3e9-d1ed-416b-b989-cc970beb9f8c",
   "metadata": {
    "tags": []
   },
   "source": [
    "# Functions"
   ]
  },
  {
   "cell_type": "code",
   "execution_count": 2,
   "id": "a4748ce0-7efd-4ce8-8e0f-866c4d63254e",
   "metadata": {},
   "outputs": [],
   "source": [
    "def get_page_type(page_name: str) -> str:\n",
    "    if \"отзывы и рецензии\" in page_name:\n",
    "        return \"review\"\n",
    "    else:\n",
    "        return \"front\""
   ]
  },
  {
   "cell_type": "code",
   "execution_count": 6,
   "id": "d7e641fc-bf54-4d03-ab1e-69874ba74859",
   "metadata": {},
   "outputs": [],
   "source": [
    "def get_global_titles(data_path: str) -> List[str]:\n",
    "    _, _, files = next(os.walk(data_path))\n",
    "    pathlist = Path(data_path).rglob(\"*.html\")\n",
    "    \n",
    "    titles_global = []\n",
    "\n",
    "    for path in tqdm(pathlist, desc=\"Parsing movie pages\", unit=\"page\"):\n",
    "        str_path = str(path)\n",
    "        page_type = get_page_type(str_path)\n",
    "        if page_type == \"front\":\n",
    "            with open(str_path, \"r\", encoding=\"utf-8\") as f:\n",
    "                front = f.read()\n",
    "            soup_front = BeautifulSoup(front, \"html.parser\")\n",
    "            movie_info_divs = soup_front.find_all(attrs={\"data-test-id\": \"encyclopedic-table\"})[0]\n",
    "            titles_local = []\n",
    "            for div in movie_info_divs.find_all(class_=re.compile(\"styles_title\")):\n",
    "                current_title = div.get_text()\n",
    "                titles_local.append(current_title)\n",
    "\n",
    "            titles_global.append(titles_local)\n",
    "            \n",
    "    return sum(titles_global, [])"
   ]
  },
  {
   "cell_type": "markdown",
   "id": "ba9ad061-f2c7-4aa8-8d92-1a27ae1388f4",
   "metadata": {},
   "source": [
    "# Parsing movie info section"
   ]
  },
  {
   "cell_type": "code",
   "execution_count": 7,
   "id": "0159b2e9-319f-4351-b2c0-c575ac590a23",
   "metadata": {},
   "outputs": [],
   "source": [
    "movies_path = \"data/movies\""
   ]
  },
  {
   "cell_type": "code",
   "execution_count": 8,
   "id": "ea29f5e2-483b-46e2-8d5f-e7047b818375",
   "metadata": {},
   "outputs": [
    {
     "data": {
      "application/vnd.jupyter.widget-view+json": {
       "model_id": "8e238e78630f400e9827bbf476a8cca2",
       "version_major": 2,
       "version_minor": 0
      },
      "text/plain": [
       "Parsing movie pages: 0page [00:00, ?page/s]"
      ]
     },
     "metadata": {},
     "output_type": "display_data"
    }
   ],
   "source": [
    "movie_titles_global = get_global_titles(movies_path)"
   ]
  },
  {
   "cell_type": "code",
   "execution_count": 9,
   "id": "c24d512c-697a-4787-b0a5-69007cc39eaa",
   "metadata": {},
   "outputs": [
    {
     "data": {
      "text/plain": [
       "['Год производства',\n",
       " 'Страна',\n",
       " 'Жанр',\n",
       " 'Слоган',\n",
       " 'Режиссер',\n",
       " 'Сценарий',\n",
       " 'Продюсер',\n",
       " 'Оператор',\n",
       " 'Композитор',\n",
       " 'Художник',\n",
       " 'Монтаж',\n",
       " 'Бюджет',\n",
       " 'Сборы в США',\n",
       " 'Сборы в мире',\n",
       " 'Зрители',\n",
       " 'Сборы в России',\n",
       " 'Премьера в Росcии',\n",
       " 'Премьера в мире',\n",
       " 'Релиз на DVD',\n",
       " 'Релиз на Blu-ray',\n",
       " 'Возраст',\n",
       " 'Рейтинг MPAA',\n",
       " 'Время',\n",
       " 'Цифровой релиз',\n",
       " 'Маркетинг',\n",
       " 'Платформа',\n",
       " 'Ре-релиз (РФ)',\n",
       " 'Директор фильма']"
      ]
     },
     "execution_count": 9,
     "metadata": {},
     "output_type": "execute_result"
    }
   ],
   "source": [
    "movie_titles_global = list(dict.fromkeys(movie_titles_global))\n",
    "movie_titles_global"
   ]
  },
  {
   "cell_type": "markdown",
   "id": "e2ac7bf5-40eb-4628-a59b-9347decbf9a1",
   "metadata": {},
   "source": [
    "This is the whole set of titles that were seen in the movie info section for the list of films"
   ]
  },
  {
   "cell_type": "markdown",
   "id": "d31db34a-52a9-4d3a-a658-85bd28b88184",
   "metadata": {},
   "source": [
    "# Parsing series info section"
   ]
  },
  {
   "cell_type": "code",
   "execution_count": 10,
   "id": "07010377-f73c-4f3e-bbf6-bcb984be8577",
   "metadata": {},
   "outputs": [],
   "source": [
    "series_path = \"data/series\""
   ]
  },
  {
   "cell_type": "code",
   "execution_count": 11,
   "id": "3ce36a75-c38f-496e-ac33-82641ed694e0",
   "metadata": {},
   "outputs": [
    {
     "data": {
      "application/vnd.jupyter.widget-view+json": {
       "model_id": "0f6eb6255908400493ea6f226908e565",
       "version_major": 2,
       "version_minor": 0
      },
      "text/plain": [
       "Parsing movie pages: 0page [00:00, ?page/s]"
      ]
     },
     "metadata": {},
     "output_type": "display_data"
    }
   ],
   "source": [
    "series_titles_global = get_global_titles(series_path)"
   ]
  },
  {
   "cell_type": "code",
   "execution_count": 12,
   "id": "5ac8cfba-0bae-4a7e-9bb7-1c07963217ab",
   "metadata": {},
   "outputs": [
    {
     "data": {
      "text/plain": [
       "['Год производства',\n",
       " 'Платформа',\n",
       " 'Страна',\n",
       " 'Жанр',\n",
       " 'Слоган',\n",
       " 'Режиссер',\n",
       " 'Сценарий',\n",
       " 'Продюсер',\n",
       " 'Оператор',\n",
       " 'Композитор',\n",
       " 'Художник',\n",
       " 'Монтаж',\n",
       " 'Премьера в Росcии',\n",
       " 'Премьера в мире',\n",
       " 'Цифровой релиз',\n",
       " 'Возраст',\n",
       " 'Время',\n",
       " 'Бюджет',\n",
       " 'Релиз на DVD',\n",
       " 'Сборы в США',\n",
       " 'Директор фильма',\n",
       " 'Рейтинг MPAA',\n",
       " 'Сборы в мире',\n",
       " 'Релиз на Blu-ray',\n",
       " 'Сборы в России']"
      ]
     },
     "execution_count": 12,
     "metadata": {},
     "output_type": "execute_result"
    }
   ],
   "source": [
    "series_titles_global = list(dict.fromkeys(series_titles_global))\n",
    "series_titles_global"
   ]
  },
  {
   "cell_type": "markdown",
   "id": "19f71112-5502-4fb7-996f-55e05478bb97",
   "metadata": {},
   "source": [
    "This is the whole set of titles that were seen in the movie info section for the list of series"
   ]
  },
  {
   "cell_type": "code",
   "execution_count": 13,
   "id": "640bff62-6384-4328-88a0-1e5a09a3da09",
   "metadata": {},
   "outputs": [
    {
     "data": {
      "text/plain": [
       "{'Зрители', 'Маркетинг', 'Ре-релиз (РФ)'}"
      ]
     },
     "execution_count": 13,
     "metadata": {},
     "output_type": "execute_result"
    }
   ],
   "source": [
    "set(movie_titles_global).difference(set(series_titles_global))"
   ]
  },
  {
   "cell_type": "markdown",
   "id": "6b7f0cac-65da-45e4-a148-679d4ec95fe6",
   "metadata": {},
   "source": [
    "We can see that there are few titles that are not in the list for series - that's something"
   ]
  }
 ],
 "metadata": {
  "kernelspec": {
   "display_name": "movie_reviews",
   "language": "python",
   "name": "movie_reviews"
  },
  "language_info": {
   "codemirror_mode": {
    "name": "ipython",
    "version": 3
   },
   "file_extension": ".py",
   "mimetype": "text/x-python",
   "name": "python",
   "nbconvert_exporter": "python",
   "pygments_lexer": "ipython3",
   "version": "3.8.10"
  }
 },
 "nbformat": 4,
 "nbformat_minor": 5
}
