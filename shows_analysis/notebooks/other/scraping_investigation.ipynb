{
 "cells": [
  {
   "cell_type": "markdown",
   "id": "9e230fb9-126b-4298-b518-2a5fe020fe75",
   "metadata": {},
   "source": [
    "# Importing needed packages"
   ]
  },
  {
   "cell_type": "code",
   "execution_count": 1,
   "id": "c645ac2f-f3b4-4f21-9fad-8d9ba94670c7",
   "metadata": {},
   "outputs": [],
   "source": [
    "import pprint\n",
    "import re\n",
    "import unicodedata\n",
    "\n",
    "import pandas as pd\n",
    "import requests\n",
    "from bs4 import BeautifulSoup"
   ]
  },
  {
   "cell_type": "code",
   "execution_count": 2,
   "id": "bb5d74da-4125-43fb-9375-8786b2124739",
   "metadata": {},
   "outputs": [],
   "source": [
    "pp = pprint.PrettyPrinter(indent=1, width=140, compact=True)"
   ]
  },
  {
   "cell_type": "code",
   "execution_count": 3,
   "id": "ee1d80ba-2597-4b8b-bf22-67074d85ae17",
   "metadata": {},
   "outputs": [],
   "source": [
    "cleaner_map = {\"\\t\": \"\", \"\\n\": \"\", \"\\r\": \"\"}\n",
    "translator = str.maketrans(cleaner_map)"
   ]
  },
  {
   "cell_type": "code",
   "execution_count": 4,
   "id": "cf8ad643-cd22-4a31-9b70-a045396c09cc",
   "metadata": {},
   "outputs": [],
   "source": [
    "def preprocess_string(str_: str, translator: dict) -> str:\n",
    "    str_ = unicodedata.normalize(\"NFKD\", str_)\n",
    "    str_ = str_.translate(translator)\n",
    "    str_ = \" \".join(str_.split())\n",
    "\n",
    "    return str_"
   ]
  },
  {
   "cell_type": "code",
   "execution_count": 5,
   "id": "82086f4b-cebb-4a12-ac55-f618d6e8e2a5",
   "metadata": {},
   "outputs": [],
   "source": [
    "def has_numbers(s):\n",
    "    return bool(re.search(r\"\\d\", s))"
   ]
  },
  {
   "cell_type": "code",
   "execution_count": 6,
   "id": "372af368-4af0-4517-8591-4f4f0074f09f",
   "metadata": {},
   "outputs": [],
   "source": [
    "def return_score(review):\n",
    "    scores = []\n",
    "    score = \"N/A\"\n",
    "    for s in review.split(\"<p>\")[-3:]:\n",
    "        if has_numbers(s) and ((\"/\" in s) or (\"из\" in s)):\n",
    "            scores.append(s)\n",
    "\n",
    "    score_candidate = BeautifulSoup(scores[-1]).get_text() if scores else \"N/A\"\n",
    "    if scores and len(score_candidate.split(\" \")) <= 4 and score_candidate != \"N/A\":\n",
    "        score = score_candidate\n",
    "    return score"
   ]
  },
  {
   "cell_type": "markdown",
   "id": "1b1f4987-3528-461d-8810-1cf90c2444c9",
   "metadata": {},
   "source": [
    "# Parsing main page"
   ]
  },
  {
   "cell_type": "markdown",
   "id": "67ff8309-62d2-4c54-91b7-97440ef58996",
   "metadata": {},
   "source": [
    "Information, that should be parsed:\n",
    " - Film ID\n",
    " - Russian title\n",
    " - Original title\n",
    " - Everything in the section \"about the film\"\n",
    " - Kinopoisk average score & the number of ratings\n",
    " - IMDB average score & the number of ratings\n",
    " - Film synopsis\n",
    " - Film critics rating in the world\n",
    "     - Percentage\n",
    "     - Number of reviews\n",
    "     - Star rating\n",
    " - Film critics rating in Russia\n",
    "     - Percentage\n",
    "     - Number of reviews"
   ]
  },
  {
   "cell_type": "markdown",
   "id": "585dcf87",
   "metadata": {},
   "source": [
    "## Getting the code from the downloaded page"
   ]
  },
  {
   "cell_type": "code",
   "execution_count": 7,
   "id": "99ef2ab1",
   "metadata": {},
   "outputs": [],
   "source": [
    "path_front = \"./data/indiana_front.html\"\n",
    "with open(path_front, \"r\", encoding=\"utf-8\") as f:\n",
    "    indiana_front = f.read()"
   ]
  },
  {
   "cell_type": "markdown",
   "id": "7e3fb11b-3888-4775-8332-14a959f84d09",
   "metadata": {},
   "source": [
    "Passing the code into the `BeautifulSoup` constructor"
   ]
  },
  {
   "cell_type": "code",
   "execution_count": 9,
   "id": "b061adb8-dd32-4fa6-916f-bb2e4593c02e",
   "metadata": {},
   "outputs": [],
   "source": [
    "soup_front = BeautifulSoup(indiana_front, \"html.parser\")"
   ]
  },
  {
   "cell_type": "code",
   "execution_count": 10,
   "id": "3783ae9e",
   "metadata": {},
   "outputs": [
    {
     "data": {
      "text/plain": [
       "bs4.BeautifulSoup"
      ]
     },
     "execution_count": 10,
     "metadata": {},
     "output_type": "execute_result"
    }
   ],
   "source": [
    "type(soup_front)"
   ]
  },
  {
   "cell_type": "code",
   "execution_count": 98,
   "id": "69f722e5-2f6f-4463-b56e-0e07dd485724",
   "metadata": {},
   "outputs": [],
   "source": [
    "movie_dict = {}"
   ]
  },
  {
   "cell_type": "markdown",
   "id": "4731da8f-896e-4882-bb8b-f5e71f586095",
   "metadata": {},
   "source": [
    "## Parsing movie's id"
   ]
  },
  {
   "cell_type": "code",
   "execution_count": 99,
   "id": "3fb54a38-53e9-4edf-a556-98fd6ecc5bfc",
   "metadata": {},
   "outputs": [],
   "source": [
    "movie_id_dict = {}"
   ]
  },
  {
   "cell_type": "code",
   "execution_count": 100,
   "id": "a748c4c8-6e6e-4600-acbf-91f7c0bae81d",
   "metadata": {},
   "outputs": [],
   "source": [
    "film_id = soup_front.find_all(\n",
    "    \"link\", attrs={\"href\": re.compile(\"https://www.kinopoisk.ru/film/\")}\n",
    ")[0]"
   ]
  },
  {
   "cell_type": "code",
   "execution_count": 101,
   "id": "019681f1-182d-4184-bbf1-71f1ad9ca3c3",
   "metadata": {},
   "outputs": [
    {
     "data": {
      "text/plain": [
       "'339'"
      ]
     },
     "execution_count": 101,
     "metadata": {},
     "output_type": "execute_result"
    }
   ],
   "source": [
    "film_id_ = film_id[\"href\"].split(\"/\")[-2]\n",
    "film_id_"
   ]
  },
  {
   "cell_type": "code",
   "execution_count": 102,
   "id": "cc0704e1-6b7f-4de1-b78a-dfdbee5c63c7",
   "metadata": {},
   "outputs": [],
   "source": [
    "movie_id_dict[\"id\"] = film_id_"
   ]
  },
  {
   "cell_type": "markdown",
   "id": "2a2cf2bf-7f85-4a8d-855b-9c4236228a2e",
   "metadata": {},
   "source": [
    "## Parsing movie's name"
   ]
  },
  {
   "cell_type": "code",
   "execution_count": 103,
   "id": "619e222c-911e-4651-ab05-933e68131f02",
   "metadata": {},
   "outputs": [],
   "source": [
    "movie_name_dict = {}"
   ]
  },
  {
   "cell_type": "code",
   "execution_count": 104,
   "id": "09c29236-6855-4788-85f4-e167b52343a0",
   "metadata": {},
   "outputs": [],
   "source": [
    "movie_name = soup_front.find_all(\"h1\", attrs={\"class\": re.compile(\"styles_title\")})[0]"
   ]
  },
  {
   "cell_type": "code",
   "execution_count": 105,
   "id": "3f228244-c545-42ad-8f5b-bb7a71cb9365",
   "metadata": {},
   "outputs": [
    {
     "data": {
      "text/plain": [
       "'Индиана Джонс: В поисках утраченного ковчега (1981)'"
      ]
     },
     "execution_count": 105,
     "metadata": {},
     "output_type": "execute_result"
    }
   ],
   "source": [
    "movie_name_ = movie_name.get_text()\n",
    "movie_name_"
   ]
  },
  {
   "cell_type": "code",
   "execution_count": 106,
   "id": "f54a3530-c1e5-416b-a379-f53ab81c7422",
   "metadata": {},
   "outputs": [],
   "source": [
    "movie_name_original = soup_front.find_all(\n",
    "    \"span\", attrs={\"class\": re.compile(\"styles_originalTitle\")}\n",
    ")[0]"
   ]
  },
  {
   "cell_type": "code",
   "execution_count": 107,
   "id": "42c9ea05-03cc-4f86-a351-be5464ce7d06",
   "metadata": {},
   "outputs": [
    {
     "data": {
      "text/plain": [
       "'Raiders of the Lost Ark'"
      ]
     },
     "execution_count": 107,
     "metadata": {},
     "output_type": "execute_result"
    }
   ],
   "source": [
    "movie_name_original_ = movie_name_original.get_text()\n",
    "movie_name_original_"
   ]
  },
  {
   "cell_type": "code",
   "execution_count": 108,
   "id": "c773f434-c71f-44c8-a3cb-f91e6cd15b16",
   "metadata": {},
   "outputs": [],
   "source": [
    "movie_name_dict[\"Название\"] = movie_name_\n",
    "movie_name_dict[\"Оргинальное название\"] = movie_name_original_"
   ]
  },
  {
   "cell_type": "markdown",
   "id": "99da69a7-6734-4790-816c-2c09cca6b052",
   "metadata": {},
   "source": [
    "## Parsing information about the movie"
   ]
  },
  {
   "cell_type": "code",
   "execution_count": 109,
   "id": "4d27840f-629b-4ba7-83ad-a171bc715dfa",
   "metadata": {},
   "outputs": [],
   "source": [
    "movie_info_dict = {}"
   ]
  },
  {
   "cell_type": "code",
   "execution_count": 110,
   "id": "041a4887-533c-4113-8674-0319868dbb23",
   "metadata": {},
   "outputs": [],
   "source": [
    "movie_info_divs = soup_front.find_all(attrs={\"data-test-id\": \"encyclopedic-table\"})[0]"
   ]
  },
  {
   "cell_type": "code",
   "execution_count": 111,
   "id": "63136a81-e308-492d-b8cf-d1689aaebb91",
   "metadata": {},
   "outputs": [],
   "source": [
    "values = []\n",
    "for div in movie_info_divs.find_all(\n",
    "    \"div\", attrs={\"class\": re.compile(\"styles_value\"), \"data-tid\": re.compile(\".*\")}\n",
    "):\n",
    "    current_value = div.get_text().replace(\"сборы\", \"\")\n",
    "    if \"слова\" not in current_value:\n",
    "        values.append(current_value)"
   ]
  },
  {
   "cell_type": "code",
   "execution_count": 112,
   "id": "b93cc884-c352-4f34-ab46-2c607b7ee7a2",
   "metadata": {},
   "outputs": [],
   "source": [
    "titles = []\n",
    "for div in movie_info_divs.find_all(class_=re.compile(\"styles_title\")):\n",
    "    current_title = div.get_text()\n",
    "    titles.append(current_title)"
   ]
  },
  {
   "cell_type": "code",
   "execution_count": 113,
   "id": "55358df7-48f6-4e30-9d29-eb82ca0efb41",
   "metadata": {},
   "outputs": [],
   "source": [
    "assert len(values) == len(titles)\n",
    "movie_info_dict = dict(zip(titles, values))\n",
    "movie_dict = {**movie_name_dict, **movie_info_dict}"
   ]
  },
  {
   "cell_type": "code",
   "execution_count": 114,
   "id": "77bb51a5-4cba-47d5-8b4d-df998785d08a",
   "metadata": {},
   "outputs": [
    {
     "data": {
      "text/plain": [
       "{'Название': 'Индиана Джонс: В поисках утраченного ковчега (1981)',\n",
       " 'Оргинальное название': 'Raiders of the Lost Ark',\n",
       " 'Год производства': '1981',\n",
       " 'Страна': 'США',\n",
       " 'Жанр': 'приключения, боевик, комедия',\n",
       " 'Слоган': '«Indiana Jones - the new hero from the creators of JAWS and STAR WARS»',\n",
       " 'Режиссер': 'Стивен Спилберг',\n",
       " 'Сценарий': 'Лоуренс Кэздан, Джордж Лукас, Филип Кауфман',\n",
       " 'Продюсер': 'Ховард Дж. Казанян, Джордж Лукас, Фрэнк Маршалл, ...',\n",
       " 'Оператор': 'Дуглас Слоком',\n",
       " 'Композитор': 'Джон Уильямс',\n",
       " 'Художник': 'Норман Рейнольдс, Айвор Лесли Дилли, Дебора Нэдулмэн, ...',\n",
       " 'Монтаж': 'Майкл Кан, Джордж Лукас',\n",
       " 'Бюджет': '$18\\xa0000\\xa0000',\n",
       " 'Сборы в США': '$212\\xa0222\\xa0025',\n",
       " 'Сборы в мире': '+ $141\\xa0766\\xa0000 = $353\\xa0988\\xa0025',\n",
       " 'Зрители': '88.1 млн , 6.4 млн , 4.2 млн , ...',\n",
       " 'Премьера в мире': '12 июня 1981, ...',\n",
       " 'Релиз на DVD': '20 ноября 2003, «Premier Digital»',\n",
       " 'Возраст': '12+',\n",
       " 'Рейтинг MPAA': 'PGрекомендуется присутствие родителей',\n",
       " 'Время': '115 мин. / 01:55'}"
      ]
     },
     "execution_count": 114,
     "metadata": {},
     "output_type": "execute_result"
    }
   ],
   "source": [
    "movie_dict"
   ]
  },
  {
   "cell_type": "markdown",
   "id": "3c0cffbc-58fb-4869-873a-d223e0cffc5a",
   "metadata": {},
   "source": [
    "## Parsing movie's rating"
   ]
  },
  {
   "cell_type": "code",
   "execution_count": 115,
   "id": "139bd427-d1b0-404f-a672-76dd1e07bdc7",
   "metadata": {},
   "outputs": [],
   "source": [
    "movie_rating_dict = {}"
   ]
  },
  {
   "cell_type": "code",
   "execution_count": 116,
   "id": "e4df886c-bf8b-4f12-9caf-e9fc3bc1d77b",
   "metadata": {},
   "outputs": [],
   "source": [
    "movie_rating_kinopoisk = soup_front.find_all(\n",
    "    \"a\", attrs={\"class\": re.compile(\"film-rating-value\")}\n",
    ")[0]"
   ]
  },
  {
   "cell_type": "code",
   "execution_count": 117,
   "id": "f4d694e2-8cad-4982-a353-09cd68f329f9",
   "metadata": {},
   "outputs": [
    {
     "data": {
      "text/plain": [
       "'8.0'"
      ]
     },
     "execution_count": 117,
     "metadata": {},
     "output_type": "execute_result"
    }
   ],
   "source": [
    "movie_rating_kinopoisk_ = movie_rating_kinopoisk.get_text()\n",
    "movie_rating_kinopoisk_"
   ]
  },
  {
   "cell_type": "code",
   "execution_count": 118,
   "id": "8111dc2a-4d6d-4d69-a4eb-ced8d84f21bc",
   "metadata": {},
   "outputs": [],
   "source": [
    "movie_rating_count_kinopoisk = soup_front.find_all(\n",
    "    \"span\", attrs={\"class\": re.compile(\"styles_count\")}\n",
    ")[0]"
   ]
  },
  {
   "cell_type": "code",
   "execution_count": 119,
   "id": "0c7ed6a6-a65d-4079-9058-e3d57fd17ed7",
   "metadata": {},
   "outputs": [
    {
     "data": {
      "text/plain": [
       "'142 538 оценок'"
      ]
     },
     "execution_count": 119,
     "metadata": {},
     "output_type": "execute_result"
    }
   ],
   "source": [
    "movie_rating_count_kinopoisk_ = movie_rating_count_kinopoisk.get_text()\n",
    "movie_rating_count_kinopoisk_"
   ]
  },
  {
   "cell_type": "code",
   "execution_count": 120,
   "id": "7e49f8d5-3d0b-4d06-bb2c-4397e2475d9e",
   "metadata": {},
   "outputs": [],
   "source": [
    "movie_rating_imdb = soup_front.find_all(\n",
    "    \"span\", attrs={\"class\": re.compile(\"styles_valueSection\")}\n",
    ")[0]"
   ]
  },
  {
   "cell_type": "code",
   "execution_count": 121,
   "id": "c11646e3-0745-4d3d-88a0-c0fa0c008398",
   "metadata": {},
   "outputs": [
    {
     "data": {
      "text/plain": [
       "'IMDb: 8.40'"
      ]
     },
     "execution_count": 121,
     "metadata": {},
     "output_type": "execute_result"
    }
   ],
   "source": [
    "movie_rating_imdb_ = movie_rating_imdb.get_text()\n",
    "movie_rating_imdb_"
   ]
  },
  {
   "cell_type": "code",
   "execution_count": 122,
   "id": "0b6d46a4-dce3-4e8f-851f-7a07b1a11ce0",
   "metadata": {},
   "outputs": [],
   "source": [
    "movie_rating_count_imdb = soup_front.find_all(\n",
    "    \"div\", attrs={\"class\": re.compile(\"film-sub-rating\")}\n",
    ")[0].find(\"span\", attrs={\"class\": re.compile(\"styles_count\")})"
   ]
  },
  {
   "cell_type": "code",
   "execution_count": 123,
   "id": "f3311431-7236-4846-8f00-c1d737ffeb65",
   "metadata": {},
   "outputs": [
    {
     "data": {
      "text/plain": [
       "'938 581 оценка'"
      ]
     },
     "execution_count": 123,
     "metadata": {},
     "output_type": "execute_result"
    }
   ],
   "source": [
    "movie_rating_count_imdb_ = movie_rating_count_imdb.get_text()\n",
    "movie_rating_count_imdb_"
   ]
  },
  {
   "cell_type": "code",
   "execution_count": 124,
   "id": "0f988255-0917-4d65-8b09-40879444fc9f",
   "metadata": {},
   "outputs": [],
   "source": [
    "movie_rating_dict[\"Рейтинг кинопоиска\"] = movie_rating_kinopoisk_\n",
    "movie_rating_dict[\"Количество оценок кинопоиска\"] = movie_rating_count_kinopoisk_\n",
    "movie_rating_dict[\"Рейтинг IMDb\"] = movie_rating_imdb_\n",
    "movie_rating_dict[\"Количество оценок IMDb\"] = movie_rating_count_imdb_"
   ]
  },
  {
   "cell_type": "code",
   "execution_count": 125,
   "id": "d9a6a426-dd61-425b-b000-4f5225910055",
   "metadata": {},
   "outputs": [
    {
     "data": {
      "text/plain": [
       "{'Рейтинг кинопоиска': '8.0',\n",
       " 'Количество оценок кинопоиска': '142 538 оценок',\n",
       " 'Рейтинг IMDb': 'IMDb: 8.40',\n",
       " 'Количество оценок IMDb': '938 581 оценка'}"
      ]
     },
     "execution_count": 125,
     "metadata": {},
     "output_type": "execute_result"
    }
   ],
   "source": [
    "movie_rating_dict"
   ]
  },
  {
   "cell_type": "markdown",
   "id": "ef0f0580-0741-450a-bf7f-1c5247d78c5e",
   "metadata": {},
   "source": [
    "## Parsing synopsis"
   ]
  },
  {
   "cell_type": "code",
   "execution_count": 126,
   "id": "8d1e274f-9cb0-4eba-b1bc-2b5bf94c66c8",
   "metadata": {},
   "outputs": [],
   "source": [
    "movie_synopsis_dict = {}"
   ]
  },
  {
   "cell_type": "code",
   "execution_count": 127,
   "id": "c7963d31-0428-4ed1-b0bf-86bb2d457c4d",
   "metadata": {},
   "outputs": [],
   "source": [
    "movie_synopsis = soup_front.find_all(\n",
    "    \"div\", attrs={\"class\": re.compile(\"styles_filmSynopsis\")}\n",
    ")[0]"
   ]
  },
  {
   "cell_type": "code",
   "execution_count": 128,
   "id": "6d15ef1a-5b50-4738-a95f-df94b8f96140",
   "metadata": {},
   "outputs": [
    {
     "data": {
      "text/plain": [
       "'Известный археолог и специалист по оккультным наукам доктор Джонс получает опасное задание от правительства США. Он должен отправиться на поиски уникальной реликвии — священного Ковчега. Но Индиана и не подозревает, что аналогичный приказ уже получили тайные агенты Адольфа Гитлера.'"
      ]
     },
     "execution_count": 128,
     "metadata": {},
     "output_type": "execute_result"
    }
   ],
   "source": [
    "movie_synopsis_ = unicodedata.normalize(\"NFKD\", movie_synopsis.get_text())\n",
    "movie_synopsis_"
   ]
  },
  {
   "cell_type": "code",
   "execution_count": 129,
   "id": "d943cd16-0c01-4f60-9a56-39b050997b24",
   "metadata": {},
   "outputs": [],
   "source": [
    "movie_synopsis_dict = {\"Синопсис\": movie_synopsis_}"
   ]
  },
  {
   "cell_type": "markdown",
   "id": "0f372f4f-2561-4b21-b9e8-c80c5b01c5fe",
   "metadata": {},
   "source": [
    "## Parsing critics rating"
   ]
  },
  {
   "cell_type": "code",
   "execution_count": 130,
   "id": "6e2b828b-cc2c-48b3-9ab7-14b7e8ff3d4a",
   "metadata": {},
   "outputs": [],
   "source": [
    "movie_critics_rating_dict = {}"
   ]
  },
  {
   "cell_type": "code",
   "execution_count": 131,
   "id": "d7860c30-eebd-49c7-a277-09c175f19641",
   "metadata": {},
   "outputs": [],
   "source": [
    "movie_world_critics = soup_front.find_all(\n",
    "    \"div\", attrs={\"class\": re.compile(\"styles_ratingBar\")}\n",
    ")[0]"
   ]
  },
  {
   "cell_type": "code",
   "execution_count": 132,
   "id": "f49b1ca2-a318-414b-8cc0-5cb33113675b",
   "metadata": {},
   "outputs": [],
   "source": [
    "movie_world_critics_percentage = movie_world_critics.find_all(\n",
    "    \"span\", attrs={\"class\": re.compile(\"film-rating-value\")}\n",
    ")[0]"
   ]
  },
  {
   "cell_type": "code",
   "execution_count": 133,
   "id": "30c8ff8f-d02f-4124-89ff-e1b97491e1d2",
   "metadata": {},
   "outputs": [
    {
     "data": {
      "text/plain": [
       "'95%'"
      ]
     },
     "execution_count": 133,
     "metadata": {},
     "output_type": "execute_result"
    }
   ],
   "source": [
    "movie_world_critics_percentage_ = movie_world_critics_percentage.get_text()\n",
    "movie_world_critics_percentage_"
   ]
  },
  {
   "cell_type": "code",
   "execution_count": 134,
   "id": "da1c375f-b386-4b7c-a280-3dd332c4ef5e",
   "metadata": {},
   "outputs": [],
   "source": [
    "movie_world_critics_number_of_reviews = movie_world_critics.find_all(\n",
    "    \"span\", attrs={\"class\": re.compile(\"styles_count\")}\n",
    ")[0]"
   ]
  },
  {
   "cell_type": "code",
   "execution_count": 135,
   "id": "98a05b17-510d-4dee-88ac-4fedb54af759",
   "metadata": {},
   "outputs": [
    {
     "data": {
      "text/plain": [
       "'86 оценок9.3'"
      ]
     },
     "execution_count": 135,
     "metadata": {},
     "output_type": "execute_result"
    }
   ],
   "source": [
    "movie_world_critics_number_of_reviews_ = (\n",
    "    movie_world_critics_number_of_reviews.get_text()\n",
    ")\n",
    "movie_world_critics_number_of_reviews_"
   ]
  },
  {
   "cell_type": "code",
   "execution_count": 136,
   "id": "63b3747d-51f8-488b-bca7-30a28f757b68",
   "metadata": {},
   "outputs": [],
   "source": [
    "movie_world_critics_star_value = movie_world_critics.find_all(\n",
    "    \"span\", attrs={\"class\": re.compile(\"styles_starValue\")}\n",
    ")[0]"
   ]
  },
  {
   "cell_type": "code",
   "execution_count": 137,
   "id": "604efca6-813e-41cb-8ebc-789416edc650",
   "metadata": {},
   "outputs": [
    {
     "data": {
      "text/plain": [
       "'9.3'"
      ]
     },
     "execution_count": 137,
     "metadata": {},
     "output_type": "execute_result"
    }
   ],
   "source": [
    "movie_world_critics_star_value_ = movie_world_critics_star_value.get_text()\n",
    "movie_world_critics_star_value_"
   ]
  },
  {
   "cell_type": "code",
   "execution_count": 138,
   "id": "c9065e5f-72bc-49e6-be22-b263ff44380e",
   "metadata": {},
   "outputs": [],
   "source": [
    "def right_strip_trailing(original, trailing):\n",
    "    trailing_len = len(trailing)\n",
    "    if original[-trailing_len:] == trailing:\n",
    "        return original[:-trailing_len]\n",
    "    else:\n",
    "        return original\n",
    "    return original"
   ]
  },
  {
   "cell_type": "code",
   "execution_count": 139,
   "id": "08b2506b-43cd-4f1d-a160-7c85042a9874",
   "metadata": {},
   "outputs": [
    {
     "data": {
      "text/plain": [
       "'86 оценок'"
      ]
     },
     "execution_count": 139,
     "metadata": {},
     "output_type": "execute_result"
    }
   ],
   "source": [
    "movie_world_critics_number_of_reviews_ = right_strip_trailing(\n",
    "    movie_world_critics_number_of_reviews_, movie_world_critics_star_value_\n",
    ")\n",
    "movie_world_critics_number_of_reviews_"
   ]
  },
  {
   "cell_type": "code",
   "execution_count": 140,
   "id": "f51cab45-106f-4a81-8c84-629c15d56776",
   "metadata": {},
   "outputs": [],
   "source": [
    "movie_russian_critics = soup_front.find_all(\n",
    "    \"div\", attrs={\"class\": re.compile(\"styles_ratingBar\")}\n",
    ")[2]"
   ]
  },
  {
   "cell_type": "code",
   "execution_count": 141,
   "id": "bf763a4c-0b5c-49d6-bb98-202af79175e0",
   "metadata": {},
   "outputs": [],
   "source": [
    "movie_russian_critics_percentage = movie_russian_critics.find_all(\n",
    "    \"span\", attrs={\"class\": re.compile(\"film-rating-value\")}\n",
    ")[0]"
   ]
  },
  {
   "cell_type": "code",
   "execution_count": 142,
   "id": "e01dbeb6-228d-4566-ae20-2bc690420155",
   "metadata": {},
   "outputs": [
    {
     "data": {
      "text/plain": [
       "'–'"
      ]
     },
     "execution_count": 142,
     "metadata": {},
     "output_type": "execute_result"
    }
   ],
   "source": [
    "movie_russian_critics_percentage_ = movie_russian_critics_percentage.get_text()\n",
    "movie_russian_critics_percentage_"
   ]
  },
  {
   "cell_type": "code",
   "execution_count": 143,
   "id": "d4f014e7-3725-4a48-ac7b-f333aeefe770",
   "metadata": {},
   "outputs": [],
   "source": [
    "movie_russian_critics_number_of_reviews = movie_russian_critics.find_all(\n",
    "    \"span\", attrs={\"class\": re.compile(\"styles_count\")}\n",
    ")[0]"
   ]
  },
  {
   "cell_type": "code",
   "execution_count": 144,
   "id": "108ce041-2ada-4732-b139-a39731754295",
   "metadata": {},
   "outputs": [
    {
     "data": {
      "text/plain": [
       "'1 оценка'"
      ]
     },
     "execution_count": 144,
     "metadata": {},
     "output_type": "execute_result"
    }
   ],
   "source": [
    "movie_russian_critics_number_of_reviews_ = (\n",
    "    movie_russian_critics_number_of_reviews.get_text()\n",
    ")\n",
    "movie_russian_critics_number_of_reviews_"
   ]
  },
  {
   "cell_type": "code",
   "execution_count": 145,
   "id": "d805af44-ba66-4b2d-a8bb-d8683b48338d",
   "metadata": {},
   "outputs": [
    {
     "data": {
      "text/plain": [
       "{'Средняя полярность международных критиков': '95%',\n",
       " 'Количество рецензий международных критиков': '86 оценок',\n",
       " 'Средняя оценка международных критиков': '9.3',\n",
       " 'Средняя полярность российских критиков': '–',\n",
       " 'Количество рецензий российских критиков': '1 оценка'}"
      ]
     },
     "execution_count": 145,
     "metadata": {},
     "output_type": "execute_result"
    }
   ],
   "source": [
    "movie_critics_rating_dict = {\n",
    "    \"Средняя полярность международных критиков\": movie_world_critics_percentage_,\n",
    "    \"Количество рецензий международных критиков\": movie_world_critics_number_of_reviews_,\n",
    "    \"Средняя оценка международных критиков\": movie_world_critics_star_value_,\n",
    "    \"Средняя полярность российских критиков\": movie_russian_critics_percentage_,\n",
    "    \"Количество рецензий российских критиков\": movie_russian_critics_number_of_reviews_,\n",
    "}\n",
    "movie_critics_rating_dict"
   ]
  },
  {
   "cell_type": "markdown",
   "id": "4071527e-5167-4416-baaf-dc4ae92781af",
   "metadata": {},
   "source": [
    "# Preparing final dict with information about the film"
   ]
  },
  {
   "cell_type": "code",
   "execution_count": 149,
   "id": "a9f3b23a-f25a-4a7f-8860-a3359db70cb3",
   "metadata": {},
   "outputs": [
    {
     "name": "stdout",
     "output_type": "stream",
     "text": [
      "{'id': '339',\n",
      " 'Бюджет': '$18 000 000',\n",
      " 'Возраст': '12+',\n",
      " 'Время': '115 мин. / 01:55',\n",
      " 'Год производства': '1981',\n",
      " 'Жанр': 'приключения, боевик, комедия',\n",
      " 'Зрители': '88.1 млн , 6.4 млн , 4.2 млн , ...',\n",
      " 'Количество оценок IMDb': '938 581 оценка',\n",
      " 'Количество оценок кинопоиска': '142 538 оценок',\n",
      " 'Количество рецензий международных критиков': '86 оценок',\n",
      " 'Количество рецензий российских критиков': '1 оценка',\n",
      " 'Композитор': 'Джон Уильямс',\n",
      " 'Монтаж': 'Майкл Кан, Джордж Лукас',\n",
      " 'Название': 'Индиана Джонс: В поисках утраченного ковчега (1981)',\n",
      " 'Оператор': 'Дуглас Слоком',\n",
      " 'Оргинальное название': 'Raiders of the Lost Ark',\n",
      " 'Премьера в мире': '12 июня 1981, ...',\n",
      " 'Продюсер': 'Ховард Дж. Казанян, Джордж Лукас, Фрэнк Маршалл, ...',\n",
      " 'Режиссер': 'Стивен Спилберг',\n",
      " 'Рейтинг IMDb': 'IMDb: 8.40',\n",
      " 'Рейтинг MPAA': 'PGрекомендуется присутствие родителей',\n",
      " 'Рейтинг кинопоиска': '8.0',\n",
      " 'Релиз на DVD': '20 ноября 2003, «Premier Digital»',\n",
      " 'Сборы в США': '$212 222 025',\n",
      " 'Сборы в мире': '+ $141 766 000 = $353 988 025',\n",
      " 'Синопсис': 'Известный археолог и специалист по оккультным наукам доктор Джонс получает опасное задание от правительства США. Он должен '\n",
      "             'отправиться на поиски уникальной реликвии — священного Ковчега. Но Индиана и не подозревает, что аналогичный приказ уже '\n",
      "             'получили тайные агенты Адольфа Гитлера.',\n",
      " 'Слоган': '«Indiana Jones - the new hero from the creators of JAWS and STAR WARS»',\n",
      " 'Средняя оценка международных критиков': '9.3',\n",
      " 'Средняя полярность международных критиков': '95%',\n",
      " 'Средняя полярность российских критиков': '–',\n",
      " 'Страна': 'США',\n",
      " 'Сценарий': 'Лоуренс Кэздан, Джордж Лукас, Филип Кауфман',\n",
      " 'Художник': 'Норман Рейнольдс, Айвор Лесли Дилли, Дебора Нэдулмэн, ...'}\n"
     ]
    }
   ],
   "source": [
    "movie_dict = {\n",
    "    **movie_id_dict,\n",
    "    **movie_name_dict,\n",
    "    **movie_info_dict,\n",
    "    **movie_rating_dict,\n",
    "    **movie_synopsis_dict,\n",
    "    **movie_critics_rating_dict,\n",
    "}\n",
    "\n",
    "movie_dict_cleaned = {\n",
    "    key: preprocess_string(value, translator) for key, value in movie_dict.items()\n",
    "}\n",
    "\n",
    "pp.pprint(movie_dict_cleaned)"
   ]
  },
  {
   "cell_type": "markdown",
   "id": "a6d03b23-fe47-4336-9517-9417b74c1af2",
   "metadata": {},
   "source": [
    "# Parsing page with reviews"
   ]
  },
  {
   "cell_type": "markdown",
   "id": "cf09cddb-0fac-4b6c-bb81-57a51cce60c9",
   "metadata": {},
   "source": [
    "Information, that should be parsed for every review:\n",
    " - Username of reviewer\n",
    " - Reviewer ID\n",
    " - Date and time of review\n",
    " - Review sentiment\n",
    " - Review subtitle (if present)\n",
    " - Review body (preserving the division into paragraphs)\n",
    " - Review score (if possible - the last paragraph of the review)\n",
    " - The usefulness of review ratio\n",
    " - Direct link to the review"
   ]
  },
  {
   "cell_type": "markdown",
   "id": "a855c867-ca52-41f9-ac13-4004c4ecc0f9",
   "metadata": {},
   "source": [
    "## Getting the code for the page with movie"
   ]
  },
  {
   "cell_type": "code",
   "execution_count": 3,
   "id": "06055d2d-4205-4ca3-aa1d-7bc2244a401b",
   "metadata": {},
   "outputs": [],
   "source": [
    "# f = requests.get(\"https://www.kinopoisk.ru/film/339/reviews/\")"
   ]
  },
  {
   "cell_type": "markdown",
   "id": "7d5389a5-dbc4-4407-a5d0-740737a4af14",
   "metadata": {},
   "source": [
    "## Getting the code from the downloaded page"
   ]
  },
  {
   "cell_type": "code",
   "execution_count": 153,
   "id": "0458322a-2855-46ae-8d17-eaf655539bea",
   "metadata": {},
   "outputs": [],
   "source": [
    "path_reviews = \"./data/indiana_reviews.html\"\n",
    "with open(path_reviews, \"r\", encoding=\"utf-8\") as f:\n",
    "    indiana_reviews = f.read()"
   ]
  },
  {
   "cell_type": "markdown",
   "id": "7b21c2ea-09d6-434c-b9b1-f4fa791add78",
   "metadata": {},
   "source": [
    "Passing the code into the `BeautifulSoup` constructor"
   ]
  },
  {
   "cell_type": "code",
   "execution_count": 154,
   "id": "b1994634-1a1e-451c-98dc-c06aab45a7b8",
   "metadata": {},
   "outputs": [],
   "source": [
    "soup_reviews = BeautifulSoup(indiana_reviews, \"html.parser\")"
   ]
  },
  {
   "cell_type": "code",
   "execution_count": 155,
   "id": "8f0cb6bc-7307-4bf8-afeb-24f068d86104",
   "metadata": {},
   "outputs": [],
   "source": [
    "review_dict = {}"
   ]
  },
  {
   "cell_type": "markdown",
   "id": "c6736e94-bc0d-4755-bf8b-0f74bbc16146",
   "metadata": {},
   "source": [
    "## Parsing movie's id"
   ]
  },
  {
   "cell_type": "markdown",
   "id": "834556eb-6dcd-49aa-8823-f416ddeea548",
   "metadata": {},
   "source": [
    "Parsing movie id so we can match the reviews with the film"
   ]
  },
  {
   "cell_type": "code",
   "execution_count": 216,
   "id": "eaedeedd-0005-4a34-b4c0-47e8ddad6a9d",
   "metadata": {},
   "outputs": [],
   "source": [
    "review_id_dict = {}"
   ]
  },
  {
   "cell_type": "code",
   "execution_count": 217,
   "id": "60970c2b-4693-4ec6-8216-98e09152216a",
   "metadata": {},
   "outputs": [],
   "source": [
    "film_id = soup_reviews.find_all(\n",
    "    \"link\", attrs={\"href\": re.compile(\"https://www.kinopoisk.ru/film/\")}\n",
    ")[0]"
   ]
  },
  {
   "cell_type": "code",
   "execution_count": 218,
   "id": "d302a59d-2064-4cb3-82e6-7f838019a979",
   "metadata": {},
   "outputs": [],
   "source": [
    "film_id_ = film_id[\"href\"].split(\"/\")[-3]"
   ]
  },
  {
   "cell_type": "code",
   "execution_count": 219,
   "id": "2e868514-4c8a-40ae-a83f-4727708bae39",
   "metadata": {},
   "outputs": [
    {
     "data": {
      "text/plain": [
       "{'ID фильма': '339'}"
      ]
     },
     "execution_count": 219,
     "metadata": {},
     "output_type": "execute_result"
    }
   ],
   "source": [
    "review_id_dict[\"ID фильма\"] = film_id_\n",
    "review_id_dict"
   ]
  },
  {
   "cell_type": "markdown",
   "id": "63e7f227-f576-4497-882d-8cbad3322541",
   "metadata": {},
   "source": [
    "## Parsing reviews"
   ]
  },
  {
   "cell_type": "code",
   "execution_count": 164,
   "id": "8fe36cd4-f8d2-42a6-b05d-98167711a6bc",
   "metadata": {},
   "outputs": [],
   "source": [
    "review_content_dict = {}"
   ]
  },
  {
   "cell_type": "code",
   "execution_count": 165,
   "id": "491f92e1-07a0-4c59-afe8-3d75e0a37e1c",
   "metadata": {},
   "outputs": [],
   "source": [
    "reviews = soup_reviews.find_all(\"div\", attrs={\"class\": \"reviewItem userReview\"})"
   ]
  },
  {
   "cell_type": "markdown",
   "id": "3e86b59e-9acc-4c69-b441-e72f10a6f29d",
   "metadata": {},
   "source": [
    "Let's start with parsing single review and then we will use this pattern to parse all the reviews on the page"
   ]
  },
  {
   "cell_type": "code",
   "execution_count": 166,
   "id": "17a4144f-49d3-47c0-b963-ad45c7e05111",
   "metadata": {},
   "outputs": [],
   "source": [
    "review = reviews[0]"
   ]
  },
  {
   "cell_type": "markdown",
   "id": "3ef94d4e-d38b-43b4-bf0b-938d66e2327b",
   "metadata": {},
   "source": [
    "Let's look at the content of review "
   ]
  },
  {
   "cell_type": "code",
   "execution_count": 167,
   "id": "f33854d2-0029-4db6-86ac-07bc9b0f151b",
   "metadata": {},
   "outputs": [
    {
     "data": {
      "text/plain": [
       "<div class=\"reviewItem userReview\" data-id=\"3128202\" id=\"_DRAGGABLE_3128202\" style=\"width: 555px; position: relative; padding: 1px 0 40px 0\">\n",
       "<div id=\"3128202\"></div>\n",
       "<div class=\"response good\" id=\"div_review_3128202\" itemprop=\"reviews\" itemscope=\"\" itemtype=\"http://schema.org/Review\">\n",
       "<meta content=\"Знакомство с Индианой Джонс в 2022.\" itemprop=\"headline\"/>\n",
       "<div itemprop=\"author\" itemscope=\"\" itemtype=\"http://schema.org/Person\">\n",
       "<img alt=\"\" data-lazy-src=\"https://avatars.mds.yandex.net/get-kino-vod-users-avatar/57335/63366919-43-695797.jpg/46x73_bw\" itemprop=\"image\" src=\"https://st.kp.yandex.net/images/spacer.gif\" title=\"\" width=\"46\"/>\n",
       "<div>\n",
       "<p class=\"profile_name\"><s></s><a data-popup-info=\"disabled\" href=\"/user/63366919/\" itemprop=\"name\">komisar.jeber</a></p>\n",
       "<ul class=\"actions\">\n",
       "<li class=\"first\"><a href=\"/user/63366919/comments/\">рецензии</a></li>\n",
       "<li><a href=\"/user/63366919/votes/\">оценки</a></li>\n",
       "<li><a href=\"/user/63366919/friends/\">друзья</a></li>\n",
       "<li><a href=\"/user/63366919/movies/\">фильмы</a></li>\n",
       "<li><a href=\"/user/63366919/stars/\">звёзды</a></li>\n",
       "</ul>\n",
       "<p class=\"sub_title\" id=\"ext_title_3128202\">Знакомство с Индианой Джонс в 2022.</p>\n",
       "</div>\n",
       "</div>\n",
       "<table>\n",
       "<tbody>\n",
       "<tr>\n",
       "<td>\n",
       "<div class=\"brand_words\" onmousedown=\"clearSelect(3128202)\" onmouseup=\"getSelect(3128202)\">\n",
       "<p id=\"ext_text_3128202\"><span class=\"_reachbanner_\" itemprop=\"reviewBody\">Спустя более 40 лет после выхода данного фильма я впервые его посмотрел. Ранее видел множество фрагментов из него и кучу отсылок. Так каково же это - впервые посмотреть приключения Индианы Джонс в 2022 году?<br/>\n",
       "<br/>\n",
       "Даже спустя 41 год после премьеры, фильм смотрится довольно прилично. Главные его достоинства это экшен и главный герой, хотя искушенному кинолюбителю этого может показаться мало. Фильм смотрится практически на одном дыхании. Экшен изобретательный и снят отлично, а для 81 года просто невообразимо. Его в фильме более чем достаточно, иногда от него даже можно устать, хоть кино и динамичное.<br/>\n",
       "<br/>\n",
       "Сам Индиана Джонс в исполнении Харисона Форда получился то что надо, однако на сегодняшний день он выглядит весьма типично и подобных персонажей в кинохронике уже немало.  Все же это не умаляет заслуг создателей и актер в этой роли смотрится превосходно. Кого-то другого на его месте представить сложно.<br/>\n",
       "<br/>\n",
       "Отдельно хочется выделить Карен Ален и ее персонажа в частности. Для стандартной девушки в беде смотрится очень органично и практически никогда не раздражает, персонаж вышел живым и несмотря на заранее уготованную участь вполне самостоятельным и инициативным.<br/>\n",
       "<br/>\n",
       "Теперь о недостатках. Основные из них это главный злодей, реализм и логика сюжета в некоторых местах. Если второе и третье достаточно привычно видеть практически в любом боевике или приключенческом фильме, и вопросы 'Как? Зачем? Почему? Какой в этом смысл?' тут лучше не задавать.<br/>\n",
       "<br/>\n",
       "Антагонист. Вот он-то получился совсем никакой - незапоминающийся, непугающий, не внушающий интриги и даже неинтересный, актер выбран странно и вызывает скорее смех.<br/>\n",
       "<br/>\n",
       "В целом фильм рекомендовал бы тем кто хочет поностальгировать и ознакомиться с культурным наследием кинематографа. Современный искушенный киноман вряд ли найдет для себя что-то новое.<br/>\n",
       "<br/>\n",
       "7 из 10</span></p>\n",
       "</div>\n",
       "</td>\n",
       "</tr>\n",
       "</tbody>\n",
       "</table>\n",
       "<p class=\"links\">\n",
       "<a href=\"/user/63366919/comment/3128202/\">прямая ссылка</a>\n",
       "<span class=\"commentsNumReview one_review\"><a href=\"/user/63366919/comment/3128202/#comm0\"><s></s><b>+ комментарий</b><i>добавить комментарий</i></a></span>\n",
       "</p>\n",
       "<ul class=\"useful\">\n",
       "<li>Полезная рецензия?\n",
       "                <a class=\"mod\" href=\"#\" onclick=\"OpenSpoiler(3128202); return false;\"><s>пожаловаться на </s>спойлер?</a>\n",
       "</li>\n",
       "<li class=\"answer\">\n",
       "<a class=\"vote\" href=\"#\" id=\"vote_link_ok_3128202\" onclick=\"setCommentVote('3128202', 'ok', '63366919', '339'); return false\">Да</a>\n",
       "                / <a class=\"vote\" href=\"#\" id=\"vote_link_no_3128202\" onclick=\"setCommentVote('3128202', 'no', '63366919', '339'); return false\">Нет</a>\n",
       "</li>\n",
       "<li id=\"comment_num_vote_3128202\">1 / 0</li>\n",
       "</ul>\n",
       "<i class=\"ajax_bottom\" id=\"comment_num_vote_3128202_note\"></i>\n",
       "<span class=\"date\">23 февраля 2022 | 15:18</span>\n",
       "<ul class=\"voter\">\n",
       "<li>тип рецензии:</li>\n",
       "<li id=\"li_good_3128202\"><span class=\"yes\" title=\"положительная рецензия\"></span></li>\n",
       "<li id=\"li_good_3128202_a\" style=\"display: none\"><a class=\"yes\" href=\"#\" onclick=\"change_review_status(3128202, 'good'); return false;\" title=\"положительная рецензия\"></a></li>\n",
       "<li id=\"li_bad_3128202_a\"><a class=\"no\" href=\"#\" onclick=\"change_review_status(3128202, 'bad'); return false;\" title=\"отрицательная рецензия\"></a></li>\n",
       "<li id=\"li_bad_3128202\" style=\"display: none\"><span class=\"no\" title=\"отрицательная рецензия\"></span></li>\n",
       "<li class=\"nomargin\" id=\"li_neutral_3128202_a\"><a class=\"neutral\" href=\"#\" onclick=\"change_review_status(3128202, 'neutral'); return false;\" title=\"нейтральная рецензия\"></a></li>\n",
       "<li class=\"nomargin\" id=\"li_neutral_3128202\" style=\"display: none\"><span class=\"neutral\" title=\"нейтральная рецензия\"></span></li>\n",
       "</ul>\n",
       "<i class=\"ajax\" id=\"change_status_ajax_star_3128202\"></i>\n",
       "<strike></strike> </div>\n",
       "<div class=\"signer signer_edit\" id=\"spoiler_txt_3128202\">\n",
       "<textarea id=\"spoiler_textarea_3128202\"></textarea>\n",
       "<input class=\"save\" onclick=\"VoteSpoiler(3128202)\" type=\"button\" value=\"отправить\"/>\n",
       "<input class=\"close\" onclick=\"CloseSpoiler(3128202)\" type=\"button\" value=\"закрыть\"/>\n",
       "<a href=\"#\" onclick=\"CloseSpoiler(3128202); return false;\"></a>\n",
       "</div>\n",
       "</div>"
      ]
     },
     "execution_count": 167,
     "metadata": {},
     "output_type": "execute_result"
    }
   ],
   "source": [
    "review"
   ]
  },
  {
   "cell_type": "markdown",
   "id": "9e536961-d5e5-49f7-9588-76f6a4fe59d2",
   "metadata": {},
   "source": [
    "### Parsing username of reviewer"
   ]
  },
  {
   "cell_type": "code",
   "execution_count": 168,
   "id": "cc654b7c-4e9f-4341-a82a-ff878755278a",
   "metadata": {},
   "outputs": [],
   "source": [
    "reviewer_username = review.find_all(\"p\", attrs={\"class\": \"profile_name\"})[0]"
   ]
  },
  {
   "cell_type": "code",
   "execution_count": 169,
   "id": "7b3af639-571b-494c-93e0-36d44f1c7a21",
   "metadata": {},
   "outputs": [
    {
     "data": {
      "text/plain": [
       "'komisar.jeber'"
      ]
     },
     "execution_count": 169,
     "metadata": {},
     "output_type": "execute_result"
    }
   ],
   "source": [
    "reviewer_username_ = reviewer_username.get_text()\n",
    "reviewer_username_"
   ]
  },
  {
   "cell_type": "markdown",
   "id": "22f86732-7bd4-465a-a0bf-ef13f8552af4",
   "metadata": {
    "tags": []
   },
   "source": [
    "### Parsing id of reviewer"
   ]
  },
  {
   "cell_type": "code",
   "execution_count": 170,
   "id": "2929dde3-1699-4fb6-b540-b86bf3a14abf",
   "metadata": {},
   "outputs": [],
   "source": [
    "reviewer_id = reviewer_username.find_all(\"a\", href=True)[0]"
   ]
  },
  {
   "cell_type": "code",
   "execution_count": 171,
   "id": "7c443cb3-1a03-4920-93ac-c99ed6be84e6",
   "metadata": {},
   "outputs": [
    {
     "data": {
      "text/plain": [
       "'63366919'"
      ]
     },
     "execution_count": 171,
     "metadata": {},
     "output_type": "execute_result"
    }
   ],
   "source": [
    "reviewer_id_ = reviewer_id[\"href\"].split(\"/\")[-2]\n",
    "reviewer_id_"
   ]
  },
  {
   "cell_type": "markdown",
   "id": "644aef84-a0e4-4165-b2ab-42aa25a81780",
   "metadata": {
    "tags": []
   },
   "source": [
    "### Parsing date & time of review"
   ]
  },
  {
   "cell_type": "code",
   "execution_count": 172,
   "id": "f55ac3c0-e342-4888-919e-02992e3da995",
   "metadata": {},
   "outputs": [],
   "source": [
    "datetime = review.find_all(\"span\", attrs={\"class\": \"date\"})[0]"
   ]
  },
  {
   "cell_type": "code",
   "execution_count": 173,
   "id": "2b71895e-5ed0-4d67-a678-49c42b62fd38",
   "metadata": {},
   "outputs": [
    {
     "data": {
      "text/plain": [
       "'23 февраля 2022 15:18'"
      ]
     },
     "execution_count": 173,
     "metadata": {},
     "output_type": "execute_result"
    }
   ],
   "source": [
    "datetime_ = datetime.get_text().replace(\"|\", \"\").strip()\n",
    "datetime_ = \" \".join(datetime_.split())\n",
    "datetime_"
   ]
  },
  {
   "cell_type": "markdown",
   "id": "f72098e4-ee28-444f-9545-913ad7fc386a",
   "metadata": {
    "tags": []
   },
   "source": [
    "### Parsing review sentiment"
   ]
  },
  {
   "cell_type": "code",
   "execution_count": 174,
   "id": "7c812c10-ee05-4568-8955-f5887cf1b220",
   "metadata": {},
   "outputs": [],
   "source": [
    "sentiment = review.find(\"div\", attrs={\"class\": \"response\"})"
   ]
  },
  {
   "cell_type": "code",
   "execution_count": 175,
   "id": "e187f124-bee0-4166-afb2-a994e2e2d51c",
   "metadata": {},
   "outputs": [
    {
     "data": {
      "text/plain": [
       "'good'"
      ]
     },
     "execution_count": 175,
     "metadata": {},
     "output_type": "execute_result"
    }
   ],
   "source": [
    "sentiment_ = sentiment.attrs[\"class\"][-1]\n",
    "sentiment_"
   ]
  },
  {
   "cell_type": "markdown",
   "id": "285ea053-ce89-4de2-b084-63f719303c44",
   "metadata": {
    "tags": []
   },
   "source": [
    "### Parsing review subtitle"
   ]
  },
  {
   "cell_type": "code",
   "execution_count": 176,
   "id": "d8764b8a-2727-4339-b400-9520c91e4b26",
   "metadata": {},
   "outputs": [],
   "source": [
    "subtitle = review.find(\"p\", attrs={\"class\": \"sub_title\"})"
   ]
  },
  {
   "cell_type": "code",
   "execution_count": 177,
   "id": "c5c3a1ee-3e1f-402b-92b2-5425b6edfdeb",
   "metadata": {},
   "outputs": [
    {
     "data": {
      "text/plain": [
       "'Знакомство с Индианой Джонс в 2022.'"
      ]
     },
     "execution_count": 177,
     "metadata": {},
     "output_type": "execute_result"
    }
   ],
   "source": [
    "subtitle_ = subtitle.get_text()\n",
    "subtitle_"
   ]
  },
  {
   "cell_type": "markdown",
   "id": "c655870a-ec43-4e41-be64-21ca6f15b316",
   "metadata": {
    "tags": []
   },
   "source": [
    "### Parsing review body"
   ]
  },
  {
   "cell_type": "code",
   "execution_count": 178,
   "id": "23c05b24-c936-49a1-a7dd-8c896d99d44d",
   "metadata": {},
   "outputs": [],
   "source": [
    "review_body = review.find(\"span\", attrs={\"itemprop\": \"reviewBody\"})"
   ]
  },
  {
   "cell_type": "code",
   "execution_count": 179,
   "id": "e0ff03af-d40c-4a7d-ae20-338d995b009a",
   "metadata": {},
   "outputs": [
    {
     "data": {
      "text/plain": [
       "['Спустя более 40 лет после выхода данного фильма я впервые его посмотрел. Ранее видел множество фрагментов из него и кучу отсылок. Так каково же это - впервые посмотреть приключения Индианы Джонс в 2022 году?',\n",
       " <br/>,\n",
       " '\\n',\n",
       " <br/>,\n",
       " '\\nДаже спустя 41 год после премьеры, фильм смотрится довольно прилично. Главные его достоинства это экшен и главный герой, хотя искушенному кинолюбителю этого может показаться мало. Фильм смотрится практически на одном дыхании. Экшен изобретательный и снят отлично, а для 81 года просто невообразимо. Его в фильме более чем достаточно, иногда от него даже можно устать, хоть кино и динамичное.',\n",
       " <br/>,\n",
       " '\\n',\n",
       " <br/>,\n",
       " '\\nСам Индиана Джонс в исполнении Харисона Форда получился то что надо, однако на сегодняшний день он выглядит весьма типично и подобных персонажей в кинохронике уже немало.  Все же это не умаляет заслуг создателей и актер в этой роли смотрится превосходно. Кого-то другого на его месте представить сложно.',\n",
       " <br/>,\n",
       " '\\n',\n",
       " <br/>,\n",
       " '\\nОтдельно хочется выделить Карен Ален и ее персонажа в частности. Для стандартной девушки в беде смотрится очень органично и практически никогда не раздражает, персонаж вышел живым и несмотря на заранее уготованную участь вполне самостоятельным и инициативным.',\n",
       " <br/>,\n",
       " '\\n',\n",
       " <br/>,\n",
       " \"\\nТеперь о недостатках. Основные из них это главный злодей, реализм и логика сюжета в некоторых местах. Если второе и третье достаточно привычно видеть практически в любом боевике или приключенческом фильме, и вопросы 'Как? Зачем? Почему? Какой в этом смысл?' тут лучше не задавать.\",\n",
       " <br/>,\n",
       " '\\n',\n",
       " <br/>,\n",
       " '\\nАнтагонист. Вот он-то получился совсем никакой - незапоминающийся, непугающий, не внушающий интриги и даже неинтересный, актер выбран странно и вызывает скорее смех.',\n",
       " <br/>,\n",
       " '\\n',\n",
       " <br/>,\n",
       " '\\nВ целом фильм рекомендовал бы тем кто хочет поностальгировать и ознакомиться с культурным наследием кинематографа. Современный искушенный киноман вряд ли найдет для себя что-то новое.',\n",
       " <br/>,\n",
       " '\\n',\n",
       " <br/>,\n",
       " '\\n7 из 10']"
      ]
     },
     "execution_count": 179,
     "metadata": {},
     "output_type": "execute_result"
    }
   ],
   "source": [
    "review_body_ = review_body.contents\n",
    "review_body_"
   ]
  },
  {
   "cell_type": "markdown",
   "id": "5b0a19f5-dd60-437d-b9f9-84d8c5cbee45",
   "metadata": {},
   "source": [
    "I've decided to remove unnecessary elements and add paragraph separator as `<p>`.  \n",
    "So paragraphs can be easily separated in the future pre-processing."
   ]
  },
  {
   "cell_type": "code",
   "execution_count": 180,
   "id": "36a47011-f2fd-421e-b58e-9ade06150a47",
   "metadata": {},
   "outputs": [
    {
     "data": {
      "text/plain": [
       "\"Спустя более 40 лет после выхода данного фильма я впервые его посмотрел. Ранее видел множество фрагментов из него и кучу отсылок. Так каково же это - впервые посмотреть приключения Индианы Джонс в 2022 году?<p>Даже спустя 41 год после премьеры, фильм смотрится довольно прилично. Главные его достоинства это экшен и главный герой, хотя искушенному кинолюбителю этого может показаться мало. Фильм смотрится практически на одном дыхании. Экшен изобретательный и снят отлично, а для 81 года просто невообразимо. Его в фильме более чем достаточно, иногда от него даже можно устать, хоть кино и динамичное.<p>Сам Индиана Джонс в исполнении Харисона Форда получился то что надо, однако на сегодняшний день он выглядит весьма типично и подобных персонажей в кинохронике уже немало.  Все же это не умаляет заслуг создателей и актер в этой роли смотрится превосходно. Кого-то другого на его месте представить сложно.<p>Отдельно хочется выделить Карен Ален и ее персонажа в частности. Для стандартной девушки в беде смотрится очень органично и практически никогда не раздражает, персонаж вышел живым и несмотря на заранее уготованную участь вполне самостоятельным и инициативным.<p>Теперь о недостатках. Основные из них это главный злодей, реализм и логика сюжета в некоторых местах. Если второе и третье достаточно привычно видеть практически в любом боевике или приключенческом фильме, и вопросы 'Как? Зачем? Почему? Какой в этом смысл?' тут лучше не задавать.<p>Антагонист. Вот он-то получился совсем никакой - незапоминающийся, непугающий, не внушающий интриги и даже неинтересный, актер выбран странно и вызывает скорее смех.<p>В целом фильм рекомендовал бы тем кто хочет поностальгировать и ознакомиться с культурным наследием кинематографа. Современный искушенный киноман вряд ли найдет для себя что-то новое.<p>7 из 10\""
      ]
     },
     "execution_count": 180,
     "metadata": {},
     "output_type": "execute_result"
    }
   ],
   "source": [
    "review_body_final_ = \"<p>\".join(\n",
    "    [el.replace(\"\\n\", \"\") for el in review_body_ if str(el) not in [\"<br/>\", \"\\n\"]]\n",
    ")\n",
    "review_body_final_"
   ]
  },
  {
   "cell_type": "markdown",
   "id": "68031ea7-fa5d-429a-ba92-0ac541d76b2a",
   "metadata": {
    "tags": []
   },
   "source": [
    "### Parsing review score"
   ]
  },
  {
   "cell_type": "code",
   "execution_count": 182,
   "id": "180ef5cf-6d8d-4d5e-9552-122fa3b60d03",
   "metadata": {},
   "outputs": [
    {
     "data": {
      "text/plain": [
       "'7 из 10'"
      ]
     },
     "execution_count": 182,
     "metadata": {},
     "output_type": "execute_result"
    }
   ],
   "source": [
    "score_ = return_score(review_body_final_)\n",
    "score_"
   ]
  },
  {
   "cell_type": "markdown",
   "id": "e7186223-24f2-4524-a381-e0d3ac05d369",
   "metadata": {
    "tags": []
   },
   "source": [
    "### Parsing usefulness of review ratio"
   ]
  },
  {
   "cell_type": "code",
   "execution_count": 183,
   "id": "7fa815b0-3cd3-412f-b2c9-c08139a68098",
   "metadata": {},
   "outputs": [],
   "source": [
    "usefulness_ratio = review.find(\"li\", attrs={\"id\": re.compile(\"comment_num_vote\")})"
   ]
  },
  {
   "cell_type": "code",
   "execution_count": 184,
   "id": "79156646-f88b-47e6-be18-5b57a6cb53dd",
   "metadata": {},
   "outputs": [
    {
     "data": {
      "text/plain": [
       "'1 / 0'"
      ]
     },
     "execution_count": 184,
     "metadata": {},
     "output_type": "execute_result"
    }
   ],
   "source": [
    "usefulness_ratio_ = usefulness_ratio.get_text()\n",
    "usefulness_ratio_"
   ]
  },
  {
   "cell_type": "markdown",
   "id": "b746e29b-8db2-49a7-b814-22cee26ab0ad",
   "metadata": {
    "tags": []
   },
   "source": [
    "### Parsing direct link to the review"
   ]
  },
  {
   "cell_type": "code",
   "execution_count": 185,
   "id": "63e00a84-0e15-412f-9f34-c4a904e9e87d",
   "metadata": {},
   "outputs": [],
   "source": [
    "direct_link = review.find(\"p\", attrs={\"class\": \"links\"}).find(href=True)"
   ]
  },
  {
   "cell_type": "code",
   "execution_count": 186,
   "id": "fd984ca5-3e5e-4f6d-b09f-5d4b63b62ba2",
   "metadata": {},
   "outputs": [
    {
     "data": {
      "text/plain": [
       "'https://www.kinopoisk.ru//user/63366919/comment/3128202/'"
      ]
     },
     "execution_count": 186,
     "metadata": {},
     "output_type": "execute_result"
    }
   ],
   "source": [
    "direct_link_ = \"https://www.kinopoisk.ru/\" + direct_link[\"href\"]\n",
    "direct_link_"
   ]
  },
  {
   "cell_type": "markdown",
   "id": "cfade45b-047c-4f42-88c3-e55c610abb04",
   "metadata": {
    "tags": []
   },
   "source": [
    "### Preparing dict with information from review"
   ]
  },
  {
   "cell_type": "code",
   "execution_count": 187,
   "id": "7fda3e05-29b2-49b6-847f-041c3908ac28",
   "metadata": {},
   "outputs": [
    {
     "data": {
      "text/plain": [
       "{'Имя пользователя': 'komisar.jeber',\n",
       " 'ID пользователя': '63366919',\n",
       " 'Дата и время отзыва': '23 февраля 2022 15:18',\n",
       " 'Полярность отзыва': 'good',\n",
       " 'Подзаголовок отзыва': 'Знакомство с Индианой Джонс в 2022.',\n",
       " 'Отзыв': \"Спустя более 40 лет после выхода данного фильма я впервые его посмотрел. Ранее видел множество фрагментов из него и кучу отсылок. Так каково же это - впервые посмотреть приключения Индианы Джонс в 2022 году?<p>Даже спустя 41 год после премьеры, фильм смотрится довольно прилично. Главные его достоинства это экшен и главный герой, хотя искушенному кинолюбителю этого может показаться мало. Фильм смотрится практически на одном дыхании. Экшен изобретательный и снят отлично, а для 81 года просто невообразимо. Его в фильме более чем достаточно, иногда от него даже можно устать, хоть кино и динамичное.<p>Сам Индиана Джонс в исполнении Харисона Форда получился то что надо, однако на сегодняшний день он выглядит весьма типично и подобных персонажей в кинохронике уже немало.  Все же это не умаляет заслуг создателей и актер в этой роли смотрится превосходно. Кого-то другого на его месте представить сложно.<p>Отдельно хочется выделить Карен Ален и ее персонажа в частности. Для стандартной девушки в беде смотрится очень органично и практически никогда не раздражает, персонаж вышел живым и несмотря на заранее уготованную участь вполне самостоятельным и инициативным.<p>Теперь о недостатках. Основные из них это главный злодей, реализм и логика сюжета в некоторых местах. Если второе и третье достаточно привычно видеть практически в любом боевике или приключенческом фильме, и вопросы 'Как? Зачем? Почему? Какой в этом смысл?' тут лучше не задавать.<p>Антагонист. Вот он-то получился совсем никакой - незапоминающийся, непугающий, не внушающий интриги и даже неинтересный, актер выбран странно и вызывает скорее смех.<p>В целом фильм рекомендовал бы тем кто хочет поностальгировать и ознакомиться с культурным наследием кинематографа. Современный искушенный киноман вряд ли найдет для себя что-то новое.<p>7 из 10\",\n",
       " 'Оценка из отзыва': '7 из 10',\n",
       " 'Полезность отзыва': '1 / 0',\n",
       " 'Прямая ссылка на отзыв': 'https://www.kinopoisk.ru//user/63366919/comment/3128202/'}"
      ]
     },
     "execution_count": 187,
     "metadata": {},
     "output_type": "execute_result"
    }
   ],
   "source": [
    "review_content_dict = {\n",
    "    \"Имя пользователя\": reviewer_username_,\n",
    "    \"ID пользователя\": reviewer_id_,\n",
    "    \"Дата и время отзыва\": datetime_,\n",
    "    \"Полярность отзыва\": sentiment_,\n",
    "    \"Подзаголовок отзыва\": subtitle_,\n",
    "    \"Отзыв\": review_body_final_,\n",
    "    \"Оценка из отзыва\": score_,\n",
    "    \"Полезность отзыва\": usefulness_ratio_,\n",
    "    \"Прямая ссылка на отзыв\": direct_link_,\n",
    "}\n",
    "review_content_dict"
   ]
  },
  {
   "cell_type": "markdown",
   "id": "5a04b649-5c4f-4e9d-917d-11fe8989d811",
   "metadata": {
    "tags": []
   },
   "source": [
    "### Parsing all reviews from page"
   ]
  },
  {
   "cell_type": "code",
   "execution_count": 220,
   "id": "ad11a8be-cfc7-4326-9a95-2bfe54083194",
   "metadata": {},
   "outputs": [],
   "source": [
    "reviews_list = []\n",
    "for i, review in enumerate(reviews):\n",
    "    reviewer_username = review.find_all(\"p\", attrs={\"class\": \"profile_name\"})[0]\n",
    "    reviewer_username_ = reviewer_username.get_text()\n",
    "\n",
    "    reviewer_id = reviewer_username.find_all(\"a\", href=True)[0]\n",
    "    reviewer_id_ = reviewer_id[\"href\"].split(\"/\")[-2]\n",
    "\n",
    "    datetime = review.find_all(\"span\", attrs={\"class\": \"date\"})[0]\n",
    "    datetime_ = datetime.get_text().replace(\"|\", \"\").strip()\n",
    "    datetime_ = \" \".join(datetime_.split())\n",
    "\n",
    "    sentiment = review.find(\"div\", attrs={\"class\": \"response\"})\n",
    "    sentiment_ = sentiment.attrs[\"class\"][-1]\n",
    "\n",
    "    subtitle = review.find(\"p\", attrs={\"class\": \"sub_title\"})\n",
    "    subtitle_ = subtitle.get_text()\n",
    "\n",
    "    review_body = review.find(\"span\", attrs={\"itemprop\": \"reviewBody\"})\n",
    "    review_body_ = review_body.contents\n",
    "    review_body_score_ = \"<p>\".join(\n",
    "        [\n",
    "            str(el).replace(\"\\n\", \"\")\n",
    "            for el in review_body_\n",
    "            if str(el) not in [\"<br/>\", \"\\n\"]\n",
    "        ]\n",
    "    )\n",
    "\n",
    "    score_ = return_score(review_body_score_)\n",
    "    review_body_final_ = review.find_all(\"span\", attrs={\"itemprop\": \"reviewBody\"})[\n",
    "        0\n",
    "    ].get_text()\n",
    "    review_body_final_ = \"<p>\".join(\n",
    "        [str(el) for el in review_body_final_.split(\"\\n\\n\")]\n",
    "    )\n",
    "\n",
    "    usefulness_ratio = review.find(\"li\", attrs={\"id\": re.compile(\"comment_num_vote\")})\n",
    "    usefulness_ratio_ = usefulness_ratio.get_text()\n",
    "\n",
    "    direct_link = review.find(\"p\", attrs={\"class\": \"links\"}).find(href=True)\n",
    "\n",
    "    direct_link_ = (\n",
    "        \"https://www.kinopoisk.ru\" + direct_link[\"href\"] if direct_link else \"N/A\"\n",
    "    )\n",
    "\n",
    "    review_content_dict = {\n",
    "        **review_id_dict,\n",
    "        \"Имя пользователя\": reviewer_username_,\n",
    "        \"ID пользователя\": reviewer_id_,\n",
    "        \"Дата и время отзыва\": datetime_,\n",
    "        \"Полярность отзыва\": sentiment_,\n",
    "        \"Подзаголовок отзыва\": subtitle_,\n",
    "        \"Отзыв\": review_body_final_,\n",
    "        \"Оценка из отзыва\": score_,\n",
    "        \"Полезность отзыва\": usefulness_ratio_,\n",
    "        \"Прямая ссылка на отзыв\": direct_link_,\n",
    "    }\n",
    "\n",
    "    review_content_dict_cleaned = {\n",
    "        key: preprocess_string(value, translator)\n",
    "        for key, value in review_content_dict.items()\n",
    "    }\n",
    "\n",
    "    reviews_list.append(review_content_dict_cleaned)"
   ]
  },
  {
   "cell_type": "markdown",
   "id": "29d27b28-4b09-4a67-84f6-075099b623ba",
   "metadata": {},
   "source": [
    "Let's look what we've got"
   ]
  },
  {
   "cell_type": "code",
   "execution_count": 221,
   "id": "5e470b76-6d49-4b16-8010-aaa6e6429a36",
   "metadata": {},
   "outputs": [
    {
     "name": "stdout",
     "output_type": "stream",
     "text": [
      "[{'ID пользователя': '63366919',\n",
      "  'ID фильма': '339',\n",
      "  'Дата и время отзыва': '23 февраля 2022 15:18',\n",
      "  'Имя пользователя': 'komisar.jeber',\n",
      "  'Отзыв': 'Спустя более 40 лет после выхода данного фильма я впервые его посмотрел. Ранее видел множество фрагментов из него и кучу '\n",
      "           'отсылок. Так каково же это - впервые посмотреть приключения Индианы Джонс в 2022 году?<p>Даже спустя 41 год после премьеры, '\n",
      "           'фильм смотрится довольно прилично. Главные его достоинства это экшен и главный герой, хотя искушенному кинолюбителю этого '\n",
      "           'может показаться мало. Фильм смотрится практически на одном дыхании. Экшен изобретательный и снят отлично, а для 81 года '\n",
      "           'просто невообразимо. Его в фильме более чем достаточно, иногда от него даже можно устать, хоть кино и динамичное.<p>Сам '\n",
      "           'Индиана Джонс в исполнении Харисона Форда получился то что надо, однако на сегодняшний день он выглядит весьма типично и '\n",
      "           'подобных персонажей в кинохронике уже немало. Все же это не умаляет заслуг создателей и актер в этой роли смотрится '\n",
      "           'превосходно. Кого-то другого на его месте представить сложно.<p>Отдельно хочется выделить Карен Ален и ее персонажа в '\n",
      "           'частности. Для стандартной девушки в беде смотрится очень органично и практически никогда не раздражает, персонаж вышел живым '\n",
      "           'и несмотря на заранее уготованную участь вполне самостоятельным и инициативным.<p>Теперь о недостатках. Основные из них это '\n",
      "           'главный злодей, реализм и логика сюжета в некоторых местах. Если второе и третье достаточно привычно видеть практически в '\n",
      "           \"любом боевике или приключенческом фильме, и вопросы 'Как? Зачем? Почему? Какой в этом смысл?' тут лучше не \"\n",
      "           'задавать.<p>Антагонист. Вот он-то получился совсем никакой - незапоминающийся, непугающий, не внушающий интриги и даже '\n",
      "           'неинтересный, актер выбран странно и вызывает скорее смех.<p>В целом фильм рекомендовал бы тем кто хочет поностальгировать и '\n",
      "           'ознакомиться с культурным наследием кинематографа. Современный искушенный киноман вряд ли найдет для себя что-то новое.<p>7 '\n",
      "           'из 10',\n",
      "  'Оценка из отзыва': '7 из 10',\n",
      "  'Подзаголовок отзыва': 'Знакомство с Индианой Джонс в 2022.',\n",
      "  'Полезность отзыва': '1 / 0',\n",
      "  'Полярность отзыва': 'good',\n",
      "  'Прямая ссылка на отзыв': 'https://www.kinopoisk.ru/user/63366919/comment/3128202/'},\n",
      " {'ID пользователя': '3558187',\n",
      "  'ID фильма': '339',\n",
      "  'Дата и время отзыва': '05 июля 2018 12:58',\n",
      "  'Имя пользователя': 'wilddave',\n",
      "  'Отзыв': 'Первый фильм знаменитой серии о голливудском археологе, который в свободное от работы время преподаёт в университете. '\n",
      "           'Сценарий можно было бы считать наивным, как вдохновляющий приключенческий боевик для маленьких детей. Кто-то мог бы '\n",
      "           'заметить в этой картине и пародию. Однако степень идиотии от сцены к сцене только возрастает, так что где-то к середине '\n",
      "           \"терпеть её уже не остаётся сил. Получилась ещё более анекдотичная версия супергероя, чем агент английской разведки '007'. \"\n",
      "           \"В 'Бонде' хотя бы не было сражений с мумиями и привидениями.<p>'Индиана Джонс' повлиял на весь последующий кинематограф, как \"\n",
      "           'и многие другие проекты Спилберга и Лукаса того периода. Правда, влияние это оказалось, скорее, негативным. Сюжетные шаблоны и '\n",
      "           'наплевательское отношение к проработке текста можно встретить в сотнях будущих голливудских картин, которые черпали модели '\n",
      "           'кинопроизводства именно отсюда. Актёрские образы - сплошные условности и карикатуры. Много жалких боязливых противников, '\n",
      "           'строящих испуганные гримасы. Не менее беспомощными воспринимаются и те, кто призван главному герою помогать. Нелепое поведение '\n",
      "           'злодеев можно оставить и без комментариев.<p>К логике происходящего, его разумности и правдоподобию вопросов по ходу действия '\n",
      "           'возникают сотни. Рассмотрение жителей Непала, Египта, даже военных нацистской Германии сделано сугубо пренебрежительно и '\n",
      "           'несерьёзно, в типично голливудском стиле, как если бы советскую Россию изображали где-нибудь в Румынии или Польше. Особенно '\n",
      "           'смущает, что протагонист с обаятельной ухмылкой на лице выбрасывает не отлипающих злодеев прямо в пропасть.<p>Но есть и ещё '\n",
      "           'один серьёзный недостаток ленты, который стоит выделить особенно: история написана так, что смотреть её становится скучно. '\n",
      "           'Проблема в том, что главный герой здесь совершенно не убиваем. Это человек, который четверть экранного времени строит из '\n",
      "           'себя ботаника, вторую четверть - обольстителя хрупких женских сердец и оставшуюся добрую половину фильма - стального '\n",
      "           'терминатора в роли супермена. Все приключения в схватках за таинственные сокровища неуклонно движутся к предсказуемому финалу, '\n",
      "           'когда девушка оказывается покорена, немецкие бандиты корчатся от злобы, ссадин или синяков, а величайший артефакт в истории '\n",
      "           'освоенной вселенной сияет в руках уставшего от пути к нему героя. И всё это подведено к финалу как бы через троеточие, '\n",
      "           'чтобы оставалось широкое пространство для неизбежных сиквелов и продолжений.<p>Понимание развязки приходит в фильме уже в '\n",
      "           'самом начале, и досматривать драки под музыку Джона Уильямса становится очень трудно. Мне, например, это удалось сделать '\n",
      "           'только с четвёртого захода. Вдобавок оказывается, что величайшие сокровища планеты закопаны чуть ли не под каждым камнем и '\n",
      "           'кустом, но никто, кроме фантастического Индианы, к таким проницательным догадкам до этого ещё не приходил.<p>Из '\n",
      "           'положительного обязательно следует отметить работу художников и осветителей. Свет проработан в картине гениально, без '\n",
      "           'преувеличения. Это один из образцов подобного оформления со времён чёрно-белых нуаров сороковых и пятидесятых годов. '\n",
      "           'Довольно много красиво снятых кадров, потребовавших привлечения значительных ресурсов, творческой энергии и занятой '\n",
      "           'массовки. Если бы персонажи при этом не открывали рта, получился бы и вовсе стилистический изыск в духе французского '\n",
      "           \"'Самурая'. Специальные эффекты, грим и костюмы по тем временам должны были производить большое впечатление на молодёжь. \"\n",
      "           'Саундтрек прославленного Джона Уильямса был бы, наверное, ещё ценнее, если бы не был так похож на музыкальные темы из '\n",
      "           'остальных его проектов.<p>В общем, если не подходить к комедийному тону создателей с излишним скептицизмом и принять во '\n",
      "           'внимание, что это вступительная серия популярной некогда франшизы, получится итоговая оценка<p>7 из 10<p>Классика жанра '\n",
      "           'приключений, такого легкомысленного, захватывающего и романтичного.',\n",
      "  'Оценка из отзыва': '7 из 10',\n",
      "  'Подзаголовок отзыва': 'В каждой сказке есть доля правды',\n",
      "  'Полезность отзыва': '3 / 2',\n",
      "  'Полярность отзыва': 'neutral',\n",
      "  'Прямая ссылка на отзыв': 'https://www.kinopoisk.ru/user/3558187/comment/2692309/'},\n",
      " {'ID пользователя': '6568996',\n",
      "  'ID фильма': '339',\n",
      "  'Дата и время отзыва': '08 января 2016 22:38',\n",
      "  'Имя пользователя': 'Grigory Gershenzon',\n",
      "  'Отзыв': 'Давным-давно в далекой галактике... Нет, я не про всемирно известные «Звездные войны», а про другое творение Лукаса – '\n",
      "           'легендарную сагу о похождениях бесстрашного археолога, что решается на самые рискованные поступки ради артефактов и '\n",
      "           'справедливости.<p>«Индиана Джонс» никогда не постареет, и три первые фильма – отличное тому доказательство. Он не смотрится '\n",
      "           'старым или неактуальным, а дух приключений все так же захватывает и заставляет искренне переживать за главных героев, '\n",
      "           'увлеченно наблюдая за их похождениями. «В поисках...» не лучший фильм об Индиане для меня (и для многих других, судя по '\n",
      "           'рейтингу), это, так сказать, проба пера, начало похождений знаменитого археолога, которое раскрыло весь потенциал для '\n",
      "           'будущей саги и более полного создания образа в последующих сиквелах.<p>Пожалуй, что перед нами эталон приключенческого '\n",
      "           'фильма. Тут есть все: симпатичный, но не безликий протагонист, образ чей – шляпа, кнут, боязнь змей, остроумие и многое '\n",
      "           'другое – запомнится всем, алчный антагонист в виде немцев-фашистов, юмор и, конечно, сами приключения – совершенно '\n",
      "           'сумасшедшие и бесшабашные, с интересными идеями вроде огромного каменного шара, что вот-вот похоронит под собой охотника за '\n",
      "           'артефактами, и идеально выполненные трюки. Все составляющие прекрасно дополняют друг друга; не знаю ни одного фильма, где юмор '\n",
      "           'бы так удачно сочетался с традиционным, но не затянутым и невероятно остроумным, уж простите, мордобоем. Чего только стоит '\n",
      "           'знаменитый немец-механик – казалось бы, герой эпизодический и во всяком другом случае его бы забыли сразу после окончания '\n",
      "           'эпизода, но нет - этот промежуточный и эпизодический герой получился настолько колоритным и запоминающимся, что индустрия '\n",
      "           'франчайзинга даже выпустила его фигурки.<p>В этом весь «Индиана Джонс» - даже самые мелкие события здесь не обошли вниманием, '\n",
      "           'они выполнены с истинными изяществом и заботой, они проработаны и надолго остаются в памяти зрителей. Нельзя и не сказать о '\n",
      "           'неподражаемом Джоне Уильямсе: у него снова получилось создать гениальную музыку для новой картины, а основная тема выполнена '\n",
      "           'в духе его лучших творений – проста, красива и мгновенно западает в душу. Она стала легендарной и вечной, как и все его '\n",
      "           'композиции от «Звездных войн» до «Гарри Поттера».<p>С известной космической оперой картину роднит и дух приключений, и '\n",
      "           'актеры, которые его активно поддерживают. Харрисон Форд бесподобен и, кажется, именно ролью Индианы Джонса обеспечил себе '\n",
      "           'сколь неувядающую, столь и заслуженную славу. Однако его пассия, к сожалению, могла бы быть и посимпатичнее. В бесконечных '\n",
      "           'погонях внешность не так уж бросается в глаза, но финальные кадры, увы, раскрыли ее истинное обличье. Радует, что только в '\n",
      "           'конце ее лицо показали крупным планом и на свету, хотя этого можно было и не делать, честно. Или подбирать кого-то красивее. '\n",
      "           'Впрочем, Карен просмотру нисколько не мешает.<p>Так к чему я это все? «В поисках утраченного ковчега» - прекрасный '\n",
      "           'приключенческий фильм на все времена с отменным юмором, захватывающим сюжетом, отличными актерами и легендарной музыкой. И '\n",
      "           'если вы фильм еще не смотрели, то присоединяйтесь к тем, кто идет его пересматривать – картина, право, того стоит.',\n",
      "  'Оценка из отзыва': 'N/A',\n",
      "  'Подзаголовок отзыва': 'Еще одна великая сага',\n",
      "  'Полезность отзыва': '1 / 1',\n",
      "  'Полярность отзыва': 'good',\n",
      "  'Прямая ссылка на отзыв': 'https://www.kinopoisk.ru/user/6568996/comment/2343304/'},\n",
      " {'ID пользователя': '3253303',\n",
      "  'ID фильма': '339',\n",
      "  'Дата и время отзыва': '28 января 2015 16:22',\n",
      "  'Имя пользователя': 'The Lone Ranger',\n",
      "  'Отзыв': 'Эта картина Стивена Спилберга в классическом приключенческом духе вышла в свет в 1981 году после ряда таких известных работ, '\n",
      "           \"как 'Челюсти', 'Близкие контакты третьей степени', и менее известных - 'Шугарлендского экспресса' и телефильма 'Дуэль'. И \"\n",
      "           'оказалась не в пример им неудачной. Не с точки зрения успеха у зрителей или сборов (бюджет был превзойдён в мире больше, '\n",
      "           'чем в 20 раз), а по характеру сюжета, положившего начало всем прочим фильмам того же жанра. Конечно, для кинотеатров он '\n",
      "           'подходил идеально, именно ради подобного зрелища и ходят в кино. И Спилберг, уже в начале своей карьеры режиссёра уловивший '\n",
      "           'нужную манеру съёмок такого кино, свернул в итоге на путь чистого зрелища, сохраняя, правда, в некоторых работах элементы '\n",
      "           \"хорошей выдумки (я видел далеко не все его фильмы и не могу судить об общей картине). А первый пример - 'Raiders of the \"\n",
      "           \"Lost Ark' или всем нам известный 'Индиана Джонс: В поисках утраченного ковчега'.<p> Перед нами фильм, до отвала набитый \"\n",
      "           'всевозможными клише, которые в будущем использовали все, кому не лень, а точнее те, кому просто больше нечего было сказать в '\n",
      "           'своих фильмах. Благо ещё в этом фильме они были, наверное, к месту, казались свежими и интересными. Тем более после '\n",
      "           'странно-завораживающего сюжета о контакте с инопланетянами в предыдущей крупной картине Спилберга люди просто отдыхали '\n",
      "           'душой, наблюдая, как Харрисон Форд мутузит кулаками арабов и нацистов. Остановимся же поподробнее на дорогих сердцу клише. '\n",
      "           'Главный герой, Индиана Джонс - в обыденный жизни интеллигентный преподаватель в очках, который при зове долга '\n",
      "           \"превращается в специалиста по археологическим находкам и вообще всему 'таинственному'; он надевает свою фирменную шляпу, \"\n",
      "           'прицепляет к поясу незаменимого спутника, известного, как хлыст, и отправляется на поиски ни больше ни меньше Ковчега с '\n",
      "           'заветами Моисея. Его никто не может найти вот уже три тысячелетия, а тут вдруг Гитлер, одержимый оккультизмом (что, в '\n",
      "           'принципе, правдоподобно) начинает новые раскопки. И благородный защитник археологических древностей берётся опередить вождя '\n",
      "           'фашисткой Германии. Красавчику-авантюристу с горящими глазами, небритому, но с вечно сияющей улыбкой всё по плечу: его не '\n",
      "           'берут не хитроумные ловушки в гробницах, ни копья, ни стрелы, ни автоматные очереди - из всех опасностей под оптимистичную '\n",
      "           'музыку торжествующего героя, под которую в пору скакать в кавалерийскую атаку, он выходит победителем. За весь фильм - разве '\n",
      "           'что пустяковая рана в плечо и пара десятков ненавидимых до смерти змей, потрепавших нервы. А так в награду причитается '\n",
      "           'красавица-спутница, которой Джонс когда-то разбил сердце, но теперь вернулся, чтобы вновь завоевать её. Впрочем, красавица '\n",
      "           'непростая, с характером и может перепить любого мужика; её, кончено, пару раз похищают для приличия, а потом таскают за '\n",
      "           'собой всё в той же сорочке, в какой она была при похищении. Прилагается так же соперник-археолог - тоже красавчик, в белом '\n",
      "           \"костюме, являющийся как бы 'тёмной' стороной Джонса. Ну, и куда же без немецких солдат, которых бравый археолог валит \"\n",
      "           \"пачками, за исключением одного здоровяка, так сказать 'босса' (они и впоследствии будут непременной частью приключений \"\n",
      "           'доктора Джонса), который всласть набивает Джонсу морду, после чего всё равно оказывается обезвреженным каким-нибудь '\n",
      "           'кровожадным способом. Не будем забывать и про уже упомянутые гробницы с ловушками (это уже просто классика), из которых Инди '\n",
      "           'всегда найдёт способ выбраться в последний момент. Ах да - концовка, где нацистов поражает Гнев Божий, просто шедевральна, '\n",
      "           'но это надо видеть. Может, я что и упустил, но думаю и так достаточно. <p> Доля моего сарказма в адрес этого фильма призвана '\n",
      "           'всего лишь обратить внимание на его очевидные недостатки, а вовсе не высмеять и субъективно обругать. Пожалуй, можно назвать '\n",
      "           \"'Raiders of the Lost Ark' культовым фильмом, хотя её масштабность не сравнить со снятыми чуть ранее 'Звёздными войнами'. И \"\n",
      "           'тут на лицо некая общая наивность в съёмке двух картин, в намерении привлечь к просмотру наиболее простым и завлекающим '\n",
      "           'способом - показать насыщенный, но не убедительный приключенческий сюжет. Не случайно, что к фильму Спилберга приложил '\n",
      "           'руку и Лукас, это действительно чувствуется. Да и Харрисон Форд, актёр, конечно, очень неплохой и обаятельный, вдвойне '\n",
      "           'привлекал внимание в роли Индианы Джонса после роли Хана Соло. Но дело тут даже не в напарнике Чубакки. Герои-одиночки, для '\n",
      "           'которых даже несколько десятков противников - раз плюнуть, не проблема, всегда были и останутся популярными. И, должен '\n",
      "           'заметить, первый фильм про Джона Макклейна был получше, хоть и дышал тем же насыщенным штампами воздухом. <p> Повторяю, я не '\n",
      "           'отношусь к фильму про культового археолога с предвзятостью и намеренным презрением. Помнится, в подростковом возрасте он мне '\n",
      "           \"даже очень нравился, сюжет казался невероятно захватывающим, а вплетение в него такого 'крутого артефакта', как Ковчег, только \"\n",
      "           'усиливало впечатление. Так вот, по-моему, кино такого рода и подходит аудитории подросткового возраста, а людям повзрослей '\n",
      "           'использование Ковчега или Святого Грааля в качестве мистической нотки сюжета должно казаться детскими играми серьёзными '\n",
      "           \"материями. В итоге получается, что 'Индиана Джонс: В поисках утраченного ковчега' и все его продолжения (увы, с каждым разом \"\n",
      "           'повторяющие себя, а к четвёртой части - вообще превратившиеся в какой-то маразм) - типичное зрелищное кино, не лучше других '\n",
      "           'и не хуже ещё многих. И его можно посмотреть иногда по телевизору для развлечения или разок в ознакомительных целях, отдавая '\n",
      "           'дань культовости. Но что важно - культовость, большая популярность и значительное влияние на будущие работы в кинематографе '\n",
      "           'никоим образом не влияют на качество конкретного фильма, не делают его каким-то особенно хорошим в силу исключения. Настоящее '\n",
      "           'кино не стареет со временем, и тут дело не в стиле или мощности оборудования и спецэффектов; в нём есть особый дух, в него '\n",
      "           'вложены взгляды и поставлены вопросы, актуальные всегда. Такого настоящего кино не так уж много, больше просто хорошего, но и '\n",
      "           'к этому разряду я не могу причислить фильмы про Индиану Джонсу. Таково моё мнение на этот счёт. И я был бы рад выслушать '\n",
      "           \"возражения, а не просто массу бессловесных 'Нет' на мою рецензию. Спасибо за внимание.<p>6 из 10\",\n",
      "  'Оценка из отзыва': '6 из 10',\n",
      "  'Подзаголовок отзыва': 'Культовый археолог',\n",
      "  'Полезность отзыва': '22 / 7',\n",
      "  'Полярность отзыва': 'neutral',\n",
      "  'Прямая ссылка на отзыв': 'https://www.kinopoisk.ru/user/3253303/comment/2179659/'},\n",
      " {'ID пользователя': '826548',\n",
      "  'ID фильма': '339',\n",
      "  'Дата и время отзыва': '04 марта 2013 10:18',\n",
      "  'Имя пользователя': 'Zig2012',\n",
      "  'Отзыв': 'Индиана Джонс археолог чьё имя сейчас ассоциируется с приключенческим кино. Первый фильм о знаменитом авантюристе вышел в '\n",
      "           '1981 году. Режиссёром картины выступил Стивен Спилберг. И ему удалось создать действительно хорошее кино. Чем же оно так '\n",
      "           'привлекает зрителя до сих пор?<p>Начну с сюжета. Молодой археолог Индиана побывавший уже не в одной экспедиции по поиску '\n",
      "           'загадочных артефактов древности и переживший не одно опасное приключение. Ввязывается в очередную авантюру, которая '\n",
      "           'постепенно переходит в интереснейшее приключение, не дающее зрителю оторваться от экрана до самых финальных титров. <p>Среди '\n",
      "           'актёров хотелось бы особо отметить Харрисона Форда. Он словно был рождён для этой роли, и я сомневаюсь, что кто-то другой '\n",
      "           'мог справиться с ней лучше, чем Форд. Но и остальные актёры хорошо сыграли свои роли. В целом все просто молодцы. <p>Фильм '\n",
      "           'имеет отличные спецэффекты. Даже сегодня они смотрятся вполне достойно, а в своё время должны были сильно впечатлить '\n",
      "           'зрителя. Да и премия Оскар тому яркое подтверждение.<p>Нельзя не сказать пару слов о музыке. В данном фильме музыкальное '\n",
      "           'сопровождение и звуковые эффекты просто великолепны. А главная музыкальная тема к картине узнаётся среди сотен других '\n",
      "           'композиций. И может сравниться с музыкальными темами к таким фильмам как «Звёздные войны» и «Джеймс Бонд».<p>Фильм '\n",
      "           '«Индиана Джонс: В поисках утраченного ковчега» навсегда оставил свой след в истории мирового кинематографа. Как и многие '\n",
      "           'другие картины выдающегося режиссёра Стивена Спилберга. Люди ещё не раз будут пересматривать данный фильм, потому что '\n",
      "           'истинные шедевры бессмертны. Тем же кто не смотрел эту картину я рекомендую её к просмотру! <p>10 из 10',\n",
      "  'Оценка из отзыва': 'N/A',\n",
      "  'Подзаголовок отзыва': 'Приключения начинаются',\n",
      "  'Полезность отзыва': '8 / 1',\n",
      "  'Полярность отзыва': 'good',\n",
      "  'Прямая ссылка на отзыв': 'https://www.kinopoisk.ru/user/826548/comment/1737104/'},\n",
      " {'ID пользователя': '1280234',\n",
      "  'ID фильма': '339',\n",
      "  'Дата и время отзыва': '18 октября 2011 04:17',\n",
      "  'Имя пользователя': 'Sir CheZtor',\n",
      "  'Отзыв': \"Кто этот дядька в шляпе, с кнутом в руках и револьвером в кобуре? Думаю каждый, даже и не задумываясь, ответит: 'Индиана \"\n",
      "           \"Джонс'. Да, да, да. Кто же это может быть ещё? Лично я, других таких не знаю. <p>'В поисках утраченного ковчега' - это фильм \"\n",
      "           'про молодого археолога Индиану Джонса, получившего задание от правительства США - найти утраченную многие тысячелетия назад '\n",
      "           'реликвию - священный ковчег. А мешать ему в этом будут плохие парни. В данном случаи, тайные агенты Адольфа '\n",
      "           'Гитлера.<p>Стивен Спилберг и Джордж Лукас, продели огромную работу и создали, не побоюсь этого слова, ШЕДЕВР мировой '\n",
      "           'классики. Шедевр, в котором всё просто идеально (не считая некоторых ляпов): актёрский состав - Харрисон Форд, Карен Аллен, '\n",
      "           'Пол Фримен и другие; спецэффекты (для 90ых годов); музыка. Одним словом - всё!<p>Так уж сложилось, что этот фильм я посмотрел '\n",
      "           'только сейчас - спустя 2 десятка лет с момента его выхода на большие экраны. И что самое удивительное - и по сей день '\n",
      "           'смотрится всё это просто на одном дыхании. Сел в кресло/диван - включил... и очнулся уже на финальных титрах, напевая '\n",
      "           'композицию Джона Уильямса «Марш Искателей». Которая ещё долго-долго будет крутиться на языке и прокручиваться в голове. '\n",
      "           '<p>Если Вы, вдруг, до сих пор, не посмотрели этот фильм, то самое время это сделать. Подобное пропускать никак нельзя! <p>9 из '\n",
      "           '10',\n",
      "  'Оценка из отзыва': '9 из 10',\n",
      "  'Подзаголовок отзыва': 'Приключения только начинаются',\n",
      "  'Полезность отзыва': '16 / 6',\n",
      "  'Полярность отзыва': 'good',\n",
      "  'Прямая ссылка на отзыв': 'https://www.kinopoisk.ru/user/1280234/comment/1347194/'},\n",
      " {'ID пользователя': '997712',\n",
      "  'ID фильма': '339',\n",
      "  'Дата и время отзыва': '15 декабря 2010 21:04',\n",
      "  'Имя пользователя': 'd13mon',\n",
      "  'Отзыв': 'Я расскажу про город, затерянный в песках,Пути к нему бесследно канули в летах, Сокровище бесценное лежит в его '\n",
      "           'недрах,Внушающее и восхищение и страх.-Силу Господню артефакт хранит навек,Такую мощь, что и не видел человек,На поиски он '\n",
      "           'вечные себя обрек,Имя дано ему – утраченный ковчег.<p>В истории осталось немало тайн и ключи к ним часто хранит '\n",
      "           'матушка-земля. Именно поэтому профессия археолога выглядит так увлекательно. Археолог может приоткрыть завесу тайны и пролить '\n",
      "           'свет на важные исторические события. Древние карты, уникальные артефакты, редчайшие книги и манускрипты, таинственные места и '\n",
      "           'бесценные находки - всё это всегда окружало величайших археологов, каким и предстаёт герой знаменитого фильма Стивена '\n",
      "           'Спилберга – Индиана Джонс.<p>Индиана Джонс – молодой искатель приключений и по совместительству специалист в области '\n",
      "           'древностей. Археология – его религия, и как следствие жизнь доктора Джонса проходит в постоянном поиске древних бесценных '\n",
      "           'реликвий, решении загадок истории и опасных путешествиях по отдалённым и труднодоступным уголкам нашей планеты. Жажда риска '\n",
      "           'у Индианы в крови, поэтому время от времени он бросает все свои мирские дела и отправляется в очередное путешествие. Герой '\n",
      "           'свято верит, что все древние ценности должны находиться в музеях и быть общедоступными, а не находиться в закрытых частых '\n",
      "           'коллекциях отдельных богатеев. Ради этой идеи он готов раз за разом рисковать своей жизнью. Археолог-боец имеет свой '\n",
      "           'сложившийся с годами имидж, который выражен в неизменных атрибутах Индианы – хлысте, револьвере и широкополой шляпе, а '\n",
      "           'также чувстве юмора, которое не исчезает ни при каких обстоятельствах.<p>«В поисках утраченного ковчега» рассказывает о первом '\n",
      "           'столкновенни Индианы с высшими силами, не подвластными человеку. Ведь есть артефакты, мощь и суть которых не дано понять '\n",
      "           'людям. Такие реликвии должны оставаться скрытыми от людей, ибо они могут нарушить мирное течение жизни. Герой фильма верил в '\n",
      "           'науку, но не верил в Бога, но поиски библейского ковчега с заветами радикально меняют его мировоззрение. Таким образом, '\n",
      "           'данную ленту можно рассматривать как фильм о вере и религии, как своего рода притчу на тему ‘Наука и Божественное’.<p>Мастер '\n",
      "           '‘фантастического и удивительного’ Стивен Спилберг создал в далёком 1981 году такое приключенческое кино, которое до сих пор '\n",
      "           'является эталонным в данном жанре. Фокус режиссера состоял в том, что он смог соединить в одном фильме уйму привлекательных '\n",
      "           'для зрителя киноэлементов. Помимо приключений по отдалённым странам и харизматичных персонажей это и некая таинственность '\n",
      "           'фильма; и решение многочисленных загадок, изучение древних механизмов и обход хитроумных ловушек; и действие на фоне '\n",
      "           'исторических событий, которое здесь выражено 30-ми годами 20-го века, когда фашисты только начинали свою захватническую '\n",
      "           'политику; и библейский подтекст; и масса впечатляющих экшн-сцен; и широкая география приключений, включающая четыре '\n",
      "           'континента; и, конечно же, искромётный юмор, которым пронизана буквально каждая сцена. К тому же, мало кто может рассказать '\n",
      "           'удивительную историю лучше чем Спилберг. Рассказать так, что она будет интересна не только детям, но и взрослым. Это конёк '\n",
      "           'режиссера, которым он в своё время покорил весь мир. <p>В годы властвования на экранах трилогии «Звёздных войн» новый '\n",
      "           'киносериал про смелого археолога стал чуть ли не единственным серьёзным соперником детища Джорджа Лукаса. И что символично, в '\n",
      "           'создании «Индианы Джонса» именитый режиссер и продюсер Лукас тоже принимал самое непосредственное участие – как продюсер, '\n",
      "           'сценарист и монтажер. Но нет ничего удивительного в том, что «Индиана Джонс» триумфально прошёл по экранам и был удостоин '\n",
      "           'четырёх премий «Оскар» при восьми номинациях, ведь Спилберг создал фильм, абсолютно не похожий на более ранние '\n",
      "           'приключенческие ленты. Множество новаторских приёмов, предложенные создателями картины, пришлись по вкусу абсолютно всем. '\n",
      "           'Зрелищный, где-то загадочный, где-то динамичный, безумно интересный и смешной, фильм покорил критиков и зрителей. Нужно '\n",
      "           'добавить, что «В поисках утраченного ковчега» уже давно входит в престижный список 100 шедевров американского кино от '\n",
      "           'Американского института киноискусства.<p>Немаловажно участие в проекте таких талантливых людей как режиссеры Лоуренс Каздан и '\n",
      "           'Филипп Кауфман, которые совместно с Лукасом сотворили столь оригинальный сценарий; и известнейшего композитора Джона '\n",
      "           'Уильямса, придумавшего теперь всеми узнаваемый гимн Индианы Джонса и только по неудачному стечению обстоятельств не '\n",
      "           'получившего за эту работу заслуженного «Оскара», проиграв бессмертной музыке Вангелиса из «Огненных колесниц»; и специалистов '\n",
      "           'из Industrial Light&Magic, придумавших великолепные для тех времён спецэффекты; и, конечно же, других мастеров своего дела, '\n",
      "           'работавших над созданием замечательного шедевра на все времена – художников, монтажеров, оператора, специалистов по звуку и '\n",
      "           'т.д. Протеже Лукаса Харрисон Форд сорвал джек-пот, сыграв бесстрашного археолога. После всемирного успеха фильма актер надолго '\n",
      "           'взобрался на голливудский Олимп, где очень долго находился на весьма почетном месте любимчика зрителей. Актер нашёл '\n",
      "           'по-настоящему свою роль, а возможно, роль нашла актера. Хотя это не важно, ведь главное, что теперь Индиану Джонса невозможно '\n",
      "           'представить без Харрисона Форда.<p>Подобно семи великим путешествиям Синдбада-морехода, Индиана Джонс с помощью знаменитого '\n",
      "           'сказочника Спилберга совершит в течение 80-х годов три своих великих путешествия, охватывающих весь мир и исследующих '\n",
      "           'несколько цивилизаций. Путешествие под названием «В поисках утраченного ковчега» - всего лишь первое из них. И это начало '\n",
      "           'легенды...',\n",
      "  'Оценка из отзыва': 'N/A',\n",
      "  'Подзаголовок отзыва': 'Первое великое путешествие',\n",
      "  'Полезность отзыва': '25 / 6',\n",
      "  'Полярность отзыва': 'neutral',\n",
      "  'Прямая ссылка на отзыв': 'https://www.kinopoisk.ru/user/997712/comment/1069398/'},\n",
      " {'ID пользователя': '644846',\n",
      "  'ID фильма': '339',\n",
      "  'Дата и время отзыва': '04 февраля 2010 23:50',\n",
      "  'Имя пользователя': 'bolo',\n",
      "  'Отзыв': 'Блестящий фильм, который преподносит нам нового героя современности. Здесь не будет ни каких суперменов и прочих шпионов, '\n",
      "           'здесь будет смелый, не боящийся опасных приключений археолог Индиана Джонс.<p>События фильма оковывают нас еще в довоенный '\n",
      "           'период. В те времена, когда Гитлер только готовился к порабощению мира, и подготавливал свою армию различными способами. И в '\n",
      "           'один прекрасный день Инди узнает, что нацисты хотят разыскать ковчег завета (символ союза Бога с народом). С помощью ковчега '\n",
      "           'их армия станет непобедимой. Поэтому Индиана Джонс должен первым разыскать ковчег завета, чтобы он не попался армии фюрера, и '\n",
      "           'тот не уничтожил весь мир. На пути бесстрашного археолога будет ждать много сюрпризов: это и встреча старых друзей, '\n",
      "           'предательства, и похищения, и армия нацистов охотящихся также за ковчегом, и неподражаемые драки и погони, а также первая '\n",
      "           'любовь Индианы Джонса. <p>Хоть и прошло так много лет с выпуска первого Индианы (а задумали Лукас и Спилберг этот персонаж так '\n",
      "           'еще раньше), он от этого хуже не становится. Он и в наше время является культовой фигурой, культовым брендом, который уж '\n",
      "           'точно народу надоест еще не скоро.',\n",
      "  'Оценка из отзыва': 'N/A',\n",
      "  'Подзаголовок отзыва': 'Шляпа, хлыст, змеи, и море приключений - Часть 1.',\n",
      "  'Полезность отзыва': '13 / 1',\n",
      "  'Полярность отзыва': 'good',\n",
      "  'Прямая ссылка на отзыв': 'https://www.kinopoisk.ru/user/644846/comment/764752/'}]\n"
     ]
    }
   ],
   "source": [
    "pp.pprint(reviews_list[::10])"
   ]
  },
  {
   "cell_type": "code",
   "execution_count": 222,
   "id": "16c49413-cae2-458c-bfd4-c571d2ccfd5e",
   "metadata": {},
   "outputs": [],
   "source": [
    "review_df = pd.DataFrame(reviews_list)\n",
    "review_df.to_csv(\"reviews.csv\", index=False)"
   ]
  },
  {
   "cell_type": "code",
   "execution_count": 223,
   "id": "94c86953-f8ac-43cf-ab4c-5001553784e3",
   "metadata": {},
   "outputs": [
    {
     "data": {
      "text/html": [
       "<div>\n",
       "<style scoped>\n",
       "    .dataframe tbody tr th:only-of-type {\n",
       "        vertical-align: middle;\n",
       "    }\n",
       "\n",
       "    .dataframe tbody tr th {\n",
       "        vertical-align: top;\n",
       "    }\n",
       "\n",
       "    .dataframe thead th {\n",
       "        text-align: right;\n",
       "    }\n",
       "</style>\n",
       "<table border=\"1\" class=\"dataframe\">\n",
       "  <thead>\n",
       "    <tr style=\"text-align: right;\">\n",
       "      <th></th>\n",
       "      <th>ID фильма</th>\n",
       "      <th>Имя пользователя</th>\n",
       "      <th>ID пользователя</th>\n",
       "      <th>Дата и время отзыва</th>\n",
       "      <th>Полярность отзыва</th>\n",
       "      <th>Подзаголовок отзыва</th>\n",
       "      <th>Отзыв</th>\n",
       "      <th>Оценка из отзыва</th>\n",
       "      <th>Полезность отзыва</th>\n",
       "      <th>Прямая ссылка на отзыв</th>\n",
       "    </tr>\n",
       "  </thead>\n",
       "  <tbody>\n",
       "    <tr>\n",
       "      <th>0</th>\n",
       "      <td>339</td>\n",
       "      <td>komisar.jeber</td>\n",
       "      <td>63366919</td>\n",
       "      <td>23 февраля 2022 15:18</td>\n",
       "      <td>good</td>\n",
       "      <td>Знакомство с Индианой Джонс в 2022.</td>\n",
       "      <td>Спустя более 40 лет после выхода данного фильм...</td>\n",
       "      <td>7 из 10</td>\n",
       "      <td>1 / 0</td>\n",
       "      <td>https://www.kinopoisk.ru/user/63366919/comment...</td>\n",
       "    </tr>\n",
       "    <tr>\n",
       "      <th>1</th>\n",
       "      <td>339</td>\n",
       "      <td>Xiphactinus audax</td>\n",
       "      <td>5973976</td>\n",
       "      <td>12 января 2022 01:00</td>\n",
       "      <td>good</td>\n",
       "      <td>Главное — не цель, а то, что случается по пути...</td>\n",
       "      <td>Стивен Спилберг и Джордж Лукас, отдыхая однажд...</td>\n",
       "      <td>8 из 10</td>\n",
       "      <td>2 / 1</td>\n",
       "      <td>https://www.kinopoisk.ru/user/5973976/comment/...</td>\n",
       "    </tr>\n",
       "    <tr>\n",
       "      <th>2</th>\n",
       "      <td>339</td>\n",
       "      <td>ars-projdakov</td>\n",
       "      <td>426194</td>\n",
       "      <td>29 октября 2020 21:54</td>\n",
       "      <td>good</td>\n",
       "      <td></td>\n",
       "      <td>В детстве многие мечтали о приключениях по мир...</td>\n",
       "      <td>N/A</td>\n",
       "      <td>6 / 2</td>\n",
       "      <td>https://www.kinopoisk.ru/user/426194/comment/2...</td>\n",
       "    </tr>\n",
       "    <tr>\n",
       "      <th>3</th>\n",
       "      <td>339</td>\n",
       "      <td>Владимир Кирк</td>\n",
       "      <td>44080109</td>\n",
       "      <td>10 февраля 2020 16:51</td>\n",
       "      <td>good</td>\n",
       "      <td>Куртка, шляпа и кнут - вот мои документы</td>\n",
       "      <td>'Индиана Джонс: В поисках утраченного Ковчега'...</td>\n",
       "      <td>N/A</td>\n",
       "      <td>3 / 3</td>\n",
       "      <td>https://www.kinopoisk.ru/user/44080109/comment...</td>\n",
       "    </tr>\n",
       "    <tr>\n",
       "      <th>4</th>\n",
       "      <td>339</td>\n",
       "      <td>nikitla17logunov</td>\n",
       "      <td>34021124</td>\n",
       "      <td>23 сентября 2019 00:02</td>\n",
       "      <td>good</td>\n",
       "      <td>В поисках не утраченного прародителя приключений</td>\n",
       "      <td>Если кого-нибудь спросить: какой фильм являет...</td>\n",
       "      <td>9,5 из 10</td>\n",
       "      <td>3 / 2</td>\n",
       "      <td>https://www.kinopoisk.ru/user/34021124/comment...</td>\n",
       "    </tr>\n",
       "  </tbody>\n",
       "</table>\n",
       "</div>"
      ],
      "text/plain": [
       "  ID фильма   Имя пользователя ID пользователя     Дата и время отзыва  \\\n",
       "0       339      komisar.jeber        63366919   23 февраля 2022 15:18   \n",
       "1       339  Xiphactinus audax         5973976    12 января 2022 01:00   \n",
       "2       339      ars-projdakov          426194   29 октября 2020 21:54   \n",
       "3       339      Владимир Кирк        44080109   10 февраля 2020 16:51   \n",
       "4       339   nikitla17logunov        34021124  23 сентября 2019 00:02   \n",
       "\n",
       "  Полярность отзыва                                Подзаголовок отзыва  \\\n",
       "0              good               Знакомство с Индианой Джонс в 2022.   \n",
       "1              good  Главное — не цель, а то, что случается по пути...   \n",
       "2              good                                                      \n",
       "3              good           Куртка, шляпа и кнут - вот мои документы   \n",
       "4              good  В поисках не утраченного прародителя приключений   \n",
       "\n",
       "                                               Отзыв Оценка из отзыва  \\\n",
       "0  Спустя более 40 лет после выхода данного фильм...          7 из 10   \n",
       "1  Стивен Спилберг и Джордж Лукас, отдыхая однажд...          8 из 10   \n",
       "2  В детстве многие мечтали о приключениях по мир...              N/A   \n",
       "3  'Индиана Джонс: В поисках утраченного Ковчега'...              N/A   \n",
       "4  Если кого-нибудь спросить: какой фильм являет...        9,5 из 10   \n",
       "\n",
       "  Полезность отзыва                             Прямая ссылка на отзыв  \n",
       "0             1 / 0  https://www.kinopoisk.ru/user/63366919/comment...  \n",
       "1             2 / 1  https://www.kinopoisk.ru/user/5973976/comment/...  \n",
       "2             6 / 2  https://www.kinopoisk.ru/user/426194/comment/2...  \n",
       "3             3 / 3  https://www.kinopoisk.ru/user/44080109/comment...  \n",
       "4             3 / 2  https://www.kinopoisk.ru/user/34021124/comment...  "
      ]
     },
     "execution_count": 223,
     "metadata": {},
     "output_type": "execute_result"
    }
   ],
   "source": [
    "review_df.head()"
   ]
  },
  {
   "cell_type": "code",
   "execution_count": 225,
   "id": "e5f0e43b-cc8a-4913-92c7-b806f6379846",
   "metadata": {},
   "outputs": [
    {
     "data": {
      "text/plain": [
       "array(['good', 'good', 'good', 'good', 'good', 'good', 'neutral', 'good',\n",
       "       'good', 'good', 'neutral', 'good', 'good', 'good', 'good', 'good',\n",
       "       'good', 'good', 'good', 'good', 'good', 'good', 'good', 'good',\n",
       "       'good', 'good', 'good', 'good', 'neutral', 'good', 'neutral',\n",
       "       'good', 'good', 'neutral', 'good', 'good', 'good', 'good', 'good',\n",
       "       'good', 'good', 'good', 'good', 'good', 'good', 'good', 'neutral',\n",
       "       'good', 'good', 'bad', 'good', 'good', 'good', 'good', 'good',\n",
       "       'good', 'good', 'good', 'good', 'good', 'neutral', 'good', 'good',\n",
       "       'good', 'good', 'good', 'good', 'good', 'good', 'good', 'good',\n",
       "       'good', 'good', 'good', 'good'], dtype=object)"
      ]
     },
     "execution_count": 225,
     "metadata": {},
     "output_type": "execute_result"
    }
   ],
   "source": [
    "review_df[\"Полярность отзыва\"].values"
   ]
  },
  {
   "cell_type": "code",
   "execution_count": null,
   "id": "d2b4d8a2-4f0f-42a8-8810-47264b0cefa6",
   "metadata": {},
   "outputs": [],
   "source": []
  }
 ],
 "metadata": {
  "kernelspec": {
   "display_name": "movie_reviews",
   "language": "python",
   "name": "movie_reviews"
  },
  "language_info": {
   "codemirror_mode": {
    "name": "ipython",
    "version": 3
   },
   "file_extension": ".py",
   "mimetype": "text/x-python",
   "name": "python",
   "nbconvert_exporter": "python",
   "pygments_lexer": "ipython3",
   "version": "3.8.10"
  }
 },
 "nbformat": 4,
 "nbformat_minor": 5
}
